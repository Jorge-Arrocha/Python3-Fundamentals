{
 "cells": [
  {
   "cell_type": "markdown",
   "metadata": {},
   "source": [
    "<a id='Top'></a>\n",
    "# 17. Nested Data and Nested Iteration\n",
    "<div class=\"alert alert-block alert-danger\" style=\"margin-top: 10px\">\n",
    "<font color=black>\n",
    "\n",
    "- 17.1. [Introduction: Nested Data and Nested Iteration](#17.1)\n",
    "  - 17.1.1. [Lists with Complex Items](#17.1.1)\n",
    "- 17.2. [Nested Dictionaries](#17.2)\n",
    "- 17.3. [Processing JSON results](#17.3)\n",
    "- 17.4. [Nested Iteration](#17.4)\n",
    "- 17.5. 👩‍💻 [Structuring Nested Data](#17.5)\n",
    "- 17.6. [Deep and Shallow Copies](#17.6)\n",
    "- 17.7. 👩‍💻 [Extracting from Nested Data](#17.7)\n",
    "  - 17.7.1. [Understand](#17.7.1)\n",
    "  - 17.7.2. [Extract](#17.7.2)\n",
    "  - 17.7.3. [Repeat](#17.7.3)\n",
    "- 17.8. [Exercises](#17.8)\n",
    "- 17.9. [Chapter Assessment](#17.9)</div>\n",
    "\n",
    "<a id='17.1'></a>\n",
    "## 17.1. Introduction: Nested Data and Nested Iteration\n",
    "\n",
    "<a id='17.1.1'></a>\n",
    "### 17.1.1. Lists with Complex Items\n",
    "The lists we have seen so far have had numbers or strings as items. We’ve snuck in a few more complex items, but without ever explicitly discussing what it meant to have more complex items.\n",
    "\n",
    "In fact, the items in a list can be any type of python object. For example, we can have a list of lists."
   ]
  },
  {
   "cell_type": "code",
   "execution_count": null,
   "metadata": {},
   "outputs": [],
   "source": [
    "nested1 = [['a', 'b', 'c'],['d', 'e'],['f', 'g', 'h']]\n",
    "print(nested1[0])\n",
    "print(len(nested1))\n",
    "nested1.append(['i'])\n",
    "print(\"-------\")\n",
    "for L in nested1:\n",
    "    print(L)"
   ]
  },
  {
   "cell_type": "markdown",
   "metadata": {},
   "source": [
    "Line 2 prints out the first item from the list that <font color=red>nested1</font> is bound to. That item is itself a list, so it prints out with square brackets. It has length 3, which prints out on line 3. Line 4 adds a new item to <font color=red>nested1</font>. It is a list with one element, ‘i’ (it a list with one element, it’s not just the string ‘i’).\n",
    "\n",
    "Codelens gives a you a reference diagram, a visual display of the contents of nested1.\n",
    "\n",
    "When you get to step 4 of the execution, take a look at the object that variable nested1 points to. It is a list of three items, numbered 0, 1, and 2. The item in slot 1 is small enough that it is shown right there as a list containing items “d” and “e”. The item in slot 0 didn’t quite fit, so it is shown in the figure as a pointer to another separate list; same thing for the item in slot 2, the list <font color=red>['f', 'g', 'h']</font>.\n",
    "\n",
    "There’s no special meaning to whether the list is shown embedded or with a pointer to it: that’s just CodeLens making the best use of space that it can. In fact, if you go on to step 5, you’ll see that, with the addition of a fourth item, the list [‘i’], CodeLens has chosen to show all four lists embedded in the top-level list.\n",
    "\n",
    "With a nested list, you can make complex expressions to get or set a value in a sub-list."
   ]
  },
  {
   "cell_type": "code",
   "execution_count": null,
   "metadata": {},
   "outputs": [],
   "source": [
    "nested1 = [['a', 'b', 'c'],['d', 'e'],['f', 'g', 'h']]\n",
    "y = nested1[1]\n",
    "print(y)\n",
    "print(y[0])\n",
    "print([10, 20, 30][1])\n",
    "print(nested1[1][0])"
   ]
  },
  {
   "cell_type": "markdown",
   "metadata": {},
   "source": [
    "Lines 1-4 above probably look pretty natural to you. Line 5 illustrates the left to right processing of expressions. <font color=red>nested1[1]</font> evaluates to the second inner list, so <font color=red>nested1[1][1]</font> evaluates to its second element, <font color=red>'e'</font>. Line 6 is just a reminder that you index into a literal list, one that is written out, the same way as you can index into a list referred to by a variable. <font color=red>[10, 20, 30]</font> creates a list. <font color=red>[1]</font> indexes into that list, pulling out the second item, 20.\n",
    "\n",
    "Just as with a function call where the return value can be thought of as replacing the text of the function call in an expression, you can evaluate an expression like that in line 7 from left to right. Because the value of <font color=red>nested1[1]</font> is the list <font color=red>['d', 'e']</font>, <font color=red>nested1[1][0]</font> is the same as <font color=red>['d', 'e'][0]</font>. So line 7 is equivalent to lines 2 and 4; it is a simpler way of pulling out the first item from the second list.\n",
    "\n",
    "At first, expressions like that on line 7 may look foreign. They will soon feel more natural, and you will end up using them a lot. Once you are comfortable with them, the only time you will write code like lines 2-4 is when you aren’t quite sure what your data’s structure is, and so you need to incrementally write and debug your code. Often, you will start by writing code like lines 2-4, then, once you’re sure it’s working, replace it with something like line 7.\n",
    "\n",
    "You can change values in such lists in the usual ways. You can even use complex expressions to change values. Consider the following:"
   ]
  },
  {
   "cell_type": "code",
   "execution_count": null,
   "metadata": {},
   "outputs": [],
   "source": [
    "1\tnested1 = [['a', 'b', 'c'],['d', 'e'],['f', 'g', 'h'], ['i']]\n",
    "2\tnested1[1] = [1, 2, 3]\n",
    "3\tnested1[1][0] = 100"
   ]
  },
  {
   "cell_type": "markdown",
   "metadata": {},
   "source": [
    "The complex items in a list do not have to be lists. They can be tuples or dictionaries. The items in a list do not all have to be the same type, but you will drive yourself crazy if you have lists of objects of varying types. Save yourself some headaches and don’t do that. Here’s a list of dictionaries and some operations on them. Take a look at its visual representation in codelens.\n",
    "<div class=\"alert alert-block alert-warning\" style=\"margin-top: 20px\">\n",
    "<font color=black>\n",
    "Try practicing some operations to get or set values in a list of dictionaries."
   ]
  },
  {
   "cell_type": "code",
   "execution_count": null,
   "metadata": {},
   "outputs": [],
   "source": [
    "nested2 = [{'a': 1, 'b': 3}, {'a': 5, 'c': 90, 5: 50}, {'b': 3, 'c': \"yes\"}]\n",
    "\n",
    "#write code to print the value associated with key 'c' in the second dictionary (90)\n",
    "\n",
    "#write code to print the value associated with key 'b' in the third dictionary\n",
    "\n",
    "#add a fourth dictionary add the end of the list; print something to check your work\n",
    "\n",
    "#change the value associated with 'c' in the third dictionary from \"yes\" to \"no\"; \n",
    "#print something to check your work\n"
   ]
  },
  {
   "cell_type": "markdown",
   "metadata": {},
   "source": [
    "<details><summary>Click here for a solution</summary>\n",
    "<div class=\"alert alert-block alert-success\" style=\"margin-top: 20px\">\n",
    "<font color=black>\n",
    "    \n",
    "```python\n",
    "#write code to print the value associated with key 'c' in the second dictionary (90)\n",
    "print(nested2[1]['c'])\n",
    "    \n",
    "#write code to print the value associated with key 'b' in the third dictionary\n",
    "print(nested2[2]['b'])\n",
    "    \n",
    "#add a fourth dictionary add the end of the list; print something to check your work\n",
    "nested2.append({'x': 10, 'y': 20, 'z': [30, 40]})\n",
    "print(nested2[3])\n",
    "    \n",
    "#change the value associated with 'c' in the third dictionary from \"yes\" to \"no\"; \n",
    "#print something to check your work\n",
    "nested2[3]['c'] = 'No'\n",
    "```\n",
    "\n",
    "</details>"
   ]
  },
  {
   "cell_type": "markdown",
   "metadata": {},
   "source": [
    "<div class=\"alert alert-block alert-warning\" style=\"margin-top: 20px\">\n",
    "<font color=black>\n",
    "You can even have a list of functions (!)."
   ]
  },
  {
   "cell_type": "code",
   "execution_count": null,
   "metadata": {},
   "outputs": [],
   "source": [
    "def square(x):\n",
    "    return x*x\n",
    "\n",
    "L = [square, abs, lambda x: x+1]\n",
    "\n",
    "print(\"****names****\")\n",
    "for f in L:\n",
    "    print(f)\n",
    "\n",
    "print(\"****call each of them****\")\n",
    "for f in L:\n",
    "    print(f(-2))\n",
    "\n",
    "print(\"****just the first one in the list****\")\n",
    "print(L[0])\n",
    "print(L[0](3))"
   ]
  },
  {
   "cell_type": "markdown",
   "metadata": {},
   "source": [
    "Here, L is a list with three items. All those items are functions. The first is the function square that is defined on lines 1 and 2. The second is the built-in python function abs. The third is an anonymous function that returns one more than its input.\n",
    "\n",
    "In the first for loop, we do not call the functions, we just output their printed representations. The output \\<function square> confirms that square truly is a function object. For some reason, in our online environment, it’s not able to produce a nice printed representation of the built-in function abs, so it just outputs \\<unknown>\n",
    "\n",
    "In the second for loop, we call each of the functions, passing in the value -2 each time and printing whatever value the function returns.\n",
    "\n",
    "The last two lines just emphasize that there’s nothing special about lists of functions. They follow all the same rules for how python treats any other list. Because L[0] picks out the function square, L\\[0](3) calls the function square, passing it the parameter 3.\n",
    "\n",
    "Step through it in Codelens if that’s not all clear to you yet.\n",
    "\n",
    "#### Check your understanding\n",
    "<div class=\"alert alert-block alert-warning\" style=\"margin-top: 20px\">\n",
    "<font color=black>\n",
    "1. Below, we have provided a list of lists. Use indexing to assign the element ‘horse’ to the variable name <font color=red>idx1</font>."
   ]
  },
  {
   "cell_type": "code",
   "execution_count": null,
   "metadata": {},
   "outputs": [],
   "source": [
    "animals = [['cat', 'dog', 'mouse'], ['horse', 'cow', 'goat'], ['cheetah', 'giraffe', 'rhino']]"
   ]
  },
  {
   "cell_type": "markdown",
   "metadata": {},
   "source": [
    "<details><summary>Click here for a solution</summary>\n",
    "<div class=\"alert alert-block alert-success\" style=\"margin-top: 20px\">\n",
    "<font color=black>\n",
    "    \n",
    "```python\n",
    "idx1 = animals[1][0]\n",
    "```\n",
    "\n",
    "</details>"
   ]
  },
  {
   "cell_type": "markdown",
   "metadata": {},
   "source": [
    "<div class=\"alert alert-block alert-warning\" style=\"margin-top: 20px\">\n",
    "<font color=black>\n",
    "2. Using indexing, retrieve the string ‘willow’ from the list and assign that to the variable <font color=red>plant</font>."
   ]
  },
  {
   "cell_type": "code",
   "execution_count": null,
   "metadata": {},
   "outputs": [],
   "source": [
    "data = ['bagel', 'cream cheese', 'breakfast', 'grits', 'eggs', 'bacon', \n",
    "        [34, 9, 73, []], [['willow', 'birch', 'elm'], 'apple', 'peach', 'cherry']]"
   ]
  },
  {
   "cell_type": "markdown",
   "metadata": {},
   "source": [
    "<details><summary>Click here for a solution</summary>\n",
    "<div class=\"alert alert-block alert-success\" style=\"margin-top: 20px\">\n",
    "<font color=black>\n",
    "    \n",
    "```python\n",
    "plant = data[7][0][0]\n",
    "```\n",
    "\n",
    "</details>"
   ]
  },
  {
   "cell_type": "markdown",
   "metadata": {},
   "source": [
    "<a id='17.2'></a>\n",
    "## 17.2. Nested Dictionaries\n",
    "[Back to top](#Top)\n",
    "\n",
    "Just as lists can contain items of any type, the value associated with a key in a dictionary can also be an object of any type. In particular, it is often useful to have a list or a dictionary as a value in a dictionary. And of course, those lists or dictionaries can also contain lists and dictionaries. There can be many layers of nesting.\n",
    "\n",
    "Only the values in dictionaries can be objects of arbitrary type. The keys in dictionaries must be one of the immutable data types (numbers, strings, tuples).\n",
    "\n",
    "#### Check your understanding\n",
    "<div class=\"alert alert-block alert-warning\" style=\"margin-top: 20px\">\n",
    "<font color=black>\n",
    "1. Which of the following is a legal assignment statement, after the following code executes?"
   ]
  },
  {
   "cell_type": "code",
   "execution_count": null,
   "metadata": {},
   "outputs": [],
   "source": [
    "d = {'key1': {'a': 5, 'c': 90, 5: 50}, 'key2':{'b': 3, 'c': \"yes\"}}"
   ]
  },
  {
   "cell_type": "markdown",
   "metadata": {},
   "source": [
    "<div class=\"alert alert-block alert-warning\" style=\"margin-top: 20px\">\n",
    "<font color=black>\n",
    "\n",
    "A. d[5] = {1: 2, 3: 4}  \n",
    "B. d[{1:2, 3:4}] = 5  \n",
    "C. d['key1']['d'] = d['key2']  \n",
    "D. d[key2] = 3"
   ]
  },
  {
   "cell_type": "markdown",
   "metadata": {},
   "source": [
    "<details><summary>Click here for the solution</summary>\n",
    "\n",
    "<font color=red>► </font>A. d[5] = {1: 2, 3: 4}  \n",
    "<font color=red>► </font>C. d['key1']['d'] = d['key2']\n",
    "\n",
    "<div class=\"alert alert-block alert-success\" style=\"margin-top: 20px\">\n",
    "<font color=black>✔️ Correct.<br>\n",
    "A. 5 is a valid key; {1:2, 3:4} is a dictionary with two keys, and is a valid value to associate with key 5.<br>\n",
    "C. d['key2'] is {'b': 3, 'c': \"yes\"}, a python object. It can be bound to the key 'd' in a dictionary {'a': 5, 'c': 90, 5: 50}\n",
    "\n",
    "</details>"
   ]
  },
  {
   "cell_type": "markdown",
   "metadata": {},
   "source": [
    "<div class=\"alert alert-block alert-warning\" style=\"margin-top: 20px\">\n",
    "<font color=black>\n",
    "2. Extract the value associated with the key color and assign it to the variable <font color=red>color</font>. Do not hard code this."
   ]
  },
  {
   "cell_type": "code",
   "execution_count": null,
   "metadata": {},
   "outputs": [],
   "source": [
    "info = {'personal_data':\n",
    "         {'name': 'Lauren',\n",
    "          'age': 20,\n",
    "          'major': 'Information Science',\n",
    "          'physical_features':\n",
    "             {'color': {'eye': 'blue',\n",
    "                        'hair': 'brown'},\n",
    "              'height': \"5'8\"}\n",
    "         },\n",
    "       'other':\n",
    "         {'favorite_colors': ['purple', 'green', 'blue'],\n",
    "          'interested_in': ['social media', 'intellectual property', 'copyright', 'music', 'books']\n",
    "         }\n",
    "      }"
   ]
  },
  {
   "cell_type": "markdown",
   "metadata": {},
   "source": [
    "<details><summary>Click here for the solution</summary>\n",
    "<div class=\"alert alert-block alert-success\" style=\"margin-top: 20px\">\n",
    "<font color=black>\n",
    "    \n",
    "```python\n",
    "color = info['personal_data']['physical_features']['color']\n",
    "```\n",
    "\n",
    "</details>"
   ]
  },
  {
   "cell_type": "markdown",
   "metadata": {},
   "source": [
    "<a id='17.3'></a>\n",
    "## 17.3. Processing JSON results\n",
    "[Back to top](#Top)\n",
    "\n",
    "JSON stands for JavaScript Object Notation. It looks a lot like the representation of nested dictionaries and lists in python when we write them out as literals in a program, but with a few small differences (e.g., the word null instead of None). When your program receives a JSON-formatted string, generally you will want to convert it into a python object, a list or a dictionary.\n",
    "\n",
    "Again, python provides a module for doing this. The module is called json. We will be using two functions in this module, <font color=red>loads</font> and <font color=red>dumps</font>.\n",
    "\n",
    "<font color=red>json.loads()</font> takes a string as input and produces a python object (a dictionary or a list) as output.\n",
    "\n",
    "Consider, for example, some data that we might get from Apple’s iTunes, in the JSON format:"
   ]
  },
  {
   "cell_type": "code",
   "execution_count": null,
   "metadata": {},
   "outputs": [],
   "source": [
    "import json\n",
    "a_string = '\\n\\n\\n{\\n \"resultCount\":25,\\n \"results\": [\\n{\"wrapperType\":\"track\", \"kind\":\"podcast\", \"collectionId\":10892}]}'\n",
    "print(a_string)\n",
    "d = json.loads(a_string)\n",
    "print(\"------\")\n",
    "print(type(d))\n",
    "print(d.keys())\n",
    "print(d['resultCount'])\n",
    "# print(a_string['resultCount'])"
   ]
  },
  {
   "cell_type": "markdown",
   "metadata": {},
   "source": [
    "The other function we will use is <font color=red>dumps</font>. It does the inverse of <font color=red>loads</font>. It takes a python object, typically a dictionary or a list, and returns a string, in JSON format. It has a few other parameters. Two useful parameters are sort_keys and indent. When the value True is passed for the sort_keys parameter, the keys of dictionaries are output in alphabetic order with their values. The indent parameter expects an integer. When it is provided, dumps generates a string suitable for displaying to people, with newlines and indentation for nested lists or dictionaries. For example, the following function uses json.dumps to make a human-readable printout of a nested data structure."
   ]
  },
  {
   "cell_type": "code",
   "execution_count": null,
   "metadata": {},
   "outputs": [],
   "source": [
    "import json\n",
    "def pretty(obj):\n",
    "    return json.dumps(obj, sort_keys=True, indent=2)\n",
    "\n",
    "d = {'key1': {'c': True, 'a': 90, '5': 50}, 'key2':{'b': 3, 'c': \"yes\"}}\n",
    "\n",
    "print(d)\n",
    "print('--------')\n",
    "print(pretty(d))"
   ]
  },
  {
   "cell_type": "markdown",
   "metadata": {},
   "source": [
    "#### Check your understanding\n",
    "<div class=\"alert alert-block alert-warning\" style=\"margin-top: 20px\">\n",
    "<font color=black>\n",
    "    \n",
    "1.  Because we can only write strings into a file, if we wanted to convert a dictionary d into a json-formatted string so that we could store it in a file, what would we use?\n",
    "\n",
    "  A. json.loads(d)  \n",
    "  B. json.dumps(d)  \n",
    "  C. d.json()"
   ]
  },
  {
   "cell_type": "markdown",
   "metadata": {},
   "source": [
    "<details><summary>Click here for the solution</summary>\n",
    "\n",
    "<font color=red>► </font>B. json.dumps(d)\n",
    "\n",
    "<div class=\"alert alert-block alert-success\" style=\"margin-top: 20px\">\n",
    "<font color=black>✔️ dumps turns a list or dictionary into a json-formatted string\n",
    "\n",
    "</details>"
   ]
  },
  {
   "cell_type": "markdown",
   "metadata": {},
   "source": [
    "<div class=\"alert alert-block alert-warning\" style=\"margin-top: 20px\">\n",
    "<font color=black>\n",
    "2.  Say we had a JSON string in the following format. How would you convert it so that it is a python list?"
   ]
  },
  {
   "cell_type": "code",
   "execution_count": null,
   "metadata": {},
   "outputs": [],
   "source": [
    "entertainment = \"\"\"[{\"Library Data\": {\"count\": 3500, \"rows\": 10, \"locations\": 3}}, \n",
    "                    {\"Movie Theater Data\": {\"count\": 8, \"rows\": 25, \"locations\": 2}}]\"\"\""
   ]
  },
  {
   "cell_type": "markdown",
   "metadata": {},
   "source": [
    "<div class=\"alert alert-block alert-warning\" style=\"margin-top: 20px\">\n",
    "<font color=black>\n",
    "\n",
    "A. entertainment.json()  \n",
    "B. json.dumps(entertainment)  \n",
    "C. json.loads(entertainment)"
   ]
  },
  {
   "cell_type": "markdown",
   "metadata": {},
   "source": [
    "<details><summary>Click here for the solution</summary>\n",
    "\n",
    "<font color=red>► </font>C. json.loads(entertainment)\n",
    "\n",
    "<div class=\"alert alert-block alert-success\" style=\"margin-top: 20px\">\n",
    "<font color=black>✔️ Correct.<br>\n",
    "C. loads (load from string) turns a json-formatted string into a list or dictionary\n",
    "\n",
    "</details>"
   ]
  },
  {
   "cell_type": "markdown",
   "metadata": {},
   "source": [
    "<a id='17.4'></a>\n",
    "## 17.4. Nested Iteration\n",
    "[Back to top](#Top)\n",
    "\n",
    "When you have nested data structures, especially lists and/or dictionaries, you will frequently need nested for loops to traverse them."
   ]
  },
  {
   "cell_type": "code",
   "execution_count": null,
   "metadata": {},
   "outputs": [],
   "source": [
    "nested1 = [['a', 'b', 'c'],['d', 'e'],['f', 'g', 'h']]\n",
    "for x in nested1:\n",
    "    print(\"level1: \")\n",
    "    for y in x:\n",
    "        print(\"     level2: \" + y)"
   ]
  },
  {
   "cell_type": "markdown",
   "metadata": {},
   "source": [
    "Line 3 executes once for each top-level list, three times in all. With each sub-list, line 5 executes once for each item in the sub-list. Try stepping through it in Codelens to make sure you understand what the nested iteration does."
   ]
  },
  {
   "attachments": {
    "quizz1-17.4-4.png": {
     "image/png": "[encoded data removed]"
    }
   },
   "cell_type": "markdown",
   "metadata": {},
   "source": [
    "#### Check your understanding\n",
    "<div class=\"alert alert-block alert-warning\" style=\"margin-top: 20px\">\n",
    "<font color=black>\n",
    "    \n",
    "1. Now try rearranging these code fragments to make a function that counts all the *leaf* items in a nested list like nested1 above, the items at the lowest level of nesting (8 of them in nested1).\n",
    "![quizz1-17.4-4.png](attachment:quizz1-17.4-4.png)"
   ]
  },
  {
   "attachments": {
    "quizz1ansr-17.4-2.png": {
     "image/png": "[encoded data removed]"
    }
   },
   "cell_type": "markdown",
   "metadata": {},
   "source": [
    "<details><summary>Click here for the solution</summary>\n",
    "\n",
    "![quizz1ansr-17.4-2.png](attachment:quizz1ansr-17.4-2.png)\n",
    "    \n",
    "</details>"
   ]
  },
  {
   "cell_type": "markdown",
   "metadata": {},
   "source": [
    "<div class=\"alert alert-block alert-warning\" style=\"margin-top: 20px\">\n",
    "<font color=black>\n",
    "    \n",
    "2. Below, we have provided a list of lists that contain information about people. Write code to create a new list that contains every person’s last name, and save that list as <font color=red>last_names</font>."
   ]
  },
  {
   "cell_type": "code",
   "execution_count": null,
   "metadata": {},
   "outputs": [],
   "source": [
    "info = [['Tina', 'Turner', 1939, 'singer'], ['Matt', 'Damon', 1970, 'actor'], \n",
    "        ['Kristen', 'Wiig', 1973, 'comedian'], ['Michael', 'Phelps', 1985, 'swimmer'], \n",
    "        ['Barack', 'Obama', 1961, 'president']]"
   ]
  },
  {
   "cell_type": "markdown",
   "metadata": {},
   "source": [
    "<details><summary>Click here for a solution</summary>\n",
    "<div class=\"alert alert-block alert-success\" style=\"margin-top: 20px\">\n",
    "<font color=black>\n",
    "    \n",
    "```python\n",
    "last_names = []\n",
    "for people in info:\n",
    "    last_names.append(people[1])\n",
    "```\n",
    "\n",
    "</details>"
   ]
  },
  {
   "cell_type": "markdown",
   "metadata": {},
   "source": [
    "<div class=\"alert alert-block alert-warning\" style=\"margin-top: 20px\">\n",
    "<font color=black>\n",
    "    \n",
    "3. Below, we have provided a list of lists named <font color=red>L</font>. Use nested iteration to save every string containing “b” into a new list named <font color=red>b_strings</font>."
   ]
  },
  {
   "cell_type": "code",
   "execution_count": null,
   "metadata": {},
   "outputs": [],
   "source": [
    "L = [['apples', 'bananas', 'oranges', 'blueberries', 'lemons'], \n",
    "     ['carrots', 'peas', 'cucumbers', 'green beans'], \n",
    "     ['root beer', 'smoothies', 'cranberry juice']]"
   ]
  },
  {
   "cell_type": "markdown",
   "metadata": {},
   "source": [
    "<details><summary>Click here for a solution</summary>\n",
    "<div class=\"alert alert-block alert-success\" style=\"margin-top: 20px\">\n",
    "<font color=black>\n",
    "    \n",
    "```python\n",
    "b_strings = []\n",
    "for entry in L:\n",
    "    for item in entry:\n",
    "        if 'b' in item:\n",
    "            b_strings.append(item)\n",
    "```\n",
    "\n",
    "</details>"
   ]
  },
  {
   "cell_type": "markdown",
   "metadata": {},
   "source": [
    "<a id='17.5'></a>\n",
    "## 17.5. 👩‍💻 Structuring Nested Data\n",
    "[Back to top](#Top)\n",
    "\n",
    "When constructing your own nested data, it is a good idea to keep the structure consistent across each level. For example, if you have a list of dictionaries, then each dictionary should have the same structure, meaning the same keys and the same type of value associated with a particular key in all the dictionaries. The reason for this is because any deviation in the structure that is used will require extra code to handle those special cases. The more the structure deviates, the more you will have to use special cases.\n",
    "\n",
    "For example, let’s reconsider this nested iteration, but suppose not all the items in the outer list are lists."
   ]
  },
  {
   "cell_type": "code",
   "execution_count": null,
   "metadata": {},
   "outputs": [],
   "source": [
    "nested1 = [1, 2, ['a', 'b', 'c'],['d', 'e'],['f', 'g', 'h']]\n",
    "for x in nested1:\n",
    "    print(\"level1: \")\n",
    "    for y in x:\n",
    "        print(\"     level2: {}\".format(y))"
   ]
  },
  {
   "cell_type": "markdown",
   "metadata": {},
   "source": [
    "Now the nested iteration fails.\n",
    "\n",
    "We can solve this with special casing, a conditional that checks the type."
   ]
  },
  {
   "cell_type": "code",
   "execution_count": null,
   "metadata": {},
   "outputs": [],
   "source": [
    "nested1 = [1, 2, ['a', 'b', 'c'],['d', 'e'],['f', 'g', 'h']]\n",
    "for x in nested1:\n",
    "    print(\"level1: \")\n",
    "    if type(x) is list:\n",
    "        for y in x:\n",
    "            print(\"     level2: {}\".format(y))\n",
    "    else:\n",
    "        print(x)"
   ]
  },
  {
   "cell_type": "markdown",
   "metadata": {},
   "source": [
    "You can imagine how many special case if-thens we’d need, and how complicated the code would get, if we had many layers of nesting but not always a consistent structure.\n",
    "\n",
    "<a id='17.6'></a>\n",
    "## 17.6. Deep and Shallow Copies\n",
    "[Back to top](#Top)\n",
    "\n",
    "Earlier when we discussed cloning and aliasing lists we had mentioned that simply cloning a list using [:] would take care of any issues with having two lists unintentionally connected to each other. That was definitely true for making shallow copies (copying a list at the highest level), but as we get into nested data, and nested lists in particular, the rules become a bit more complicated. We can have second-level aliasing in these cases, which means we need to make deep copies.\n",
    "\n",
    "When you copy a nested list, you do not also get copies of the internal lists. This means that if you perform a mutation operation on one of the original sublists, the copied version will also change. We can see this happen in the following nested list, which only has two levels."
   ]
  },
  {
   "cell_type": "code",
   "execution_count": null,
   "metadata": {},
   "outputs": [],
   "source": [
    "original = [['dogs', 'puppies'], ['cats', \"kittens\"]]\n",
    "copied_version = original[:]\n",
    "print(copied_version)\n",
    "print(copied_version is original)\n",
    "print(copied_version == original)\n",
    "original[0].append([\"canines\"])\n",
    "print(original)\n",
    "print(\"-------- Now look at the copied version -----------\")\n",
    "print(copied_version)"
   ]
  },
  {
   "cell_type": "markdown",
   "metadata": {},
   "source": [
    "Assuming that you don’t want to have aliased lists inside of your nested list, then you’ll need to perform nested iteration."
   ]
  },
  {
   "cell_type": "code",
   "execution_count": null,
   "metadata": {},
   "outputs": [],
   "source": [
    "original = [['dogs', 'puppies'], ['cats', \"kittens\"]]\n",
    "copied_outer_list = []\n",
    "for inner_list in original:\n",
    "    copied_inner_list = []\n",
    "    for item in inner_list:\n",
    "        copied_inner_list.append(item)\n",
    "    copied_outer_list.append(copied_inner_list)\n",
    "print(copied_outer_list)\n",
    "original[0].append([\"canines\"])\n",
    "print(original)\n",
    "print(\"-------- Now look at the copied version -----------\")\n",
    "print(copied_outer_list)"
   ]
  },
  {
   "cell_type": "markdown",
   "metadata": {},
   "source": [
    "Or, equivalently, you could take advantage of the slice operator to do the copying of the inner list."
   ]
  },
  {
   "cell_type": "code",
   "execution_count": null,
   "metadata": {},
   "outputs": [],
   "source": [
    "original = [['dogs', 'puppies'], ['cats', \"kittens\"]]\n",
    "copied_outer_list = []\n",
    "for inner_list in original:\n",
    "    copied_inner_list = inner_list[:]\n",
    "    copied_outer_list.append(copied_inner_list)\n",
    "print(copied_outer_list)\n",
    "original[0].append([\"canines\"])\n",
    "print(original)\n",
    "print(\"-------- Now look at the copied version -----------\")\n",
    "print(copied_outer_list)"
   ]
  },
  {
   "cell_type": "markdown",
   "metadata": {},
   "source": [
    "This process above works fine when there are only two layers or levels in a nested list. However, if we want to make a copy of a nested list that has more than two levels, then we recommend using the <font color=red>copy</font> module. In the <font color=red>copy</font> module there is a method called <font color=red>deepcopy</font> that will take care of the operation for you."
   ]
  },
  {
   "cell_type": "code",
   "execution_count": null,
   "metadata": {},
   "outputs": [],
   "source": [
    "import copy\n",
    "original = [['canines', ['dogs', 'puppies']], ['felines', ['cats', 'kittens']]]\n",
    "shallow_copy_version = original[:]\n",
    "deeply_copied_version = copy.deepcopy(original)\n",
    "original.append(\"Hi there\")\n",
    "original[0].append([\"marsupials\"])\n",
    "print(\"-------- Original -----------\")\n",
    "print(original)\n",
    "print(\"-------- deep copy -----------\")\n",
    "print(deeply_copied_version)\n",
    "print(\"-------- shallow copy -----------\")\n",
    "print(shallow_copy_version)"
   ]
  },
  {
   "cell_type": "markdown",
   "metadata": {},
   "source": [
    "<a id='17.7'></a>\n",
    "## 17.7. 👩‍💻 Extracting from Nested Data\n",
    "[Back to top](#Top)\n",
    "\n",
    "A common problem, especially when dealing with data returned from a web site, is to extract certain elements from deep inside a nested data structure. In principle, there’s nothing more difficult about pulling something out from deep inside a nested data structure: with lists, you use [] to index or a for loop to get them them all; with dictionaries, you get the value associated with a particular key using [] or iterate through all the keys, accessing the value for each. But it’s easy to get lost in the process and think you’ve extracted something different than you really have. Because of this, we have created a usable technique to help you during the debugging process.\n",
    "\n",
    "Follow the system described below and you will have success with extracting nested data. The process involves the following steps:\n",
    "\n",
    "1. Understand the nested data object.\n",
    "2. Extract one object at the next level down.\n",
    "3. Repeat the process with the extracted object\n",
    "\n",
    "Understand. Extract. Repeat.\n",
    "\n",
    "To illustrate this, we will walk through extracting information from data formatted in a way that it’s return by the Twitter API. This nested dictionary results from querying Twitter, asking for three tweets matching “University of Michigan”. As you’ll see, it’s quite a daunting data structure, even when printed with nice indentation as it’s shown below."
   ]
  },
  {
   "cell_type": "code",
   "execution_count": null,
   "metadata": {},
   "outputs": [],
   "source": [
    "res = {\n",
    "  \"search_metadata\": {\n",
    "    \"count\": 3,\n",
    "    \"completed_in\": 0.015,\n",
    "    \"max_id_str\": \"536624519285583872\",\n",
    "    \"since_id_str\": \"0\",\n",
    "    \"next_results\": \"?max_id=536623674942439424&q=University%20of%20Michigan&count=3&include_entities=1\",\n",
    "    \"refresh_url\": \"?since_id=536624519285583872&q=University%20of%20Michigan&include_entities=1\",\n",
    "    \"since_id\": 0,\n",
    "    \"query\": \"University+of+Michigan\",\n",
    "    \"max_id\": 536624519285583872\n",
    "  },\n",
    "  \"statuses\": [\n",
    "    {\n",
    "      \"contributors\": None,\n",
    "      \"truncated\": False,\n",
    "      \"text\": \"RT @mikeweber25: I'm decommiting from the university of Michigan thank you Michigan for the love and support I'll remake my decision at the\\u2026\",\n",
    "      \"in_reply_to_status_id\": None,\n",
    "      \"id\": 536624519285583872,\n",
    "      \"favorite_count\": 0,\n",
    "      \"source\": \"<a href=\\\"http://twitter.com/download/iphone\\\" rel=\\\"nofollow\\\">Twitter for iPhone</a>\",\n",
    "      \"retweeted\": False,\n",
    "      \"coordinates\": None,\n",
    "      \"entities\": {\n",
    "        \"symbols\": [],\n",
    "        \"user_mentions\": [\n",
    "          {\n",
    "            \"id\": 1119996684,\n",
    "            \"indices\": [\n",
    "              3,\n",
    "              15\n",
    "            ],\n",
    "            \"id_str\": \"1119996684\",\n",
    "            \"screen_name\": \"mikeweber25\",\n",
    "            \"name\": \"Mikey\"\n",
    "          }\n",
    "        ],\n",
    "        \"hashtags\": [],\n",
    "        \"urls\": []\n",
    "      },\n",
    "      \"in_reply_to_screen_name\": None,\n",
    "      \"in_reply_to_user_id\": None,\n",
    "      \"retweet_count\": 2014,\n",
    "      \"id_str\": \"536624519285583872\",\n",
    "      \"favorited\": False,\n",
    "      \"retweeted_status\": {\n",
    "        \"contributors\": None,\n",
    "        \"truncated\": False,\n",
    "        \"text\": \"I'm decommiting from the university of Michigan thank you Michigan for the love and support I'll remake my decision at the army bowl\",\n",
    "        \"in_reply_to_status_id\": None,\n",
    "        \"id\": 536300265616322560,\n",
    "        \"favorite_count\": 1583,\n",
    "        \"source\": \"<a href=\\\"http://twitter.com/download/iphone\\\" rel=\\\"nofollow\\\">Twitter for iPhone</a>\",\n",
    "        \"retweeted\": False,\n",
    "        \"coordinates\": None,\n",
    "        \"entities\": {\n",
    "          \"symbols\": [],\n",
    "          \"user_mentions\": [],\n",
    "          \"hashtags\": [],\n",
    "          \"urls\": []\n",
    "        },\n",
    "        \"in_reply_to_screen_name\": None,\n",
    "        \"in_reply_to_user_id\": None,\n",
    "        \"retweet_count\": 2014,\n",
    "        \"id_str\": \"536300265616322560\",\n",
    "        \"favorited\": False,\n",
    "        \"user\": {\n",
    "          \"follow_request_sent\": False,\n",
    "          \"profile_use_background_image\": True,\n",
    "          \"profile_text_color\": \"666666\",\n",
    "          \"default_profile_image\": False,\n",
    "          \"id\": 1119996684,\n",
    "          \"profile_background_image_url_https\": \"https://abs.twimg.com/images/themes/theme9/bg.gif\",\n",
    "          \"verified\": False,\n",
    "          \"profile_location\": None,\n",
    "          \"profile_image_url_https\": \"https://pbs.twimg.com/profile_images/534465900343083008/A09dIq1d_normal.jpeg\",\n",
    "          \"profile_sidebar_fill_color\": \"252429\",\n",
    "          \"entities\": {\n",
    "            \"description\": {\n",
    "              \"urls\": []\n",
    "            }\n",
    "          },\n",
    "          \"followers_count\": 5444,\n",
    "          \"profile_sidebar_border_color\": \"FFFFFF\",\n",
    "          \"id_str\": \"1119996684\",\n",
    "          \"profile_background_color\": \"C0DEED\",\n",
    "          \"listed_count\": 36,\n",
    "          \"is_translation_enabled\": False,\n",
    "          \"utc_offset\": None,\n",
    "          \"statuses_count\": 6525,\n",
    "          \"description\": \"Mike Weber (U.S Army All American) DETROIT CTSENIOR State Champion\",\n",
    "          \"friends_count\": 693,\n",
    "          \"location\": \"\",\n",
    "          \"profile_link_color\": \"0084B4\",\n",
    "          \"profile_image_url\": \"http://pbs.twimg.com/profile_images/534465900343083008/A09dIq1d_normal.jpeg\",\n",
    "          \"following\": False,\n",
    "          \"geo_enabled\": False,\n",
    "          \"profile_banner_url\": \"https://pbs.twimg.com/profile_banners/1119996684/1416261575\",\n",
    "          \"profile_background_image_url\": \"http://abs.twimg.com/images/themes/theme9/bg.gif\",\n",
    "          \"name\": \"Mikey\",\n",
    "          \"lang\": \"en\",\n",
    "          \"profile_background_tile\": False,\n",
    "          \"favourites_count\": 1401,\n",
    "          \"screen_name\": \"mikeweber25\",\n",
    "          \"notifications\": False,\n",
    "          \"url\": None,\n",
    "          \"created_at\": \"Fri Jan 25 18:45:53 +0000 2013\",\n",
    "          \"contributors_enabled\": False,\n",
    "          \"time_zone\": None,\n",
    "          \"protected\": False,\n",
    "          \"default_profile\": False,\n",
    "          \"is_translator\": False\n",
    "        },\n",
    "        \"geo\": None,\n",
    "        \"in_reply_to_user_id_str\": None,\n",
    "        \"lang\": \"en\",\n",
    "        \"created_at\": \"Sat Nov 22 23:28:41 +0000 2014\",\n",
    "        \"in_reply_to_status_id_str\": None,\n",
    "        \"place\": None,\n",
    "        \"metadata\": {\n",
    "          \"iso_language_code\": \"en\",\n",
    "          \"result_type\": \"recent\"\n",
    "        }\n",
    "      },\n",
    "      \"user\": {\n",
    "        \"follow_request_sent\": False,\n",
    "        \"profile_use_background_image\": True,\n",
    "        \"profile_text_color\": \"333333\",\n",
    "        \"default_profile_image\": False,\n",
    "        \"id\": 2435537208,\n",
    "        \"profile_background_image_url_https\": \"https://abs.twimg.com/images/themes/theme1/bg.png\",\n",
    "        \"verified\": False,\n",
    "        \"profile_location\": None,\n",
    "        \"profile_image_url_https\": \"https://pbs.twimg.com/profile_images/532694075947110400/oZEP5XNQ_normal.jpeg\",\n",
    "        \"profile_sidebar_fill_color\": \"DDEEF6\",\n",
    "        \"entities\": {\n",
    "          \"description\": {\n",
    "            \"urls\": []\n",
    "          }\n",
    "        },\n",
    "        \"followers_count\": 161,\n",
    "        \"profile_sidebar_border_color\": \"C0DEED\",\n",
    "        \"id_str\": \"2435537208\",\n",
    "        \"profile_background_color\": \"C0DEED\",\n",
    "        \"listed_count\": 0,\n",
    "        \"is_translation_enabled\": False,\n",
    "        \"utc_offset\": None,\n",
    "        \"statuses_count\": 524,\n",
    "        \"description\": \"Delasalle '17 Baseball & Football.\",\n",
    "        \"friends_count\": 255,\n",
    "        \"location\": \"\",\n",
    "        \"profile_link_color\": \"0084B4\",\n",
    "        \"profile_image_url\": \"http://pbs.twimg.com/profile_images/532694075947110400/oZEP5XNQ_normal.jpeg\",\n",
    "        \"following\": False,\n",
    "        \"geo_enabled\": False,\n",
    "        \"profile_banner_url\": \"https://pbs.twimg.com/profile_banners/2435537208/1406779364\",\n",
    "        \"profile_background_image_url\": \"http://abs.twimg.com/images/themes/theme1/bg.png\",\n",
    "        \"name\": \"Andrew Brooks\",\n",
    "        \"lang\": \"en\",\n",
    "        \"profile_background_tile\": False,\n",
    "        \"favourites_count\": 555,\n",
    "        \"screen_name\": \"31brooks_\",\n",
    "        \"notifications\": False,\n",
    "        \"url\": None,\n",
    "        \"created_at\": \"Wed Apr 09 14:34:41 +0000 2014\",\n",
    "        \"contributors_enabled\": False,\n",
    "        \"time_zone\": None,\n",
    "        \"protected\": False,\n",
    "        \"default_profile\": True,\n",
    "        \"is_translator\": False\n",
    "      },\n",
    "      \"geo\": None,\n",
    "      \"in_reply_to_user_id_str\": None,\n",
    "      \"lang\": \"en\",\n",
    "      \"created_at\": \"Sun Nov 23 20:57:10 +0000 2014\",\n",
    "      \"in_reply_to_status_id_str\": None,\n",
    "      \"place\": None,\n",
    "      \"metadata\": {\n",
    "        \"iso_language_code\": \"en\",\n",
    "        \"result_type\": \"recent\"\n",
    "      }\n",
    "    },\n",
    "    {\n",
    "      \"contributors\": None,\n",
    "      \"truncated\": False,\n",
    "      \"text\": \"RT @Plantedd: The University of Michigan moved a big Bur Oak yesterday. 65ft tall. 350+ tons. http://t.co/v2Y6vl3f9e\",\n",
    "      \"in_reply_to_status_id\": None,\n",
    "      \"id\": 536624216305848320,\n",
    "      \"favorite_count\": 0,\n",
    "      \"source\": \"<a href=\\\"http://tapbots.com/tweetbot\\\" rel=\\\"nofollow\\\">Tweetbot for i\\u039fS</a>\",\n",
    "      \"retweeted\": False,\n",
    "      \"coordinates\": None,\n",
    "      \"entities\": {\n",
    "        \"symbols\": [],\n",
    "        \"user_mentions\": [\n",
    "          {\n",
    "            \"id\": 462890283,\n",
    "            \"indices\": [\n",
    "              3,\n",
    "              12\n",
    "            ],\n",
    "            \"id_str\": \"462890283\",\n",
    "            \"screen_name\": \"Plantedd\",\n",
    "            \"name\": \"David Wong\"\n",
    "          }\n",
    "        ],\n",
    "        \"hashtags\": [],\n",
    "        \"urls\": [],\n",
    "        \"media\": [\n",
    "          {\n",
    "            \"source_status_id_str\": \"526276522374889472\",\n",
    "            \"expanded_url\": \"http://twitter.com/Plantedd/status/526276522374889472/photo/1\",\n",
    "            \"display_url\": \"pic.twitter.com/v2Y6vl3f9e\",\n",
    "            \"url\": \"http://t.co/v2Y6vl3f9e\",\n",
    "            \"media_url_https\": \"https://pbs.twimg.com/media/B021tLsIYAADq21.jpg\",\n",
    "            \"source_status_id\": 526276522374889472,\n",
    "            \"id_str\": \"526276519308845056\",\n",
    "            \"sizes\": {\n",
    "              \"small\": {\n",
    "                \"h\": 191,\n",
    "                \"resize\": \"fit\",\n",
    "                \"w\": 340\n",
    "              },\n",
    "              \"large\": {\n",
    "                \"h\": 576,\n",
    "                \"resize\": \"fit\",\n",
    "                \"w\": 1024\n",
    "              },\n",
    "              \"medium\": {\n",
    "                \"h\": 337,\n",
    "                \"resize\": \"fit\",\n",
    "                \"w\": 600\n",
    "              },\n",
    "              \"thumb\": {\n",
    "                \"h\": 150,\n",
    "                \"resize\": \"crop\",\n",
    "                \"w\": 150\n",
    "              }\n",
    "            },\n",
    "            \"indices\": [\n",
    "              94,\n",
    "              116\n",
    "            ],\n",
    "            \"type\": \"photo\",\n",
    "            \"id\": 526276519308845056,\n",
    "            \"media_url\": \"http://pbs.twimg.com/media/B021tLsIYAADq21.jpg\"\n",
    "          }\n",
    "        ]\n",
    "      },\n",
    "      \"in_reply_to_screen_name\": None,\n",
    "      \"in_reply_to_user_id\": None,\n",
    "      \"retweet_count\": 27,\n",
    "      \"id_str\": \"536624216305848320\",\n",
    "      \"favorited\": False,\n",
    "      \"retweeted_status\": {\n",
    "        \"contributors\": None,\n",
    "        \"truncated\": False,\n",
    "        \"text\": \"The University of Michigan moved a big Bur Oak yesterday. 65ft tall. 350+ tons. http://t.co/v2Y6vl3f9e\",\n",
    "        \"in_reply_to_status_id\": None,\n",
    "        \"id\": 526276522374889472,\n",
    "        \"favorite_count\": 25,\n",
    "        \"source\": \"<a href=\\\"http://twitter.com/download/iphone\\\" rel=\\\"nofollow\\\">Twitter for iPhone</a>\",\n",
    "        \"retweeted\": False,\n",
    "        \"coordinates\": None,\n",
    "        \"entities\": {\n",
    "          \"symbols\": [],\n",
    "          \"user_mentions\": [],\n",
    "          \"hashtags\": [],\n",
    "          \"urls\": [],\n",
    "          \"media\": [\n",
    "            {\n",
    "              \"expanded_url\": \"http://twitter.com/Plantedd/status/526276522374889472/photo/1\",\n",
    "              \"display_url\": \"pic.twitter.com/v2Y6vl3f9e\",\n",
    "              \"url\": \"http://t.co/v2Y6vl3f9e\",\n",
    "              \"media_url_https\": \"https://pbs.twimg.com/media/B021tLsIYAADq21.jpg\",\n",
    "              \"id_str\": \"526276519308845056\",\n",
    "              \"sizes\": {\n",
    "                \"small\": {\n",
    "                  \"h\": 191,\n",
    "                  \"resize\": \"fit\",\n",
    "                  \"w\": 340\n",
    "                },\n",
    "                \"large\": {\n",
    "                  \"h\": 576,\n",
    "                  \"resize\": \"fit\",\n",
    "                  \"w\": 1024\n",
    "                },\n",
    "                \"medium\": {\n",
    "                  \"h\": 337,\n",
    "                  \"resize\": \"fit\",\n",
    "                  \"w\": 600\n",
    "                },\n",
    "                \"thumb\": {\n",
    "                  \"h\": 150,\n",
    "                  \"resize\": \"crop\",\n",
    "                  \"w\": 150\n",
    "                }\n",
    "              },\n",
    "              \"indices\": [\n",
    "                80,\n",
    "                102\n",
    "              ],\n",
    "              \"type\": \"photo\",\n",
    "              \"id\": 526276519308845056,\n",
    "              \"media_url\": \"http://pbs.twimg.com/media/B021tLsIYAADq21.jpg\"\n",
    "            }\n",
    "          ]\n",
    "        },\n",
    "        \"in_reply_to_screen_name\": None,\n",
    "        \"in_reply_to_user_id\": None,\n",
    "        \"retweet_count\": 27,\n",
    "        \"id_str\": \"526276522374889472\",\n",
    "        \"favorited\": False,\n",
    "        \"user\": {\n",
    "          \"follow_request_sent\": False,\n",
    "          \"profile_use_background_image\": True,\n",
    "          \"profile_text_color\": \"333333\",\n",
    "          \"default_profile_image\": False,\n",
    "          \"id\": 462890283,\n",
    "          \"profile_background_image_url_https\": \"https://abs.twimg.com/images/themes/theme1/bg.png\",\n",
    "          \"verified\": False,\n",
    "          \"profile_location\": None,\n",
    "          \"profile_image_url_https\": \"https://pbs.twimg.com/profile_images/1791926707/Plantedd_Logo__square__normal.jpg\",\n",
    "          \"profile_sidebar_fill_color\": \"DDEEF6\",\n",
    "          \"entities\": {\n",
    "            \"url\": {\n",
    "              \"urls\": [\n",
    "                {\n",
    "                  \"url\": \"http://t.co/ZOnsCHvoKt\",\n",
    "                  \"indices\": [\n",
    "                    0,\n",
    "                    22\n",
    "                  ],\n",
    "                  \"expanded_url\": \"http://www.plantedd.com\",\n",
    "                  \"display_url\": \"plantedd.com\"\n",
    "                }\n",
    "              ]\n",
    "            },\n",
    "            \"description\": {\n",
    "              \"urls\": []\n",
    "            }\n",
    "          },\n",
    "          \"followers_count\": 2598,\n",
    "          \"profile_sidebar_border_color\": \"C0DEED\",\n",
    "          \"id_str\": \"462890283\",\n",
    "          \"profile_background_color\": \"C0DEED\",\n",
    "          \"listed_count\": 61,\n",
    "          \"is_translation_enabled\": False,\n",
    "          \"utc_offset\": 0,\n",
    "          \"statuses_count\": 8157,\n",
    "          \"description\": \"Hello, I'm the supervillain behind Plantedd. We're an online market for plant lovers plotting to take over the world by making it simple to find and buy plants.\",\n",
    "          \"friends_count\": 2664,\n",
    "          \"location\": \"UK\",\n",
    "          \"profile_link_color\": \"0084B4\",\n",
    "          \"profile_image_url\": \"http://pbs.twimg.com/profile_images/1791926707/Plantedd_Logo__square__normal.jpg\",\n",
    "          \"following\": False,\n",
    "          \"geo_enabled\": False,\n",
    "          \"profile_banner_url\": \"https://pbs.twimg.com/profile_banners/462890283/1398254314\",\n",
    "          \"profile_background_image_url\": \"http://abs.twimg.com/images/themes/theme1/bg.png\",\n",
    "          \"name\": \"David Wong\",\n",
    "          \"lang\": \"en\",\n",
    "          \"profile_background_tile\": False,\n",
    "          \"favourites_count\": 371,\n",
    "          \"screen_name\": \"Plantedd\",\n",
    "          \"notifications\": False,\n",
    "          \"url\": \"http://t.co/ZOnsCHvoKt\",\n",
    "          \"created_at\": \"Fri Jan 13 13:46:46 +0000 2012\",\n",
    "          \"contributors_enabled\": False,\n",
    "          \"time_zone\": \"Edinburgh\",\n",
    "          \"protected\": False,\n",
    "          \"default_profile\": True,\n",
    "          \"is_translator\": False\n",
    "        },\n",
    "        \"geo\": None,\n",
    "        \"in_reply_to_user_id_str\": None,\n",
    "        \"possibly_sensitive\": False,\n",
    "        \"lang\": \"en\",\n",
    "        \"created_at\": \"Sun Oct 26 07:37:55 +0000 2014\",\n",
    "        \"in_reply_to_status_id_str\": None,\n",
    "        \"place\": None,\n",
    "        \"metadata\": {\n",
    "          \"iso_language_code\": \"en\",\n",
    "          \"result_type\": \"recent\"\n",
    "        }\n",
    "      },\n",
    "      \"user\": {\n",
    "        \"follow_request_sent\": False,\n",
    "        \"profile_use_background_image\": True,\n",
    "        \"profile_text_color\": \"2A48AE\",\n",
    "        \"default_profile_image\": False,\n",
    "        \"id\": 104940733,\n",
    "        \"profile_background_image_url_https\": \"https://abs.twimg.com/images/themes/theme17/bg.gif\",\n",
    "        \"verified\": False,\n",
    "        \"profile_location\": None,\n",
    "        \"profile_image_url_https\": \"https://pbs.twimg.com/profile_images/2878477539/78e20432088b5ee2addc9ce3362fd461_normal.jpeg\",\n",
    "        \"profile_sidebar_fill_color\": \"6378B1\",\n",
    "        \"entities\": {\n",
    "          \"description\": {\n",
    "            \"urls\": []\n",
    "          }\n",
    "        },\n",
    "        \"followers_count\": 149,\n",
    "        \"profile_sidebar_border_color\": \"FBD0C9\",\n",
    "        \"id_str\": \"104940733\",\n",
    "        \"profile_background_color\": \"0C003D\",\n",
    "        \"listed_count\": 18,\n",
    "        \"is_translation_enabled\": False,\n",
    "        \"utc_offset\": 0,\n",
    "        \"statuses_count\": 16031,\n",
    "        \"description\": \"Have you any dreams you'd like to sell?\",\n",
    "        \"friends_count\": 248,\n",
    "        \"location\": \"\",\n",
    "        \"profile_link_color\": \"0F1B7C\",\n",
    "        \"profile_image_url\": \"http://pbs.twimg.com/profile_images/2878477539/78e20432088b5ee2addc9ce3362fd461_normal.jpeg\",\n",
    "        \"following\": False,\n",
    "        \"geo_enabled\": False,\n",
    "        \"profile_banner_url\": \"https://pbs.twimg.com/profile_banners/104940733/1410032966\",\n",
    "        \"profile_background_image_url\": \"http://abs.twimg.com/images/themes/theme17/bg.gif\",\n",
    "        \"name\": \"Heather\",\n",
    "        \"lang\": \"en\",\n",
    "        \"profile_background_tile\": False,\n",
    "        \"favourites_count\": 777,\n",
    "        \"screen_name\": \"froyoho\",\n",
    "        \"notifications\": False,\n",
    "        \"url\": None,\n",
    "        \"created_at\": \"Thu Jan 14 21:37:54 +0000 2010\",\n",
    "        \"contributors_enabled\": False,\n",
    "        \"time_zone\": \"London\",\n",
    "        \"protected\": False,\n",
    "        \"default_profile\": False,\n",
    "        \"is_translator\": False\n",
    "      },\n",
    "      \"geo\": None,\n",
    "      \"in_reply_to_user_id_str\": None,\n",
    "      \"possibly_sensitive\": False,\n",
    "      \"lang\": \"en\",\n",
    "      \"created_at\": \"Sun Nov 23 20:55:57 +0000 2014\",\n",
    "      \"in_reply_to_status_id_str\": None,\n",
    "      \"place\": None,\n",
    "      \"metadata\": {\n",
    "        \"iso_language_code\": \"en\",\n",
    "        \"result_type\": \"recent\"\n",
    "      }\n",
    "    },\n",
    "    {\n",
    "      \"contributors\": None,\n",
    "      \"truncated\": False,\n",
    "      \"text\": \"RT @NotableHistory: Madonna, 18 year old freshman at the University of Michigan, 1976 http://t.co/x2dm1G67ea\",\n",
    "      \"in_reply_to_status_id\": None,\n",
    "      \"id\": 536623674942439425,\n",
    "      \"favorite_count\": 0,\n",
    "      \"source\": \"<a href=\\\"http://twitter.com/download/android\\\" rel=\\\"nofollow\\\">Twitter for Android</a>\",\n",
    "      \"retweeted\": False,\n",
    "      \"coordinates\": None,\n",
    "      \"entities\": {\n",
    "        \"symbols\": [],\n",
    "        \"user_mentions\": [\n",
    "          {\n",
    "            \"id\": 844766941,\n",
    "            \"indices\": [\n",
    "              3,\n",
    "              18\n",
    "            ],\n",
    "            \"id_str\": \"844766941\",\n",
    "            \"screen_name\": \"NotableHistory\",\n",
    "            \"name\": \"OnThisDay & Facts\"\n",
    "          }\n",
    "        ],\n",
    "        \"hashtags\": [],\n",
    "        \"urls\": [],\n",
    "        \"media\": [\n",
    "          {\n",
    "            \"source_status_id_str\": \"536610190334779392\",\n",
    "            \"expanded_url\": \"http://twitter.com/NotableHistory/status/536610190334779392/photo/1\",\n",
    "            \"display_url\": \"pic.twitter.com/x2dm1G67ea\",\n",
    "            \"url\": \"http://t.co/x2dm1G67ea\",\n",
    "            \"media_url_https\": \"https://pbs.twimg.com/media/B3EXbQkCMAEipwM.jpg\",\n",
    "            \"source_status_id\": 536610190334779392,\n",
    "            \"id_str\": \"536235587703812097\",\n",
    "            \"sizes\": {\n",
    "              \"small\": {\n",
    "                \"h\": 487,\n",
    "                \"resize\": \"fit\",\n",
    "                \"w\": 340\n",
    "              },\n",
    "              \"large\": {\n",
    "                \"h\": 918,\n",
    "                \"resize\": \"fit\",\n",
    "                \"w\": 640\n",
    "              },\n",
    "              \"medium\": {\n",
    "                \"h\": 860,\n",
    "                \"resize\": \"fit\",\n",
    "                \"w\": 600\n",
    "              },\n",
    "              \"thumb\": {\n",
    "                \"h\": 150,\n",
    "                \"resize\": \"crop\",\n",
    "                \"w\": 150\n",
    "              }\n",
    "            },\n",
    "            \"indices\": [\n",
    "              86,\n",
    "              108\n",
    "            ],\n",
    "            \"type\": \"photo\",\n",
    "            \"id\": 536235587703812097,\n",
    "            \"media_url\": \"http://pbs.twimg.com/media/B3EXbQkCMAEipwM.jpg\"\n",
    "          }\n",
    "        ]\n",
    "      },\n",
    "      \"in_reply_to_screen_name\": None,\n",
    "      \"in_reply_to_user_id\": None,\n",
    "      \"retweet_count\": 9,\n",
    "      \"id_str\": \"536623674942439425\",\n",
    "      \"favorited\": False,\n",
    "      \"retweeted_status\": {\n",
    "        \"contributors\": None,\n",
    "        \"truncated\": False,\n",
    "        \"text\": \"Madonna, 18 year old freshman at the University of Michigan, 1976 http://t.co/x2dm1G67ea\",\n",
    "        \"in_reply_to_status_id\": None,\n",
    "        \"id\": 536610190334779392,\n",
    "        \"favorite_count\": 13,\n",
    "        \"source\": \"<a href=\\\"https://ads.twitter.com\\\" rel=\\\"nofollow\\\">Twitter Ads</a>\",\n",
    "        \"retweeted\": False,\n",
    "        \"coordinates\": None,\n",
    "        \"entities\": {\n",
    "          \"symbols\": [],\n",
    "          \"user_mentions\": [],\n",
    "          \"hashtags\": [],\n",
    "          \"urls\": [],\n",
    "          \"media\": [\n",
    "            {\n",
    "              \"expanded_url\": \"http://twitter.com/NotableHistory/status/536610190334779392/photo/1\",\n",
    "              \"display_url\": \"pic.twitter.com/x2dm1G67ea\",\n",
    "              \"url\": \"http://t.co/x2dm1G67ea\",\n",
    "              \"media_url_https\": \"https://pbs.twimg.com/media/B3EXbQkCMAEipwM.jpg\",\n",
    "              \"id_str\": \"536235587703812097\",\n",
    "              \"sizes\": {\n",
    "                \"small\": {\n",
    "                  \"h\": 487,\n",
    "                  \"resize\": \"fit\",\n",
    "                  \"w\": 340\n",
    "                },\n",
    "                \"large\": {\n",
    "                  \"h\": 918,\n",
    "                  \"resize\": \"fit\",\n",
    "                  \"w\": 640\n",
    "                },\n",
    "                \"medium\": {\n",
    "                  \"h\": 860,\n",
    "                  \"resize\": \"fit\",\n",
    "                  \"w\": 600\n",
    "                },\n",
    "                \"thumb\": {\n",
    "                  \"h\": 150,\n",
    "                  \"resize\": \"crop\",\n",
    "                  \"w\": 150\n",
    "                }\n",
    "              },\n",
    "              \"indices\": [\n",
    "                66,\n",
    "                88\n",
    "              ],\n",
    "              \"type\": \"photo\",\n",
    "              \"id\": 536235587703812097,\n",
    "              \"media_url\": \"http://pbs.twimg.com/media/B3EXbQkCMAEipwM.jpg\"\n",
    "            }\n",
    "          ]\n",
    "        },\n",
    "        \"in_reply_to_screen_name\": None,\n",
    "        \"in_reply_to_user_id\": None,\n",
    "        \"retweet_count\": 9,\n",
    "        \"id_str\": \"536610190334779392\",\n",
    "        \"favorited\": False,\n",
    "        \"user\": {\n",
    "          \"follow_request_sent\": False,\n",
    "          \"profile_use_background_image\": True,\n",
    "          \"profile_text_color\": \"333333\",\n",
    "          \"default_profile_image\": False,\n",
    "          \"id\": 844766941,\n",
    "          \"profile_background_image_url_https\": \"https://pbs.twimg.com/profile_background_images/458461302696837121/rGlGdWsc.png\",\n",
    "          \"verified\": False,\n",
    "          \"profile_location\": None,\n",
    "          \"profile_image_url_https\": \"https://pbs.twimg.com/profile_images/481243404320251905/gCr1cVP2_normal.png\",\n",
    "          \"profile_sidebar_fill_color\": \"DDFFCC\",\n",
    "          \"entities\": {\n",
    "            \"url\": {\n",
    "              \"urls\": [\n",
    "                {\n",
    "                  \"url\": \"http://t.co/9fTPk5A4wh\",\n",
    "                  \"indices\": [\n",
    "                    0,\n",
    "                    22\n",
    "                  ],\n",
    "                  \"expanded_url\": \"http://notablefacts.com/\",\n",
    "                  \"display_url\": \"notablefacts.com\"\n",
    "                }\n",
    "              ]\n",
    "            },\n",
    "            \"description\": {\n",
    "              \"urls\": []\n",
    "            }\n",
    "          },\n",
    "          \"followers_count\": 73817,\n",
    "          \"profile_sidebar_border_color\": \"FFFFFF\",\n",
    "          \"id_str\": \"844766941\",\n",
    "          \"profile_background_color\": \"9AE4E8\",\n",
    "          \"listed_count\": 485,\n",
    "          \"is_translation_enabled\": False,\n",
    "          \"utc_offset\": -21600,\n",
    "          \"statuses_count\": 38841,\n",
    "          \"description\": \"On This Day in History, Historical Pictures & other Interesting Facts....Historyfollower@gmail.com\",\n",
    "          \"friends_count\": 43594,\n",
    "          \"location\": \"\",\n",
    "          \"profile_link_color\": \"0084B4\",\n",
    "          \"profile_image_url\": \"http://pbs.twimg.com/profile_images/481243404320251905/gCr1cVP2_normal.png\",\n",
    "          \"following\": False,\n",
    "          \"geo_enabled\": False,\n",
    "          \"profile_banner_url\": \"https://pbs.twimg.com/profile_banners/844766941/1411076349\",\n",
    "          \"profile_background_image_url\": \"http://pbs.twimg.com/profile_background_images/458461302696837121/rGlGdWsc.png\",\n",
    "          \"name\": \"OnThisDay & Facts\",\n",
    "          \"lang\": \"en\",\n",
    "          \"profile_background_tile\": True,\n",
    "          \"favourites_count\": 1383,\n",
    "          \"screen_name\": \"NotableHistory\",\n",
    "          \"notifications\": False,\n",
    "          \"url\": \"http://t.co/9fTPk5A4wh\",\n",
    "          \"created_at\": \"Tue Sep 25 03:08:59 +0000 2012\",\n",
    "          \"contributors_enabled\": False,\n",
    "          \"time_zone\": \"Central Time (US & Canada)\",\n",
    "          \"protected\": False,\n",
    "          \"default_profile\": False,\n",
    "          \"is_translator\": False\n",
    "        },\n",
    "        \"geo\": None,\n",
    "        \"in_reply_to_user_id_str\": None,\n",
    "        \"possibly_sensitive\": False,\n",
    "        \"lang\": \"en\",\n",
    "        \"created_at\": \"Sun Nov 23 20:00:13 +0000 2014\",\n",
    "        \"in_reply_to_status_id_str\": None,\n",
    "        \"place\": None,\n",
    "        \"metadata\": {\n",
    "          \"iso_language_code\": \"en\",\n",
    "          \"result_type\": \"recent\"\n",
    "        }\n",
    "      },\n",
    "      \"user\": {\n",
    "        \"follow_request_sent\": False,\n",
    "        \"profile_use_background_image\": True,\n",
    "        \"profile_text_color\": \"333333\",\n",
    "        \"default_profile_image\": False,\n",
    "        \"id\": 818185729,\n",
    "        \"profile_background_image_url_https\": \"https://abs.twimg.com/images/themes/theme1/bg.png\",\n",
    "        \"verified\": False,\n",
    "        \"profile_location\": None,\n",
    "        \"profile_image_url_https\": \"https://pbs.twimg.com/profile_images/486215801498640384/rz9o7LnF_normal.jpeg\",\n",
    "        \"profile_sidebar_fill_color\": \"DDEEF6\",\n",
    "        \"entities\": {\n",
    "          \"description\": {\n",
    "            \"urls\": []\n",
    "          }\n",
    "        },\n",
    "        \"followers_count\": 302,\n",
    "        \"profile_sidebar_border_color\": \"C0DEED\",\n",
    "        \"id_str\": \"818185729\",\n",
    "        \"profile_background_color\": \"C0DEED\",\n",
    "        \"listed_count\": 0,\n",
    "        \"is_translation_enabled\": False,\n",
    "        \"utc_offset\": None,\n",
    "        \"statuses_count\": 395,\n",
    "        \"description\": \"Formerly with California Dept of General Services, now freelancing around the Sacramento area...\",\n",
    "        \"friends_count\": 1521,\n",
    "        \"location\": \"Citrus Heights, CA\",\n",
    "        \"profile_link_color\": \"0084B4\",\n",
    "        \"profile_image_url\": \"http://pbs.twimg.com/profile_images/486215801498640384/rz9o7LnF_normal.jpeg\",\n",
    "        \"following\": False,\n",
    "        \"geo_enabled\": True,\n",
    "        \"profile_banner_url\": \"https://pbs.twimg.com/profile_banners/818185729/1383764759\",\n",
    "        \"profile_background_image_url\": \"http://abs.twimg.com/images/themes/theme1/bg.png\",\n",
    "        \"name\": \"M Duncan\",\n",
    "        \"lang\": \"en\",\n",
    "        \"profile_background_tile\": False,\n",
    "        \"favourites_count\": 6544,\n",
    "        \"screen_name\": \"MDuncan95814\",\n",
    "        \"notifications\": False,\n",
    "        \"url\": None,\n",
    "        \"created_at\": \"Tue Sep 11 21:02:09 +0000 2012\",\n",
    "        \"contributors_enabled\": False,\n",
    "        \"time_zone\": None,\n",
    "        \"protected\": False,\n",
    "        \"default_profile\": True,\n",
    "        \"is_translator\": False\n",
    "      },\n",
    "      \"geo\": None,\n",
    "      \"in_reply_to_user_id_str\": None,\n",
    "      \"possibly_sensitive\": False,\n",
    "      \"lang\": \"en\",\n",
    "      \"created_at\": \"Sun Nov 23 20:53:48 +0000 2014\",\n",
    "      \"in_reply_to_status_id_str\": None,\n",
    "      \"place\": None,\n",
    "      \"metadata\": {\n",
    "        \"iso_language_code\": \"en\",\n",
    "        \"result_type\": \"recent\"\n",
    "      }\n",
    "    }\n",
    "  ]\n",
    "}\n"
   ]
  },
  {
   "cell_type": "markdown",
   "metadata": {},
   "source": [
    "<a id='17.7.1'></a>\n",
    "### 17.7.1. Understand\n",
    "[Back to top](#Top)\n",
    "\n",
    "At any level of the extraction process, the first task is to make sure you understand the current object you have extracted. There are few options here.\n",
    "\n",
    "1. Print the entire object. If it’s small enough, you may be able to make sense of the printout directly. If it’s a little bit larger, you may find it helpful to “pretty-print” it, with indentation showing the level of nesting of the data. We don’t have a way to pretty-print in our online browser-based environment, but if you’re running code with a full Python interpreter, you can use the dumps function in the json module. For example:"
   ]
  },
  {
   "cell_type": "code",
   "execution_count": null,
   "metadata": {},
   "outputs": [],
   "source": [
    "import json\n",
    "print(json.dumps(res, indent=2))"
   ]
  },
  {
   "cell_type": "markdown",
   "metadata": {},
   "source": [
    "2. If printing the entire object gives you something that’s too unwieldy, you have other options for making sense of it.\n",
    "\n",
    "  - Copy and paste it to a site like https://jsoneditoronline.org/ which will let you explore and collapse levels\n",
    "\n",
    "  - Print the type of the object.\n",
    "\n",
    "  - If it’s a dictionary:\n",
    "    - print the keys\n",
    "\n",
    "  - If it’s a list:\n",
    "    - print its length¿\n",
    "    - print the type of the first item\n",
    "    - print the first item if it’s of manageable size"
   ]
  },
  {
   "cell_type": "code",
   "execution_count": null,
   "metadata": {},
   "outputs": [],
   "source": [
    "import json\n",
    "print(json.dumps(res, indent=2)[:100])\n",
    "print(\"-----------\")\n",
    "print(type(res))\n",
    "print(res.keys())"
   ]
  },
  {
   "cell_type": "markdown",
   "metadata": {},
   "source": [
    "<a id='17.7.2'></a>\n",
    "### 17.7.2. Extract\n",
    "[Back to top](#Top)\n",
    "\n",
    "In the extraction phase, you will be diving one level deeper into the nested data.\n",
    "\n",
    "1. If it’s a dictionary, figure out which key has the value you’re looking for, and get its value. For example: <font color=red>res2 = res['statuses']</font>\n",
    "\n",
    "2. If it’s a list, you will typically be wanting to do something with each of the items (e.g., extracting something from each, and accumulating them in a list). For that you’ll want a for loop, such as <font color=red>for res2 in res</font>. During your exploration phase, however, it will be easier to debug things if you work with just one item. One trick for doing that is to iterate over a slice of the list containing just one item. For example, <font color=red>for res2 in res[:1]</font>."
   ]
  },
  {
   "cell_type": "code",
   "execution_count": null,
   "metadata": {},
   "outputs": [],
   "source": [
    "print(type(res))\n",
    "print(res.keys())\n",
    "res2 = res['statuses']"
   ]
  },
  {
   "cell_type": "markdown",
   "metadata": {},
   "source": [
    "<a id='17.7.3'></a>\n",
    "### 17.7.3. Repeat\n",
    "[Back to top](#Top)\n",
    "\n",
    "Now you’ll repeat the Understand and Extract processes at the next level.\n",
    "\n",
    "<a id='17.7.3.1'></a>\n",
    "### 17.7.3.1. Level 2\n",
    "[Back to top](#Top)\n",
    "\n",
    "First understand."
   ]
  },
  {
   "cell_type": "code",
   "execution_count": null,
   "metadata": {},
   "outputs": [],
   "source": [
    "print(type(res))\n",
    "print(res.keys())\n",
    "res2 = res['statuses']\n",
    "print(\"----Level 2-----\")\n",
    "print(type(res2)) # it's a list!\n",
    "print(len(res2))"
   ]
  },
  {
   "cell_type": "markdown",
   "metadata": {},
   "source": [
    "It’s a list, with three items, so it’s a good guess that each item represents one tweet.\n",
    "\n",
    "Now extract. Since it’s a list, we’ll want to work with each item, but to keep things manageable for now, let’s use the trick for just looking at the first item. Later we’ll switch to processing all the items."
   ]
  },
  {
   "cell_type": "code",
   "execution_count": null,
   "metadata": {},
   "outputs": [],
   "source": [
    "import json\n",
    "print(type(res))\n",
    "print(res.keys())\n",
    "res2 = res['statuses']\n",
    "print(\"----Level 2: a list of tweets-----\")\n",
    "print(type(res2)) # it's a list!\n",
    "print(len(res2))  # looks like one item representing each of the three tweets\n",
    "for res3 in res2[:1]:\n",
    "   print(\"----Level 3: a tweet----\")\n",
    "   print(json.dumps(res3, indent=2)[:30])"
   ]
  },
  {
   "cell_type": "markdown",
   "metadata": {},
   "source": [
    "<a id='17.7.3.2'></a>\n",
    "### 17.7.3.2. Level 3\n",
    "[Back to top](#Top)\n",
    "\n",
    "First understand."
   ]
  },
  {
   "cell_type": "code",
   "execution_count": null,
   "metadata": {},
   "outputs": [],
   "source": [
    "import json\n",
    "print(type(res))\n",
    "print(res.keys())\n",
    "res2 = res['statuses']\n",
    "print(\"----Level 2: a list of tweets-----\")\n",
    "print(type(res2)) # it's a list!\n",
    "print(len(res2))  # looks like one item representing each of the three tweets\n",
    "for res3 in res2[:1]:\n",
    "   print(\"----Level 3: a tweet----\")\n",
    "   print(json.dumps(res3, indent=2)[:30])\n",
    "   print(type(res3)) # it's a dictionary\n",
    "   print(res3.keys())"
   ]
  },
  {
   "cell_type": "markdown",
   "metadata": {},
   "source": [
    "Then extract. Let’s pull out the information about who sent each of the tweets. Probably that’s the value associated with the ‘user’ key."
   ]
  },
  {
   "cell_type": "code",
   "execution_count": null,
   "metadata": {},
   "outputs": [],
   "source": [
    "import json\n",
    "print(type(res))\n",
    "print(res.keys())\n",
    "res2 = res['statuses']\n",
    "print(\"----Level 2: a list of tweets-----\")\n",
    "print(type(res2)) # it's a list!\n",
    "print(len(res2))  # looks like one item representing each of the three tweets\n",
    "for res3 in res2[:1]:\n",
    "   print(\"----Level 3: a tweet----\")\n",
    "   print(json.dumps(res3, indent=2)[:30])\n",
    "   res4 = res3['user']"
   ]
  },
  {
   "cell_type": "markdown",
   "metadata": {},
   "source": [
    "Now repeat.\n",
    "\n",
    "<a id='17.7.3.3'></a>\n",
    "### 17.7.3.3. Level 4\n",
    "[Back to top](#Top)\n",
    "\n",
    "Understand."
   ]
  },
  {
   "cell_type": "code",
   "execution_count": null,
   "metadata": {},
   "outputs": [],
   "source": [
    "import json\n",
    "print(type(res))\n",
    "print(res.keys())\n",
    "res2 = res['statuses']\n",
    "print(\"----Level 2: a list of tweets-----\")\n",
    "print(type(res2)) # it's a list!\n",
    "print(len(res2))  # looks like one item representing each of the three tweets\n",
    "for res3 in res2[:1]:\n",
    "   print(\"----Level 3: a tweet----\")\n",
    "   print(json.dumps(res3, indent=2)[:30])\n",
    "   res4 = res3['user']\n",
    "   print(\"----Level 4: the user who wrote the tweet----\")\n",
    "   print(type(res4)) # it's a dictionary\n",
    "   print(res4.keys())"
   ]
  },
  {
   "cell_type": "markdown",
   "metadata": {},
   "source": [
    "Extract. Let’s print out the user’s screen name and when their account was created."
   ]
  },
  {
   "cell_type": "code",
   "execution_count": null,
   "metadata": {},
   "outputs": [],
   "source": [
    "import json\n",
    "# print(type(res))\n",
    "# print(res.keys())\n",
    "res2 = res['statuses']\n",
    "# print(\"----Level 2: a list of tweets-----\")\n",
    "# print(type(res2)) # it's a list!\n",
    "# print(len(res2))  # looks like one item representing each of the three tweets\n",
    "for res3 in res2[:1]:\n",
    "   print(\"----Level 3: a tweet----\")\n",
    "   # print(json.dumps(res3, indent=2)[:30])\n",
    "   res4 = res3['user']\n",
    "   print(\"----Level 4: the user who wrote the tweet----\")\n",
    "   # print(type(res4)) # it's a dictionary\n",
    "   # print(res4.keys())\n",
    "   print(res4['screen_name'], res4['created_at'])"
   ]
  },
  {
   "cell_type": "markdown",
   "metadata": {},
   "source": [
    "Now, we may want to go back have it extract for all the items rather than only the first item in res2."
   ]
  },
  {
   "cell_type": "code",
   "execution_count": null,
   "metadata": {},
   "outputs": [],
   "source": [
    "import json\n",
    "# print(type(res))\n",
    "# print(res.keys())\n",
    "res2 = res['statuses']\n",
    "#print(\"----Level 2: a list of tweets-----\")\n",
    "#print(type(res2)) # it's a list!\n",
    "#print(len(res2))  # looks like one item representing each of the three tweets\n",
    "for res3 in res2:\n",
    "   #print(\"----Level 3: a tweet----\")\n",
    "   #print(json.dumps(res3, indent=2)[:30])\n",
    "   res4 = res3['user']\n",
    "   #print(\"----Level 4: the user who wrote the tweet----\")\n",
    "   #print(type(res4)) # it's a dictionary\n",
    "   #print(res4.keys())\n",
    "   print(res4['screen_name'], res4['created_at'])"
   ]
  },
  {
   "cell_type": "markdown",
   "metadata": {},
   "source": [
    "<a id='17.7.3.4'></a>\n",
    "### 17.7.3.4. Reflections\n",
    "[Back to top](#Top)\n",
    "\n",
    "Notice that each time we descend a level in a dictionary, we have a [] picking out a key. Each time we look inside a list, we will have a for loop. If there are lists at multiple levels, we will have nested for loops.\n",
    "\n",
    "Once you’ve figured out how to extract everything you want, you may choose to collapse things with multiple extractions in a single expression. For example, we could have this shorter version."
   ]
  },
  {
   "cell_type": "code",
   "execution_count": null,
   "metadata": {},
   "outputs": [],
   "source": [
    "for res3 in res['statuses']:\n",
    "    print(res3['user']['screen_name'], res3['user']['created_at'])"
   ]
  },
  {
   "cell_type": "markdown",
   "metadata": {},
   "source": [
    "Even with this compact code, we can still count off how many levels of nesting we have extracted from, in this case four. res[‘statuses’] says we have descended one level (in a dictionary). for res3 in… says we are have descended another level (in a list). [‘user’] is descending one more level, and [‘screen_name’] is descending one more level.\n",
    "\n",
    "<a id='17.8'></a>\n",
    "## 17.8. Exercises\n",
    "[Back to top](#Top)\n",
    "\n",
    "<div class=\"alert alert-block alert-warning\" style=\"margin-top: 20px\">\n",
    "<font color=black>\n",
    "    \n",
    "1. Iterate through the list so that if the character ‘m’ is in the string, then it should be added to a new list called <font color=red>m_list</font>. Hint: Because this isn’t just a list of lists, think about what type of object you want your data to be stored in. Conditionals may help you."
   ]
  },
  {
   "cell_type": "code",
   "execution_count": null,
   "metadata": {},
   "outputs": [],
   "source": [
    "d = ['good morning', 'hello', 'chair', 'python', \n",
    "     ['music', 'flowers', 'facebook', 'instagram', 'snapchat', \n",
    "      ['On my Own', 'monster', 'Words dont come so easily', 'lead me right']], \n",
    "        'Stressed Out', 'Pauver Coeur', 'Reach for Tomorrow', 'mariners song', 'Wonder sleeps here']"
   ]
  },
  {
   "cell_type": "markdown",
   "metadata": {},
   "source": [
    "<details><summary>Click here for a solution</summary>\n",
    "<div class=\"alert alert-block alert-success\" style=\"margin-top: 20px\">\n",
    "<font color=black>\n",
    "    \n",
    "```python\n",
    "m_list = []\n",
    "for item in d:\n",
    "    if type(item) == list:\n",
    "        for sub_item in item:\n",
    "            if type(sub_item) == list:\n",
    "                for str in sub_item:\n",
    "                    if 'm' in str:\n",
    "                        m_list.append(str)\n",
    "            elif 'm' in sub_item:\n",
    "                m_list.append(sub_item)\n",
    "    elif 'm' in item:\n",
    "        m_list.append(item)\n",
    "```\n",
    "\n",
    "</details>"
   ]
  },
  {
   "cell_type": "markdown",
   "metadata": {},
   "source": [
    "<div class=\"alert alert-block alert-warning\" style=\"margin-top: 20px\">\n",
    "<font color=black>\n",
    "    \n",
    "2. The nested dictionary, <font color=red>pokemon</font>, shows the number of various Pokemon that each person has caught while playing Pokemon Go. Find the total number of rattatas, dittos, and pidgeys caught and assign to the variables <font color=red>r</font>, <font color=red>d</font>, and <font color=red>p</font> respectively. Do not hardcode. Note: Be aware that not every trainer has caught a ditto."
   ]
  },
  {
   "cell_type": "code",
   "execution_count": null,
   "metadata": {},
   "outputs": [],
   "source": [
    "pokemon = {'Trainer1':\n",
    "          {'normal': {'rattatas':15, 'eevees': 2, 'ditto':1}, 'water': {'magikarps':3}, 'flying': {'zubats':8, 'pidgey': 12}},\n",
    "          'Trainer2':\n",
    "          {'normal': {'rattatas':25, 'eevees': 1}, 'water': {'magikarps':7}, 'flying': {'zubats':3, 'pidgey': 15}},\n",
    "          'Trainer3':\n",
    "          {'normal': {'rattatas':10, 'eevees': 3, 'ditto':2}, 'water': {'magikarps':2}, 'flying': {'zubats':3, 'pidgey': 20}},\n",
    "          'Trainer4':\n",
    "          {'normal': {'rattatas':17, 'eevees': 1}, 'water': {'magikarps':9}, 'flying': {'zubats':12, 'pidgey': 14}}}"
   ]
  },
  {
   "cell_type": "markdown",
   "metadata": {},
   "source": [
    "<details><summary>Click here for a solution</summary>\n",
    "<div class=\"alert alert-block alert-success\" style=\"margin-top: 20px\">\n",
    "<font color=black>\n",
    "    \n",
    "```python\n",
    "r = 0 \n",
    "d = 0 \n",
    "p = 0\n",
    "for pokemon_key in pokemon:\n",
    "    for il1 in pokemon[pokemon_key]:\n",
    "        if il1 == 'flying':\n",
    "            p += pokemon[pokemon_key][il1]['pidgey']\n",
    "        if il1 == 'normal':\n",
    "            r += pokemon[pokemon_key][il1]['rattatas']\n",
    "            try:\n",
    "                d += pokemon[pokemon_key][il1]['ditto']\n",
    "            except:\n",
    "                continue\n",
    "```\n",
    "\n",
    "</details>"
   ]
  },
  {
   "cell_type": "markdown",
   "metadata": {},
   "source": [
    "<div class=\"alert alert-block alert-warning\" style=\"margin-top: 20px\">\n",
    "<font color=black>\n",
    "    \n",
    "3. Below, we have provided a nested list called <font color=red>big_list</font>. Use nested iteration to create a dictionary, <font color=red>word_counts</font>, that contains all the words in <font color=red>big_list</font> as keys, and the number of times they occur as values."
   ]
  },
  {
   "cell_type": "code",
   "execution_count": null,
   "metadata": {},
   "outputs": [],
   "source": [
    "big_list = [[['one', 'two'], ['seven', 'eight']], \n",
    "            [['nine', 'four'], ['three', 'one']], \n",
    "            [['two', 'eight'], ['seven', 'four']], \n",
    "            [['five', 'one'], ['four', 'two']], \n",
    "            [['six', 'eight'], ['two', 'seven']], \n",
    "            [['three', 'five'], ['one', 'six']], \n",
    "            [['nine', 'eight'], ['five', 'four']], \n",
    "            [['six', 'three'], ['four', 'seven']]]"
   ]
  },
  {
   "cell_type": "markdown",
   "metadata": {},
   "source": [
    "<details><summary>Click here for a solution</summary>\n",
    "<div class=\"alert alert-block alert-success\" style=\"margin-top: 20px\">\n",
    "<font color=black>\n",
    "    \n",
    "```python\n",
    "word_counts = {}\n",
    "for lst in big_list:\n",
    "    for il1 in lst:\n",
    "        for word in il1:\n",
    "            if word not in word_counts:\n",
    "                word_counts[word] = 0\n",
    "            word_counts[word] += 1\n",
    "```\n",
    "\n",
    "</details>"
   ]
  },
  {
   "cell_type": "markdown",
   "metadata": {},
   "source": [
    "<div class=\"alert alert-block alert-warning\" style=\"margin-top: 20px\">\n",
    "<font color=black>\n",
    "    \n",
    "4. Provided is a dictionary that contains pokemon go player data, where each player reveals the amount of candy each of their pokemon have. If you pooled all the data together, which pokemon has the highest number of candy? Assign that pokemon to the variable <font color=red>most_common_pokemon</font>."
   ]
  },
  {
   "cell_type": "code",
   "execution_count": null,
   "metadata": {},
   "outputs": [],
   "source": [
    "pokemon_go_data = {'bentspoon':\n",
    "                  {'Rattata': 203, 'Pidgey': 120, 'Drowzee': 89, 'Squirtle': 35, 'Pikachu': 3, 'Eevee': 34, 'Magikarp': 300, 'Paras': 38},\n",
    "                  'Laurne':\n",
    "                  {'Pidgey': 169, 'Rattata': 245, 'Squirtle': 9, 'Caterpie': 38, 'Weedle': 97, 'Pikachu': 6, 'Nidoran': 44, 'Clefairy': 15, 'Zubat': 79, 'Dratini': 4},\n",
    "                  'picklejarlid':\n",
    "                  {'Rattata': 32, 'Drowzee': 15, 'Nidoran': 4, 'Bulbasaur': 3, 'Pidgey': 56, 'Weedle': 21, 'Oddish': 18, 'Magmar': 6, 'Spearow': 14},\n",
    "                  'professoroak':\n",
    "                  {'Charmander': 11, 'Ponyta': 9, 'Rattata': 107, 'Belsprout': 29, 'Seel': 19, 'Pidgey': 93, 'Shellder': 43, 'Drowzee': 245, 'Tauros': 18, 'Lapras': 18}}"
   ]
  },
  {
   "cell_type": "markdown",
   "metadata": {},
   "source": [
    "<details><summary>Click here for a solution</summary>\n",
    "<div class=\"alert alert-block alert-success\" style=\"margin-top: 20px\">\n",
    "<font color=black>\n",
    "    \n",
    "```python\n",
    "highest_total = 0\n",
    "pokemon_scores = {}\n",
    "for player in pokemon_go_data:\n",
    "    for pokemon in pokemon_go_data[player]:\n",
    "        if pokemon not in pokemon_scores:\n",
    "            pokemon_scores[pokemon] = pokemon_go_data[player][pokemon]\n",
    "        else:\n",
    "            pokemon_scores[pokemon] += pokemon_go_data[player][pokemon]\n",
    "        if pokemon_scores[pokemon] > highest_total: \n",
    "            highest_total = pokemon_scores[pokemon]\n",
    "            most_common_pokemon = pokemon\n",
    "```\n",
    "\n",
    "</details>"
   ]
  },
  {
   "cell_type": "markdown",
   "metadata": {},
   "source": [
    "<a id='17.9'></a>\n",
    "## 17.9. Chapter Assessment\n",
    "[Back to top](#Top)\n",
    "\n",
    "<div class=\"alert alert-block alert-warning\" style=\"margin-top: 20px\">\n",
    "<font color=black>\n",
    "1. The variable <font color=red>nested</font> contains a nested list. Assign ‘snake’ to the variable output using indexing."
   ]
  },
  {
   "cell_type": "code",
   "execution_count": null,
   "metadata": {},
   "outputs": [],
   "source": [
    "nested = [['dog', 'cat', 'horse'], ['frog', 'turtle', 'snake', 'gecko'], \n",
    "          ['hamster', 'gerbil', 'rat', 'ferret']]"
   ]
  },
  {
   "cell_type": "markdown",
   "metadata": {},
   "source": [
    "<details><summary>Click here for the solution</summary>\n",
    "<div class=\"alert alert-block alert-success\" style=\"margin-top: 20px\">\n",
    "<font color=black>\n",
    "    \n",
    "```python\n",
    "output = nested[1][2]\n",
    "```\n",
    "\n",
    "</details>"
   ]
  },
  {
   "cell_type": "markdown",
   "metadata": {},
   "source": [
    "<div class=\"alert alert-block alert-warning\" style=\"margin-top: 20px\">\n",
    "<font color=black>\n",
    "    \n",
    "2. Below, a list of lists is provided. Use in and not in tests to create variables with Boolean values. See comments for further instructions."
   ]
  },
  {
   "cell_type": "code",
   "execution_count": null,
   "metadata": {},
   "outputs": [],
   "source": [
    "lst = [['apple', 'orange', 'banana'], [5, 6, 7, 8, 9.9, 10], ['green', 'yellow', 'purple', 'red']]\n",
    "\n",
    "#Test to see if 'yellow' is in the third list of lst. Save to variable ``yellow``\n",
    "\n",
    "\n",
    "#Test to see if 4 is in the second list of lst. Save to variable ``four``\n",
    "\n",
    "\n",
    "#Test to see if 'orange' is in the first element of lst. Save to variable ``orange``\n"
   ]
  },
  {
   "cell_type": "markdown",
   "metadata": {},
   "source": [
    "<details><summary>Click here for a solution</summary>\n",
    "<div class=\"alert alert-block alert-success\" style=\"margin-top: 20px\">\n",
    "<font color=black>\n",
    "    \n",
    "```python\n",
    "#Test to see if 'yellow' is in the third list of lst. Save to variable ``yellow``\n",
    "yellow = 'yellow' in lst[2]\n",
    "\n",
    "#Test to see if 4 is in the second list of lst. Save to variable ``four``\n",
    "four = 4 in lst[1]\n",
    "\n",
    "#Test to see if 'orange' is in the first element of lst. Save to variable ``orange``\n",
    "orange = 'orange' in lst[0]\n",
    "```\n",
    "\n",
    "</details>"
   ]
  },
  {
   "cell_type": "markdown",
   "metadata": {},
   "source": [
    "<div class=\"alert alert-block alert-warning\" style=\"margin-top: 20px\">\n",
    "<font color=black>\n",
    "    \n",
    "3. Below, we’ve provided a list of lists. Use in statements to create variables with Boolean values - see the ActiveCode window for further directions."
   ]
  },
  {
   "cell_type": "code",
   "execution_count": null,
   "metadata": {},
   "outputs": [],
   "source": [
    "L = [[5, 8, 7], ['hello', 'hi', 'hola'], [6.6, 1.54, 3.99], ['small', 'large']]\n",
    "\n",
    "# Test if 'hola' is in the list L. Save to variable name test1\n",
    "\n",
    "# Test if [5, 8, 7] is in the list L. Save to variable name test2\n",
    "\n",
    "# Test if 6.6 is in the third element of list L. Save to variable name test3"
   ]
  },
  {
   "cell_type": "markdown",
   "metadata": {},
   "source": [
    "<details><summary>Click here for a solution</summary>\n",
    "<div class=\"alert alert-block alert-success\" style=\"margin-top: 20px\">\n",
    "<font color=black>\n",
    "    \n",
    "```python\n",
    "# Test if 'hola' is in the list L. Save to variable name test1\n",
    "test1 = 'hola' in L\n",
    "    \n",
    "# Test if [5, 8, 7] is in the list L. Save to variable name test2\n",
    "test2 = [5, 8, 7] in L\n",
    "    \n",
    "# Test if 6.6 is in the third element of list L. Save to variable name test3\n",
    "test3 = 6.6 in L[2]\n",
    "```\n",
    "\n",
    "</details>"
   ]
  },
  {
   "cell_type": "markdown",
   "metadata": {},
   "source": [
    "<div class=\"alert alert-block alert-warning\" style=\"margin-top: 20px\">\n",
    "<font color=black> \n",
    "4. Provided is a nested data structure. Follow the instructions in the comments below. Do not hard code."
   ]
  },
  {
   "cell_type": "code",
   "execution_count": null,
   "metadata": {},
   "outputs": [],
   "source": [
    "nested = {'data': ['finding', 23, ['exercises', 'hangout', 34]], 'window': ['part', 'whole', [], 'sum', ['math', 'calculus', 'algebra', 'geometry', 'statistics',['physics', 'chemistry', 'biology']]]}\n",
    "\n",
    "# Check to see if the string data is a key in nested, if it is, assign True to the variable data, otherwise assign False.\n",
    "\n",
    "# Check to see if the integer 24 is in the value of the key data, if it is then assign to the variable twentyfour the value of True, otherwise False.\n",
    "\n",
    "# Check to see that the string 'whole' is not in the value of the key window. If it's not, then assign to the variable whole the value of True, otherwise False.\n",
    "\n",
    "# Check to see if the string 'physics' is a key in the dictionary nested. If it is, assign to the variable physics, the value of True, otherwise False.\n"
   ]
  },
  {
   "cell_type": "markdown",
   "metadata": {},
   "source": [
    "<details><summary>Click here for a solution</summary>\n",
    "<div class=\"alert alert-block alert-success\" style=\"margin-top: 20px\">\n",
    "<font color=black>\n",
    "    \n",
    "```python\n",
    "# Check to see if the string data is a key in nested, if it is, assign True to the variable data, otherwise assign False.\n",
    "data = 'data' in nested\n",
    "    \n",
    "# Check to see if the integer 24 is in the value of the key data, if it is then assign to the variable twentyfour the value of True, otherwise False.\n",
    "twentyfour = 24 in nested['data']\n",
    "    \n",
    "# Check to see that the string 'whole' is not in the value of the key window. If it's not, then assign to the variable whole the value of True, otherwise False.\n",
    "whole = 'whole' not in nested['window']\n",
    "    \n",
    "# Check to see if the string 'physics' is a key in the dictionary nested. If it is, assign to the variable physics, the value of True, otherwise False.\n",
    "physics = 'physics' in nested\n",
    "```\n",
    "\n",
    "</details>"
   ]
  },
  {
   "cell_type": "markdown",
   "metadata": {},
   "source": [
    "<div class=\"alert alert-block alert-warning\" style=\"margin-top: 20px\">\n",
    "<font color=black>\n",
    "    \n",
    "5. The variable <font color=red>nested_d</font> contains a nested dictionary with the gold medal counts for the top four countries in the past three Olympics. Assign the value of Great Britain’s gold medal count from the London Olympics to the variable <font color=red>london_gold</font>. Use indexing. Do not hardcode."
   ]
  },
  {
   "cell_type": "code",
   "execution_count": null,
   "metadata": {},
   "outputs": [],
   "source": [
    "nested_d = {'Beijing':{'China':51, 'USA':36, 'Russia':22, 'Great Britain':19}, \n",
    "            'London':{'USA':46, 'China':38, 'Great Britain':29, 'Russia':22}, \n",
    "            'Rio':{'USA':35, 'Great Britain':22, 'China':20, 'Germany':13}}"
   ]
  },
  {
   "cell_type": "markdown",
   "metadata": {},
   "source": [
    "<details><summary>Click here for the solution</summary>\n",
    "<div class=\"alert alert-block alert-success\" style=\"margin-top: 20px\">\n",
    "<font color=black>\n",
    "    \n",
    "```python\n",
    "london_gold = nested_d['London']['Great Britain']\n",
    "```\n",
    "\n",
    "</details>"
   ]
  },
  {
   "cell_type": "markdown",
   "metadata": {},
   "source": [
    "<div class=\"alert alert-block alert-warning\" style=\"margin-top: 20px\">\n",
    "<font color=black>\n",
    "    \n",
    "6. Below, we have provided a nested dictionary. Index into the dictionary to create variables that we have listed in the ActiveCode window."
   ]
  },
  {
   "cell_type": "code",
   "execution_count": null,
   "metadata": {},
   "outputs": [],
   "source": [
    "sports = {'swimming': ['butterfly', 'breaststroke', 'backstroke', 'freestyle'], 'diving': ['springboard', 'platform', 'synchronized'], 'track': ['sprint', 'distance', 'jumps', 'throws'], 'gymnastics': {'women':['vault', 'floor', 'uneven bars', 'balance beam'], 'men': ['vault', 'parallel bars', 'floor', 'rings']}}\n",
    "\n",
    "# Assign the string 'backstroke' to the name v1\n",
    "\n",
    "# Assign the string 'platform' to the name v2\n",
    "\n",
    "# Assign the list ['vault', 'floor', 'uneven bars', 'balance beam'] to the name v3\n",
    "\n",
    "# Assign the string 'rings' to the name v4"
   ]
  },
  {
   "cell_type": "markdown",
   "metadata": {},
   "source": [
    "<details><summary>Click here for a solution</summary>\n",
    "<div class=\"alert alert-block alert-success\" style=\"margin-top: 20px\">\n",
    "<font color=black>\n",
    "    \n",
    "```python\n",
    "# Assign the string 'backstroke' to the name v1\n",
    "v1 = sports['swimming'][2]\n",
    "    \n",
    "# Assign the string 'platform' to the name v2\n",
    "v2 = sports['diving'][1]\n",
    "    \n",
    "# Assign the list ['vault', 'floor', 'uneven bars', 'balance beam'] to the name v3\n",
    "v3 = sports['gymnastics']['women']\n",
    "    \n",
    "# Assign the string 'rings' to the name v4\n",
    "v4 = sports['gymnastics']['men'][3]\n",
    "```\n",
    "\n",
    "</details>"
   ]
  },
  {
   "cell_type": "markdown",
   "metadata": {},
   "source": [
    "<div class=\"alert alert-block alert-warning\" style=\"margin-top: 20px\">\n",
    "<font color=black>\n",
    "    \n",
    "7. Given the dictionary, <font color=red>nested_d</font>, save the medal count for the USA from all three Olympics in the dictionary to the list <font color=red>US_count</font>."
   ]
  },
  {
   "cell_type": "code",
   "execution_count": null,
   "metadata": {},
   "outputs": [],
   "source": [
    "nested_d = {'Beijing':{'China':51, 'USA':36, 'Russia':22, 'Great Britain':19}, \n",
    "            'London':{'USA':46, 'China':38, 'Great Britain':29, 'Russia':22}, \n",
    "            'Rio':{'USA':35, 'Great Britain':22, 'China':20, 'Germany':13}}\n",
    "\n",
    "US_count = []"
   ]
  },
  {
   "cell_type": "markdown",
   "metadata": {},
   "source": [
    "<details><summary>Click here for a solution</summary>\n",
    "<div class=\"alert alert-block alert-success\" style=\"margin-top: 20px\">\n",
    "<font color=black>\n",
    "    \n",
    "```python\n",
    "US_count = []\n",
    "for country in nested_d:\n",
    "    US_count.append(nested_d[country]['USA'])\n",
    "```\n",
    "\n",
    "</details>"
   ]
  },
  {
   "cell_type": "markdown",
   "metadata": {},
   "source": [
    "<div class=\"alert alert-block alert-warning\" style=\"margin-top: 20px\">\n",
    "<font color=black>\n",
    "8. Iterate through the contents of <font color=red>l_of_l</font> and assign the third element of sublist to a new list called <font color=red>third</font>."
   ]
  },
  {
   "cell_type": "code",
   "execution_count": null,
   "metadata": {},
   "outputs": [],
   "source": [
    "l_of_l = [['purple', 'mauve', 'blue'], ['red', 'maroon', 'blood orange', 'crimson'], \n",
    "          ['sea green', 'cornflower', 'lavender', 'indigo'], \n",
    "          ['yellow', 'amarillo', 'mac n cheese', 'golden rod']]"
   ]
  },
  {
   "cell_type": "markdown",
   "metadata": {},
   "source": [
    "<details><summary>Click here for a solution</summary>\n",
    "<div class=\"alert alert-block alert-success\" style=\"margin-top: 20px\">\n",
    "<font color=black>\n",
    "    \n",
    "```python\n",
    "third = []\n",
    "for lst in l_of_l:\n",
    "    third.append(lst[2])\n",
    "```\n",
    "\n",
    "</details>"
   ]
  },
  {
   "cell_type": "markdown",
   "metadata": {},
   "source": [
    "<div class=\"alert alert-block alert-warning\" style=\"margin-top: 20px\">\n",
    "<font color=black>\n",
    "    \n",
    "9. Given below is a list of lists of athletes. Create a list, <font color=red>t</font>, that saves only the athlete’s name if it contains the letter “t”. If it does not contain the letter “t”, save the athlete name into list <font color=red>other</font>."
   ]
  },
  {
   "cell_type": "code",
   "execution_count": null,
   "metadata": {},
   "outputs": [],
   "source": [
    "athletes = [['Phelps', 'Lochte', 'Schooling', 'Ledecky', 'Franklin'], \n",
    "            ['Felix', 'Bolt', 'Gardner', 'Eaton'], \n",
    "            ['Biles', 'Douglas', 'Hamm', 'Raisman', 'Mikulak', 'Dalton']]"
   ]
  },
  {
   "cell_type": "markdown",
   "metadata": {},
   "source": [
    "<details><summary>Click here for a solution</summary>\n",
    "<div class=\"alert alert-block alert-success\" style=\"margin-top: 20px\">\n",
    "<font color=black>\n",
    "    \n",
    "```python\n",
    "t = []\n",
    "other = []\n",
    "for athletes_lst in athletes:\n",
    "    for name in athletes_lst:\n",
    "        if 't' in name:\n",
    "            t.append(name)\n",
    "        else:\n",
    "            other.append(name)\n",
    "```\n",
    "\n",
    "</details>"
   ]
  }
 ],
 "metadata": {
  "kernelspec": {
   "display_name": "Python 3",
   "language": "python",
   "name": "python3"
  },
  "language_info": {
   "codemirror_mode": {
    "name": "ipython",
    "version": 3
   },
   "file_extension": ".py",
   "mimetype": "text/x-python",
   "name": "python",
   "nbconvert_exporter": "python",
   "pygments_lexer": "ipython3",
   "version": "3.8.5"
  }
 },
 "nbformat": 4,
 "nbformat_minor": 4
}
