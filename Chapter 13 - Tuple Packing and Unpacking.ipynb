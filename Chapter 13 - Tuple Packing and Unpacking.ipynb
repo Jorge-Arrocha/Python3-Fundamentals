{
 "cells": [
  {
   "cell_type": "markdown",
   "metadata": {},
   "source": [
    "<a id='Top'></a>\n",
    "# 13. Tuple Packing and Unpacking\n",
    "<div class=\"alert alert-block alert-danger\" style=\"margin-top: 10px\">\n",
    "<font color=black>\n",
    "\n",
    "- 13.1. [Introduction](#13.1)\n",
    "  - 13.1.1. [Learning Objectives](#13.1.1)\n",
    "- 13.2. [Tuple Packing](#13.2)\n",
    "- 13.3. [Tuple Assignment with Unpacking](#13.3)\n",
    "  - 13.3.1. [Swapping Values between Variables](#13.3.1)\n",
    "  - 13.3.2. [Unpacking Into Iterator Variables](#13.3.2)\n",
    "  - 13.3.3. [The Pythonic Way to Enumerate Items in a Sequence](#13.3.3)\n",
    "- 13.4. [Tuples as Return Values](#13.4)\n",
    "- 13.5. [Unpacking Tuples as Arguments to Function Calls](#13.5)\n",
    "- 13.6. [Glossary](#13.6)\n",
    "- 13.7. [Exercises](#13.7)\n",
    "- 13.8. [Chapter Assessment](#13.8)</div>\n",
    "\n",
    "<a id='13.1'></a>\n",
    "## 13.1. Introduction\n",
    "You have previously seen tuples, a sequence type that works just like lists except that they are immutable.\n",
    "\n",
    "When working with multiple values or multiple variable names, the Python interpreter does some automatic packing and unpacking to and from tuples, which allows some simplifications in the code you write.\n",
    "\n",
    "<a id='13.1.1'></a>\n",
    "### 13.1.1. Learning Objectives\n",
    "[Back to top](#Top)\n",
    "    \n",
    "At the end of this chapter, you will be able to:\n",
    "\n",
    "- Recognize when code is using implicit tuple packing\n",
    "- Use implicit tuple packing to return multiple values from a function\n",
    "- Read and write code that unpacks a tuple into multiple variables\n",
    "- Learn a common pattern that unpacks the results of calling enumerate on a sequence\n",
    "\n",
    "<a id='13.2'></a>\n",
    "## 13.2. Tuple Packing\n",
    "[Back to top](#Top)\n",
    "    \n",
    "Wherever python expects a single value, if multiple expressions are provided, separated by commas, they are automatically __packed__ into a tuple. For example, we can omit the parentheses when assigning a tuple of values to a single variable."
   ]
  },
  {
   "cell_type": "code",
   "execution_count": null,
   "metadata": {},
   "outputs": [],
   "source": [
    "julia = (\"Julia\", \"Roberts\", 1967, \"Duplicity\", 2009, \"Actress\", \"Atlanta, Georgia\")\n",
    "\n",
    "# or equivalently\n",
    "julia = \"Julia\", \"Roberts\", 1967, \"Duplicity\", 2009, \"Actress\", \"Atlanta, Georgia\"\n",
    "\n",
    "print(julia[4])"
   ]
  },
  {
   "cell_type": "markdown",
   "metadata": {},
   "source": [
    "#### Check your understanding\n",
    "<div class=\"alert alert-block alert-warning\" style=\"margin-top: 20px\">\n",
    "<font color=black>\n",
    "    \n",
    "1. Which of the following statements will output Atlanta, Georgia\n",
    "\n",
    "A. print(julia['city'])  \n",
    "B. print(julia[-1])  \n",
    "C. print(julia(-1))  \n",
    "D. print(julia(6))  \n",
    "E. print(julia[7])"
   ]
  },
  {
   "cell_type": "markdown",
   "metadata": {},
   "source": [
    "<details><summary>Click here for the solution</summary>\n",
    "\n",
    "<font color=red>► </font>B. print(julia[-1])  \n",
    "\n",
    "<div class=\"alert alert-block alert-success\" style=\"margin-top: 20px\">\n",
    "<font color=black>✔️ Correct.<br>\n",
    "B. [-1] picks out the last item in the sequence.\n",
    "\n",
    "</details>"
   ]
  },
  {
   "cell_type": "markdown",
   "metadata": {},
   "source": [
    "<div class=\"alert alert-block alert-warning\" style=\"margin-top: 20px\">\n",
    "<font color=black>  \n",
    "2. Create a tuple called <font color=red>practice</font> that has four elements: ‘y’, ‘h’, ‘z’, and ‘x’."
   ]
  },
  {
   "cell_type": "markdown",
   "metadata": {},
   "source": [
    "<details><summary>Click here for a solution</summary>\n",
    "<div class=\"alert alert-block alert-success\" style=\"margin-top: 20px\">\n",
    "<font color=black>\n",
    "    \n",
    "```python\n",
    "practice = ('y', 'h', 'z', 'x')  \n",
    "```\n",
    "\n",
    "</details>"
   ]
  },
  {
   "cell_type": "markdown",
   "metadata": {},
   "source": [
    "<div class=\"alert alert-block alert-warning\" style=\"margin-top: 20px\">\n",
    "<font color=black>\n",
    "3. Create a tuple named <font color=red>tup1</font> that has three elements: ‘a’, ‘b’, and ‘c’."
   ]
  },
  {
   "cell_type": "markdown",
   "metadata": {},
   "source": [
    "<details><summary>Click here for a solution</summary>\n",
    "<div class=\"alert alert-block alert-success\" style=\"margin-top: 20px\">\n",
    "<font color=black>\n",
    "    \n",
    "```python\n",
    "tup1 = 'a', 'b', 'c'  \n",
    "```\n",
    "\n",
    "</details>"
   ]
  },
  {
   "cell_type": "markdown",
   "metadata": {},
   "source": [
    "<div class=\"alert alert-block alert-warning\" style=\"margin-top: 20px\">\n",
    "<font color=black>\n",
    "4. Provided is a list of tuples. Create another list called <font color=red>t_check</font> that contains the third element of every tuple."
   ]
  },
  {
   "cell_type": "code",
   "execution_count": null,
   "metadata": {},
   "outputs": [],
   "source": [
    "lst_tups = [('Articuno', 'Moltres', 'Zaptos'), ('Beedrill', 'Metapod', 'Charizard', 'Venasaur', 'Squirtle'), ('Oddish', 'Poliwag', 'Diglett', 'Bellsprout'), ('Ponyta', \"Farfetch'd\", \"Tauros\", 'Dragonite'), ('Hoothoot', 'Chikorita', 'Lanturn', 'Flaaffy', 'Unown', 'Teddiursa', 'Phanpy'), ('Loudred', 'Volbeat', 'Wailord', 'Seviper', 'Sealeo')]"
   ]
  },
  {
   "cell_type": "markdown",
   "metadata": {},
   "source": [
    "<details><summary>Click here for a solution</summary>\n",
    "<div class=\"alert alert-block alert-success\" style=\"margin-top: 20px\">\n",
    "<font color=black>\n",
    "    \n",
    "```python\n",
    "t_check = []\n",
    "for tup in lst_tups:\n",
    "    t_check.append(tup[2])  \n",
    "```\n",
    "\n",
    "</details>"
   ]
  },
  {
   "cell_type": "markdown",
   "metadata": {},
   "source": [
    "<div class=\"alert alert-block alert-warning\" style=\"margin-top: 20px\">\n",
    "<font color=black>\n",
    "    \n",
    "5. Below, we have provided a list of tuples. Write a for loop that saves the second element of each tuple into a list called <font color=red>seconds</font>."
   ]
  },
  {
   "cell_type": "code",
   "execution_count": null,
   "metadata": {},
   "outputs": [],
   "source": [
    "tups = [('a', 'b', 'c'), (8, 7, 6, 5), ('blue', 'green', 'yellow', 'orange', 'red'), (5.6, 9.99, 2.5, 8.2), ('squirrel', 'chipmunk')]"
   ]
  },
  {
   "cell_type": "markdown",
   "metadata": {},
   "source": [
    "<details><summary>Click here for a solution</summary>\n",
    "<div class=\"alert alert-block alert-success\" style=\"margin-top: 20px\">\n",
    "<font color=black>\n",
    "    \n",
    "```python\n",
    "seconds = []\n",
    "for tup in tups:\n",
    "    seconds.append(tup[1])  \n",
    "```\n",
    "\n",
    "</details>"
   ]
  },
  {
   "cell_type": "markdown",
   "metadata": {},
   "source": [
    "<a id='13.3'></a>\n",
    "## 13.3. Tuple Assignment with Unpacking\n",
    "[Back to top](#Top)\n",
    "\n",
    "Python has a very powerful __tuple assignment__ feature that allows a tuple of variable names on the left of an assignment statement to be assigned values from a tuple on the right of the assignment. Another way to think of this is that the tuple of values is __unpacked__ into the variable names."
   ]
  },
  {
   "cell_type": "code",
   "execution_count": null,
   "metadata": {},
   "outputs": [],
   "source": [
    "julia = \"Julia\", \"Roberts\", 1967, \"Duplicity\", 2009, \"Actress\", \"Atlanta, Georgia\"\n",
    "\n",
    "name, surname, birth_year, movie, movie_year, profession, birth_place = julia"
   ]
  },
  {
   "cell_type": "markdown",
   "metadata": {},
   "source": [
    "This does the equivalent of seven assignment statements, all on one easy line.\n",
    "\n",
    "Naturally, the number of variables on the left and the number of values on the right have to be the same."
   ]
  },
  {
   "cell_type": "code",
   "execution_count": null,
   "metadata": {},
   "outputs": [],
   "source": [
    "(a, b, c, d) = (1, 2, 3) # ValueError: need more than 3 values to unpack"
   ]
  },
  {
   "cell_type": "markdown",
   "metadata": {},
   "source": [
    "<div class=\"alert alert-block alert-info\" style=\"margin-top: 20px\">\n",
    "    <font color=black><b>Note</b><br>\n",
    "Unpacking into multiple variable names also works with lists, or any other sequence type, as long as there is exactly one value for each variable. For example, you can write <font color=red>x, y = [3, 4]</font>.</div>\n",
    "\n",
    "<a id='13.3.1'></a>\n",
    "### 13.3.1. Swapping Values between Variables\n",
    "[Back to top](#Top)\n",
    "    \n",
    "This feature is used to enable swapping the values of two variables. With conventional assignment statements, we have to use a temporary variable. For example, to swap <font color=red>a</font> and <font color=red>b</font>:"
   ]
  },
  {
   "cell_type": "code",
   "execution_count": null,
   "metadata": {},
   "outputs": [],
   "source": [
    "a = 1\n",
    "b = 2\n",
    "temp = a\n",
    "a = b\n",
    "b = temp\n",
    "print(a, b, temp)"
   ]
  },
  {
   "cell_type": "markdown",
   "metadata": {},
   "source": [
    "Tuple assignment solves this problem neatly:"
   ]
  },
  {
   "cell_type": "code",
   "execution_count": null,
   "metadata": {},
   "outputs": [],
   "source": [
    "a = 1\n",
    "b = 2\n",
    "(a, b) = (b, a)\n",
    "print(a, b)"
   ]
  },
  {
   "cell_type": "markdown",
   "metadata": {},
   "source": [
    "The left side is a tuple of variables; the right side is a tuple of values. Each value is assigned to its respective variable. All the expressions on the right side are evaluated before any of the assignments. This feature makes tuple assignment quite versatile.\n",
    "\n",
    "<a id='13.3.2'></a>\n",
    "### 13.3.2. Unpacking Into Iterator Variables\n",
    "[Back to top](#Top)\n",
    "\n",
    "Multiple assignment with unpacking is particularly useful when you iterate through a list of tuples. You can unpack each tuple into several loop variables. For example:"
   ]
  },
  {
   "cell_type": "code",
   "execution_count": null,
   "metadata": {},
   "outputs": [],
   "source": [
    "authors = [('Paul', 'Resnick'), ('Brad', 'Miller'), ('Lauren', 'Murphy')]\n",
    "for first_name, last_name in authors:\n",
    "    print(\"first name:\", first_name, \"last name:\", last_name)"
   ]
  },
  {
   "cell_type": "markdown",
   "metadata": {},
   "source": [
    "On the first iteration the tuple <font color=red>('Paul', 'Resnick')</font> is unpacked into the two variables <font color=red>first_name</font> and <font color=red>last_name</font>. One the second iteration, the next tuple is unpacked into those same loop variables.\n",
    "\n",
    "<a id='13.3.3'></a>\n",
    "### 13.3.3. The Pythonic Way to Enumerate Items in a Sequence\n",
    "[Back to top](#Top)\n",
    "\n",
    "When we first introduced the for loop, we provided an example of how to iterate through the indexes of a sequence, and thus enumerate the items and their positions in the sequence."
   ]
  },
  {
   "cell_type": "code",
   "execution_count": null,
   "metadata": {},
   "outputs": [],
   "source": [
    "fruits = ['apple', 'pear', 'apricot', 'cherry', 'peach']\n",
    "for n in range(len(fruits)):\n",
    "    print(n, fruits[n])"
   ]
  },
  {
   "cell_type": "markdown",
   "metadata": {},
   "source": [
    "We are now prepared to understand a more pythonic approach to enumerating items in a sequence. Python provides a built-in function <font color=red>enumerate</font>. It takes a sequence as input and returns a sequence of tuples. In each tuple, the first element is an integer and the second is an item from the original sequence. (It actually produces an “iterable” rather than a list, but we can use it in a for loop as the sequence to iterate over.)"
   ]
  },
  {
   "cell_type": "code",
   "execution_count": null,
   "metadata": {},
   "outputs": [],
   "source": [
    "fruits = ['apple', 'pear', 'apricot', 'cherry', 'peach']\n",
    "for item in enumerate(fruits):\n",
    "    print(item[0], item[1])"
   ]
  },
  {
   "cell_type": "markdown",
   "metadata": {},
   "source": [
    "The pythonic way to consume the results of enumerate, however, is to unpack the tuples while iterating through them, so that the code is easier to understand."
   ]
  },
  {
   "cell_type": "code",
   "execution_count": null,
   "metadata": {},
   "outputs": [],
   "source": [
    "fruits = ['apple', 'pear', 'apricot', 'cherry', 'peach']\n",
    "for idx, fruit in enumerate(fruits):\n",
    "    print(idx, fruit)"
   ]
  },
  {
   "cell_type": "markdown",
   "metadata": {},
   "source": [
    "#### Check your understanding\n",
    "<div class=\"alert alert-block alert-warning\" style=\"margin-top: 20px\">\n",
    "<font color=black>\n",
    "1. Consider the following alternative way to swap the values of variables x and y. What’s wrong with it?"
   ]
  },
  {
   "cell_type": "code",
   "execution_count": null,
   "metadata": {},
   "outputs": [],
   "source": [
    "# assume x and y already have values assigned to them\n",
    "y = x\n",
    "x = y"
   ]
  },
  {
   "cell_type": "markdown",
   "metadata": {},
   "source": [
    "<div class=\"alert alert-block alert-warning\" style=\"margin-top: 20px\">\n",
    "<font color=black>\n",
    "\n",
    "A. You can't use different variable names on the left and right side of an assignment statement.  \n",
    "B. At the end, x still has it's original value instead of y's original value.  \n",
    "C. Actually, it works just fine!"
   ]
  },
  {
   "cell_type": "markdown",
   "metadata": {},
   "source": [
    "<details><summary>Click here for the solution</summary>\n",
    "\n",
    "<font color=red>► </font>B. At the end, x still has it's original value instead of y's original value.  \n",
    "\n",
    "<div class=\"alert alert-block alert-success\" style=\"margin-top: 20px\">\n",
    "<font color=black>✔️ Once you assign x's value to y, y's original value is gone.\n",
    "\n",
    "</details>"
   ]
  },
  {
   "cell_type": "markdown",
   "metadata": {},
   "source": [
    "<div class=\"alert alert-block alert-warning\" style=\"margin-top: 20px\">\n",
    "<font color=black>\n",
    "\n",
    "2. With only one line of code, assign the variables <font color=red>water</font>, <font color=red>fire</font>, <font color=red>electric</font>, and <font color=red>grass</font> to the values “Squirtle”, “Charmander”, “Pikachu”, and “Bulbasaur”"
   ]
  },
  {
   "cell_type": "markdown",
   "metadata": {},
   "source": [
    "<details><summary>Click here for a solution</summary>\n",
    "<div class=\"alert alert-block alert-success\" style=\"margin-top: 20px\">\n",
    "<font color=black>\n",
    "    \n",
    "```python\n",
    "water, fire, electric, grass = \"Squirtle\", \"Charmander\", \"Pikachu\", \"Bulbasaur\"\n",
    "```\n",
    "\n",
    "</details>"
   ]
  },
  {
   "cell_type": "markdown",
   "metadata": {},
   "source": [
    "<div class=\"alert alert-block alert-warning\" style=\"margin-top: 20px\">\n",
    "<font color=black>\n",
    "3. With only one line of code, assign four variables, <font color=red>v1</font>, <font color=red>v2</font>, <font color=red>v3</font>, and <font color=red>v4</font>, to the following four values: 1, 2, 3, 4."
   ]
  },
  {
   "cell_type": "markdown",
   "metadata": {},
   "source": [
    "<details><summary>Click here for a solution</summary>\n",
    "<div class=\"alert alert-block alert-success\" style=\"margin-top: 20px\">\n",
    "<font color=black>\n",
    "    \n",
    "```python\n",
    "v1, v2, v3, v4 = 1, 2, 3, 4\n",
    "```\n",
    "\n",
    "</details>"
   ]
  },
  {
   "cell_type": "markdown",
   "metadata": {},
   "source": [
    "<div class=\"alert alert-block alert-warning\" style=\"margin-top: 20px\">\n",
    "<font color=black>\n",
    "\n",
    "4. If you remember, the .items() dictionary method produces a sequence of tuples. Keeping this in mind, we have provided you a dictionary called <font color=red>pokemon</font>. For every key value pair, append the key to the list <font color=red>p_names</font>, and append the value to the list <font color=red>p_number</font>. Do not use the .keys() or .values() methods."
   ]
  },
  {
   "cell_type": "code",
   "execution_count": null,
   "metadata": {},
   "outputs": [],
   "source": [
    "pokemon = {'Rattata': 19, 'Machop': 66, 'Seel': 86, 'Volbeat': 86, 'Solrock': 126}"
   ]
  },
  {
   "cell_type": "markdown",
   "metadata": {},
   "source": [
    "<details><summary>Click here for a solution</summary>\n",
    "<div class=\"alert alert-block alert-success\" style=\"margin-top: 20px\">\n",
    "<font color=black>\n",
    "    \n",
    "```python\n",
    "p_names = []\n",
    "p_number = []\n",
    "tup_lst = pokemon.items()\n",
    "for tup in tup_lst:\n",
    "    p_names.append(tup[0])\n",
    "    p_number.append(tup[1])  \n",
    "```\n",
    "\n",
    "</details>"
   ]
  },
  {
   "cell_type": "markdown",
   "metadata": {},
   "source": [
    "<div class=\"alert alert-block alert-warning\" style=\"margin-top: 20px\">\n",
    "<font color=black>\n",
    "\n",
    "5. The .items() method produces a sequence of key-value pair tuples. With this in mind, write code to create a list of keys from the dictionary <font color=red>track_medal_counts</font> and assign the list to the variable name <font color=red>track_events</font>. Do __NOT__ use the .keys() method."
   ]
  },
  {
   "cell_type": "code",
   "execution_count": null,
   "metadata": {},
   "outputs": [],
   "source": [
    "track_medal_counts = {'shot put': 1, 'long jump': 3, '100 meters': 2, '400 meters': 2, \n",
    "                      '100 meter hurdles': 3, 'triple jump': 3, 'steeplechase': 2, \n",
    "                      '1500 meters': 1, '5K': 0, '10K': 0, 'marathon': 0, '200 meters': 0, \n",
    "                      '400 meter hurdles': 0,'high jump': 1}"
   ]
  },
  {
   "cell_type": "markdown",
   "metadata": {},
   "source": [
    "<details><summary>Click here for a solution</summary>\n",
    "<div class=\"alert alert-block alert-success\" style=\"margin-top: 20px\">\n",
    "<font color=black>\n",
    "    \n",
    "```python\n",
    "track_events = []\n",
    "tup_lst = track_medal_counts.items()\n",
    "for tup in tup_lst:\n",
    "    track_events.append(tup[0])\n",
    "```\n",
    "\n",
    "</details>"
   ]
  },
  {
   "cell_type": "markdown",
   "metadata": {},
   "source": [
    "<a id='13.4'></a>\n",
    "## 13.4. Tuples as Return Values\n",
    "[Back to top](#Top)\n",
    "\n",
    "Functions can return tuples as return values. This is very useful — we often want to know some batsman’s highest and lowest score, or we want to find the mean and the standard deviation, or we want to know the year, the month, and the day, or if we’re doing some ecological modeling we may want to know the number of rabbits and the number of wolves on an island at a given time. In each case, a function (which can only return a single value), can create a single tuple holding multiple elements.\n",
    "\n",
    "For example, we could write a function that returns both the area and the circumference of a circle of radius r."
   ]
  },
  {
   "cell_type": "code",
   "execution_count": null,
   "metadata": {},
   "outputs": [],
   "source": [
    "def circleInfo(r):\n",
    "    \"\"\" Return (circumference, area) of a circle of radius r \"\"\"\n",
    "    c = 2 * 3.14159 * r\n",
    "    a = 3.14159 * r * r\n",
    "    return (c, a)\n",
    "\n",
    "print(circleInfo(10))"
   ]
  },
  {
   "cell_type": "markdown",
   "metadata": {},
   "source": [
    "Again, we can take advantage of packing to make the code look a little more readable on line 4."
   ]
  },
  {
   "cell_type": "code",
   "execution_count": null,
   "metadata": {},
   "outputs": [],
   "source": [
    "def circleInfo(r):\n",
    "    \"\"\" Return (circumference, area) of a circle of radius r \"\"\"\n",
    "    c = 2 * 3.14159 * r\n",
    "    a = 3.14159 * r * r\n",
    "    return c, a\n",
    "\n",
    "print(circleInfo(10))"
   ]
  },
  {
   "cell_type": "markdown",
   "metadata": {},
   "source": [
    "It’s common to unpack the returned values into multiple variables."
   ]
  },
  {
   "cell_type": "code",
   "execution_count": null,
   "metadata": {},
   "outputs": [],
   "source": [
    "def circleInfo(r):\n",
    "    \"\"\" Return (circumference, area) of a circle of radius r \"\"\"\n",
    "    c = 2 * 3.14159 * r\n",
    "    a = 3.14159 * r * r\n",
    "    return c, a\n",
    "\n",
    "print(circleInfo(10))\n",
    "\n",
    "circumference, area = circleInfo(10)\n",
    "print(circumference)\n",
    "print(area)\n",
    "\n",
    "circumference_two, area_two = circleInfo(45)\n",
    "print(circumference_two)\n",
    "print(area_two)"
   ]
  },
  {
   "cell_type": "markdown",
   "metadata": {},
   "source": [
    "#### Check your understanding\n",
    "<div class=\"alert alert-block alert-warning\" style=\"margin-top: 20px\">\n",
    "<font color=black>\n",
    "\n",
    "1. If you want a function to return two values, contained in variables x and y, which of the following methods will work?\n",
    "\n",
    "  A. Make the last two lines of the function be \"return x\" and \"return y\"  \n",
    "  B. Include the statement \"return [x, y]\"  \n",
    "  C. Include the statement \"return (x, y)\"  \n",
    "  D. Include the statement \"return x, y\"  \n",
    "  E. It's not possible to return two values; make two functions that each compute one value."
   ]
  },
  {
   "cell_type": "markdown",
   "metadata": {},
   "source": [
    "<details><summary>Click here for the solution</summary>\n",
    "\n",
    "<font color=red>► </font>B. Include the statement \"return [x, y]\"  \n",
    "<font color=red>► </font>C. Include the statement \"return (x, y)\"  \n",
    "<font color=red>► </font>D. Include the statement \"return x, y\"\n",
    "\n",
    "<div class=\"alert alert-block alert-success\" style=\"margin-top: 20px\">\n",
    "<font color=black>✔️ Correct.<br>\n",
    "B. return [x,y] is not the preferred method because it returns x and y in a mutable list rather than a tuple which is more efficient. But it is workable.<br>\n",
    "C. return (x, y) returns a tuple.<br>\n",
    "D. return x, y causes the two values to be packed into a tuple.\n",
    "\n",
    "</details>"
   ]
  },
  {
   "cell_type": "markdown",
   "metadata": {},
   "source": [
    "<div class=\"alert alert-block alert-warning\" style=\"margin-top: 20px\">\n",
    "<font color=black>\n",
    "\n",
    "2. Define a function called <font color=red>information</font> that takes as input, the variables <font color=red>name</font>, <font color=red>birth_year</font>, <font color=red>fav_color</font>, and <font color=red>hometown</font>. It should return a tuple of these variables in this order."
   ]
  },
  {
   "cell_type": "markdown",
   "metadata": {},
   "source": [
    "<details><summary>Click here for a solution</summary>\n",
    "<div class=\"alert alert-block alert-success\" style=\"margin-top: 20px\">\n",
    "<font color=black>\n",
    "    \n",
    "```python\n",
    "def information(name, birth_year, fav_color, hometown):\n",
    "    return name, birth_year, fav_color, hometown\n",
    "```\n",
    "\n",
    "</details>"
   ]
  },
  {
   "cell_type": "markdown",
   "metadata": {},
   "source": [
    "<div class=\"alert alert-block alert-warning\" style=\"margin-top: 20px\">\n",
    "<font color=black>\n",
    "\n",
    "3. Define a function called <font color=red>info</font> with the following required parameters: <font color=red>name</font>, <font color=red>age</font>, <font color=red>birth_year</font>, <font color=red>year_in_college</font>, and <font color=red>hometown</font>. The function should return a tuple that contains all the inputted information."
   ]
  },
  {
   "cell_type": "code",
   "execution_count": null,
   "metadata": {},
   "outputs": [],
   "source": [
    "def info():"
   ]
  },
  {
   "cell_type": "markdown",
   "metadata": {},
   "source": [
    "<details><summary>Click here for a solution</summary>\n",
    "<div class=\"alert alert-block alert-success\" style=\"margin-top: 20px\">\n",
    "<font color=black>\n",
    "    \n",
    "```python\n",
    "def info(name, age, birth_year, year_in_college, hometown):\n",
    "    return name, age, birth_year, year_in_college, hometown\n",
    "```\n",
    "\n",
    "</details>"
   ]
  },
  {
   "cell_type": "markdown",
   "metadata": {},
   "source": [
    "<a id='13.5'></a>\n",
    "## 13.5. Unpacking Tuples as Arguments to Function Calls\n",
    "[Back to top](#Top)\n",
    "\n",
    "Python even provides a way to pass a single tuple to a function and have it be unpacked for assignment to the named parameters."
   ]
  },
  {
   "cell_type": "code",
   "execution_count": null,
   "metadata": {},
   "outputs": [],
   "source": [
    "def add(x, y):\n",
    "    return x + y\n",
    "\n",
    "print(add(3, 4))\n",
    "z = (5, 4)\n",
    "print(add(z)) # this line causes an error"
   ]
  },
  {
   "cell_type": "markdown",
   "metadata": {},
   "source": [
    "This won’t quite work. It will cause an error, because the function add is expecting two parameters, but you’re only passing one parameter (a tuple). If only there was a way to tell python to unpack that tuple and use the first element to assign to x and the second to y.\n",
    "\n",
    "Actually, there is a way."
   ]
  },
  {
   "cell_type": "code",
   "execution_count": null,
   "metadata": {},
   "outputs": [],
   "source": [
    "def add(x, y):\n",
    "    return x + y\n",
    "\n",
    "print(add(3, 4))\n",
    "z = (5, 4)\n",
    "print(add(*z)) # this line will cause the values to be unpacked"
   ]
  },
  {
   "cell_type": "markdown",
   "metadata": {},
   "source": [
    "Don’t worry about mastering this idea yet. But later in the course, if you come across some code that someone else has written that uses the * notation inside a parameter list, come back and look at this again.\n",
    "\n",
    "<a id='13.6'></a>\n",
    "## 13.6. Glossary\n",
    "[Back to top](#Top)\n",
    "\n",
    "__tuple__<br>\n",
    "A type of sequence, much like a list but immutable. A tuple is created by enclosing one or more values in parentheses, separated by commas.\n",
    "\n",
    "__packing__<br>\n",
    "When multiple values are specified, separated by commas, they are packed into a tuple.\n",
    "\n",
    "__unpacking__<br>\n",
    "When a tuple is assigned to a collection of variable names separated by commas, the tuple is unpacked and the separate values are assigned to each of the variables.\n",
    "\n",
    "__pair__<br>\n",
    "A tuple with exactly two items.\n",
    "\n",
    "<a id='13.7'></a>\n",
    "## 13.7. Exercises\n",
    "[Back to top](#Top)\n",
    "\n",
    "<div class=\"alert alert-block alert-warning\" style=\"margin-top: 20px\">\n",
    "<font color=black>\n",
    "1. Fill in the left side of line 7 so that the following code runs without error"
   ]
  },
  {
   "cell_type": "code",
   "execution_count": null,
   "metadata": {},
   "outputs": [],
   "source": [
    "def circleInfo(r):\n",
    "    \"\"\" Return (circumference, area) of a circle of radius r \"\"\"\n",
    "    c = 2 * 3.14159 * r\n",
    "    a = 3.14159 * r * r\n",
    "    return c, a\n",
    "\n",
    " = circleInfo(10)\n",
    "print(\"area is \" + str(area))\n",
    "print(\"circumference is \" + str(circ))"
   ]
  },
  {
   "cell_type": "markdown",
   "metadata": {},
   "source": [
    "<details><summary>Click here for a solution</summary>\n",
    "<div class=\"alert alert-block alert-success\" style=\"margin-top: 20px\">\n",
    "<font color=black>\n",
    "    \n",
    "```python\n",
    "def circleInfo(r):\n",
    "    \"\"\" Return (circumference, area) of a circle of radius r \"\"\"\n",
    "    c = 2 * 3.14159 * r\n",
    "    a = 3.14159 * r * r\n",
    "    return c, a\n",
    "\n",
    "area, circ = circleInfo(10)\n",
    "print(\"area is \" + str(area))\n",
    "print(\"circumference is \" + str(circ))\n",
    "```\n",
    "\n",
    "</details>"
   ]
  },
  {
   "cell_type": "markdown",
   "metadata": {},
   "source": [
    "<div class=\"alert alert-block alert-warning\" style=\"margin-top: 20px\">\n",
    "<font color=black>\n",
    "\n",
    "2. Use a for loop to print out the last name, year of birth, and city for each of the people. (There are multiple ways you could do this. Try out some code and see what happens!)"
   ]
  },
  {
   "cell_type": "code",
   "execution_count": null,
   "metadata": {},
   "outputs": [],
   "source": [
    "julia = (\"Julia\", \"Roberts\", 1967, \"Duplicity\", 2009, \"Actress\", \"Atlanta, Georgia\")\n",
    "claude = (\"Claude\", \"Shannon\", 1916, \"A Mathematical Theory of Communication\", 1948, \n",
    "          \"Mathematician\", \"Petoskey, Michigan\")\n",
    "alan = (\"Alan\", \"Turing\", 1912, \"Computing machinery and intelligence\", 1950, \n",
    "        \"Mathematician\", \"London, England\")\n",
    "\n",
    "people = [julia, claude, alan]"
   ]
  },
  {
   "cell_type": "markdown",
   "metadata": {},
   "source": [
    "<details><summary>Click here for a solution</summary>\n",
    "<div class=\"alert alert-block alert-success\" style=\"margin-top: 20px\">\n",
    "<font color=black>\n",
    "    \n",
    "```python\n",
    "for entry in people:\n",
    "    print(\"Last name: {}, Year of birth: {}, City: {}\".format(entry[1], entry[2], entry[-1]))\n",
    "```\n",
    "\n",
    "</details>"
   ]
  },
  {
   "cell_type": "markdown",
   "metadata": {},
   "source": [
    "<a id='13.8'></a>\n",
    "## 13.8. Chapter Assessment\n",
    "[Back to top](#Top)\n",
    "\n",
    "<div class=\"alert alert-block alert-warning\" style=\"margin-top: 20px\">\n",
    "<font color=black>\n",
    "1. Create a tuple called <font color=red>olympics</font> with four elements: “Beijing”, “London”, “Rio”, “Tokyo”."
   ]
  },
  {
   "cell_type": "markdown",
   "metadata": {},
   "source": [
    "<details><summary>Click here for a solution</summary>\n",
    "<div class=\"alert alert-block alert-success\" style=\"margin-top: 20px\">\n",
    "<font color=black>\n",
    "    \n",
    "```python\n",
    "olympics = \"Beijing\", \"London\", \"Rio\", \"Tokyo\"\n",
    "```\n",
    "\n",
    "</details>"
   ]
  },
  {
   "cell_type": "markdown",
   "metadata": {},
   "source": [
    "<div class=\"alert alert-block alert-warning\" style=\"margin-top: 20px\">\n",
    "<font color=black>\n",
    "\n",
    "2. The list below, <font color=red>tuples_lst</font>, is a list of tuples. Create a list of the second elements of each tuple and assign this list to the variable <font color=red>country</font>."
   ]
  },
  {
   "cell_type": "code",
   "execution_count": null,
   "metadata": {},
   "outputs": [],
   "source": [
    "tuples_lst = [('Beijing', 'China', 2008), ('London', 'England', 2012), \n",
    "              ('Rio', 'Brazil', 2016, 'Current'), ('Tokyo', 'Japan', 2020, 'Future')]"
   ]
  },
  {
   "cell_type": "markdown",
   "metadata": {},
   "source": [
    "<details><summary>Click here for a solution</summary>\n",
    "<div class=\"alert alert-block alert-success\" style=\"margin-top: 20px\">\n",
    "<font color=black>\n",
    "    \n",
    "```python\n",
    "country = []\n",
    "for tup in tuples_lst:\n",
    "    country.append(tup[1])\n",
    "```\n",
    "\n",
    "</details>"
   ]
  },
  {
   "cell_type": "markdown",
   "metadata": {},
   "source": [
    "<div class=\"alert alert-block alert-warning\" style=\"margin-top: 20px\">\n",
    "<font color=black>\n",
    "3. With only one line of code, assign the variables <font color=red>city</font>, <font color=red>country</font>, and <font color=red>year</font> to the values of the tuple <font color=red>olymp</font>."
   ]
  },
  {
   "cell_type": "code",
   "execution_count": null,
   "metadata": {},
   "outputs": [],
   "source": [
    "olymp = ('Rio', 'Brazil', 2016)"
   ]
  },
  {
   "cell_type": "markdown",
   "metadata": {},
   "source": [
    "<details><summary>Click here for a solution</summary>\n",
    "<div class=\"alert alert-block alert-success\" style=\"margin-top: 20px\">\n",
    "<font color=black>\n",
    "    \n",
    "```python\n",
    "city, country, year = olymp\n",
    "```\n",
    "\n",
    "</details>"
   ]
  },
  {
   "cell_type": "markdown",
   "metadata": {},
   "source": [
    "<div class=\"alert alert-block alert-warning\" style=\"margin-top: 20px\">\n",
    "<font color=black>\n",
    "\n",
    "4. Define a function called <font color=red>info</font> with five parameters: name, gender, age, bday_month, and hometown. The function should then return a tuple with all five parameters in that order."
   ]
  },
  {
   "cell_type": "markdown",
   "metadata": {},
   "source": [
    "<details><summary>Click here for a solution</summary>\n",
    "<div class=\"alert alert-block alert-success\" style=\"margin-top: 20px\">\n",
    "<font color=black>\n",
    "    \n",
    "```python\n",
    "def info(name, gender, age, bday_month, hometown):\n",
    "    return name, gender, age, bday_month, hometown\n",
    "```\n",
    "\n",
    "</details>"
   ]
  },
  {
   "cell_type": "markdown",
   "metadata": {},
   "source": [
    "<div class=\"alert alert-block alert-warning\" style=\"margin-top: 20px\">\n",
    "<font color=black>\n",
    "\n",
    "5. Given is the dictionary, <font color=red>gold</font>, which shows the country and the number of gold medals they have earned so far in the 2016 Olympics. Create a list, <font color=red>num_medals</font>, that contains only the number of medals for each country. You must use the .items() method. Note: The .items() method provides a list of tuples. Do not use .keys() method."
   ]
  },
  {
   "cell_type": "code",
   "execution_count": null,
   "metadata": {},
   "outputs": [],
   "source": [
    "gold = {'USA':31, 'Great Britain':19, 'China':19, 'Germany':13, 'Russia':12, \n",
    "        'Japan':10, 'France':8, 'Italy':8}"
   ]
  },
  {
   "cell_type": "markdown",
   "metadata": {},
   "source": [
    "<details><summary>Click here for a solution</summary>\n",
    "<div class=\"alert alert-block alert-success\" style=\"margin-top: 20px\">\n",
    "<font color=black>\n",
    "    \n",
    "```python\n",
    "num_medals = []\n",
    "for country, medals in gold.items():\n",
    "    num_medals.append(medals)\n",
    "```\n",
    "\n",
    "</details>"
   ]
  }
 ],
 "metadata": {
  "kernelspec": {
   "display_name": "Python 3",
   "language": "python",
   "name": "python3"
  },
  "language_info": {
   "codemirror_mode": {
    "name": "ipython",
    "version": 3
   },
   "file_extension": ".py",
   "mimetype": "text/x-python",
   "name": "python",
   "nbconvert_exporter": "python",
   "pygments_lexer": "ipython3",
   "version": "3.8.5"
  }
 },
 "nbformat": 4,
 "nbformat_minor": 4
}
