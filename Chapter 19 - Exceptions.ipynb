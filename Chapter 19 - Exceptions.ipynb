{
 "cells": [
  {
   "cell_type": "markdown",
   "metadata": {},
   "source": [
    "<a id='Top'></a>\n",
    "# 19. Exceptions\n",
    "<div class=\"alert alert-block alert-danger\" style=\"margin-top: 20px\">\n",
    "<font color=black>\n",
    "\n",
    "- 19.1. [What is an exception?](#19.1)  \n",
    "- 19.2. [Exception Handling Flow-of-control](#19.2)\n",
    "  - 19.2.1. [Raising and Catching Errors](#19.2.1)\n",
    "- 19.3. 👩‍💻 [When to use try/except](#19.3)\n",
    "- 19.4. [Standard Exceptions](#19.4)\n",
    "- 19.5. [Exercises](#19.5)\n",
    "- 19.6. [Chapter Assessment](#19.6)</div>\n",
    "\n",
    "<a id='19.1'></a>\n",
    "## 19.1. What is an exception?\n",
    "An exception is a signal that a condition has occurred that can’t be easily handled using the normal flow-of-control of a Python program. Exceptions are often defined as being “errors” but this is not always the case. All errors in Python are dealt with using exceptions, but not all exceptions are errors.\n",
    "\n",
    "<a id='19.2'></a>\n",
    "## 19.2. Exception Handling Flow-of-control\n",
    "[Back to top](#Top)\n",
    "    \n",
    "To explain what an exception does, let’s review the normal “flow of control” in a Python program. In normal operation Python executes statements sequentially, one after the other. For three constructs, if-statements, loops and function invocations, this sequential execution is interrupted.\n",
    "\n",
    "  * For if-statements, only one of several statement blocks is executed and then flow-of-control jumps to the first statement after the if-statement.\n",
    "  * For loops, when the end of the loop is reached, flow-of-control jumps back to the start of the loop and a test is used to determine if the loop needs to execute again. If the loop is finished, flow-of-control jumps to the first statement after the loop.\n",
    "  * For function invocations, flow-of-control jumps to the first statement in the called function, the function is executed, and the flow-of-control jumps back to the next statement after the function call.\n",
    "\n",
    "Do you see the pattern? If the flow-of-control is not purely sequential, it always executes the first statement immediately following the altered flow-of-control. That is why we can say that Python flow-of-control is sequential. But there are cases where this sequential flow-of-control does not work well.\n",
    "\n",
    "Exceptions provide us with way way to have a non-sequential point where we can handle something out of the ordinary (exceptional).\n",
    "\n",
    "<a id='19.2.1'></a>\n",
    "## 19.2.1. Raising and Catching Errors\n",
    "[Back to top](#Top)\n",
    "    \n",
    "The try/except control structure provides a way to process a run-time error and continue on with program execution. Until now, any run-time error, such asking for the 8th item in a list with only 3 items, or dividing by 0, has caused the program execution to stop. In the browser ActiveCode windows, you get an error message in a box below. When you are executing python programs from the command-line, you also get an error message saying something about what went wrong and what line it occurred on. After the run-time error is encountered, the python interpreter does not try to execute the rest of the code. You have to make some change in your code and rerun the whole program.\n",
    "\n",
    "With try/except, you tell the python interpreter:\n",
    "\n",
    "  * __Try to execute a block of code, the “try” clause.__\n",
    "If the whole block of code executes without any run-time errors, just carry on with the rest of the program after the try/except statement.\n",
    "\n",
    "  * __If a run-time error does occur during execution of the block of code:__\n",
    "skip the rest of that block of code (but don’t exit the whole program)\n",
    "\n",
    "execute a block of code in the “except” clause\n",
    "\n",
    "then carry on with the rest of the program after the try/except statement"
   ]
  },
  {
   "cell_type": "code",
   "execution_count": null,
   "metadata": {},
   "outputs": [],
   "source": [
    "try:\n",
    "   <try clause code block>\n",
    "except <ErrorType>:\n",
    "   <exception handler code block>"
   ]
  },
  {
   "cell_type": "markdown",
   "metadata": {},
   "source": [
    "The syntax is fairly straightforward. The only tricky part is that after the word except, there can optionally be a specification of the kinds of errors that will be handled. The catchall is the class Exception. If you write <font color=red>except Exception:</font> all runtime errors will be handled. If you specify a more restricted class of errors, only those errors will be handled; any other kind of error will still cause the program to stop running and an error message to be printed.\n",
    "\n",
    "The code below causes an error of type IndexError, by trying to access the third element of a two-element list."
   ]
  },
  {
   "cell_type": "code",
   "execution_count": null,
   "metadata": {},
   "outputs": [],
   "source": [
    "items = ['a', 'b']\n",
    "third = items[2]"
   ]
  },
  {
   "cell_type": "markdown",
   "metadata": {},
   "source": [
    "The code below causes an error of type ZeroDivisionError, or less specifically ArithmeticError."
   ]
  },
  {
   "cell_type": "code",
   "execution_count": null,
   "metadata": {},
   "outputs": [],
   "source": [
    "x = 5\n",
    "y = x/0"
   ]
  },
  {
   "cell_type": "markdown",
   "metadata": {},
   "source": [
    "Let’s see what happens if we wrap some of this problematic code in a try/except statement. Note that <font color=red>this won't print</font> doesn’t print: when the error is encountered, the rest of the try block is skipped and the exception block is executed. When the except block is done, it continues on with the next line of code that’s outdented to the same level as the try: <font color=red>continuing</font> is printed."
   ]
  },
  {
   "cell_type": "code",
   "execution_count": null,
   "metadata": {},
   "outputs": [],
   "source": [
    "try:\n",
    "    items = ['a', 'b']\n",
    "    third = items[2]\n",
    "    print(\"This won't print\")\n",
    "except Exception:\n",
    "    print(\"got an error\")\n",
    "\n",
    "print(\"continuing\")"
   ]
  },
  {
   "cell_type": "markdown",
   "metadata": {},
   "source": [
    "If we catch only IndexEror, and we actually have a divide by zero error, the program does stop executing."
   ]
  },
  {
   "cell_type": "code",
   "execution_count": null,
   "metadata": {},
   "outputs": [],
   "source": [
    "try:\n",
    "    items = ['a', 'b']\n",
    "    third = items[2]\n",
    "    print(\"This won't print\")\n",
    "except IndexError:\n",
    "    print(\"error 1\")\n",
    "\n",
    "print(\"continuing\")\n",
    "\n",
    "try:\n",
    "    x = 5\n",
    "    y = x/0\n",
    "    print(\"This won't print, either\")\n",
    "except IndexError:\n",
    "    print(\"error 2\")\n",
    "\n",
    "\n",
    "print(\"continuing again\")"
   ]
  },
  {
   "cell_type": "markdown",
   "metadata": {},
   "source": [
    "There’s one other useful feature. The exception code can access a variable that contains information about exactly what the error was. Thus, for example, in the except clause you could print out the information that would normally be printed as an error message but continue on with execution of the rest of the program. To do that, you specify a variable name after the exception class that’s being handled. The exception clause code can refer to that variable name."
   ]
  },
  {
   "cell_type": "code",
   "execution_count": null,
   "metadata": {},
   "outputs": [],
   "source": [
    "try:\n",
    "    items = ['a', 'b']\n",
    "    third = items[2]\n",
    "    print(\"This won't print\")\n",
    "except Exception as e:\n",
    "    print(\"got an error\")\n",
    "    print(e)\n",
    "\n",
    "print(\"continuing\")"
   ]
  },
  {
   "cell_type": "markdown",
   "metadata": {},
   "source": [
    "### Check your understanding\n",
    "<div class=\"alert alert-block alert-warning\" style=\"margin-top: 20px\">\n",
    "<font color=black>\n",
    "    \n",
    "1. Which type of error can be noticed and handled using try/except?<br>\n",
    "   \n",
    "  A. syntax  \n",
    "  B. run-time    \n",
    "  C. semantic\n",
    "</div>"
   ]
  },
  {
   "cell_type": "markdown",
   "metadata": {},
   "source": [
    "<details><summary>Click here for the solution</summary>\n",
    "\n",
    "<font color=red>► </font>B. run-time\n",
    "\n",
    "<div class=\"alert alert-block alert-success\" style=\"margin-top: 20px\">\n",
    "<font color=black>✔️ Run-time errors like index out of bounds can be caught and handled gracefully with try/except.\n",
    "\n",
    "</details>"
   ]
  },
  {
   "cell_type": "markdown",
   "metadata": {},
   "source": [
    "<div class=\"alert alert-block alert-warning\" style=\"margin-top: 20px\">\n",
    "<font color=black>\n",
    "    \n",
    "2. When a run-time exception of type ZeroDivisionError occurs, and you have a statement <font color=red>except IndexError</font>, the program will stop executing completely.\n",
    "\n",
    "  A. True    \n",
    "  B. False"
   ]
  },
  {
   "cell_type": "markdown",
   "metadata": {},
   "source": [
    "<details><summary>Click here for the solution</summary>\n",
    "\n",
    "<font color=red>► </font>A. True\n",
    "\n",
    "<div class=\"alert alert-block alert-success\" style=\"margin-top: 20px\">\n",
    "<font color=black>✔️ If your code is only catching IndexError errors, then the exception will not be handled, and execution will terminate.\n",
    "\n",
    "</details>"
   ]
  },
  {
   "cell_type": "markdown",
   "metadata": {},
   "source": [
    "<div class=\"alert alert-block alert-warning\" style=\"margin-top: 20px\">\n",
    "<font color=black>\n",
    "    \n",
    "3. After a run-time exception is handled by an except clause, the rest of the code in the try clause will be executed.<br>\n",
    "\n",
    "  A. True  \n",
    "  B. False"
   ]
  },
  {
   "cell_type": "markdown",
   "metadata": {},
   "source": [
    "<details><summary>Click here for the solution</summary>\n",
    "\n",
    "<font color=red>► </font>B. False\n",
    "\n",
    "<div class=\"alert alert-block alert-success\" style=\"margin-top: 20px\">\n",
    "<font color=black>✔️ The rest of the code after the whole try/except statement will execute, but not the rest of the code in the try block.\n",
    "\n",
    "</details>"
   ]
  },
  {
   "cell_type": "markdown",
   "metadata": {},
   "source": [
    "<div class=\"alert alert-block alert-warning\" style=\"margin-top: 20px\">\n",
    "<font color=black>\n",
    "    \n",
    "4. How many lines will print out when the following code is executed?"
   ]
  },
  {
   "cell_type": "code",
   "execution_count": null,
   "metadata": {},
   "outputs": [],
   "source": [
    "try:\n",
    "    for i in range(5):\n",
    "        print(1.0 / (3-i))\n",
    "except Exception as error_inst:\n",
    "    print(\"Got an error\", error_inst)"
   ]
  },
  {
   "cell_type": "markdown",
   "metadata": {},
   "source": [
    "<div class=\"alert alert-block alert-warning\" style=\"margin-top: 20px\">\n",
    "<font color=black>\n",
    "    \n",
    "A. 0  \n",
    "B. 1  \n",
    "C. 3  \n",
    "D. 4    \n",
    "E. 5\n"
   ]
  },
  {
   "cell_type": "markdown",
   "metadata": {},
   "source": [
    "<details><summary>Click here for the solution</summary>\n",
    "\n",
    "<font color=red>► </font>D. 4\n",
    "\n",
    "<div class=\"alert alert-block alert-success\" style=\"margin-top: 20px\">\n",
    "<font color=black>✔️ It will print the fraction for three values of i, and then one error message.\n",
    "\n",
    "</details>"
   ]
  },
  {
   "cell_type": "markdown",
   "metadata": {},
   "source": [
    "<div class=\"alert alert-block alert-warning\" style=\"margin-top: 20px\">\n",
    "<font color=black>\n",
    "    \n",
    "5. Below, we have provided a list of tuples that consist of student names, final exam scores, and whether or not they will pass the class. For some students, the tuple does not have a third element because it is unknown whether or not they will pass. Currently, the for loop does not work. Add a try/except clause so the code runs without an error - if there is no third element in the tuple, no changes should be made to the dictionary."
   ]
  },
  {
   "cell_type": "code",
   "execution_count": null,
   "metadata": {},
   "outputs": [],
   "source": [
    "students = [('Timmy', 95, 'Will pass'), ('Martha', 70), ('Betty', 82, 'Will pass'), ('Stewart', 50, 'Will not pass'), ('Ashley', 68), ('Natalie', 99, 'Will pass'), ('Archie', 71), ('Carl', 45, 'Will not pass')]\n",
    "\n",
    "passing = {'Will pass': 0, 'Will not pass': 0}\n",
    "for tup in students:\n",
    "    if tup[2] == 'Will pass':\n",
    "        passing['Will pass'] += 1\n",
    "    elif tup[2] == 'Will not pass':\n",
    "        passing['Will not pass'] += 1"
   ]
  },
  {
   "cell_type": "markdown",
   "metadata": {},
   "source": [
    "<details><summary>Click here for a solution</summary>\n",
    "<div class=\"alert alert-block alert-success\" style=\"margin-top: 20px\">\n",
    "<font color=black>\n",
    "    \n",
    "```python\n",
    "passing = {'Will pass': 0, 'Will not pass': 0}\n",
    "for tup in students:\n",
    "    try:\n",
    "        if tup[2] == 'Will pass':\n",
    "            passing['Will pass'] += 1\n",
    "        elif tup[2] == 'Will not pass':\n",
    "            passing['Will not pass'] += 1\n",
    "    except:\n",
    "        continue\n",
    "```\n",
    "\n",
    "</details>"
   ]
  },
  {
   "cell_type": "markdown",
   "metadata": {},
   "source": [
    "<div class=\"alert alert-block alert-warning\" style=\"margin-top: 20px\">\n",
    "<font color=black>\n",
    " \n",
    "6. Below, we have provided code that does not run. Add a try/except clause so the code runs without errors. If an element is not able to undergo the addition operation, the string ‘Error’ should be appended to plus_four."
   ]
  },
  {
   "cell_type": "code",
   "execution_count": null,
   "metadata": {},
   "outputs": [],
   "source": [
    "nums = [5, 9, '4', 3, 2, 1, 6, 5, '7', 4, 3, 2, 6, 7, 8, '0', 3, 4, 0, 6, 5, '3', 5, 6, 7, 8, '3', '1', 5, 6, 7, 9, 3, 2, 5, 6, '9', 2, 3, 4, 5, 1]\n",
    "plus_four = []\n",
    "for num in nums:\n",
    "    plus_four.append(num+4)"
   ]
  },
  {
   "cell_type": "markdown",
   "metadata": {},
   "source": [
    "<details><summary>Click here for a solution</summary>\n",
    "<div class=\"alert alert-block alert-success\" style=\"margin-top: 20px\">\n",
    "<font color=black>\n",
    "    \n",
    "```python\n",
    "plus_four = []\n",
    "for num in nums:\n",
    "    try:\n",
    "        plus_four.append(num+4)\n",
    "    except:\n",
    "        plus_four.append('Error')\n",
    "```\n",
    "\n",
    "</details>"
   ]
  },
  {
   "cell_type": "markdown",
   "metadata": {},
   "source": [
    "<a id='19.3'></a>\n",
    "## 19.3. 👩‍💻 When to use try/except\n",
    "[Back to top](#Top)\n",
    "\n",
    "The reason to use try/except is when you have a code block to execute that will sometimes run correctly and sometimes not, depending on conditions you can’t foresee at the time you’re writing the code.\n",
    "\n",
    "For example, when you are running code that fetches data from a website, you may run the code when you don’t have a network connection or when the external website is temporarily not responding. If your program can still do something useful in those situations, you would like to handle the exception and have the rest of your code execute.\n",
    "\n",
    "As another example, suppose you have fetched some nested data from a website into a dictionary d. When you try to extract specific elements, some may be missing: d may not include a particular key, for example. If you anticipate a particular key potentially not being present, you could write an if..else check to take care of it."
   ]
  },
  {
   "cell_type": "code",
   "execution_count": null,
   "metadata": {},
   "outputs": [],
   "source": [
    "if somekey in d:\n",
    "    # it's there; extract the data\n",
    "    extract_data(d)\n",
    "else:\n",
    "    skip_this_one(d)"
   ]
  },
  {
   "cell_type": "markdown",
   "metadata": {},
   "source": [
    "However, if you’re extracting lots of different data, it can get tedious to check for all of them. You can wrap all the data extraction in a try/except."
   ]
  },
  {
   "cell_type": "code",
   "execution_count": null,
   "metadata": {},
   "outputs": [],
   "source": [
    "try:\n",
    "    extract_data(d)\n",
    "except:\n",
    "    skip_this_one(d)"
   ]
  },
  {
   "cell_type": "markdown",
   "metadata": {},
   "source": [
    "It’s considered poor practice to catch all exceptions this way. Instead, python provides a mechanism to specify just certain kinds of exceptions that you’ll catch (for example, just catching exceptions of type KeyError, which happens when a key is missing from a dictionary."
   ]
  },
  {
   "cell_type": "code",
   "execution_count": null,
   "metadata": {},
   "outputs": [],
   "source": [
    "try:\n",
    "    extract_data(d)\n",
    "except KeyError:\n",
    "    skip_this_one(d)"
   ]
  },
  {
   "cell_type": "markdown",
   "metadata": {},
   "source": [
    "We won’t go into more details of exception handling in this introductory course. Check out the official [<font color=blue>python tutorial section on error handling</font>](https://docs.python.org/3/tutorial/errors.html) if you’re interested.\n",
    "\n",
    "<a id='19.4'></a>\n",
    "## 19.4. Standard Exceptions\n",
    "[Back to top](#Top)\n",
    "\n",
    "Most of the standard exceptions built into Python are listed below. They are organized into related groups based on the types of issues they deal with.\n",
    " \n",
    "|Language Exceptions|Description|\n",
    "|:-:|:-:|\n",
    "|StandardError|Base class for all built-in exceptions except StopIteration and SystemExit.|\n",
    "|ImportError|Raised when an import statement fails.|\n",
    "|SyntaxError|Raised when there is an error in Python syntax.|\n",
    "|IndentationError|Raised when indentation is not specified properly.|\n",
    "|NameError|Raised when an identifier is not found in the local or global namespace.|\n",
    "|UnboundLocalError|Raised when trying to access a local variable in a function or method but no value has been assigned to it.|\n",
    "|TypeError|Raised when an operation or function is attempted that is invalid for the specified data type.|\n",
    "|LookupError|Base class for all lookup errors.|\n",
    "|IndexError|Raised when an index is not found in a sequence.|\n",
    "|KeyError|Raised when the specified key is not found in the dictionary.|\n",
    "|ValueError|Raised when the built-in function for a data type has the valid type of arguments, but the arguments have invalid values specified.|\n",
    "|RuntimeError|Raised when a generated error does not fall into any category.|\n",
    "|MemoryError|Raised when a operation runs out of memory.|\n",
    "|RecursionError|Raised when the maximum recursion depth has been exceeded.|\n",
    "|SystemError|Raised when the interpreter finds an internal problem, but when this error is encountered the Python interpreter does not exit.|\n",
    "\n",
    "|Math Exceptions|Description|\n",
    "|:-:|:-:|\n",
    "|ArithmeticError|Base class for all errors that occur for numeric calculation. You know a math error occurred, but you don’t know the specific error.|\n",
    "|OverflowError|Raised when a calculation exceeds maximum limit for a numeric type.|\n",
    "|FloatingPointError|Raised when a floating point calculation fails.|\n",
    "|ZeroDivisonError|Raised when division or modulo by zero takes place for all numeric types.|\n",
    "\n",
    "|I/O Exceptions|Description|\n",
    "|:-:|:-:|\n",
    "|FileNotFoundError|Raised when a file or directory is requested but doesn’t exist.|\n",
    "|IOError|Raised when an input/ output operation fails, such as the print statement or the open() function when trying to open a file that does not exist. Also raised for operating system-related errors.|\n",
    "|PermissionError|Raised when trying to run an operation without the adequate access rights.|\n",
    "|EOFError|Raised when there is no input from either the raw_input() or input() function and the end of file is reached.|\n",
    "|KeyboardInterrupt|Raised when the user interrupts program execution, usually by pressing Ctrl+c.|\n",
    "\n",
    "|Other Exceptions|Description|\n",
    "|:-:|:-:|\n",
    "|Exception|Base class for all exceptions. This catches most exception messages.|\n",
    "|StopIteration|Raised when the next() method of an iterator does not point to any object.|\n",
    "|AssertionError|Raised in case of failure of the Assert statement.|\n",
    "|SystemExit|Raised when Python interpreter is quit by using the sys.exit() function. If not handled in the code, it causes the interpreter to exit.|\n",
    "|OSError|Raises for operating system related errors.|\n",
    "|EnvironmentError|Base class for all exceptions that occur outside the Python environment.|\n",
    "|AttributeError|Raised in case of failure of an attribute reference or assignment.|\n",
    "|NotImplementedError|Raised when an abstract method that needs to be implemented in an inherited class is not actually implemented.|           \n",
    "                                 \n",
    "All exceptions are objects. The classes that define the objects are organized in a hierarchy, which is shown below. This is important because the parent class of a set of related exceptions will catch all exception messages for itself and its child exceptions. For example, an <font color=red>ArithmeticError</font> exception will catch itself and all <font color=red>FloatingPointError</font>, <font color=red>OverflowError</font>, and <font color=red>ZeroDivisionError</font> exceptions."
   ]
  },
  {
   "cell_type": "code",
   "execution_count": null,
   "metadata": {},
   "outputs": [],
   "source": [
    "BaseException\n",
    " +-- SystemExit\n",
    " +-- KeyboardInterrupt\n",
    " +-- GeneratorExit\n",
    " +-- Exception\n",
    "      +-- StopIteration\n",
    "      +-- StopAsyncIteration\n",
    "      +-- ArithmeticError\n",
    "      |    +-- FloatingPointError\n",
    "      |    +-- OverflowError\n",
    "      |    +-- ZeroDivisionError\n",
    "      +-- AssertionError\n",
    "      +-- AttributeError\n",
    "      +-- BufferError\n",
    "      +-- EOFError\n",
    "      +-- ImportError\n",
    "      +-- LookupError\n",
    "      |    +-- IndexError\n",
    "      |    +-- KeyError\n",
    "      +-- MemoryError\n",
    "      +-- NameError\n",
    "      |    +-- UnboundLocalError\n",
    "      +-- OSError\n",
    "      |    +-- BlockingIOError\n",
    "      |    +-- ChildProcessError\n",
    "      |    +-- ConnectionError\n",
    "      |    |    +-- BrokenPipeError\n",
    "      |    |    +-- ConnectionAbortedError\n",
    "      |    |    +-- ConnectionRefusedError\n",
    "      |    |    +-- ConnectionResetError\n",
    "      |    +-- FileExistsError\n",
    "      |    +-- FileNotFoundError\n",
    "      |    +-- InterruptedError\n",
    "      |    +-- IsADirectoryError\n",
    "      |    +-- NotADirectoryError\n",
    "      |    +-- PermissionError\n",
    "      |    +-- ProcessLookupError\n",
    "      |    +-- TimeoutError\n",
    "      +-- ReferenceError\n",
    "      +-- RuntimeError\n",
    "      |    +-- NotImplementedError\n",
    "      |    +-- RecursionError\n",
    "      +-- SyntaxError\n",
    "      |    +-- IndentationError\n",
    "      |         +-- TabError\n",
    "      +-- SystemError\n",
    "      +-- TypeError\n",
    "      +-- ValueError\n",
    "      |    +-- UnicodeError\n",
    "      |         +-- UnicodeDecodeError\n",
    "      |         +-- UnicodeEncodeError\n",
    "      |         +-- UnicodeTranslateError\n",
    "      +-- Warning\n",
    "           +-- DeprecationWarning\n",
    "           +-- PendingDeprecationWarning\n",
    "           +-- RuntimeWarning\n",
    "           +-- SyntaxWarning\n",
    "           +-- UserWarning\n",
    "           +-- FutureWarning\n",
    "           +-- ImportWarning\n",
    "           +-- UnicodeWarning\n",
    "           +-- BytesWarning\n",
    "           +-- ResourceWarning"
   ]
  },
  {
   "cell_type": "markdown",
   "metadata": {},
   "source": [
    "<a id='19.5'></a>\n",
    "## 19.5. Exercises\n",
    "[Back to top](#Top)\n",
    "\n",
    "<div class=\"alert alert-block alert-warning\" style=\"margin-top: 20px\">\n",
    "<font color=black>\n",
    "    \n",
    "1. Below, we have provided buggy code. Add a try/except clause so the code runs without errors. If a blog post didn’t get any likes, a ‘Likes’ key should be added to that dictionary with a value of 0."
   ]
  },
  {
   "cell_type": "code",
   "execution_count": null,
   "metadata": {},
   "outputs": [],
   "source": [
    "blog_posts = [{'Photos': 3, 'Likes': 21, 'Comments': 2}, {'Likes': 13, 'Comments': 2, 'Shares': 1}, {'Photos': 5, 'Likes': 33, 'Comments': 8, 'Shares': 3}, {'Comments': 4, 'Shares': 2}, {'Photos': 8, 'Comments': 1, 'Shares': 1}, {'Photos': 3, 'Likes': 19, 'Comments': 3}]\n",
    "\n",
    "total_likes = 0\n",
    "\n",
    "for post in blog_posts:\n",
    "    total_likes = total_likes + post['Likes']"
   ]
  },
  {
   "cell_type": "markdown",
   "metadata": {},
   "source": [
    "<details><summary>Click here for a solution</summary>\n",
    "<div class=\"alert alert-block alert-success\" style=\"margin-top: 20px\">\n",
    "<font color=black>\n",
    "    \n",
    "```python\n",
    "for post in blog_posts:\n",
    "    try:\n",
    "        total_likes = total_likes + post['Likes']\n",
    "    except:\n",
    "        post['Likes'] = 0   \n",
    "```\n",
    "\n",
    "</details>"
   ]
  },
  {
   "cell_type": "markdown",
   "metadata": {},
   "source": [
    "<div class=\"alert alert-block alert-warning\" style=\"margin-top: 20px\">\n",
    "<font color=black>\n",
    "\n",
    "2. The code below assigns the 5th letter of each word in \n",
    "<font color=red>food</font> to the new list \n",
    "<font color=red>fifth</font>. However, the code currently produces errors. Insert a try/except clause that will allow the code to run and produce of list of the 5th letter in each word. If the word is not long enough, it should not print anything out. Note: The pass statement is a null operation; nothing will happen when it executes."
   ]
  },
  {
   "cell_type": "code",
   "execution_count": null,
   "metadata": {},
   "outputs": [],
   "source": [
    "food = [\"chocolate\", \"chicken\", \"corn\", \"sandwich\", \"soup\", \"potatoes\", \"beef\", \"lox\", \"lemonade\"]\n",
    "fifth = []\n",
    "for x in food:\n",
    "    fifth.append(x[4])"
   ]
  },
  {
   "cell_type": "markdown",
   "metadata": {},
   "source": [
    "<details><summary>Click here for a solution</summary>\n",
    "<div class=\"alert alert-block alert-success\" style=\"margin-top: 20px\">\n",
    "<font color=black>\n",
    "    \n",
    "```python\n",
    "for x in food:\n",
    "    try:\n",
    "        fifth.append(x[4])\n",
    "    except:\n",
    "        pass   \n",
    "```\n",
    "\n",
    "</details>"
   ]
  },
  {
   "cell_type": "markdown",
   "metadata": {},
   "source": [
    "<a id='19.6'></a>\n",
    "## 19.6. Chapter Assessment\n",
    "[Back to top](#Top)\n",
    "\n",
    "<div class=\"alert alert-block alert-warning\" style=\"margin-top: 20px\">\n",
    "<font color=black>\n",
    "\n",
    "1. The code below takes the list of country, \n",
    "<font color=red>country</font>, and searches to see if it is in the dictionary \n",
    "<font color=red>gold</font> which shows some countries who won gold during the Olympics. However, this code currently does not work. Correctly add try/except clause in the code so that it will correctly populate the list, \n",
    "<font color=red>country_gold</font>, with either the number of golds won or the string “Did not get gold”."
   ]
  },
  {
   "cell_type": "code",
   "execution_count": null,
   "metadata": {},
   "outputs": [],
   "source": [
    "gold = {\"US\":46, \"Fiji\":1, \"Great Britain\":27, \"Cuba\":5, \"Thailand\":2, \"China\":26, \"France\":10}\n",
    "country = [\"Fiji\", \"Chile\", \"Mexico\", \"France\", \"Norway\", \"US\"]\n",
    "country_gold = []\n",
    "\n",
    "for x in country:\n",
    "    country_gold.append(gold[x])\n",
    "    country_gold.append(\"Did not get gold\")"
   ]
  },
  {
   "cell_type": "markdown",
   "metadata": {},
   "source": [
    "<details><summary>Click here for a solution</summary>\n",
    "<div class=\"alert alert-block alert-success\" style=\"margin-top: 20px\">\n",
    "<font color=black>\n",
    "    \n",
    "```python\n",
    "for x in country:\n",
    "    try:\n",
    "        country_gold.append(gold[x])\n",
    "    except:\n",
    "        country_gold.append(\"Did not get gold\")   \n",
    "```\n",
    "\n",
    "</details>"
   ]
  },
  {
   "cell_type": "markdown",
   "metadata": {},
   "source": [
    "<div class=\"alert alert-block alert-warning\" style=\"margin-top: 20px\">\n",
    "<font color=black>\n",
    "\n",
    "2. Provided is a buggy for loop that tries to accumulate some values out of some dictionaries. Insert a try/except so that the code passes."
   ]
  },
  {
   "cell_type": "code",
   "execution_count": null,
   "metadata": {},
   "outputs": [],
   "source": [
    "di = [{\"Puppies\": 17, 'Kittens': 9, \"Birds\": 23, 'Fish': 90, \"Hamsters\": 49}, {\"Puppies\": 23, \"Birds\": 29, \"Fish\": 20, \"Mice\": 20, \"Snakes\": 7}, {\"Fish\": 203, \"Hamsters\": 93, \"Snakes\": 25, \"Kittens\": 89}, {\"Birds\": 20, \"Puppies\": 90, \"Snakes\": 21, \"Fish\": 10, \"Kittens\": 67}]\n",
    "total = 0\n",
    "for diction in di:\n",
    "    total = total + diction['Puppies']\n",
    "\n",
    "print(\"Total number of puppies:\", total)"
   ]
  },
  {
   "cell_type": "markdown",
   "metadata": {},
   "source": [
    "<details><summary>Click here for a solution</summary>\n",
    "<div class=\"alert alert-block alert-success\" style=\"margin-top: 20px\">\n",
    "<font color=black>\n",
    "    \n",
    "```python\n",
    "for diction in di:\n",
    "    try:\n",
    "        total += diction['Puppies']\n",
    "    except:\n",
    "        continue\n",
    "print(\"Total number of puppies:\", total)   \n",
    "```\n",
    "\n",
    "</details>"
   ]
  },
  {
   "cell_type": "markdown",
   "metadata": {},
   "source": [
    "<div class=\"alert alert-block alert-warning\" style=\"margin-top: 20px\">\n",
    "<font color=black>\n",
    "\n",
    "3. The list, \n",
    "<font color=red>numb</font>, contains integers. Write code that populates the list <font color=red>remainder</font> with the remainder of 36 divided by each number in <font color=red>numb</font>. For example, the first element should be 0, because 36/6 has no remainder. If there is an error, have the string “Error” appear in the <font color=red>remainder</font>."
   ]
  },
  {
   "cell_type": "code",
   "execution_count": null,
   "metadata": {},
   "outputs": [],
   "source": [
    "numb = [6, 0, 36, 8, 2, 36, 0, 12, 60, 0, 45, 0, 3, 23]\n",
    "\n",
    "remainder = []"
   ]
  },
  {
   "cell_type": "markdown",
   "metadata": {},
   "source": [
    "<details><summary>Click here for a solution</summary>\n",
    "<div class=\"alert alert-block alert-success\" style=\"margin-top: 20px\">\n",
    "<font color=black>\n",
    "    \n",
    "```python\n",
    "for num in numb:\n",
    "    try:\n",
    "        remainder.append(36%num)\n",
    "    except:\n",
    "        remainder.append('Error')   \n",
    "```\n",
    "\n",
    "</details>"
   ]
  },
  {
   "cell_type": "markdown",
   "metadata": {},
   "source": [
    "<div class=\"alert alert-block alert-warning\" style=\"margin-top: 20px\">\n",
    "<font color=black>\n",
    "\n",
    "4. Provided is buggy code, insert a try/except so that the code passes."
   ]
  },
  {
   "cell_type": "code",
   "execution_count": null,
   "metadata": {},
   "outputs": [],
   "source": [
    "lst = [2,4,10,42,12,0,4,7,21,4,83,8,5,6,8,234,5,6,523,42,34,0,234,1,435,465,56,7,3,43,23]\n",
    "\n",
    "lst_three = []\n",
    "\n",
    "for num in lst:\n",
    "    if 3 % num == 0:\n",
    "        lst_three.append(num)"
   ]
  },
  {
   "cell_type": "markdown",
   "metadata": {},
   "source": [
    "<details><summary>Click here for a solution</summary>\n",
    "<div class=\"alert alert-block alert-success\" style=\"margin-top: 20px\">\n",
    "<font color=black>\n",
    "    \n",
    "```python\n",
    "for num in lst:\n",
    "    try:\n",
    "        if 3 % num == 0:\n",
    "            lst_three.append(num)\n",
    "    except:\n",
    "        continue   \n",
    "```\n",
    "\n",
    "</details>"
   ]
  },
  {
   "cell_type": "markdown",
   "metadata": {},
   "source": [
    "<div class=\"alert alert-block alert-warning\" style=\"margin-top: 20px\">\n",
    "<font color=black>\n",
    "\n",
    "5. Write code so that the buggy code provided works using a try/except. When the codes does not work in the try, have it append to the list \n",
    "<font color=red>attempt</font> the string “Error”."
   ]
  },
  {
   "cell_type": "code",
   "execution_count": null,
   "metadata": {},
   "outputs": [],
   "source": [
    "full_lst = [\"ab\", 'cde', 'fgh', 'i', 'jkml', 'nop', 'qr', 's', 'tv', 'wxy', 'z']\n",
    "\n",
    "attempt = []\n",
    "\n",
    "for elem in full_lst:\n",
    "    attempt.append(elem[1])"
   ]
  },
  {
   "cell_type": "markdown",
   "metadata": {},
   "source": [
    "<details><summary>Click here for a solution</summary>\n",
    "<div class=\"alert alert-block alert-success\" style=\"margin-top: 20px\">\n",
    "<font color=black>\n",
    "    \n",
    "```python\n",
    "for elem in full_lst:\n",
    "    try:\n",
    "        attempt.append(elem[1])\n",
    "    except:\n",
    "        attempt.append('Error')   \n",
    "```\n",
    "\n",
    "</details>"
   ]
  },
  {
   "cell_type": "markdown",
   "metadata": {},
   "source": [
    "<div class=\"alert alert-block alert-warning\" style=\"margin-top: 20px\">\n",
    "<font color=black>\n",
    "\n",
    "6. The following code tries to append the third element of each list in \n",
    "<font color=red>conts</font> to the new list \n",
    "<font color=red>third_countries</font>. Currently, the code does not work. Add a try/except clause so the code runs without errors, and the string ‘Continent does not have 3 countries’ is appended to \n",
    "<font color=red>countries</font> instead of producing an error."
   ]
  },
  {
   "cell_type": "code",
   "execution_count": null,
   "metadata": {},
   "outputs": [],
   "source": [
    "conts = [['Spain', 'France', 'Greece', 'Portugal', 'Romania', 'Germany'], ['USA', 'Mexico', 'Canada'], ['Japan', 'China', 'Korea', 'Vietnam', 'Cambodia'], ['Argentina', 'Chile', 'Brazil', 'Ecuador', 'Uruguay', 'Venezuela'], ['Australia'], ['Zimbabwe', 'Morocco', 'Kenya', 'Ethiopa', 'South Africa'], ['Antarctica']]\n",
    "\n",
    "third_countries = []\n",
    "\n",
    "for c in conts:\n",
    "    third_countries.append(c[2])"
   ]
  },
  {
   "cell_type": "markdown",
   "metadata": {},
   "source": [
    "<details><summary>Click here for a solution</summary>\n",
    "<div class=\"alert alert-block alert-success\" style=\"margin-top: 20px\">\n",
    "<font color=black>\n",
    "    \n",
    "```python\n",
    "for c in conts:\n",
    "    try:\n",
    "        third_countries.append(c[2])\n",
    "    except:\n",
    "        third_countries.append('Continent does not have 3 countries')   \n",
    "```\n",
    "\n",
    "</details>"
   ]
  },
  {
   "cell_type": "markdown",
   "metadata": {},
   "source": [
    "<div class=\"alert alert-block alert-warning\" style=\"margin-top: 20px\">\n",
    "<font color=black>\n",
    "\n",
    "7. The buggy code below prints out the value of the sport in the list \n",
    "<font color=red>sport</font>. Use try/except so that the code will run properly. If the sport is not in the dictionary, \n",
    "<font color=red>ppl_play</font>, add it in with the value of 1."
   ]
  },
  {
   "cell_type": "code",
   "execution_count": null,
   "metadata": {},
   "outputs": [],
   "source": [
    "sport = [\"hockey\", \"basketball\", \"soccer\", \"tennis\", \"football\", \"baseball\"]\n",
    "\n",
    "ppl_play = {\"hockey\":4, \"soccer\": 10, \"football\": 15, \"tennis\": 8}\n",
    "\n",
    "for x in sport:\n",
    "\n",
    "     print(ppl_play[x])"
   ]
  },
  {
   "cell_type": "markdown",
   "metadata": {},
   "source": [
    "<details><summary>Click here for a solution</summary>\n",
    "<div class=\"alert alert-block alert-success\" style=\"margin-top: 20px\">\n",
    "<font color=black>\n",
    "    \n",
    "```python\n",
    "for x in sport:\n",
    "    try:\n",
    "        print(ppl_play[x])\n",
    "    except:\n",
    "        ppl_play[x] = 1   \n",
    "```\n",
    "\n",
    "</details>"
   ]
  },
  {
   "cell_type": "markdown",
   "metadata": {},
   "source": [
    "<div class=\"alert alert-block alert-warning\" style=\"margin-top: 20px\">\n",
    "<font color=black>\n",
    "\n",
    "8. Provided is a buggy for loop that tries to accumulate some values out of some dictionaries. Insert a try/except so that the code passes. If the key is not there, initialize it in the dictionary and set the value to zero."
   ]
  },
  {
   "cell_type": "code",
   "execution_count": null,
   "metadata": {},
   "outputs": [],
   "source": [
    "di = [{\"Puppies\": 17, 'Kittens': 9, \"Birds\": 23, 'Fish': 90, \"Hamsters\": 49}, {\"Puppies\": 23, \"Birds\": 29, \"Fish\": 20, \"Mice\": 20, \"Snakes\": 7}, {\"Fish\": 203, \"Hamsters\": 93, \"Snakes\": 25, \"Kittens\": 89}, {\"Birds\": 20, \"Puppies\": 90, \"Snakes\": 21, \"Fish\": 10, \"Kittens\": 67}]\n",
    "total = 0\n",
    "for diction in di:\n",
    "    total = total + diction['Puppies']\n",
    "\n",
    "print(\"Total number of puppies:\", total)"
   ]
  },
  {
   "cell_type": "markdown",
   "metadata": {},
   "source": [
    "<details><summary>Click here for a solution</summary>\n",
    "<div class=\"alert alert-block alert-success\" style=\"margin-top: 20px\">\n",
    "<font color=black>\n",
    "    \n",
    "```python\n",
    "for diction in di:\n",
    "    try:\n",
    "        total = total + diction['Puppies']\n",
    "    except:\n",
    "        diction['Puppies'] = 0\n",
    "        \n",
    "print(\"Total number of puppies:\", total)   \n",
    "```\n",
    "\n",
    "</details>"
   ]
  }
 ],
 "metadata": {
  "kernelspec": {
   "display_name": "Python 3",
   "language": "python",
   "name": "python3"
  },
  "language_info": {
   "codemirror_mode": {
    "name": "ipython",
    "version": 3
   },
   "file_extension": ".py",
   "mimetype": "text/x-python",
   "name": "python",
   "nbconvert_exporter": "python",
   "pygments_lexer": "ipython3",
   "version": "3.8.5"
  }
 },
 "nbformat": 4,
 "nbformat_minor": 4
}
