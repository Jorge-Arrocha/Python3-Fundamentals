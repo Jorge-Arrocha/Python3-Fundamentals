{
 "cells": [
  {
   "cell_type": "markdown",
   "metadata": {},
   "source": [
    "<a id='Top'></a>\n",
    "# 1. General Introduction\n",
    "<div class=\"alert alert-block alert-danger\" style=\"margin-top: 20px\">\n",
    "<font color=black>\n",
    "\n",
    "- 1.1. [Introduction: The Way of the Program](#1.1)\n",
    "  - 1.1.1. [Learning Goals](#1.1.1)\n",
    "  - 1.1.2. [Objectives](#1.1.2)\n",
    "- 1.2. [Algorithms](#1.2)\n",
    "- 1.3. [The Python Programming Language](#1.3)\n",
    "- 1.4. [Special Ways to Execute Python in this Book](#1.4)\n",
    "- 1.5. [More About Programs](#1.5)\n",
    "  - 1.5.1. [Preview of Control Structures](#1.5.1)\n",
    "- 1.6. [Formal and Natural Languages](#1.6)\n",
    "- 1.7. [A Typical First Program](#1.7)\n",
    "- 1.8. 👩‍💻 [Predict Before You Run!](#1.8!)\n",
    "- 1.9. 👩‍💻 [To Understand a Program, Change It!](#1.9)\n",
    "- 1.10. [Comments](#1.10)\n",
    "- 1.11. [Glossary](#1.11)\n",
    "- 1.12. [Chapter Assessment](#1.12)</div>"
   ]
  },
  {
   "cell_type": "markdown",
   "metadata": {},
   "source": [
    "<a id='1.1'></a>\n",
    "## 1.1. Introduction: The Way of the Program"
   ]
  },
  {
   "cell_type": "code",
   "execution_count": 1,
   "metadata": {},
   "outputs": [
    {
     "data": {
      "text/html": [
       "<video src=\"_videos/AC101 How this Class Works.mp4\" controls  >\n",
       "      Your browser does not support the <code>video</code> element.\n",
       "    </video>"
      ],
      "text/plain": [
       "<IPython.core.display.Video object>"
      ]
     },
     "execution_count": 1,
     "metadata": {},
     "output_type": "execute_result"
    }
   ],
   "source": [
    "# Run this cell to see the video\n",
    "\n",
    "from IPython.display import Video\n",
    "Video(\"_videos/AC101 How this Class Works.mp4\") "
   ]
  },
  {
   "cell_type": "markdown",
   "metadata": {},
   "source": [
    "The goal of this book is to teach you to understand and create computer programs in Python. At the beginning of each chapter, we will outline for you the learning goals and objectives that should be accomplished once you have gone through the chapter.\n",
    "\n",
    "Understanding computer programs requires algorithmic, mechanistic thinking. Programs specify mechanistic sequences of actions to perform; when executed, they transform input data into output data. They execute very reliably, and very fast, but not creatively. Computers do what you tell them to do, not what you mean for them to do. Thus, understanding computer code involves a lot of mental simulation of what will actually happen, not what you wish would happen.\n",
    "\n",
    "Writing computer programs requires not only mechanistic thinking but creative problem solving. Problem solving means the ability to formulate problems, think creatively about solutions, and express a solution clearly and accurately. As it turns out, the process of learning to program is an excellent opportunity to practice problem solving skills.\n",
    "\n",
    "<a id='1.1.1'></a>\n",
    "### 1.1.1. Learning Goals\n",
    "[Back to top](#Top)\n",
    "\n",
    "- Introduce terminology used in computer science\n",
    "- Introduce the features of this book\n",
    "- Describe the purpose of programming languages\n",
    "- Distinguish between formal & natural languages\n",
    "\n",
    "<a id='1.1.2'></a>\n",
    "### 1.1.2. Objectives\n",
    "[Back to top](#Top)\n",
    "\n",
    "- To be able to use the activecode component and multiple choice questions in textbook\n",
    "- To be able to use and interpret the Codelens component\n",
    "- To be able to describe what a comment is\n",
    "\n",
    "<a id='1.2'></a>\n",
    "## 1.2. Algorithms\n",
    "[Back to top](#Top)\n",
    "\n",
    "An __algorithm__ is a step by step list of instructions that if followed exactly will solve the problem under consideration.\n",
    "\n",
    "Our goal in programming is to take a problem and develop an algorithm that can serve as a general solution. Once we have such a solution, we can express it as a program and use our computer to automate the execution. These programs are written in __programming languages__.\n",
    "\n",
    "#### Check your understanding\n",
    "<div class=\"alert alert-block alert-warning\" style=\"margin-top: 20px\">\n",
    "<font color=black>\n",
    "    \n",
    "1. An algorithm is:\n",
    "\n",
    "  A. A solution to a problem that can be solved by a computer.  \n",
    "  B. A step by step sequence of instructions that if followed exactly will solve the problem under consideration.  \n",
    "  C. A series of instructions implemented in a programming language.  \n",
    "  D. A special kind of notation used by programmers."
   ]
  },
  {
   "cell_type": "markdown",
   "metadata": {},
   "source": [
    "<details><summary>Click here for the solution</summary>\n",
    "\n",
    "<font color=red>► </font>B. A step by step sequence of instructions that if followed exactly will solve the problem under consideration.    \n",
    "   \n",
    "<div class=\"alert alert-block alert-success\" style=\"margin-top: 20px\">\n",
    "<font color=black>✔️ Algorithms are like recipes: they must be followed exactly, they must be clear and unambiguous, and they must end.\n",
    "\n",
    "</details>"
   ]
  },
  {
   "attachments": {
    "interpret.png": {
     "image/png": "[encoded data removed]"
    }
   },
   "cell_type": "markdown",
   "metadata": {},
   "source": [
    "<a id='1.3'></a>\n",
    "## 1.3. The Python Programming Language\n",
    "[Back to top](#Top)\n",
    "\n",
    "The programming language you will be learning is Python. Python is an example of a __high-level language__; other high-level languages you might have heard of are C++, PHP, and Java.\n",
    "\n",
    "As you might infer from the name high-level language, there are also __low-level languages__, sometimes referred to as machine languages or assembly languages. Loosely speaking, computers can only execute programs written in low-level languages. Thus, programs written in a high-level language have to be processed before they can run. This extra processing takes some time, which is a small disadvantage of high-level languages. However, the advantages to high-level languages are enormous.\n",
    "\n",
    "First, it is much easier to program in a high-level language. Programs written in a high-level language take less time to write, they are shorter and easier to read, and they are more likely to be correct. Second, high-level languages are __portable__, meaning that they can run on different kinds of computers with few or no modifications. Low-level programs can run on only one kind of computer and have to be rewritten to run on another.\n",
    "\n",
    "Due to these advantages, almost all programs are written in high-level languages. Low-level languages are used only for a few specialized applications.\n",
    "\n",
    "Two kinds of programs process high-level languages into low-level languages: __interpreters__ and __compilers__. An interpreter reads a high-level program and executes it, meaning that it does what the program says. It processes the program a little at a time, alternately reading lines and performing computations.\n",
    "\n",
    "![interpret.png](attachment:interpret.png)"
   ]
  },
  {
   "attachments": {
    "compile.png": {
     "image/png": "[encoded data removed]"
    }
   },
   "cell_type": "markdown",
   "metadata": {},
   "source": [
    "A compiler reads the program and translates it completely before the program starts running. In this case, the high-level program is called the __source code__, and the translated program is called the __object code__ or the __executable__. Once a program is compiled, you can execute it repeatedly without further translation.\n",
    "\n",
    "![compile.png](attachment:compile.png)\n",
    "\n",
    "Many modern languages use both processes. They are first compiled into a lower level language, called __byte code__, and then interpreted by a program called a __virtual machine__. Python uses both processes, but because of the way programmers interact with it, it is usually considered an interpreted language.\n",
    "\n",
    "For the core material in this book, you will not need to install or run python natively on your computer. Instead, you’ll be writing simple programs and executing them right in your browser.\n",
    "\n",
    "At some point, you will find it useful to have a complete python environment, rather than the limited environment available in this online textbook. To do that, you will either install python on your computer so that it can run natively, or use a remote server that provides either a command line shell or a jupyter notebook environment.\n",
    "\n",
    "#### Check your understanding\n",
    "<div class=\"alert alert-block alert-warning\" style=\"margin-top: 20px\">\n",
    "<font color=black>\n",
    "    \n",
    "1. Source code is another name for:<br>\n",
    "\n",
    "  A. the instructions in a program, written in a high-level language.  \n",
    "  B. the language that you are programming in (e.g., Python).  \n",
    "  C. the environment/tool in which you are programming.  \n",
    "  D. the number (or “code”) that you must input at the top of each program to tell the computer how to execute your program."
   ]
  },
  {
   "cell_type": "markdown",
   "metadata": {},
   "source": [
    "<details><summary>Click here for the solution</summary>\n",
    "\n",
    "<font color=red>► </font>A. the instructions in a program, written in a high-level language.\n",
    "   \n",
    "<div class=\"alert alert-block alert-success\" style=\"margin-top: 20px\">\n",
    "<font color=black>✔️ If the instructions are strored in a file, it is called the source code file.\n",
    "\n",
    "</details>"
   ]
  },
  {
   "cell_type": "markdown",
   "metadata": {},
   "source": [
    "<div class=\"alert alert-block alert-warning\" style=\"margin-top: 20px\">\n",
    "<font color=black>\n",
    "    \n",
    "2. What is the difference between a high-level programming language and a low-level programming language?<br>\n",
    "\n",
    "  A. It is high-level if you are standing and low-level if you are sitting.  \n",
    "  B. It is high-level if you are programming for a computer and low-level if you are programming for a phone or mobile device.  \n",
    "  C. It is high-level if the program must be processed before it can run, and low-level if the computer can execute it without additional processing.  \n",
    "  D. It is high-level if it easy to program in and is very short; it is low-level if it is really hard to program in and the     programs are really long."
   ]
  },
  {
   "cell_type": "markdown",
   "metadata": {},
   "source": [
    "<details><summary>Click here for the solution</summary>\n",
    "\n",
    "<font color=red>► </font>C. It is high-level if the program must be processed before it can run, and low-level if the computer can execute it without additional processing.\n",
    "   \n",
    "<div class=\"alert alert-block alert-success\" style=\"margin-top: 20px\">\n",
    "<font color=black>✔️ Python is a high level language but must be interpreted into machine code (binary) before it can be executed.\n",
    "\n",
    "</details>"
   ]
  },
  {
   "cell_type": "markdown",
   "metadata": {},
   "source": [
    "<div class=\"alert alert-block alert-warning\" style=\"margin-top: 20px\">\n",
    "<font color=black>\n",
    "    \n",
    "3. Pick the best replacements for 1 and 2 in the following sentence: When comparing compilers and interpreters, a compiler is like 1 while an interpreter is like 2.<br>\n",
    "\n",
    "  A. 1 = a process, 2 = a function  \n",
    "  B. 1 = translating an entire book, 2 = translating a line at a time  \n",
    "  C. 1 = software, 2 = hardware  \n",
    "  D. 1 = object code, 2 = byte code"
   ]
  },
  {
   "cell_type": "markdown",
   "metadata": {},
   "source": [
    "<details><summary>Click here for the solution</summary>\n",
    "\n",
    "<font color=red>► </font>B. 1 = translating an entire book, 2 = translating a line at a time\n",
    "   \n",
    "<div class=\"alert alert-block alert-success\" style=\"margin-top: 20px\">\n",
    "<font color=black>✔️ Compilers take the entire source code and produce object code or the executable and interpreters execute the code line by line.\n",
    "\n",
    "</details>"
   ]
  },
  {
   "cell_type": "markdown",
   "metadata": {},
   "source": [
    "<a id='1.4'></a>\n",
    "## 1.4. Special Ways to Execute Python in this Book\n",
    "[Back to top](#Top)\n",
    "\n",
    "This book provides two additional ways to execute Python programs. Both techniques are designed to assist you as you learn the Python programming language. They will help you increase your understanding of how Python programs work.\n",
    "\n",
    "First, you can write, modify, and execute programs using a unique __activecode__ interpreter that allows you to execute Python code right in the text itself (right from the web browser). Although this is certainly not the way real programs are written, it provides an excellent environment for learning a programming language like Python since you can experiment with the language as you are reading.\n",
    "\n",
    "Take a look at the activecode interpreter in action. Try pressing the *Save & Run* button below. (If you are not logged in, it will just say *Run*.)"
   ]
  },
  {
   "cell_type": "code",
   "execution_count": null,
   "metadata": {},
   "outputs": [],
   "source": [
    "print(\"My first program adds two numbers, 2 and 3:\")\n",
    "print(2 + 3)"
   ]
  },
  {
   "cell_type": "markdown",
   "metadata": {},
   "source": [
    "Now try modifying the program shown above. First, modify the string in the first print statement by changing the word *adds* to the word *multiplies*. Now press *Save & Run* again. You can see that the result of the program has changed. However, it still prints “5” as the answer. Modify the second print statement by changing the addition symbol, the <font color=red>+</font>, to the multiplication symbol, <font color=red>*</font>. Press *Save & Run* again to see the new results.\n",
    "\n",
    "As the name suggests, *Save & Run* also saves your latest version of the code, and you can recover it even in later sessions when *logged in*. If *not* logged in, *Run* saves versions *only until your browser leaves the current web page*, and then you lose all modifications.\n",
    "\n",
    "If you are logged in, when a page first loads, each activecode window will have a *Load History* button, to the right of the *Save & Run* button. If you click on it, or if you run any code, that button turns into a slider. If you click on the slider location box, you can use your left and right arrow buttons to switch to other versions you ran. Alternately you can drag the box on the slider. Now move the slider to see a previously saved version of your code. You can edit or run any version.\n",
    "\n",
    "In addition to activecode, you can also execute Python code with the assistance of a unique visualization tool. This tool, known as __codelens__, allows you to control the step by step execution of a program. It also lets you see the values of all variables as they are created and modified. In activecode, the source code executes from beginning to end and you can see the final result. In codelens you can see and control the step by step progress. Note that the red arrow always points to the next line of code that is going to be executed. The light green arrow points to the line that was just executed. Click on the “Show in Codelens” button to make the codelens window show up, and then click on the Forward button a few times to step through the execution.\n",
    "\n",
    "Sometimes, we will present code examples explicitly in a codelens window in the textbook, as below. When we do, think of it as an encouragement to use the codelens features to step through the execution of the program.\n",
    "\n",
    "#### Check your understanding\n",
    "<div class=\"alert alert-block alert-warning\" style=\"margin-top: 20px\">\n",
    "<font color=black>\n",
    "    \n",
    "1. The activecode interpreter allows you to (select all that apply):<br>\n",
    "\n",
    "  A. save programs and reload saved programs.  \n",
    "  B. type in Python source code.  \n",
    "  C. execute Python code right in the text itself within the web browser.  \n",
    "  D. receive a yes/no answer about whether your code is correct or not."
   ]
  },
  {
   "cell_type": "markdown",
   "metadata": {},
   "source": [
    "<details><summary>Click here for the solution</summary>\n",
    "\n",
    "<font color=red>► </font>A. save programs and reload saved programs.  \n",
    "<font color=red>► </font>B. type in Python source code.  \n",
    "<font color=red>► </font>C. execute Python code right in the text itself within the web browser.\n",
    "   \n",
    "<div class=\"alert alert-block alert-success\" style=\"margin-top: 20px\">\n",
    "<font color=black>✔️ Correct.<br>\n",
    "A. You can (and should) save the contents of the activecode window.<br>\n",
    "B. You are not limited to running the examples that are already there. Try adding to them and creating your own.<br>\n",
    "C. The activecode interpreter will allow you type Python code into the textbox and then you can see it execute as the interpreter interprets and executes the source code.\n",
    "\n",
    "</details>"
   ]
  },
  {
   "cell_type": "markdown",
   "metadata": {},
   "source": [
    "<div class=\"alert alert-block alert-warning\" style=\"margin-top: 20px\">\n",
    "<font color=black>\n",
    "    \n",
    "2. Codelens allows you to (select all that apply):\n",
    "\n",
    "  A. measure the speed of a program’s execution.  \n",
    "  B. control the step by step execution of a program.  \n",
    "  C. write and execute your own Python code.  \n",
    "  D. execute the Python code that is in codelens."
   ]
  },
  {
   "cell_type": "markdown",
   "metadata": {},
   "source": [
    "<details><summary>Click here for the solution</summary>\n",
    "\n",
    "<font color=red>► </font>B. control the step by step execution of a program.  \n",
    "<font color=red>► </font>D. execute the Python code that is in codelens.\n",
    "   \n",
    "<div class=\"alert alert-block alert-success\" style=\"margin-top: 20px\">\n",
    "<font color=black>✔️ Correct.<br>\n",
    "B. By using codelens, you can control the execution of a program step by step. You can even go backwards!<br>\n",
    "D. By stepping forward through the Python code in codelens, you are executing the Python program.\n",
    "\n",
    "</details>"
   ]
  },
  {
   "cell_type": "markdown",
   "metadata": {},
   "source": [
    "<a id='1.5'></a>\n",
    "## 1.5. More About Programs\n",
    "[Back to top](#Top)\n",
    "\n",
    "A __program__ is a sequence of instructions that specifies how to perform a computation. The computation might be something as complex as rendering an html page in a web browser or encoding a video and streaming it across the network. It can also be a symbolic computation, such as searching for and replacing text in a document or (strangely enough) compiling a program.\n",
    "\n",
    "The details look different in different languages, but a few basic instructions appear in just about every language.\n",
    "\n",
    "__input__  \n",
    "Get data from the keyboard, a file, or some other device.\n",
    "\n",
    "__output__  \n",
    "Display data on the screen or send data to a file or other device.\n",
    "\n",
    "__math and logic__  \n",
    "Perform basic mathematical operations like addition and multiplication and logical operations like <font color=red>and</font>, <font color=red>or</font>, and <font color=red>not</font>.\n",
    "\n",
    "__conditional execution__  \n",
    "Check for certain conditions and execute the appropriate sequence of statements.\n",
    "\n",
    "__repetition__  \n",
    "Perform some action repeatedly, usually with some variation.\n",
    "\n",
    "Believe it or not, that’s pretty much all there is to it. Every program you’ve ever used, no matter how complicated, is made up of instructions that look more or less like these. Thus, we can describe programming as the process of breaking a large, complex task into smaller and smaller subtasks until the subtasks are simple enough to be performed with sequences of these basic instructions.\n",
    "\n",
    "<a id='1.5.1'></a>\n",
    "### 1.5.1. Preview of Control Structures\n",
    "[Back to top](#Top)\n",
    "\n",
    "We won’t get too much into python control structures yet, but it is good to mention them early to give you a taste for what you can do with the language! If these make sense to you now, that’s great! However, we don’t expect you to understand these yet - understanding will come later.\n",
    "\n",
    "First we have structures that allow us to iterate over something. We can look at strings character-by-character or lists item-by-item until we’ve reached the end of them by using something called a <font color=red>for</font> loop."
   ]
  },
  {
   "cell_type": "code",
   "execution_count": null,
   "metadata": {},
   "outputs": [],
   "source": [
    "for character in \"Cool string\":\n",
    "    print(character)"
   ]
  },
  {
   "cell_type": "markdown",
   "metadata": {},
   "source": [
    "We can also iterate without a definite stopping point with <font color=red>while</font> loops. You might use this if you want to receive input from the user of your program but you don’t know how long it’ll take for them to be done with your code."
   ]
  },
  {
   "cell_type": "code",
   "execution_count": null,
   "metadata": {},
   "outputs": [],
   "source": [
    "grocery_item = \"\"\n",
    "while grocery_item != \"done\":\n",
    "    grocery_item = input(\"Please write down an item to add to your grocery list. When you are done writing the list simply type: done\")\n",
    "    print(grocery_item)"
   ]
  },
  {
   "cell_type": "markdown",
   "metadata": {},
   "source": [
    "Other structures will allow us to only run parts of our programs or only do some task if a certain set of conditions are found. Conditionals, as they’re called, allow us to do that. Check out how adding conditionals to our code can change what we can write about regarding grocery shopping."
   ]
  },
  {
   "cell_type": "code",
   "execution_count": null,
   "metadata": {},
   "outputs": [],
   "source": [
    "grocery_item = \"\"\n",
    "grocery_list = []\n",
    "while grocery_item != \"done\":\n",
    "    grocery_item = input(\"Please write down an item to add to your grocery list. When you are done writing the list then simply type: done\")\n",
    "    if grocery_item == 'done':\n",
    "        continue\n",
    "    else:\n",
    "        print(\"adding the item to the list\")\n",
    "        grocery_list.append(grocery_item)\n",
    "print(\"Here is our grocery list:\")\n",
    "print(grocery_list)"
   ]
  },
  {
   "cell_type": "markdown",
   "metadata": {},
   "source": [
    "#### Check your understanding\n",
    "<div class=\"alert alert-block alert-warning\" style=\"margin-top: 20px\">\n",
    "<font color=black>\n",
    "    \n",
    "1. A program is:\n",
    "\n",
    "  A. a sequence of instructions that specifies how to perform a computation.  \n",
    "  B. something you follow along at a play or concert.  \n",
    "  C. a computation, even a symbolic computation.  \n",
    "  D. the same thing as an algorithm."
   ]
  },
  {
   "cell_type": "markdown",
   "metadata": {},
   "source": [
    "<details><summary>Click here for the solution</summary>\n",
    "\n",
    "<font color=red>► </font>A. a sequence of instructions that specifies how to perform a computation.  \n",
    "   \n",
    "<div class=\"alert alert-block alert-success\" style=\"margin-top: 20px\">\n",
    "<font color=black>✔️ It is just step-by-step instructions that the computer can understand and execute. Programs often implement algorithms, but note that algorithms are typically less precise than programs and do not have to be written in a programming language.\n",
    "\n",
    "</details>"
   ]
  },
  {
   "cell_type": "markdown",
   "metadata": {},
   "source": [
    "<a id='1.6'></a>\n",
    "## 1.6. Formal and Natural Languages\n",
    "[Back to top](#Top)\n",
    "\n",
    "__Natural languages__ are the languages that people speak, such as English, Spanish, Korean, and Mandarin Chinese. They were not designed by people (although people try to impose some order on them); they evolved naturally.\n",
    "\n",
    "__Formal languages__ are languages that are designed by people for specific applications. For example, the notation that mathematicians use is a formal language that is particularly good at denoting relationships among numbers and symbols. Chemists use a formal language to represent the chemical structure of molecules. And most importantly:\n",
    "\n",
    "> ##### Programming languages are formal languages that have been designed to express computations.\n",
    "\n",
    "Formal languages tend to have strict rules about syntax. For example, <font color=red>3+3=6</font> is a syntactically correct mathematical statement, but <font color=red>3=+6\\$</font> is not. $H_{2}O$ is a syntactically correct chemical name, but $_{2}Zz$ is not.\n",
    "\n",
    "Syntax rules come in two flavors, pertaining to __tokens__ and structure. Tokens are the basic elements of the language, such as words, numbers, and chemical elements. One of the problems with <font color=red>3=+6\\$</font> is that <font color=red>\\$</font> is not a legal token in mathematics (at least as far as we know). Similarly, $_{2}Zz$ is not legal because there is no element with the abbreviation <font color=red>$Zz$</font>.\n",
    "\n",
    "The second type of syntax rule pertains to the __structure__ of a statement— that is, the way the tokens are arranged. The statement <font color=red>3=+6$</font> is structurally illegal because you can’t place a plus sign immediately after an equal sign. Similarly, molecular formulas have to have subscripts after the element name, not before.\n",
    "\n",
    "When you read a sentence in English or a statement in a formal language, you have to figure out what the structure of the sentence is (although in a natural language you do this subconsciously). This process is called __parsing__.\n",
    "\n",
    "For example, when you hear the sentence, “The other shoe fell”, you understand that the other shoe is the subject and fell is the verb. Once you have parsed a sentence, you can figure out what it means, or the __semantics__ of the sentence. Assuming that you know what a shoe is and what it means to fall, you will understand the general implication of this sentence.\n",
    "\n",
    "Although formal and natural languages have many features in common — tokens, structure, syntax, and semantics — there are many differences:\n",
    "\n",
    "__ambiguity__  \n",
    "Natural languages are full of ambiguity, which people deal with by using contextual clues and other information. Formal languages are designed to be nearly or completely unambiguous, which means that any statement has exactly one meaning, regardless of context.\n",
    "\n",
    "__redundancy__  \n",
    "In order to make up for ambiguity and reduce misunderstandings, natural languages employ lots of redundancy. As a result, they are often verbose. Formal languages are less redundant and more concise.\n",
    "\n",
    "__literalness__  \n",
    "Formal languages mean exactly what they say. On the other hand, natural languages are full of idiom and metaphor. If someone says, “The other shoe fell”, there is probably no shoe and nothing falling.\n",
    "\n",
    "<div class=\"alert alert-block alert-info\" style=\"margin-top: 20px\">\n",
    "    <font color=black><b>Tip</b><br>\n",
    "You’ll need to find the original joke to understand the idiomatic meaning of the other shoe falling. Yahoo! Answers thinks it knows!</div>\n",
    "\n",
    "People who grow up speaking a natural language—that is, everyone—often have a hard time adjusting to formal languages. In some ways, the difference between natural and formal language is like the difference between poetry and prose, but more so:\n",
    "\n",
    "__poetry__  \n",
    "Words are used for their sounds as well as for their meaning, and the whole poem together creates an effect or emotional response. Ambiguity is not only common but often deliberate.\n",
    "\n",
    "__prose__  \n",
    "The literal meaning of words is more important, and the structure contributes more meaning. Prose is more amenable to analysis than poetry but still often ambiguous.\n",
    "\n",
    "__program__  \n",
    "The meaning of a computer program is unambiguous and literal, and can be understood entirely by analysis of the tokens and structure.\n",
    "\n",
    "Here are some suggestions for reading programs (and other formal languages). First, remember that formal languages are much more dense than natural languages, so it takes longer to read them. Also, the structure is very important, so it is usually not a good idea to read from top to bottom, left to right. Instead, learn to parse the program in your head, identifying the tokens and interpreting the structure. Finally, the details matter. Little things like spelling errors and bad punctuation, which you can get away with in natural languages, can make a big difference in a formal language.\n",
    "    \n",
    "#### Check your understanding\n",
    "<div class=\"alert alert-block alert-warning\" style=\"margin-top: 20px\">\n",
    "<font color=black>\n",
    "    \n",
    "1. The differences between natural and formal languages include:\n",
    "\n",
    "  A. natural languages can be parsed while formal languages cannot.  \n",
    "  B. ambiguity, redundancy, and literalness.  \n",
    "  C. there are no differences between natural and formal languages.  \n",
    "  D. tokens, structure, syntax, and semantics."
   ]
  },
  {
   "cell_type": "markdown",
   "metadata": {},
   "source": [
    "<details><summary>Click here for the solution</summary>\n",
    "\n",
    "<font color=red>► </font>B. ambiguity, redundancy, and literalness.  \n",
    "   \n",
    "<div class=\"alert alert-block alert-success\" style=\"margin-top: 20px\">\n",
    "<font color=black>✔️ All of these can be present in natural languages, but cannot exist in formal languages.\n",
    "</details>"
   ]
  },
  {
   "cell_type": "markdown",
   "metadata": {},
   "source": [
    "<div class=\"alert alert-block alert-warning\" style=\"margin-top: 20px\">\n",
    "<font color=black>\n",
    "    \n",
    "2. True or False: Reading a program is like reading other kinds of text.\n",
    "\n",
    "  A. True  \n",
    "  B. False"
   ]
  },
  {
   "cell_type": "markdown",
   "metadata": {},
   "source": [
    "<details><summary>Click here for the solution</summary>\n",
    "\n",
    "<font color=red>► </font>B. False  \n",
    "   \n",
    "<div class=\"alert alert-block alert-success\" style=\"margin-top: 20px\">\n",
    "<font color=black>✔️ It usually takes longer to read a program because the structure is as important as the content and must be interpreted in smaller pieces for understanding.\n",
    "</details>"
   ]
  },
  {
   "cell_type": "markdown",
   "metadata": {},
   "source": [
    "<a id='1.7'></a>\n",
    "## 1.7. A Typical First Program\n",
    "[Back to top](#Top)\n",
    "\n",
    "Traditionally, the first program written in a new language is called *Hello, World!* because all it does is display the words, Hello, World! In Python, the source code looks like this."
   ]
  },
  {
   "cell_type": "code",
   "execution_count": null,
   "metadata": {},
   "outputs": [],
   "source": [
    "print(\"Hello, World!\")"
   ]
  },
  {
   "cell_type": "markdown",
   "metadata": {},
   "source": [
    "This is an example of using the __print function__, which doesn’t actually print anything on paper. It displays a value on the screen. In this case, the result is the phrase:"
   ]
  },
  {
   "cell_type": "code",
   "execution_count": null,
   "metadata": {},
   "outputs": [],
   "source": [
    "Hello, World!"
   ]
  },
  {
   "cell_type": "markdown",
   "metadata": {},
   "source": [
    "Here is the example in an activecode window, where you can run it and modify it."
   ]
  },
  {
   "cell_type": "code",
   "execution_count": null,
   "metadata": {},
   "outputs": [],
   "source": [
    "print(\"Hello, World!\")"
   ]
  },
  {
   "cell_type": "markdown",
   "metadata": {},
   "source": [
    "The quotation marks in the program mark the beginning and end of the value. They don’t appear in the result. You’ll learn more about why in the next chapter.\n",
    "\n",
    "Some people judge the quality of a programming language by the simplicity of the Hello, World! program. By this standard, Python does about as well as possible.\n",
    "\n",
    "#### Check your understanding\n",
    "<div class=\"alert alert-block alert-warning\" style=\"margin-top: 20px\">\n",
    "<font color=black>\n",
    "    \n",
    "1. The print function:\n",
    "\n",
    "  A. sends information to the printer to be printed on paper.  \n",
    "  B. displays a value on the screen.  \n",
    "  C. tells the computer to put the information in print, rather than cursive, format.  \n",
    "  D. tells the computer to speak the information."
   ]
  },
  {
   "cell_type": "markdown",
   "metadata": {},
   "source": [
    "<details><summary>Click here for the solution</summary>\n",
    "\n",
    "<font color=red>► </font>B. displays a value on the screen.  \n",
    "   \n",
    "<div class=\"alert alert-block alert-success\" style=\"margin-top: 20px\">\n",
    "<font color=black>✔️ Yes, the print statement is used to display the value of the thing being printed.\n",
    "</details>"
   ]
  },
  {
   "cell_type": "markdown",
   "metadata": {},
   "source": [
    "<a id='1.8!'></a>\n",
    "## 1.8. 👩‍💻 Predict Before You Run!\n",
    "[Back to top](#Top)\n",
    "\n",
    "You’ve run your first program! You’ll be doing that a lot in this book and the programs will become increasingly complicated. One way to help understand what is happening and learn programming is predicting the effect of running a snippet of code before actually running the program. Later on in your development, you may make predictions about large snippets of code, but for now you will typically be predicting the effect of executing a single line of code. A prediction will either be about what gets printed out, or about the value of a variable, or that an error will occur.\n",
    "\n",
    "A prediction is not a random guess. It is based on some explanation you have about what the current state of variables is and about what you think certain commands in python do.\n",
    "\n",
    "While you read the textbook you’ll see chapters, pages, or snippets of text that begin with “WP:”. This denotes sections that talk about the Way of the Programmer: advice or information that will help you to be a better programmer and make better programs. Be on the lookout for other WP pages!\n",
    "\n",
    "<a id='1.9'></a>\n",
    "## 1.9. 👩‍💻 To Understand a Program, Change It!\n",
    "[Back to top](#Top)\n",
    "\n",
    "To check your understanding or your predictions, you will run a program.\n",
    "\n",
    "To check your understanding about the state of variables before your code snippet runs, add diagnostic print statements that print out the types and values of variables. Add these print statements just *before* the code snippet you are trying to understand.\n",
    "\n",
    "If you made a prediction about the output that will be generated when the code snippet runs, then you can just run the program. If, however, you made a prediction about a change that occurs in the value of a variable, you will need to add an extra diagnostic print statement right after the line of code that you think should be changing that variable.\n",
    "\n",
    "The diagnostic print statements are temporary. Once you have verified that a program is doing what you think it’s doing, you will remove these extra print statements.\n",
    "\n",
    "Even if you feel that you have a good grasp on the program though, we advise changing it at least a few times to see if you understand how it behaves in different situations. Sometimes you’ll surprise yourself!\n",
    "\n",
    "If you get any surprises, then you will want to revise your understanding or your predictions. If you were wrong about the values or types of variables before the code snippet was run, you may want to revisit your understanding of the previous code. Once you understand how that result came to be, you should make some changes to the program to make sure your new understanding is accurate.\n",
    "\n",
    "<a id='1.10'></a>\n",
    "## 1.10. Comments\n",
    "[Back to top](#Top)\n",
    "\n",
    "As programs get bigger and more complicated, they get more difficult to read. Formal languages are dense, and it is often difficult to look at a piece of code and figure out what it is doing, or why. For this reason, it is a good idea to add notes to your programs to explain in natural language what the program is doing. These notes are called comments.\n",
    "\n",
    "A __comment__ in a computer program is text that is intended only for the human reader - it is completely ignored by the interpreter. In Python, the <font color=red>#</font> token starts a comment. The rest of the line is ignored. Here is a new version of *Hello, World!*."
   ]
  },
  {
   "cell_type": "code",
   "execution_count": null,
   "metadata": {},
   "outputs": [],
   "source": [
    "#---------------------------------------------------\n",
    "# This demo program shows off how elegant Python is!\n",
    "# Written by Joe Soap, December 2010.\n",
    "# Anyone may freely copy or modify this program.\n",
    "#---------------------------------------------------\n",
    "\n",
    "print(\"Hello, World!\")     # Isn't this easy!"
   ]
  },
  {
   "cell_type": "markdown",
   "metadata": {},
   "source": [
    "Notice that when you run this program, it still only prints the phrase Hello, World! None of the comments appear. You’ll also notice that we’ve left a blank line in the program. Blank lines are also ignored by the interpreter, but comments and blank lines can make your programs much easier for humans to parse. Use them liberally!\n",
    "\n",
    "#### Check your understanding\n",
    "<div class=\"alert alert-block alert-warning\" style=\"margin-top: 20px\">\n",
    "<font color=black>\n",
    "    \n",
    "1. What are comments for?\n",
    "\n",
    "  A. To tell the computer what you mean in your program.  \n",
    "  B. For the people who are reading your code to know, in natural language, what the program is doing.  \n",
    "  C. Nothing, they are extraneous information that is not needed.  \n",
    "  D. Nothing in a short program. They are only needed for really large programs."
   ]
  },
  {
   "cell_type": "markdown",
   "metadata": {},
   "source": [
    "<details><summary>Click here for the solution</summary>\n",
    "\n",
    "<font color=red>► </font>B. For the people who are reading your code to know, in natural language, what the program is doing.  \n",
    "   \n",
    "<div class=\"alert alert-block alert-success\" style=\"margin-top: 20px\">\n",
    "<font color=black>✔️ The computer ignores comments. It’s for the humans that will “consume” your program.\n",
    "</details>"
   ]
  },
  {
   "cell_type": "markdown",
   "metadata": {},
   "source": [
    "<a id='1.11'></a>\n",
    "## 1.11. Glossary\n",
    "[Back to top](#Top)\n",
    "\n",
    "__activecode__  \n",
    "A unique interpreter environment that allows Python to be executed from within a web browser.\n",
    "\n",
    "__algorithm__  \n",
    "A step by step list of instructions that if followed exactly will solve the problem under consideration.\n",
    "\n",
    "__bug__  \n",
    "An error in a program.\n",
    "\n",
    "__byte code__  \n",
    "An intermediate language between source code and object code. Many modern languages first compile source code into byte code and then interpret the byte code with a program called a virtual machine.\n",
    "\n",
    "__codelens__  \n",
    "An interactive environment that allows the user to control the step by step execution of a Python program\n",
    "\n",
    "__comment__  \n",
    "Information in a program that is meant for other programmers (or anyone reading the source code) and has no effect on the execution of the program.\n",
    "\n",
    "__compile__  \n",
    "To translate a program written in a high-level language into a low-level language all at once, in preparation for later execution.\n",
    "\n",
    "__debugging__  \n",
    "The process of finding and removing any of the three kinds of programming errors: __\\*syntax error\\*__, __\\*semantic error\\*__, and __\\*runtime error\\*__.\n",
    "\n",
    "__exception__  \n",
    "Another name for a runtime error.\n",
    "\n",
    "__executable__  \n",
    "Another name for object code that is ready to be executed.\n",
    "\n",
    "__formal language__  \n",
    "Any one of the languages that people have designed for specific purposes, such as representing mathematical ideas or computer programs; all programming languages are formal languages.\n",
    "\n",
    "__high-level language__  \n",
    "A programming language like Python that is designed to be easy for humans to read and write.\n",
    "\n",
    "__interpret__  \n",
    "To execute a program in a high-level language by translating it one line at a time.\n",
    "\n",
    "__low-level language__  \n",
    "A programming language that is designed to be easy for a computer to execute; also called machine language or assembly language.\n",
    "\n",
    "__natural language__  \n",
    "Any one of the languages that people speak that evolved naturally.\n",
    "\n",
    "__object code__  \n",
    "The output of the compiler after it translates the program.\n",
    "\n",
    "__parse__  \n",
    "To examine a program and analyze the syntactic structure.\n",
    "\n",
    "__portability__  \n",
    "A property of a program that can run on more than one kind of computer.\n",
    "\n",
    "__print function__  \n",
    "A function used in a program or script that causes the Python interpreter to display a value on its output device.\n",
    "\n",
    "__problem solving__  \n",
    "The process of formulating a problem, finding a solution, and expressing the solution.\n",
    "\n",
    "__program__  \n",
    "A sequence of instructions that specifies to a computer actions and computations to be performed.\n",
    "\n",
    "__programming language__  \n",
    "A vocabulary and set of grammatical rules for instructing a computer or computing device to perform specific tasks.\n",
    "\n",
    "__Python shell__  \n",
    "An interactive user interface to the Python interpreter, and the user of a Python shell types commands at the prompt (>>>), and presses the return key to send these commands immediately to the interpreter for processing. To initiate the Python Shell, the user should open theterminal and type “python”. Once the user presses enter, the Python Shell appears and the user can interact with it.\n",
    "\n",
    "__runtime error__  \n",
    "An error that does not occur until the program has started to execute but that prevents the program from continuing.\n",
    "\n",
    "__semantic error__  \n",
    "An error in a program that makes it do something other than what the programmer intended.\n",
    "\n",
    "__semantics__  \n",
    "The meaning of a program.\n",
    "\n",
    "__shell mode__  \n",
    "A mode of using Python where expressions can be typed and executed in the command prompt, and the results are shown immediately in the command terminal window. Shell mode is initiated by opening the terminal of your operating system and typing “python”. Press enter and the Python Shell will appear. This is in contrast to __source code__. Also see the entry under __Python shell__.\n",
    "\n",
    "__source code__  \n",
    "The instructions in a program, stored in a file, in a high-level language before being compiled or interpreted.\n",
    "\n",
    "__syntax__  \n",
    "The structure of a program.\n",
    "\n",
    "__syntax error__  \n",
    "An error in a program that makes it impossible to parse — and therefore impossible to interpret.\n",
    "\n",
    "__token__  \n",
    "One of the basic elements of the syntactic structure of a program, analogous to a word in a natural language.\n",
    "\n",
    "<a id='1.12'></a>\n",
    "## 1.12. Chapter Assessment\n",
    "[Back to top](#Top)\n",
    "\n",
    "<div class=\"alert alert-block alert-warning\" style=\"margin-top: 20px\">\n",
    "<font color=black>\n",
    "    \n",
    "1. Why create an algorithm?\n",
    "\n",
    "  A. Because computers are better at solving problems.  \n",
    "  B. So that you don't have to solve the problem yourself.  \n",
    "  C. So that you have a general solution to a problem.  \n",
    "  D. Because you need a set of instructions to follow."
   ]
  },
  {
   "cell_type": "markdown",
   "metadata": {},
   "source": [
    "<details><summary>Click here for the solution</summary>\n",
    "\n",
    "<font color=red>► </font>C. So that you have a general solution to a problem..  \n",
    "   \n",
    "<div class=\"alert alert-block alert-success\" style=\"margin-top: 20px\">\n",
    "<font color=black>✔️ Yes, by creating a general solution you can then express it as a program if you choose, and then use a computer to automate the execution.\n",
    "</details>"
   ]
  }
 ],
 "metadata": {
  "kernelspec": {
   "display_name": "Python 3",
   "language": "python",
   "name": "python3"
  },
  "language_info": {
   "codemirror_mode": {
    "name": "ipython",
    "version": 3
   },
   "file_extension": ".py",
   "mimetype": "text/x-python",
   "name": "python",
   "nbconvert_exporter": "python",
   "pygments_lexer": "ipython3",
   "version": "3.8.5"
  }
 },
 "nbformat": 4,
 "nbformat_minor": 4
}
