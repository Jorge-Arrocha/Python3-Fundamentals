{
 "cells": [
  {
   "cell_type": "markdown",
   "metadata": {},
   "source": [
    "<a id='Top'></a>\n",
    "# 3. Debugging\n",
    "<div class=\"alert alert-block alert-danger\" style=\"margin-top: 20px\">\n",
    "<font color=black>\n",
    "\n",
    "- 3.1. [Introduction to Debugging](#3.1)\n",
    "  - 3.1.1. [Learning Goals](#3.1.1)\n",
    "  - 3.1.2. [Objectives](#3.1.2)\n",
    "- 3.2. 👩‍💻 [Debugging](#3.2)\n",
    "  - 3.2.1. [How to Avoid Debugging](#3.2.1)\n",
    "- 3.3. 👩‍💻 [Beginning tips for Debugging](#3.3)\n",
    "- 3.4. [Syntax errors](#3.4)\n",
    "- 3.5. [Runtime Errors](#3.5)\n",
    "- 3.6. [Semantic Errors](#3.6)\n",
    "- 3.7. 👩‍💻 [Know Your Error Messages](#3.7)\n",
    "  - 3.7.1. [SyntaxError](#3.7.1)\n",
    "  - 3.7.2. [TypeError](#3.7.2)\n",
    "  - 3.7.3. [NameError](#3.7.3)\n",
    "  - 3.7.4. [ValueError](#3.7.4)</div>\n",
    "\n",
    "<a id='3.1'></a>\n",
    "## 3.1. Introduction to Debugging\n",
    ">  “The art of debugging is figuring out what you really told your program to  \n",
    "    do rather than what you thought you told it to do.”  — Andrew Singer\n",
    "\n",
    "This chapter will spend some time talking about what happens when errors occur as well as how to fix the errors that you will inevitably come across.\n",
    "\n",
    "Before computers became digital, debugging could mean looking for insects impeding the functioning of physical relays as in this somewhat [<font color=blue>apocryphal tale</font>](https://www.computerworld.com/article/2515435/app-development/moth-in-the-machine--debugging-the-origins-of--bug-.html) about [<font color=blue>Admiral Grace Hopper</font>](https://en.wikipedia.org/wiki/Admiral_Grace_Hopper), a pioneer of computer programming.\n",
    "\n",
    "Nowadays, debugging doesn’t involve bug guts all over your computer but it can still be just as frustrating. To cope with this frustration, this chapter will present some strategies to help you understand why the program you wrote does not behave as intended.\n",
    "\n",
    "<a id='3.1.1'></a>\n",
    "### 3.1.1. Learning Goals\n",
    "[Back to top](#Top)\n",
    "    \n",
    "- To understand good programming strategies to avoid errors\n",
    "- To understand common kinds of exceptions and their likely causes\n",
    "\n",
    "<a id='3.1.2'></a>\n",
    "### 3.1.2. Objectives\n",
    "[Back to top](#Top)\n",
    "    \n",
    "- Given a piece of code identify the Syntax errors based on error messages\n",
    "- Given a piece of code find the (ValueError, TypeError, SyntaxError, ParseError, NameError)\n",
    "\n",
    "<a id='3.2'></a>\n",
    "## 3.2. 👩‍💻 Debugging\n",
    "[Back to top](#Top)\n",
    "    \n",
    "Programming is a complex process. Since it is done by human beings, errors may often occur. Programming errors are called __bugs__ and the process of tracking them down and correcting them is called __debugging__. Some claim that in 1945, a dead moth caused a problem on relay number 70, panel F, of one of the first computers at Harvard, and the term __bug__ has remained in use since. For more about this historic event, see [<font color=blue>first bug</font>](http://en.wikipedia.org/wiki/File:H96566k.jpg).\n",
    "\n",
    "One of the most important skills you need to acquire to complete this book successfully is the ability to debug your programs. Debugging might be the most under-appreciated, and under-taught, skill in introductory computer science. For that reason we are introducing a series of “debugging interludes.” Debugging is a skill that you need to master over time, and some of the tips and tricks are specific to different aspects of Python programming. So look for additional Way of the Programmer interludes throughout the rest of this book.\n",
    "\n",
    "Programming is an odd thing in a way. Here is why. As programmers we spend 99% of our time trying to get our program to work. We struggle, we stress, we spend hours deep in frustration trying to get our program to execute correctly. Then when we do get it going we celebrate, hand it in, and move on to the next homework assignment or programming task. But here is the secret, when you are successful, you are happy, your brain releases a bit of chemical that makes you feel good. You need to organize your programming so that you have lots of little successess. It turns out your brain doesn’t care all that much if you have successfully written hello world, or a fast fourier transform (trust me its hard) you still get that little release that makes you happy. When you are happy you want to go on and solve the next little problem. Essentially I’m telling you once again, start small, get something small working, and then add to it.\n",
    "\n",
    "<a id='3.2.1'></a>\n",
    "### 3.2.1. How to Avoid Debugging\n",
    "[Back to top](#Top)\n",
    "    \n",
    "Perhaps the most important lesson in debugging is that it is __largely avoidable__ – if you work carefully.\n",
    "\n",
    "1. __Understand the Problem__ You must have a firm grasp on __what__ you are trying to accomplish but not necessarily how to do it. You do not need to understand the entire problem. But you must understand at least a portion of it and what the program should do in a specific circumstance – what output should be produced for some given input. This will allow you to test your progress. You can then identify if a solution is correct or whether there remains work to do or bugs to fix. This is probably the single biggest piece of advice for programmers at every level.\n",
    "\n",
    "2. __Start Small__ It is tempting to sit down and crank out an entire program at once. But, when the program – inevitably – does not work, you have a myriad of options for things that might be wrong. Where to start? Where to look first? How to figure out what went wrong? I’ll get to that in the next section. So, start with something really small. Maybe just two lines and then make sure that runs. Hitting the run button is quick and easy. It gives you immediate feedback about whether what you have just done works or not. Another immediate benefit of having something small working is that you have something to turn in. Turning in a small, incomplete program, is almost always better than nothing.\n",
    "\n",
    "3. __Keep Improving It__ Once you have a small part of your program working, the next step is to figure out something small to add to it – how can you move closer to a correct solution. As you add to your program, you gain greater insight into the underlying problem you are trying to solve.\n",
    "\n",
    "  If you keep adding small pieces of the program one at a time, it is much easier to figure out what went wrong. (This of course means you must be able to recognize if there is an error. And that is done through testing.)\n",
    "\n",
    "  As long as you always test each new bit of code, it is most likely that any error is in the new code you have just added. Less new code means its easier to figure out where the problem is.\n",
    "\n",
    "This notion of __Get something working and keep improving it__ is a mantra that you can repeat throughout your career as a programmer. It’s a great way to avoid the frustrations mentioned above. Think of it this way. Every time you have a little success, your brain releases a tiny bit of chemical that makes you happy. So, you can keep yourself happy and make programming more enjoyable by creating lots of small victories for yourself.\n",
    "\n",
    "<div class=\"alert alert-block alert-info\" style=\"margin-top: 20px\">\n",
    "    <font color=black><b>Note</b><br>\n",
    "        The technique of start small and keep improving is the basis of <b>Agile</b> software development. This practice is used widely in the industry.</div>\n",
    "\n",
    "Ok, lets look at an example. Lets solve the problem posed in question 3 at the end of the Simple Python Data chapter. Ask the user for the time now (in hours 0 – 23), and ask for the number of hours to wait. Your program should output what the time will be on the clock when the alarm goes off.\n",
    "\n",
    "So, where to start? The problem requires two pieces of input from the user, so lets start there and make sure we can get the data we need."
   ]
  },
  {
   "cell_type": "code",
   "execution_count": null,
   "metadata": {},
   "outputs": [],
   "source": [
    "current_time = input(\"what is the current time (in hours)?\")\n",
    "wait_time = input(\"How many hours do you want to wait\")\n",
    "\n",
    "print(current_time)\n",
    "print(wait_time)"
   ]
  },
  {
   "cell_type": "markdown",
   "metadata": {},
   "source": [
    "If you haven’t yet, click Run: get in the habit of checking whether small things are working before you go on.\n",
    "\n",
    "So far so good. Now lets take the next step. We need to figure out what the time will be after waiting <font color=red>wait_time</font> number of hours. A good first approximation to that is to simply add <font color=red>wait_time</font> to <font color=red>current_time</font> and print out the result. So lets try that."
   ]
  },
  {
   "cell_type": "code",
   "execution_count": null,
   "metadata": {},
   "outputs": [],
   "source": [
    "current_time = input(\"what is the current time (in hours 0--23)?\")\n",
    "wait_time = input(\"How many hours do you want to wait\")\n",
    "\n",
    "print(current_time)\n",
    "print(wait_time)\n",
    "\n",
    "final_time = current_time + wait_time\n",
    "print(final_time)"
   ]
  },
  {
   "cell_type": "markdown",
   "metadata": {},
   "source": [
    "Hmm, when you run that example you see that something funny has happened.\n",
    "\n",
    "<div class=\"alert alert-block alert-warning\" style=\"margin-top: 20px\">\n",
    "<font color=black>\n",
    "    \n",
    "1. Which of the following best describes what is wrong with the previous example?\n",
    "\n",
    "  A. Python is stupid and does not know how to add properly.  \n",
    "  B. There is nothing wrong here.  \n",
    "  C. Python is doing string concatenation, not integer addition."
   ]
  },
  {
   "cell_type": "markdown",
   "metadata": {},
   "source": [
    "<details><summary>Click here for the solution</summary>\n",
    "\n",
    "<font color=red>► </font>C. Python is doing string concatenation, not integer addition.    \n",
    "   \n",
    "<div class=\"alert alert-block alert-success\" style=\"margin-top: 20px\">\n",
    "<font color=black>✔️ Yes! Remember that input returns a string. Now we will need to convert the string to an integer.\n",
    "\n",
    "</details>"
   ]
  },
  {
   "cell_type": "markdown",
   "metadata": {},
   "source": [
    "This error was probably pretty simple to spot, because we printed out the value of <font color=red>final_time</font> and it is easy to see that the numbers were just concatenated together rather than added. So what do we do about the problem? We will need to convert both <font color=red>current_time</font> and <font color=red>wait_time</font> to <font color=red>int</font>. At this stage of your programming development, it can be a good idea to include the type of the variable in the variable name itself. So lets look at another iteration of the program that does that, and the conversion to integer."
   ]
  },
  {
   "cell_type": "code",
   "execution_count": null,
   "metadata": {},
   "outputs": [],
   "source": [
    "current_time_str = input(\"what is the current time (in hours 0-23)?\")\n",
    "wait_time_str = input(\"How many hours do you want to wait\")\n",
    "\n",
    "current_time_int = int(current_time_str)\n",
    "wait_time_int = int(wait_time_str)\n",
    "\n",
    "final_time_int = current_time_int + wait_time_int\n",
    "print(final_time_int)"
   ]
  },
  {
   "cell_type": "markdown",
   "metadata": {},
   "source": [
    "Now, that’s a lot better, and in fact depending on the hours you chose, it may be exactly right. If you entered 8 for the current time and 5 for the wait time then 13 is correct. But if you entered 17 (5pm) for the hours and 9 for the wait time then the result of 26 is not correct. This illustrates an important aspect of __testing__, which is that it is important to test your code on a range of inputs. It is especially important to test your code on __boundary conditions__. In this case you would want to test your program for hours including 0, 23, and some in between. You would want to test your wait times for 0, and some really large numbers. What about negative numbers? Negative numbers don’t make sense, but since we don’t really have the tools to deal with telling the user when something is wrong we will not worry about that just yet.\n",
    "\n",
    "So finally we need to account for those numbers that are bigger than 23. For this we will need one final step, using the modulo operator."
   ]
  },
  {
   "cell_type": "code",
   "execution_count": null,
   "metadata": {},
   "outputs": [],
   "source": [
    "current_time_str = input(\"what is the current time (in hours 0-23)?\")\n",
    "wait_time_str = input(\"How many hours do you want to wait\")\n",
    "\n",
    "current_time_int = int(current_time_str)\n",
    "wait_time_int = int(wait_time_str)\n",
    "\n",
    "final_time_int = current_time_int + wait_time_int\n",
    "\n",
    "final_answer = final_time_int % 24\n",
    "\n",
    "print(\"The time after waiting is: \", final_answer)"
   ]
  },
  {
   "cell_type": "markdown",
   "metadata": {},
   "source": [
    "Of course even in this simple progression, there are other ways you could have gone astray. We’ll look at some of those and how you track them down in the next section.\n",
    "\n",
    "#### Check your understanding\n",
    "<div class=\"alert alert-block alert-warning\" style=\"margin-top: 20px\">\n",
    "<font color=black>\n",
    "    \n",
    "1. Debugging is:\n",
    "\n",
    "  A. tracking down programming errors and correcting them.  \n",
    "  B. removing all the bugs from your house.  \n",
    "  C. finding all the bugs in the program.  \n",
    "  D. fixing the bugs in the program."
   ]
  },
  {
   "cell_type": "markdown",
   "metadata": {},
   "source": [
    "<details><summary>Click here for the solution</summary>\n",
    "\n",
    "<font color=red>► </font>A. tracking down programming errors and correcting them.    \n",
    "   \n",
    "<div class=\"alert alert-block alert-success\" style=\"margin-top: 20px\">\n",
    "<font color=black>✔️ Programming errors are called bugs and the process of finding and removing them from a program is called debugging.\n",
    "\n",
    "</details>"
   ]
  },
  {
   "cell_type": "markdown",
   "metadata": {},
   "source": [
    "<a id='3.3'></a>\n",
    "## 3.3. 👩‍💻 Beginning tips for Debugging\n",
    "[Back to top](#Top)\n",
    "\n",
    "Debugging a program is a different way of thinking than writing a program. The process of debugging is much more like being a detective. Here are a few rules to get you thinking about debugging.\n",
    "\n",
    "1. Everyone is a suspect (Except Python)! It’s common for beginner programmers to blame Python, but that should be your last resort. Remember that Python has been used to solve CS1 level problems millions of times by millions of other programmers. So, Python is probably not the problem.<br><br>\n",
    "\n",
    "2. Check your assumptions. At this point in your career you are still developing your mental model of how Python does its work. Its natural to think that your code is correct, but with debugging you need to make your code the primary suspect. Even if you think it is right, you should verify that it really is by liberally using print statements to verify that the values of variables really are what you think they should be. You’ll be surprised how often they are not.<br><br>\n",
    "\n",
    "3. Find clues. This is the biggest job of the detective and right now there are two important kinds of clues for you to understand.\n",
    "\n",
    "  - Error Messages\n",
    "  - Print Statements\n",
    "\n",
    "Three kinds of errors can occur in a program: [<font color=blue>syntax errors</font>](http://en.wikipedia.org/wiki/Syntax_error), [<font color=blue>runtime errors</font>](http://en.wikipedia.org/wiki/Runtime_error), and [<font color=blue>semantic errors</font>](http://en.wikipedia.org/wiki/Logic_error). It is useful to distinguish between them in order to track them down more quickly.\n",
    "\n",
    "<a id='3.4'></a>\n",
    "## 3.4. Syntax errors\n",
    "[Back to top](#Top)\n",
    "\n",
    "Python can only execute a program if the program is syntactically correct; otherwise, the process fails and returns an error message. __Syntax__ refers to the structure of a program and the rules about that structure. For example, in English, a sentence must begin with a capital letter and end with a period. this sentence contains a __syntax error__. So does this one\n",
    "\n",
    "For most readers, a few syntax errors are not a significant problem, which is why we can read the poetry of e. e. cummings without problems. Python is not so forgiving. If there is a single syntax error anywhere in your program, Python will display an error message and quit. You will not be able to complete the execution of your program. During the first few weeks of your programming career, you will probably spend a lot of time tracking down syntax errors. However, as you gain experience, you will make fewer errors and you will also be able to find your errors faster.\n",
    "\n",
    "Can you spot the syntax error in the code below?"
   ]
  },
  {
   "cell_type": "code",
   "execution_count": null,
   "metadata": {},
   "outputs": [],
   "source": [
    "print(\"Hello World!\""
   ]
  },
  {
   "cell_type": "markdown",
   "metadata": {},
   "source": [
    "#### Check your understanding\n",
    "<div class=\"alert alert-block alert-warning\" style=\"margin-top: 20px\">\n",
    "<font color=black>\n",
    "    \n",
    "1. Which of the following is a syntax error?\n",
    "\n",
    "  A. Attempting to divide by 0.  \n",
    "  B. Forgetting a colon at the end of a statement where one is required.  \n",
    "  C. Forgetting to divide by 100 when printing a percentage amount."
   ]
  },
  {
   "cell_type": "markdown",
   "metadata": {},
   "source": [
    "<details><summary>Click here for the solution</summary>\n",
    "\n",
    "<font color=red>► </font>B. Forgetting a colon at the end of a statement where one is required.    \n",
    "   \n",
    "<div class=\"alert alert-block alert-success\" style=\"margin-top: 20px\">\n",
    "<font color=black>✔️ This is a problem with the formal structure of the program. Python knows where colons are required and can detect when one is missing simply by looking at the code without running it.\n",
    "\n",
    "</details>"
   ]
  },
  {
   "cell_type": "markdown",
   "metadata": {},
   "source": [
    "<div class=\"alert alert-block alert-warning\" style=\"margin-top: 20px\">\n",
    "<font color=black>\n",
    "    \n",
    "2. Who or what typically finds syntax errors?\n",
    "\n",
    "  A. The programmer.  \n",
    "  B. The compiler / interpreter.  \n",
    "  C. The computer.  \n",
    "  D. The teacher / instructor."
   ]
  },
  {
   "cell_type": "markdown",
   "metadata": {},
   "source": [
    "<details><summary>Click here for the solution</summary>\n",
    "\n",
    "<font color=red>► </font>B. The compiler / interpreter.    \n",
    "   \n",
    "<div class=\"alert alert-block alert-success\" style=\"margin-top: 20px\">\n",
    "<font color=black>✔️ The compiler and / or interpreter is a computer program that determines if your program is written in a way that can be translated into machine language for execution.\n",
    "\n",
    "</details>"
   ]
  },
  {
   "cell_type": "markdown",
   "metadata": {},
   "source": [
    "<a id='3.5'></a>\n",
    "## 3.5. Runtime Errors\n",
    "[Back to top](#Top)\n",
    "\n",
    "The second type of error is a runtime error, so called because the error does not appear until you run the program. These errors are also called __exceptions__ because they usually indicate that something exceptional (and bad) has happened.\n",
    "\n",
    "Runtime errors are rare in the simple programs you will see in the first few chapters, so it might be a while before you encounter one.\n",
    "\n",
    "#### Check your understanding\n",
    "<div class=\"alert alert-block alert-warning\" style=\"margin-top: 20px\">\n",
    "<font color=black>\n",
    "    \n",
    "1. Which of the following is a run-time error?\n",
    "\n",
    "  A. Attempting to divide by 0.  \n",
    "  B. Forgetting a colon at the end of a statement where one is required.  \n",
    "  C. Forgetting to divide by 100 when printing a percentage amount."
   ]
  },
  {
   "cell_type": "markdown",
   "metadata": {},
   "source": [
    "<details><summary>Click here for the solution</summary>\n",
    "\n",
    "<font color=red>► </font>A. Attempting to divide by 0.    \n",
    "   \n",
    "<div class=\"alert alert-block alert-success\" style=\"margin-top: 20px\">\n",
    "<font color=black>✔️ Python cannot reliably tell if you are trying to divide by 0 until it is executing your program (e.g., you might be asking the user for a value and then dividing by that value—you cannot know what value the user will enter before you run the program).\n",
    "\n",
    "</details>"
   ]
  },
  {
   "cell_type": "markdown",
   "metadata": {},
   "source": [
    "<div class=\"alert alert-block alert-warning\" style=\"margin-top: 20px\">\n",
    "<font color=black>\n",
    "    \n",
    "2. Who or what typically finds runtime errors?\n",
    "\n",
    "  A. The programmer.  \n",
    "  B. The interpreter.  \n",
    "  C. The computer.  \n",
    "  D. The teacher / instructor."
   ]
  },
  {
   "cell_type": "markdown",
   "metadata": {},
   "source": [
    "<details><summary>Click here for the solution</summary>\n",
    "\n",
    "<font color=red>► </font>B. The interpreter.    \n",
    "   \n",
    "<div class=\"alert alert-block alert-success\" style=\"margin-top: 20px\">\n",
    "<font color=black>✔️ If an instruction is illegal to perform at that point in the execution, the interpreter will stop with a message describing the exception.\n",
    "\n",
    "</details>"
   ]
  },
  {
   "cell_type": "markdown",
   "metadata": {},
   "source": [
    "<a id='3.6'></a>\n",
    "## 3.6. Semantic Errors\n",
    "[Back to top](#Top)\n",
    "\n",
    "The third type of error is the __semantic error__. If there is a semantic error in your program, it will run successfully in the sense that the computer will not generate any error messages. However, your program will not do the right thing. It will do something else. Specifically, it will do what you told it to do.\n",
    "\n",
    "The problem is that the program you wrote is not the program you wanted to write. The meaning of the program (its semantics) is wrong. Identifying semantic errors can be tricky because it requires you to work backward by looking at the output of the program and trying to figure out what it is doing.\n",
    "\n",
    "#### Check your understanding\n",
    "<div class=\"alert alert-block alert-warning\" style=\"margin-top: 20px\">\n",
    "<font color=black>\n",
    "    \n",
    "1. Which of the following is a semantic error?\n",
    "\n",
    "  A. Attempting to divide by 0.  \n",
    "  B. Forgetting a semi-colon at the end of a statement where one is required.  \n",
    "  C. Forgetting to divide by 100 when printing a percentage amount."
   ]
  },
  {
   "cell_type": "markdown",
   "metadata": {},
   "source": [
    "<details><summary>Click here for the solution</summary>\n",
    "\n",
    "<font color=red>► </font>C. Forgetting to divide by 100 when printing a percentage amount.    \n",
    "   \n",
    "<div class=\"alert alert-block alert-success\" style=\"margin-top: 20px\">\n",
    "<font color=black>✔️ This will produce the wrong answer because the programmer implemented the solution incorrectly. This is a semantic error.\n",
    "\n",
    "</details>"
   ]
  },
  {
   "cell_type": "markdown",
   "metadata": {},
   "source": [
    "<div class=\"alert alert-block alert-warning\" style=\"margin-top: 20px\">\n",
    "<font color=black>\n",
    "    \n",
    "2. Who or what typically finds semantic errors?\n",
    "\n",
    "  A. The programmer.  \n",
    "  B. The compiler / interpreter.  \n",
    "  C. The computer.  \n",
    "  D. The teacher / instructor."
   ]
  },
  {
   "cell_type": "markdown",
   "metadata": {},
   "source": [
    "<details><summary>Click here for the solution</summary>\n",
    "\n",
    "<font color=red>► </font>A. The programmer.    \n",
    "   \n",
    "<div class=\"alert alert-block alert-success\" style=\"margin-top: 20px\">\n",
    "<font color=black>✔️ You must fully understand the problem so the you can tell if your program properly solves it.\n",
    "\n",
    "</details>"
   ]
  },
  {
   "cell_type": "markdown",
   "metadata": {},
   "source": [
    "<a id='3.7'></a>\n",
    "## 3.7. 👩‍💻 Know Your Error Messages\n",
    "[Back to top](#Top)\n",
    "\n",
    "Many problems in your program will lead to an error message. For example as I was writing and testing this chapter of the book I wrote the following version of the example program in the previous section."
   ]
  },
  {
   "cell_type": "code",
   "execution_count": null,
   "metadata": {},
   "outputs": [],
   "source": [
    "current_time_str = input(\"What is the current time (in hours 0-23)?\")\n",
    "wait_time_str = input(\"How many hours do you want to wait\")\n",
    "\n",
    "current_time_int = int(current_time_str)\n",
    "wait_time_int = int(wait_time_int)\n",
    "\n",
    "final_time_int = current_time_int + wait_time_int\n",
    "print(final_time_int)"
   ]
  },
  {
   "cell_type": "markdown",
   "metadata": {},
   "source": [
    "Can you see what is wrong, just by looking at the code? Maybe, maybe not. Our brain tends to see what we think is there, so sometimes it is very hard to find the problem just by looking at the code. Especially when it is our own code and we are sure that we have done everything right!\n",
    "\n",
    "Let’s try the program again, but this time in an activecode:"
   ]
  },
  {
   "cell_type": "code",
   "execution_count": null,
   "metadata": {},
   "outputs": [],
   "source": [
    "current_time_str = input(\"What is the current time (in hours 0-23)?\")\n",
    "wait_time_str = input(\"How many hours do you want to wait\")\n",
    "\n",
    "current_time_int = int(current_time_str)\n",
    "wait_time_int = int(wait_time_int)\n",
    "\n",
    "final_time_int = current_time_int + wait_time_int\n",
    "print(final_time_int)"
   ]
  },
  {
   "cell_type": "markdown",
   "metadata": {},
   "source": [
    "Aha! Now we have an error message that might be useful. The name error tells us that wait_time_int is not defined. It also tells us that the error is on line 5. That’s really useful information. Now look at line five and you will see that wait_time_int is used on both the left and the right hand side of the assignment statement.\n",
    "\n",
    "<div class=\"alert alert-block alert-info\" style=\"margin-top: 20px\">\n",
    "    <font color=black><b>Note</b><br>\n",
    "The error descriptions you see in activecode may be different (and more understandable!) than in a regular Python interpreter. The interpreter in activecode is limited in many ways, but it is intended for beginners, including the wording chosen to describe errors.</div>\n",
    "    \n",
    "#### Check your understanding\n",
    "<div class=\"alert alert-block alert-warning\" style=\"margin-top: 20px\">\n",
    "<font color=black>\n",
    "    \n",
    "1. Which of the following explains why wait_time_int = int(wait_time_int) is an error?\n",
    "\n",
    "  A. You cannot use a variable on both the left and right hand sides of an assignment statement.  \n",
    "  B. wait_time_int does not have a value so it cannot be used on the right hand side.  \n",
    "  C. This is not really an error, Python is broken."
   ]
  },
  {
   "cell_type": "markdown",
   "metadata": {},
   "source": [
    "<details><summary>Click here for the solution</summary>\n",
    "\n",
    "<font color=red>► </font>B. wait_time_int does not have a value so it cannot be used on the right hand side.    \n",
    "   \n",
    "<div class=\"alert alert-block alert-success\" style=\"margin-top: 20px\">\n",
    "<font color=black>✔️ Yes. Variables must already have values in order to be used on the right hand side.\n",
    "\n",
    "</details>"
   ]
  },
  {
   "attachments": {
    "error_dist.png": {
     "image/png": "[encoded data removed]"
    }
   },
   "cell_type": "markdown",
   "metadata": {},
   "source": [
    "In writing and using this book over the last few years we have collected a lot of statistics about the programs in this book. Here are some statistics about error messages for the exercises in this book.\n",
    "\n",
    "![error_dist.png](attachment:error_dist.png)\n",
    "\n",
    "Nearly 90% of the error messages encountered for this problem are SyntaxError, TypeError, NameError, ValueError, or AttributeError. We will look at these errors in three stages:\n",
    "\n",
    "- First we will define what these four error messages mean.\n",
    "- Then, we will look at some examples that cause these errors to occur.\n",
    "- Finally we will look at ways to help uncover the root cause of these messages.\n",
    "\n",
    "<a id='3.7.1'></a>\n",
    "### 3.7.1. SyntaxError\n",
    "[Back to top](#Top)\n",
    "\n",
    "Syntax errors happen when you make an error in the syntax of your program. Syntax errors are like making grammatical errors in writing. If you don’t use periods and commas in your writing then you are making it hard for other readers to figure out what you are trying to say. Similarly Python has certain grammatical rules that must be followed or else Python can’t figure out what you are trying to say.\n",
    "\n",
    "Usually SyntaxErrors can be traced back to missing punctuation characters, such as parentheses, quotation marks, or commas. Remember that in Python commas are used to separate parameters to functions. Paretheses must be balanced, or else Python thinks that you are trying to include everything that follows as a parameter to some function.\n",
    "\n",
    "Here are a couple examples of Syntax errors in the example program we have been using. See if you can figure out what caused them.\n",
    "\n",
    "#### Check your understanding\n",
    "<div class=\"alert alert-block alert-warning\" style=\"margin-top: 20px\">\n",
    "<font color=black>\n",
    "1. Find and fix the error in the following code."
   ]
  },
  {
   "cell_type": "code",
   "execution_count": null,
   "metadata": {},
   "outputs": [],
   "source": [
    "current_time_str = input(\"What is the current time (in hours 0-23)?\")\n",
    "wait_time_str = input(\"How many hours do you want to wait\"\n",
    "\n",
    "current_time_int = int(current_time_str)\n",
    "wait_time_int = int(wait_time_str)\n",
    "\n",
    "final_time_int = current_time_int + wait_time_int\n",
    "print(final_time_int)"
   ]
  },
  {
   "cell_type": "markdown",
   "metadata": {},
   "source": [
    "<details><summary>Click here for a solution</summary>\n",
    "<div class=\"alert alert-block alert-success\" style=\"margin-top: 20px\">\n",
    "<font color=black>\n",
    "    \n",
    "```python\n",
    "current_time_str = input(\"What is the current time (in hours 0-23)?\")\n",
    "wait_time_str = input(\"How many hours do you want to wait\")\n",
    "\n",
    "current_time_int = int(current_time_str)\n",
    "wait_time_int = int(wait_time_str)\n",
    "\n",
    "final_time_int = current_time_int + wait_time_int\n",
    "print(final_time_int)\n",
    "```\n",
    "\n",
    "</details>"
   ]
  },
  {
   "cell_type": "markdown",
   "metadata": {},
   "source": [
    "<details><summary>Click here for the book's answer</summary>\n",
    "<div class=\"alert alert-block alert-success\" style=\"margin-top: 20px\">\n",
    "<font color=black>\n",
    "    \n",
    "```python\n",
    "current_time_str = input(\"What is the current time (in hours 0-23)?\")\n",
    "wait_time_str = input(\"How many hours do you want to wait\"\n",
    "\n",
    "current_time_int = int(current_time_str)\n",
    "wait_time_int = int(wait_time_str)\n",
    "\n",
    "final_time_int = current_time_int + wait_time_int\n",
    "print(final_time_int)\n",
    "```\n",
    "\n",
    "Since the error message points us to line 4 this might be a bit confusing. If you look at line four carefully you will see that there is no problem with the syntax. So, in this case the next step should be to back up and look at the previous line. In this case if you look at line 2 carefully you will see that there is a missing right parenthesis at the end of the line. Remember that parentheses must be balanced. Since Python allows statements to continue over multiple lines inside parentheses python will continue to scan subsequent lines looking for the balancing right parenthesis. However in this case it finds the name <font color=red>current_time_int</font> and it will want to interpret that as another parameter to the input function. But, there is not a comma to separate the previous string from the variable so as far as Python is concerned the error here is a missing comma. From your perspective its a missing parenthesis.\n",
    "    \n",
    "</details>"
   ]
  },
  {
   "cell_type": "markdown",
   "metadata": {},
   "source": [
    "__Finding Clues__ How can you help yourself find these problems? One trick that can be very valuable in this situation is to simply start by commenting out the line number that is flagged as having the error. If you comment out line four, the error message now changes to point to line 5. Now you ask yourself, am I really that bad that I have two lines in a row that have errors on them? Maybe, so taken to the extreme, you could comment out all of the remaining lines in the program. Now the error message changes to <font color=red>TokenError: EOF in multi-line statement</font> This is a very technical way of saying that Python got to the end of file (EOF) while it was still looking for something. In this case a right parenthesis.\n",
    "\n",
    "<div class=\"alert alert-block alert-warning\" style=\"margin-top: 20px\">\n",
    "<font color=black>\n",
    "2. Find and fix the error in the following code."
   ]
  },
  {
   "cell_type": "code",
   "execution_count": null,
   "metadata": {},
   "outputs": [],
   "source": [
    "current_time_str = input(\"What is the \"current time\" (in hours 0-23)?\")\n",
    "wait_time_str = input(\"How many hours do you want to wait\")\n",
    "\n",
    "current_time_int = int(current_time_str)\n",
    "wait_time_int = int(wait_time_str)\n",
    "\n",
    "final_time_int = current_time_int + wait_time_int\n",
    "print(final_time_int)"
   ]
  },
  {
   "cell_type": "markdown",
   "metadata": {},
   "source": [
    "<details><summary>Click here for a solution</summary>\n",
    "<div class=\"alert alert-block alert-success\" style=\"margin-top: 20px\">\n",
    "<font color=black>\n",
    "    \n",
    "```python\n",
    "current_time_str = input(\"What is the 'current time' (in hours 0-23)?\")\n",
    "wait_time_str = input(\"How many hours do you want to wait\")\n",
    "\n",
    "current_time_int = int(current_time_str)\n",
    "wait_time_int = int(wait_time_str)\n",
    "\n",
    "final_time_int = current_time_int + wait_time_int\n",
    "print(final_time_int)\n",
    "```\n",
    "\n",
    "</details>"
   ]
  },
  {
   "cell_type": "markdown",
   "metadata": {},
   "source": [
    "<details><summary>Click here for the book's answer</summary>\n",
    "<div class=\"alert alert-block alert-success\" style=\"margin-top: 20px\">\n",
    "<font color=black>\n",
    "    \n",
    "```python\n",
    "current_time_str = input(\"What is the \"current time\" (in hours 0-23)?\")\n",
    "wait_time_str = input(\"How many hours do you want to wait\")\n",
    "\n",
    "current_time_int = int(current_time_str)\n",
    "wait_time_int = int(wait_time_str)\n",
    "\n",
    "final_time_int = current_time_int + wait_time_int\n",
    "print(final_time_int)\n",
    "```\n",
    "\n",
    "The error message points you to line 1 and in this case that is exactly where the error occurs. In this case your biggest clue is to notice the difference in highlighting on the line. Notice that the words “current time” are a different color than those around them. Why is this? Because “current time” is in double quotes inside another pair of double quotes Python thinks that you are finishing off one string, then you have some other names and finally another string. But you haven’t separated these names or strings by commas, and you haven’t added them together with the concatenation operator (+). So, there are several corrections you could make. First you could make the argument to input be as follows: <font color=red>\"What is the 'current time' (in hours 0-23) \"</font> Notice that here we have correctly used single quotes inside double quotes . Another option is to simply remove the extra double quotes. Why were you quoting “current time” anyway? <font color=red>\"What is the current time (in hours 0-23)\"</font>\n",
    "\n",
    "</details>"
   ]
  },
  {
   "cell_type": "markdown",
   "metadata": {},
   "source": [
    "__Finding Clues__ If you follow the same advice as for the last problem, comment out line one, you will immediately get a different error message. Here’s where you need to be very careful and not panic. The error message you get now is: <font color=red>NameError: name 'current_time_str' is not defined on line 4</font>. You might be very tempted to think that this is somehow related to the earlier problem and immediately conclude that there is something wrong with the variable name <font color=red>current_time_str</font> but if you reflect for a minute you will see that by commenting out line one you have caused a new and unrelated error. That is you have commented out the creation of the name <font color=red>current_time_str</font>. So of course when you want to convert it to an <font color=red>int</font> you will get the NameError. Yes, this can be confusing, but it will become much easier with experience. It’s also important to keep calm, and evaluate each new clue carefully so you don’t waste time chasing problems that are not really there.\n",
    "\n",
    "Uncomment line 1 and you are back to the SyntaxError. Another track is to eliminate a possible source of error. Rather than commenting out the entire line you might just try to assign <font color=red>current_time_str</font> to a constant value. For example you might make line one look like this: <font color=red>current_time_str = \"10\"  #input(\"What is the \"current time\" (in hours 0-23)?\")</font>. Now you have assigned <font color=red>current_time_str</font> to the string 10, and commented out the input statement. And now the program works! So you conclude that the problem must have something to do with the input function.\n",
    "\n",
    "<a id='3.7.2'></a>\n",
    "### 3.7.2. TypeError\n",
    "[Back to top](#Top)\n",
    "\n",
    "TypeErrors occur when you you try to combine two objects that are not compatible. For example you try to add together an integer and a string. Usually type errors can be isolated to lines that are using mathematical operators, and usually the line number given by the error message is an accurate indication of the line.\n",
    "\n",
    "#### Check your understanding\n",
    "<div class=\"alert alert-block alert-warning\" style=\"margin-top: 20px\">\n",
    "<font color=black>\n",
    "1. Here’s an example of a type error created by a Polish learner. See if you can find and fix the error."
   ]
  },
  {
   "cell_type": "code",
   "execution_count": null,
   "metadata": {},
   "outputs": [],
   "source": [
    "a = input('wpisz godzine')\n",
    "x = input('wpisz liczbe godzin')\n",
    "int(x)\n",
    "int(a)\n",
    "h = x // 24\n",
    "s = x % 24\n",
    "print (h, s)\n",
    "a = a + s\n",
    "print ('godzina teraz', a)"
   ]
  },
  {
   "cell_type": "markdown",
   "metadata": {},
   "source": [
    "<details><summary>Click here for the book's answer</summary>\n",
    "<div class=\"alert alert-block alert-success\" style=\"margin-top: 20px\">\n",
    "<font color=black>\n",
    "    \n",
    "__Solution__  \n",
    "In finding this error there are few lessons to think about. First, you may find it very disconcerting that you cannot understand the whole program. Unless you speak Polish then this won’t be an issue. But, learning what you can ignore, and what you need to focus on is a very important part of the debugging process. Second, types and good variable names are important and can be very helpful. In this case a and x are not particularly helpful names, and in particular they do not help you think about the types of your variables, which as the error message implies is the root of the problem here. The rest of the lessons we will get back to in a minute.\n",
    "\n",
    "The error message provided to you gives you a pretty big hint. <font color=red>TypeError: unsupported operand type(s) for FloorDiv: 'str' and 'number' on line: 5</font> On line five we are trying to use integer division on x and 24. The error message tells you that you are tyring to divide a string by a number. In this case you know that 24 is a number so x must be a string. But how? You can see the function call on line 3 where you are converting x to an integer. <font color=red>int(x)</font> or so you think. This is lesson three and is one of the most common errors we see in introductory programming. What is the difference between <font color=red>int(x)</font> and <font color=red>x = int(x)</font>.\n",
    "\n",
    "- The expression <font color=red>int(x)</font> converts the string referenced by x to an integer but it does not store it anywhere. It is very common to assume that <font color=red>int(x)</font>) somehow changes x itself, as that is what you are intending! The thing that makes this very tricky is that <font color=red>int(x)</font> is a valid expression, so it doesn’t cause any kind of error, but rather the error happens later on in the program.\n",
    "\n",
    "- The assignment statement <font color=red>x = int(x)</font> is very different. Again, the <font color=red>int(x)</font> expression converts the string referenced by x to an integer, but this time it also changes what x references so that x now refers to the integer value returned by the <font color=red>int</font> function.\n",
    "\n",
    "So, the solution to this problem is to change lines 3 and 4 so they are assignment statements.\n",
    "\n",
    "</details>"
   ]
  },
  {
   "cell_type": "markdown",
   "metadata": {},
   "source": [
    "__Finding Clues__ One thing that can help you in this situation is to print out the values and the types of the variables involved in the statement that is causing the error. You might try adding a print statement after line 4 <font color=red>print(x, type(x))</font> You will see that at least we have confirmed that x is of type string. Now you need to start to work backward through the program. You need to ask yourself, where is x used in the program? x is used on lines 2, 3, and of course 5 and 6 (where we are getting an error). So maybe you move the print statement to be after line 2 and again after 3. Line 3 is where you expect the value of x to be changed to an integer. Could line 4 be mysteriously changing x back to a string? Not very likely. So the value and type of x is just what you would expect it to be after line 2, but not after line 3. This helps you isolate the problem to line 3. In fact if you employ one of our earlier techniques of commenting out line 3 you will see that this has no impact on the error, and is a big clue that line 3 as it is currently written is useless.\n",
    "\n",
    "<a id='3.7.3'></a>\n",
    "### 3.7.3. NameError\n",
    "[Back to top](#Top)\n",
    "\n",
    "Name errors almost always mean that you have used a variable before it has a value. Often NameErrors are simply caused by typos in your code. They can be hard to spot if you don’t have a good eye for catching spelling mistakes. Other times you may simply mis-remember the name of a variable or even a function you want to call. You have seen one example of a NameError at the beginning of this section. Here is another one. \n",
    "\n",
    "<div class=\"alert alert-block alert-warning\" style=\"margin-top: 20px\">\n",
    "<font color=black>\n",
    "2. See if you can get this program to run successfully:"
   ]
  },
  {
   "cell_type": "code",
   "execution_count": null,
   "metadata": {},
   "outputs": [],
   "source": [
    "str_time = input(\"What time is it now?\")\n",
    "str_wait_time = input(\"What is the number of hours to wait?\")\n",
    "time = int(str_time)\n",
    "wai_time = int(str_wait_time)\n",
    "\n",
    "time_when_alarm_go_off = time + wait_time\n",
    "print(time_when_alarm_go_off)"
   ]
  },
  {
   "cell_type": "markdown",
   "metadata": {},
   "source": [
    "<details><summary>Click here for the book's answer</summary>\n",
    "<div class=\"alert alert-block alert-success\" style=\"margin-top: 20px\">\n",
    "<font color=black>\n",
    "    \n",
    "__Solution__  \n",
    "In this example, the student seems to be a fairly bad speller, as there are a number of typos to fix. The first one is identified as wait_time is not defined on line 6. Now in this example you can see that there is <font color=red>str_wait_time</font> on line 2, and <font color=red>wai_time</font> on line 4 and <font color=red>wait_time</font> on line 6. If you do not have very sharp eyes its easy to miss that there is a typo on line 4.\n",
    "    \n",
    "</details>"
   ]
  },
  {
   "cell_type": "markdown",
   "metadata": {},
   "source": [
    "__Finding Clues__ With name errors one of the best things you can do is use the editor, or browser search function. Quite often if you search for the exact word in the error message one of two things will happen:\n",
    "\n",
    "1. The word you are searching for will appear only once in your code, it’s also likely that it will be on the right hand side of an assignment statement, or as a parameter to a function. That should confirm for you that you have a typo somewhere. If the name in question __is__ what you thought it should be then you probably have a typo on the left hand side of an assignment statement on a line before your error message occurs. Start looking backward at your assignment statements. In some cases it’s really nice to leave all the highlighted strings from the search function visible as they will help you very quickly find a line where you might have expected your variable to be highlighted.\n",
    "\n",
    "2. The second thing that may happen is that you will be looking directly at a line where you expected the search to find the string in question, but it will not be highlighted. Most often that will be the typo right there.\n",
    "\n",
    "<div class=\"alert alert-block alert-warning\" style=\"margin-top: 20px\">\n",
    "<font color=black>\n",
    "3. Here is another one for you to try:"
   ]
  },
  {
   "cell_type": "code",
   "execution_count": null,
   "metadata": {},
   "outputs": [],
   "source": [
    "n = input(\"What time is it now (in hours)?\")\n",
    "n = imt(n)\n",
    "m = input(\"How many hours do you want to wait?\")\n",
    "m = int(m)\n",
    "sum_time = n + m\n",
    "time_of_day = sum_time % 12\n",
    "print(\"The time is now\", time_of_day)"
   ]
  },
  {
   "cell_type": "markdown",
   "metadata": {},
   "source": [
    "<details><summary>Click here for the book's answer</summary>\n",
    "<div class=\"alert alert-block alert-success\" style=\"margin-top: 20px\">\n",
    "<font color=black>\n",
    "    \n",
    "__Solution__  \n",
    "This one is once again a typo, but the typo is not in a variable name, but rather, the name of a function. The search strategy would help you with this one easily, but there is another clue for you as well. The editor in the textbook, as well as almost all Python editors in the world provide you with color clues. Notice that on line 2 the function <font color=red>imt</font> is not highlighted blue like the word <font color=red>int</font> on line 4.\n",
    "    \n",
    "</details>"
   ]
  },
  {
   "cell_type": "markdown",
   "metadata": {},
   "source": [
    "<div class=\"alert alert-block alert-warning\" style=\"margin-top: 20px\">\n",
    "<font color=black>\n",
    "4. And one last bit of code to fix:"
   ]
  },
  {
   "cell_type": "code",
   "execution_count": null,
   "metadata": {},
   "outputs": [],
   "source": [
    "present_time = input(\"Enter the present timein hours:\")\n",
    "set_alarm = input(\"Set the hours for alarm:\")\n",
    "int (present_time, set_time, alarm_time)\n",
    "alarm_time = present_time + set_alarm\n",
    "print(alarm_time)"
   ]
  },
  {
   "cell_type": "markdown",
   "metadata": {},
   "source": [
    "<details><summary>Click here for the book's answer</summary>\n",
    "<div class=\"alert alert-block alert-success\" style=\"margin-top: 20px\">\n",
    "<font color=black>\n",
    "    \n",
    "__Solution__  \n",
    "In this example the error message is about <font color=red>set_time</font> not defined on line 3. In this case the undefined name is not used in an assignment statement, but is used as a parameter (incorrectly) to a function call. A search on <font color=red>set_time</font> reveals that in fact it is only used once in the program. Did the author mean <font color=red>set_alarm</font>? If we make that assumption we immediately get another error <font color=red>NameError: name 'alarm_time' is not defined on line: 3</font>. The variable <font color=red>alarm_time</font> is defined on line 4, but that does not help us on line 3. Furthermore we now have to ask the question is this function call <font color=red>int(present_time, set_alarm, alarm_time)</font> even the correct use of the <font color=red>int</font> function? The answer to that is a resounding no. Let’s list all of the things wrong with line 3:\n",
    "\n",
    "1. <font color=red>set_time</font> is not defined and never used, the author probably meant <font color=red>set_alarm</font>.\n",
    "2. <font color=red>alarm_time</font> cannot be used as a parameter before it is defined, even on the next line!\n",
    "3. <font color=red>int</font> can only convert one string to an integer at a time.\n",
    "4. Finally, <font color=red>int</font> should be used in an assignment statement. Even if <font color=red>int</font> was called with the correct number of parameters it would have no real effect.\n",
    "    \n",
    "</details>"
   ]
  },
  {
   "cell_type": "markdown",
   "metadata": {},
   "source": [
    "<a id='3.7.4'></a>\n",
    "### 3.7.4. ValueError\n",
    "[Back to top](#Top)\n",
    "\n",
    "Value errors occur when you pass a parameter to a function and the function is expecting a certain limitations on the values, and the value passed is not compatible. We can illustrate that with this particular program in two different ways."
   ]
  },
  {
   "cell_type": "code",
   "execution_count": null,
   "metadata": {},
   "outputs": [],
   "source": [
    "current_time_str = input(\"What is the current time (in hours 0-23)?\")\n",
    "current_time_int = int(current_time_str)\n",
    "\n",
    "wait_time_str = input(\"How many hours do you want to wait\")\n",
    "wait_time_int = int(wait_time_int)\n",
    "\n",
    "final_time_int = current_time_int + wait_time_int\n",
    "print(final_time_int)"
   ]
  },
  {
   "cell_type": "markdown",
   "metadata": {},
   "source": [
    "Run the program but instead of typing in anything to the dialog box just click OK. You should see the following error message: <font color=red>ValueError: invalid literal for int() with base 10: '' on line: 4</font> This error is not because you have made a mistake in your program. Although sometimes we do want to check the user input to make sure its valid, but we don’t have all the tools we need for that yet. The error happens because the user did not give us something we can convert to an integer, instead we gave it an empty string. Try running the program again. Now this time enter “ten” instead of the number 10. You will get a similar error message.\n",
    "\n",
    "ValueErrors are not always caused by user input error, but in this program that is the case. We’ll look again at ValueErrors again when we get to more complicated programs. For now it is worth repeating that you need to keep track of the restrictions needed for your variables, and understand what your function is expecting. You can do this by writing comments in your code, or by naming your variables in a way that reminds you of their proper form."
   ]
  }
 ],
 "metadata": {
  "kernelspec": {
   "display_name": "Python 3",
   "language": "python",
   "name": "python3"
  },
  "language_info": {
   "codemirror_mode": {
    "name": "ipython",
    "version": 3
   },
   "file_extension": ".py",
   "mimetype": "text/x-python",
   "name": "python",
   "nbconvert_exporter": "python",
   "pygments_lexer": "ipython3",
   "version": "3.8.5"
  }
 },
 "nbformat": 4,
 "nbformat_minor": 4
}
