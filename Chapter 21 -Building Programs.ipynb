{
 "cells": [
  {
   "cell_type": "markdown",
   "metadata": {},
   "source": [
    "<a id='Top'></a>\n",
    "# 21. Building Programs\n",
    "<div class=\"alert alert-block alert-danger\" style=\"margin-top: 20px\">\n",
    "<font color=black>\n",
    "\n",
    "- 21.1. [Building A Program: A Strategy](#21.1)\n",
    "  - 21.1.1. [Sketch an Outline](#21.1.1)\n",
    "  - 21.1.2. [Code One Section at a Time](#21.1.2)\n",
    "  - 21.1.3. [Clean Up](#21.1.3)\n",
    "- 21.2. 👩‍💻 [Sketch an Outline](#21.2)\n",
    "- 21.3. 👩‍💻 [Code one section at a time](#21.3)\n",
    "- 21.4. 👩‍💻 [Clean Up](#21.4)</div>\n",
    "    \n",
    "<a id='21.1'></a>\n",
    "## 21.1. Building A Program: A Strategy\n",
    "Building on lessons learned in the first debugging interlude, this chapter offers a strategy for writing a program to solve a problem such as those that appear in the exercises at the ends of the chapters in this book. (A similar approach is helpful for writing larger programs, but that will come later.)\n",
    "\n",
    "\n",
    "<div class=\"alert alert-block alert-info\" style=\"margin-top: 20px\">\n",
    "    <font color=black><b>Warning</b><br>\n",
    "\n",
    "You may find it tempting to start an exercise by copying and pasting a snippet of code from somewhere in the textbook, and hoping that a small edit will lead to a solution to the current problem. Often this will lead to frustration and confusion; after trying a few code substitutions that feel vaguely familiar to you, you’ll find the code looking kind of complicated and the outputs baffling.\n",
    "\n",
    "Copying and editing snippets of code is actually a useful element of the strategy we outline below. But it comes a little later in the process, not as the first thing. And it requires a fair bit of work to make sure you understand the code snippet that you’ve copied. Only then will you be able to find the *right* small edits to the code snippet to make it do what you want.</div>\n",
    "\n",
    "There are three basic steps to the strategy we recommend: Outline; Code One Section at a Time; Clean Up.\n",
    "\n",
    "<a id='21.1.1'></a>\n",
    "### 21.1.1. Sketch an Outline\n",
    "[Back to top](#Top)\n",
    "    \n",
    "We are suggesting you first write down all the steps you want the program to do. You can do this in any manner you like. We are going to show you how to outline using comments, but if you are more visual you might want to sketch on a piece of paper and if you are more spatial try walking around the room. The big trick is to understand everything you want to do first in your own words, so then you are translating them to the computer.\n",
    "\n",
    "<a id='21.1.2'></a>\n",
    "### 21.1.2. Code One Section at a Time\n",
    "[Back to top](#Top)\n",
    "    \n",
    "After you outline your program, you should write code one section at a time, and carefully test that section before you go on. The idea here is to make sure your program is doing what you think it’s doing at each stage.\n",
    "\n",
    "Translating your English description of a step into code may be the most challenging step for you early in your learning about programming. Later it will come more naturally. Here is a checklist of questions that you may find useful in trying to find the right python code to express your idea, based on what you’ve learned so far:\n",
    "\n",
    "- Is this operation pulling out an item from a list or string or dictionary? If so, use [ ] to pull out the item you want.\n",
    "- Is this operation transforming a string into another string? If so, look at the summary of string methods.\n",
    "- Is this operation modifying a list? If so, look at the material on lists.\n",
    "- Is the operation doing something multiple times? If so, you’ll want a <font color=red>for</font> loop. Start by making a skeleton version of a for loop, and then fill in the parts that are in \\<brackets\\>"
   ]
  },
  {
   "cell_type": "code",
   "execution_count": null,
   "metadata": {},
   "outputs": [],
   "source": [
    "for <varname> in <seq>:\n",
    "                <code block line 1>\n",
    "                <code block line 2>\n",
    "                ..."
   ]
  },
  {
   "cell_type": "markdown",
   "metadata": {},
   "source": [
    "- Is the operation something that should only occur in some circumstances and not in others? If so, you’ll want an <font color=red>if</font> statement. Start by making a skeleton version of an if/then/else code snippet, and then fill in the parts that are in \\<brackets\\>"
   ]
  },
  {
   "cell_type": "code",
   "execution_count": null,
   "metadata": {},
   "outputs": [],
   "source": [
    "if <boolean exp>:\n",
    "  <if block here>\n",
    "  ...\n",
    "else:\n",
    "  <else block here>\n",
    "  ..."
   ]
  },
  {
   "cell_type": "markdown",
   "metadata": {},
   "source": [
    "- Is this an accumulator pattern? If so, start by making a skeleton version of it, and then fill it in."
   ]
  },
  {
   "cell_type": "code",
   "execution_count": null,
   "metadata": {},
   "outputs": [],
   "source": [
    "#initialize accumulator\n",
    "a = <initial value>\n",
    "\n",
    "for <varname> in <seq>:\n",
    "  <some code in for block>\n",
    "  a = <new_value>\n",
    "  <other code in for block>\n",
    "print(a)"
   ]
  },
  {
   "cell_type": "markdown",
   "metadata": {},
   "source": [
    "Finally, you may be reminded of a snippet of code somewhere in the textbook that did something similar to what you want to do. Now is the time to copy and edit that code. __But wait!__ Before you start editing that code snippet, make sure you understand it. See the section below on understanding code.\n",
    "\n",
    "<a id='21.1.3'></a>\n",
    "### 21.1.3. Clean Up\n",
    "[Back to top](#Top)\n",
    "\n",
    "When you are done with outlining and testing your program, delete any diagnostic print statements from your program. No one really needs to see the test statements you wrote, and leaving test statements in the program might confuse you if you add more to the program.\n",
    "\n",
    "Extra comments do help other people read your code, but try to leave in only the bits that you think are useful. There is an art to writing good informative comments, and you can only learn this art by reading other people’s programs and having your peers read your programs. As a rule of thumb for comments, when in doubt, keep it; it you’re worried it won’t make sense to you or someone else later, add more detail to it.\n",
    "\n",
    "In the next few pages, we’ll go through this process using a question similar to something that you may have already seen before.\n",
    "\n",
    "<a id='21.2'></a>\n",
    "## 21.2. 👩‍💻 Sketch an Outline\n",
    "[Back to top](#Top)\n",
    "\n",
    "The prompt that we will be using is the following:\n",
    "\n",
    "*Build a program that replicates a physical dictionary that you might use. The program should that take five different input from the user. Each input will have two words and we will build a dictionary where the words are the keys and values.*\n",
    "\n",
    "Try writting out what you think the outline would be, and then check out our answer to see how we did it! Always remember that there can be multiple ways to solve a problem, so your solution may be different from ours but still solve the problem."
   ]
  },
  {
   "cell_type": "markdown",
   "metadata": {},
   "source": [
    "<details><summary>Click here for the book's answer</summary>\n",
    "<div class=\"alert alert-block alert-success\" style=\"margin-top: 20px\">\n",
    "<font color=black>\n",
    "    \n",
    "```python\n",
    "# initialize a dictionary\n",
    "\n",
    "# write a for loop that will iterate five times. I can use the range function for this!\n",
    "\n",
    "# in the for loop, I should ask for input from the user\n",
    "\n",
    "# next, I should separate the words\n",
    "\n",
    "# finally, I should add the key value pair to the dictionary\n",
    "```\n",
    "\n",
    "</details>"
   ]
  },
  {
   "cell_type": "markdown",
   "metadata": {},
   "source": [
    "<a id='21.3'></a>\n",
    "## 21.3. 👩‍💻 Code one section at a time\n",
    "[Back to top](#Top)\n",
    "\n",
    "As a reminder, this is our prompt:\n",
    "\n",
    "*Build a program that replicates a physical dictionary that you might use. The program should that take five different input from the user. Each input will have two words and we will build a dictionary where the words are the keys and values.*\n",
    "\n",
    "We’ll start to build up the sections one at a time now! First, we need to pick a name for the dictionary. We’ll try to pick a clear name for each of these variables"
   ]
  },
  {
   "cell_type": "code",
   "execution_count": null,
   "metadata": {},
   "outputs": [],
   "source": [
    "# initialize a dictionary\n",
    "user_dictionary = {}\n",
    "print(\"---------- keys in user_dictionary: \" + str(list(user_dictionary.keys())) + \" ----------\")\n",
    "\n",
    "# write a for loop that will iterate five times. I can use the range function for this!\n",
    "\n",
    "# in the for loop, I should ask for input from the user\n",
    "\n",
    "# next, I should separate the words\n",
    "\n",
    "# finally, I should add the key value pair to the dictionary\n"
   ]
  },
  {
   "cell_type": "markdown",
   "metadata": {},
   "source": [
    "We picked the variable name <font color=red>user_dictionary</font> because it will be a dictionary that is created by a user. Other names could be appropriate as well! Though it may seem unnecessary, we’ll add a print statement to remind ourself that <font color=red>user_dictionary</font> is empty.\n",
    "\n",
    "Next we’ll build up the for loop!"
   ]
  },
  {
   "cell_type": "code",
   "execution_count": null,
   "metadata": {},
   "outputs": [],
   "source": [
    "# initialize a dictionary\n",
    "user_dictionary = {}\n",
    "print(\"---------- keys in user_dictionary: \" + str(list(user_dictionary.keys())) + \" ----------\")\n",
    "\n",
    "# write a for loop that will iterate five times. I can use the range function for this!\n",
    "for _ in range(5):\n",
    "    print(\"---------- LOOP HAS STARTED ----------\")\n",
    "    # in the for loop, I should ask for input from the user\n",
    "\n",
    "    # next, I should separate the words\n",
    "\n",
    "    # finally, I should add the key value pair to the dictionary\n",
    "    print(\"---------- LOOP HAS ENDED ----------\")"
   ]
  },
  {
   "cell_type": "markdown",
   "metadata": {},
   "source": [
    "If we want to make sure that the for loop is iterating five times then we can add these print statements to execute so that we can track the progress of the program.\n",
    "\n",
    "Next, we’lll get the input from the user!"
   ]
  },
  {
   "cell_type": "code",
   "execution_count": null,
   "metadata": {},
   "outputs": [],
   "source": [
    "# initialize a dictionary\n",
    "user_dictionary = {}\n",
    "print(\"---------- keys in user_dictionary: \" + str(list(user_dictionary.keys())) + \" ----------\")\n",
    "\n",
    "# write a for loop that will iterate five times. I can use the range function for this!\n",
    "for _ in range(5):\n",
    "    print(\"---------- LOOP HAS STARTED ----------\")\n",
    "    # in the for loop, I should ask for input from the user\n",
    "    response = input(\"Please enter two words to add to a dictionary. The first word is the definition, the second will be the word associated with it.\")\n",
    "    print(\"---------- The response: \" + response + \" ----------\")\n",
    "\n",
    "    # next, I should separate the words\n",
    "\n",
    "    # finally, I should add the key value pair to the dictionary\n",
    "    print(\"---------- LOOP HAS ENDED ----------\")"
   ]
  },
  {
   "cell_type": "markdown",
   "metadata": {},
   "source": [
    "Now we’ll want to print out the response. We’re expecting that it should be as string, so we should be able to add it to the print statement with other strings without any issue. If there is an issue, then something could be going wrong with how we are getting input from the user.\n",
    "\n",
    "Now, we can separate the words so that we have our key and value to add to the dictionary!"
   ]
  },
  {
   "cell_type": "code",
   "execution_count": null,
   "metadata": {},
   "outputs": [],
   "source": [
    "# initialize a dictionary\n",
    "user_dictionary = {}\n",
    "print(\"---------- keys in user_dictionary: \" + str(list(user_dictionary.keys())) + \" ----------\")\n",
    "\n",
    "# write a for loop that will iterate five times. I can use the range function for this!\n",
    "for _ in range(5):\n",
    "    print(\"---------- LOOP HAS STARTED ----------\")\n",
    "    # in the for loop, I should ask for input from the user\n",
    "    response = input(\"Please enter two words to add to a dictionary. The first word is the definition, the second will be the word associated with it.\")\n",
    "    print(\"---------- The response: \" + response + \" ----------\")\n",
    "\n",
    "    # next, I should separate the words\n",
    "    separated_response = response.split()\n",
    "    print(\"---------- The separated response: \" + str(separated_response) + \" ----------\")\n",
    "    response_key = separated_response[0]\n",
    "    print(\"---------- The response key: \" + response_key + \" ----------\")\n",
    "    response_value = separated_response[1]\n",
    "    print(\"---------- The response value: \" + response_value + \" ----------\")\n",
    "\n",
    "    # finally, I should add the key value pair to the dictionary\n",
    "    print(\"---------- LOOP HAS ENDED ----------\")"
   ]
  },
  {
   "cell_type": "markdown",
   "metadata": {},
   "source": [
    "Here we know that <font color=red>response</font> is a string that contains two words. We can use the split method to separate the words, which will give us a list. The first word will be the key and the second word will be the value, so we can use indexing to access that information."
   ]
  },
  {
   "cell_type": "code",
   "execution_count": null,
   "metadata": {},
   "outputs": [],
   "source": [
    "# initialize a dictionary\n",
    "user_dictionary = {}\n",
    "print(\"---------- keys in user_dictionary: \" + str(list(user_dictionary.keys())) + \" ----------\")\n",
    "\n",
    "# write a for loop that will iterate five times. I can use the range function for this!\n",
    "for _ in range(5):\n",
    "    print(\"---------- LOOP HAS STARTED ----------\")\n",
    "    # in the for loop, I should ask for input from the user\n",
    "    response = input(\"Please enter two words to add to a dictionary. The first word is the definition, the second will be the word associated with it.\")\n",
    "    print(\"---------- The response: \" + response + \" ----------\")\n",
    "\n",
    "    # next, I should separate the words\n",
    "    separated_response = response.split()\n",
    "    print(\"---------- The separated response: \" + str(separated_response) + \" ----------\")\n",
    "    response_key = separated_response[0]\n",
    "    print(\"---------- The response key: \" + response_key + \" ----------\")\n",
    "    response_value = separated_response[1]\n",
    "    print(\"---------- The response value: \" + response_value + \" ----------\")\n",
    "\n",
    "    # finally, I should add the key value pair to the dictionary\n",
    "    user_dictionary[response_key] = response_value\n",
    "    print(\"---------- LOOP HAS ENDED ----------\")\n",
    "\n",
    "print(\"---------- The user dictionary\")\n",
    "print(user_dictionary)\n",
    "print(\"----------\")"
   ]
  },
  {
   "cell_type": "markdown",
   "metadata": {},
   "source": [
    "Finally, we add code to add the key and value pair into a dictionary. We can print out the final result of the dictionary once the for loop is over so that we can determine if it has been done correctly.\n",
    "\n",
    "<a id='21.4'></a>\n",
    "## 21.4. 👩‍💻 Clean Up\n",
    "[Back to top](#Top)\n",
    "\n",
    "Congrats! We’ve solved the problem now, but our code isn’t very nice to read. We can clean it up now and remove the print statements."
   ]
  },
  {
   "cell_type": "code",
   "execution_count": null,
   "metadata": {},
   "outputs": [],
   "source": [
    "# initialize a dictionary\n",
    "user_dictionary = {}\n",
    "\n",
    "# write a for loop that will iterate five times. I can use the range function for this!\n",
    "for _ in range(5):\n",
    "    # in the for loop, I should ask for input from the user\n",
    "    response = input(\"Please enter two words to add to a dictionary. The first word is the definition, the second will be the word associated with it.\")\n",
    "\n",
    "    # next, I should separate the words\n",
    "    separated_response = response.split()\n",
    "    response_key = separated_response[0]\n",
    "    response_value = separated_response[1]\n",
    "\n",
    "    # finally, I should add the key value pair to the dictionary\n",
    "    user_dictionary[response_key] = response_value"
   ]
  },
  {
   "cell_type": "markdown",
   "metadata": {},
   "source": [
    "We can also fix the comments so that they aren’t so obvious."
   ]
  },
  {
   "cell_type": "code",
   "execution_count": null,
   "metadata": {},
   "outputs": [],
   "source": [
    "user_dictionary = {}\n",
    "\n",
    "# asks a user for two words to add to the user dictionary - will do this five times.\n",
    "# the first word will be the key, the second word will be the value.\n",
    "for _ in range(5):\n",
    "    response = input(\"Please enter two words to add to a dictionary. The first word is the definition, the second will be the word associated with it.\")\n",
    "\n",
    "    separated_response = response.split()\n",
    "    response_key = separated_response[0]\n",
    "    response_value = separated_response[1]\n",
    "\n",
    "    user_dictionary[response_key] = response_value"
   ]
  },
  {
   "cell_type": "markdown",
   "metadata": {},
   "source": [
    "At this point, the code has been cleaned up fully - you could easily write the comments in a different way but this should be easy for other programmers to understand, and ourselves to understand if we come back to the code days, weeks, or months later!"
   ]
  }
 ],
 "metadata": {
  "kernelspec": {
   "display_name": "Python 3",
   "language": "python",
   "name": "python3"
  },
  "language_info": {
   "codemirror_mode": {
    "name": "ipython",
    "version": 3
   },
   "file_extension": ".py",
   "mimetype": "text/x-python",
   "name": "python",
   "nbconvert_exporter": "python",
   "pygments_lexer": "ipython3",
   "version": "3.8.5"
  }
 },
 "nbformat": 4,
 "nbformat_minor": 4
}
