{
 "cells": [
  {
   "cell_type": "markdown",
   "metadata": {},
   "source": [
    "<a id='Top'></a>\n",
    "# 9. Transforming Sequences\n",
    "<div class=\"alert alert-block alert-danger\" style=\"margin-top: 10px\">\n",
    "<font color=black>\n",
    "\n",
    "- 9.1. [Introduction: Transforming Sequences](#9.1)\n",
    "  - 9.1.1. [Learning Goals](#9.1.1)\n",
    "  - 9.1.2. [Objectives](#9.1.2)\n",
    "- 9.2. [Mutability](#9.2)\n",
    "  - 9.2.1. [Lists are Mutable](#9.2.1)\n",
    "  - 9.2.2. [Strings are Immutable](#9.2.2)\n",
    "  - 9.2.3. [Tuples are Immutable](#9.2.3)\n",
    "- 9.3. [List Element Deletion](#9.3)\n",
    "- 9.4. [Objects and References](#9.4)\n",
    "- 9.5. [Aliasing](#9.5)\n",
    "- 9.6. [Cloning Lists](#9.6)\n",
    "- 9.7. [Mutating Methods](#9.7)\n",
    "  - 9.7.1. [List Methods](#9.7.1)\n",
    "- 9.8. [Append versus Concatenate](#9.8)\n",
    "- 9.9. [Non-mutating Methods on Strings](#9.9)\n",
    "  - 9.9.1. [String Format Method](#9.9.1)\n",
    "- 9.10. [The Accumulator Pattern with Lists](#9.10)\n",
    "- 9.11. [The Accumulator Pattern with Strings](#9.11)\n",
    "- 9.12. 👩‍💻 [Accumulator Pattern Strategies](#9.12)\n",
    "  - 9.12.1. [When to Use it](#9.12.1)\n",
    "  - 9.12.2. [Before Writing it](#9.12.2)\n",
    "  - 9.12.3. [Choosing Good Accumulator and Iterator Variable Names](#9.12.3)\n",
    "- 9.13. 👩‍💻 [Don’t Mutate A List That You Are Iterating Through](#9.13)\n",
    "- 9.14. [Summary](#9.14)\n",
    "- 9.15. [Exercises](#9.15)\n",
    "- 9.16. [Chapter Assessment - List Methods](#9.16)\n",
    "  - 9.16.1. [Chapter Assessment - Aliases and References](#9.16.1)\n",
    "  - 9.16.2. [Chapter Assessment - Split and Join](#9.16.2)\n",
    "  - 9.16.3. [Chapter Assessment - For Loop Mechanics](#9.16.3)\n",
    "  - 9.16.4. [Chapter Assessment - Accumulator Pattern](#9.16.4)\n",
    "  - 9.16.5. [Chapter Assessment - Problem Solving](#9.16.5)</div>\n",
    "\n",
    "<a id='9.1'></a>\n",
    "## 9.1. Introduction: Transforming Sequences\n",
    "The sequences that we have used so far have been static: a list of colors that doesn’t change or the characters in a string that stays the same. The real world is more complicated than that. A list of users for your social network may need to grow to accommodate new users (or shrink when users leave your service). The letters in a string may need to be modified to personalize a message (“Welcome to Wonderland, \\<your name>”), or to encode a secret message.\n",
    "\n",
    "The following chapter will detail more of the methods that can be used to transform lists and strings. Generally, the two methods that can be used are changing the list object, in place, by mutating it; or by constructing a new string object using a copy-with-change operation.\n",
    "\n",
    "<a id='9.1.1'></a>\n",
    "### 9.1.1. Learning Goals\n",
    "[Back to top](#Top)\n",
    "    \n",
    "- To understand the concepts of mutable and immutable data types\n",
    "- To understand that methods on strings leave the origninal string alone but return a new string\n",
    "- To understand that lists are mutable data types and that mutating methods on lists return None\n",
    "\n",
    "<a id='9.1.2'></a>\n",
    "### 9.1.2. Objectives\n",
    "[Back to top](#Top)\n",
    "    \n",
    "Demonstrate the correct use of:\n",
    "\n",
    "- concatenate\n",
    "- index operator\n",
    "- substring (slice)\n",
    "- search - contains in / not in and index\n",
    "- find method\n",
    "- append\n",
    "- join\n",
    "- split\n",
    "- string format method\n",
    "\n",
    "<a id='9.2'></a>\n",
    "## 9.2. Mutability\n",
    "[Back to top](#Top)\n",
    "    \n",
    "Some Python collection types - strings and lists so far - are able to change and some are not. If a type is able to change, then it is said to be mutable. If the type is not able to change then it is said to be immutable. This will be expanded below."
   ]
  },
  {
   "cell_type": "code",
   "execution_count": 1,
   "metadata": {},
   "outputs": [
    {
     "data": {
      "text/html": [
       "<video src=\"_videos/AC101 Mutability.mp4\" controls  >\n",
       "      Your browser does not support the <code>video</code> element.\n",
       "    </video>"
      ],
      "text/plain": [
       "<IPython.core.display.Video object>"
      ]
     },
     "execution_count": 1,
     "metadata": {},
     "output_type": "execute_result"
    }
   ],
   "source": [
    "# Run this cell to see the video\n",
    "\n",
    "from IPython.display import Video\n",
    "Video(\"_videos/AC101 Mutability.mp4\")  "
   ]
  },
  {
   "cell_type": "markdown",
   "metadata": {},
   "source": [
    "<a id='9.2.1'></a>\n",
    "### 9.2.1. Lists are Mutable\n",
    "[Back to top](#Top)\n",
    "\n",
    "Unlike strings, lists are __mutable__. This means we can change an item in a list by accessing it directly as part of the assignment statement. Using the indexing operator (square brackets) on the left side of an assignment, we can update one of the list items."
   ]
  },
  {
   "cell_type": "code",
   "execution_count": null,
   "metadata": {},
   "outputs": [],
   "source": [
    "fruit = [\"banana\", \"apple\", \"cherry\"]\n",
    "print(fruit)\n",
    "fruit[0] = \"pear\"\n",
    "fruit[-1] = \"orange\"\n",
    "print(fruit)"
   ]
  },
  {
   "cell_type": "markdown",
   "metadata": {},
   "source": [
    "An assignment to an element of a list is called item assignment. Item assignment does not work for strings. Recall that strings are immutable.\n",
    "\n",
    "Here is the same example in codelens so that you can step through the statements and see the changes to the list elements.\n",
    "\n",
    "By combining assignment with the slice operator we can update several elements at once."
   ]
  },
  {
   "cell_type": "code",
   "execution_count": null,
   "metadata": {},
   "outputs": [],
   "source": [
    "alist = ['a', 'b', 'c', 'd', 'e', 'f']\n",
    "alist[1:3] = ['x', 'y']\n",
    "print(alist)"
   ]
  },
  {
   "cell_type": "markdown",
   "metadata": {},
   "source": [
    "We can also remove elements from a list by assigning the empty list to them."
   ]
  },
  {
   "cell_type": "code",
   "execution_count": null,
   "metadata": {},
   "outputs": [],
   "source": [
    "alist = ['a', 'b', 'c', 'd', 'e', 'f']\n",
    "alist[1:3] = []\n",
    "print(alist)"
   ]
  },
  {
   "cell_type": "markdown",
   "metadata": {},
   "source": [
    "We can even insert elements into a list by squeezing them into an empty slice at the desired location."
   ]
  },
  {
   "cell_type": "code",
   "execution_count": null,
   "metadata": {},
   "outputs": [],
   "source": [
    "alist = ['a', 'd', 'f']\n",
    "alist[1:1] = ['b', 'c']\n",
    "print(alist)\n",
    "alist[4:4] = ['e']\n",
    "print(alist)"
   ]
  },
  {
   "cell_type": "markdown",
   "metadata": {},
   "source": [
    "<a id='9.2.2'></a>\n",
    "### 9.2.2. Strings are Immutable\n",
    "[Back to top](#Top)\n",
    "\n",
    "One final thing that makes strings different from some other Python collection types is that you are not allowed to modify the individual characters in the collection. It is tempting to use the <font color=red>[]</font> operator on the left side of an assignment, with the intention of changing a character in a string. For example, in the following code, we would like to change the first letter of <font color=red>greeting</font>."
   ]
  },
  {
   "cell_type": "code",
   "execution_count": null,
   "metadata": {},
   "outputs": [],
   "source": [
    "greeting = \"Hello, world!\"\n",
    "greeting[0] = 'J'            # ERROR!\n",
    "print(greeting)"
   ]
  },
  {
   "cell_type": "markdown",
   "metadata": {},
   "source": [
    "Instead of producing the output <font color=red>Jello, world!</font>, this code produces the runtime error <font color=red>TypeError: 'str' object does not support item assignment</font>.\n",
    "\n",
    "Strings are __immutable__, which means you cannot change an existing string. The best you can do is create a new string that is a variation on the original."
   ]
  },
  {
   "cell_type": "code",
   "execution_count": null,
   "metadata": {},
   "outputs": [],
   "source": [
    "greeting = \"Hello, world!\"\n",
    "newGreeting = 'J' + greeting[1:]\n",
    "print(newGreeting)\n",
    "print(greeting)          # same as it was"
   ]
  },
  {
   "cell_type": "markdown",
   "metadata": {},
   "source": [
    "The solution here is to concatenate a new first letter onto a slice of <font color=red>greeting</font>. This operation has no effect on the original string.\n",
    "\n",
    "While it’s possible to make up new variable names each time we make changes to existing values, it could become difficult to keep track of them all."
   ]
  },
  {
   "cell_type": "code",
   "execution_count": null,
   "metadata": {},
   "outputs": [],
   "source": [
    "phrase = \"many moons\"\n",
    "phrase_expanded = phrase + \" and many stars\"\n",
    "phrase_larger = phrase_expanded + \" litter\"\n",
    "phrase_complete = \"M\" + phrase_larger[1:] + \" the night sky.\"\n",
    "excited_phrase_complete = phrase_complete[:-1] + \"!\""
   ]
  },
  {
   "cell_type": "markdown",
   "metadata": {},
   "source": [
    "The more that you change the string, the more difficult it is to come up with a new variable to use. It’s perfectly acceptable to re-assign the value to the same variable name in this case.\n",
    "\n",
    "<a id='9.2.3'></a>\n",
    "### 9.2.3. Tuples are Immutable\n",
    "[Back to top](#Top)\n",
    "\n",
    "As with strings, if we try to use item assignment to modify one of the elements of a tuple, we get an error. In fact, that’s the key difference between lists and tuples: tuples are like immutable lists. None of the operations on lists that mutate them are available for tuples. Once a tuple is created, it can’t be changed."
   ]
  },
  {
   "cell_type": "code",
   "execution_count": null,
   "metadata": {},
   "outputs": [],
   "source": [
    "julia[0] = 'X'  # TypeError: 'tuple' object does not support item assignment"
   ]
  },
  {
   "cell_type": "markdown",
   "metadata": {},
   "source": [
    "#### Check your understanding\n",
    "<div class=\"alert alert-block alert-warning\" style=\"margin-top: 20px\">\n",
    "<font color=black>\n",
    "1. What is printed by the following statements?"
   ]
  },
  {
   "cell_type": "code",
   "execution_count": null,
   "metadata": {},
   "outputs": [],
   "source": [
    "alist = [4,2,8,6,5]\n",
    "alist[2] = True\n",
    "print(alist)"
   ]
  },
  {
   "cell_type": "markdown",
   "metadata": {},
   "source": [
    "<div class=\"alert alert-block alert-warning\" style=\"margin-top: 20px\">\n",
    "<font color=black>\n",
    "    \n",
    "A. [4,2,True,8,6,5]  \n",
    "B. [4,2,True,6,5]  \n",
    "C. Error, it is illegal to assign"
   ]
  },
  {
   "cell_type": "markdown",
   "metadata": {},
   "source": [
    "<details><summary>Click here for the solution</summary>\n",
    "\n",
    "<font color=red>► </font>B. [4,2,True,6,5]  \n",
    "\n",
    "<div class=\"alert alert-block alert-success\" style=\"margin-top: 20px\">\n",
    "<font color=black>✔️ Yes, the value True is placed in the list at index 2. It replaces 8.\n",
    "\n",
    "</details>"
   ]
  },
  {
   "cell_type": "markdown",
   "metadata": {},
   "source": [
    "<div class=\"alert alert-block alert-warning\" style=\"margin-top: 20px\">\n",
    "<font color=black>\n",
    "2. What is printed by the following statements:"
   ]
  },
  {
   "cell_type": "code",
   "execution_count": null,
   "metadata": {},
   "outputs": [],
   "source": [
    "s = \"Ball\"\n",
    "s[0] = \"C\"\n",
    "print(s)"
   ]
  },
  {
   "cell_type": "markdown",
   "metadata": {},
   "source": [
    "<div class=\"alert alert-block alert-warning\" style=\"margin-top: 20px\">\n",
    "<font color=black>\n",
    "\n",
    "A. Ball  \n",
    "B. Call  \n",
    "C. Error"
   ]
  },
  {
   "cell_type": "markdown",
   "metadata": {},
   "source": [
    "<details><summary>Click here for the solution</summary>\n",
    "\n",
    "<font color=red>► </font>C. Error  \n",
    "\n",
    "<div class=\"alert alert-block alert-success\" style=\"margin-top: 20px\">\n",
    "<font color=black>✔️ Yes, strings are immutable.\n",
    "\n",
    "</details>"
   ]
  },
  {
   "cell_type": "markdown",
   "metadata": {},
   "source": [
    "<a id='9.3'></a>\n",
    "## 9.3. List Element Deletion\n",
    "[Back to top](#Top)\n",
    "\n",
    "Using slices to delete list elements can be awkward and therefore error-prone. Python provides an alternative that is more readable. The del statement removes an element from a list by using its position."
   ]
  },
  {
   "cell_type": "code",
   "execution_count": null,
   "metadata": {},
   "outputs": [],
   "source": [
    "a = ['one', 'two', 'three']\n",
    "del a[1]\n",
    "print(a)\n",
    "\n",
    "alist = ['a', 'b', 'c', 'd', 'e', 'f']\n",
    "del alist[1:5]\n",
    "print(alist)"
   ]
  },
  {
   "cell_type": "markdown",
   "metadata": {},
   "source": [
    "As you might expect, <font color=red>del</font> handles negative indices and causes a runtime error if the index is out of range. In addition, you can use a slice as an index for <font color=red>del</font>. As usual, slices select all the elements up to, but not including, the second index.\n",
    "\n",
    "<a id='9.4'></a>\n",
    "## 9.4. Objects and References\n",
    "[Back to top](#Top)\n",
    "\n",
    "If we execute these assignment statements,"
   ]
  },
  {
   "cell_type": "code",
   "execution_count": null,
   "metadata": {},
   "outputs": [],
   "source": [
    "a = \"banana\"\n",
    "b = \"banana"
   ]
  },
  {
   "attachments": {
    "refdiag1.png": {
     "image/png": "[encoded data removed]"
    }
   },
   "cell_type": "markdown",
   "metadata": {},
   "source": [
    "we know that <font color=red>a</font> and <font color=red>b</font> will refer to a string with the letters <font color=red>\"banana\"</font>. But we don’t know yet whether they point to the same string.\n",
    "\n",
    "There are two possible ways the Python interpreter could arrange its internal states:\n",
    "![refdiag1.png](attachment:refdiag1.png)"
   ]
  },
  {
   "attachments": {
    "refdiag2.png": {
     "image/png": "[encoded data removed]"
    }
   },
   "cell_type": "markdown",
   "metadata": {},
   "source": [
    "or\n",
    "![refdiag2.png](attachment:refdiag2.png)\n",
    "\n",
    "In one case, <font color=red>a</font> and <font color=red>b</font> refer to two different string objects that have the same value. In the second case, they refer to the same object. Remember that an object is something a variable can refer to.\n",
    "\n",
    "We can test whether two names refer to the same object using the is operator. The is operator will return true if the two references are to the same object. In other words, the references are the same. Try our example from above."
   ]
  },
  {
   "cell_type": "code",
   "execution_count": null,
   "metadata": {},
   "outputs": [],
   "source": [
    "a = \"banana\"\n",
    "b = \"banana\"\n",
    "\n",
    "print(a is b)"
   ]
  },
  {
   "cell_type": "markdown",
   "metadata": {},
   "source": [
    "The answer is <font color=red>True</font>. This tells us that both <font color=red>a</font> and <font color=red>b</font> refer to the same object, and that it is the second of the two reference diagrams that describes the relationship. Python assigns every object a unique id and when we ask <font color=red>a is b</font> what python is really doing is checking to see if id(a) == id(b)."
   ]
  },
  {
   "cell_type": "code",
   "execution_count": null,
   "metadata": {},
   "outputs": [],
   "source": [
    "a = \"banana\"\n",
    "b = \"banana\"\n",
    "\n",
    "print(id(a))\n",
    "print(id(b))"
   ]
  },
  {
   "cell_type": "markdown",
   "metadata": {},
   "source": [
    "Since strings are *immutable*, the Python interpreter often optimizes resources by making two names that refer to the same string value refer to the same object. You shouldn’t count on this (that is, use <font color=red>==</font> to compare strings, not <font color=red>is</font>), but don’t be surprised if you find that two variables,each bound to the string “banana”, have the same id..\n",
    "\n",
    "This is not the case with lists, which never share an id just because they have the same contents. Consider the following example. Here, <font color=red>a</font> and <font color=red>b</font> refer to two different lists, each of which happens to have the same element values. They need to have different ids so that mutations of list <font color=red>a</font> do not affect list <font color=red>b</font>."
   ]
  },
  {
   "cell_type": "code",
   "execution_count": null,
   "metadata": {},
   "outputs": [],
   "source": [
    "a = [81,82,83]\n",
    "b = [81,82,83]\n",
    "\n",
    "print(a is b)\n",
    "print(a == b)\n",
    "print(id(a))\n",
    "print(id(b))"
   ]
  },
  {
   "attachments": {
    "refdiag3.png": {
     "image/png": "[encoded data removed]"
    }
   },
   "cell_type": "markdown",
   "metadata": {},
   "source": [
    "The reference diagram for this example looks like this:\n",
    "![refdiag3.png](attachment:refdiag3.png)\n",
    "<font color=red>a</font> and <font color=red>b</font> have equivalent values but do not refer to the same object. Because their contents are equivalent, a==b evaluates to True; because they are not the same object, a is b evaluates to False.\n",
    "\n",
    "<a id='9.5'></a>\n",
    "## 9.5. Aliasing\n",
    "[Back to top](#Top)\n",
    "\n",
    "Since variables refer to objects, if we assign one variable to another, both variables refer to the same object:"
   ]
  },
  {
   "cell_type": "code",
   "execution_count": null,
   "metadata": {},
   "outputs": [],
   "source": [
    "a = [81, 82, 83]\n",
    "b = a\n",
    "print(a is b)"
   ]
  },
  {
   "attachments": {
    "refdiag4.png": {
     "image/png": "[encoded data removed]"
    }
   },
   "cell_type": "markdown",
   "metadata": {},
   "source": [
    "In this case, the reference diagram looks like this:\n",
    "![refdiag4.png](attachment:refdiag4.png)\n",
    "Because the same list has two different names, <font color=red>a</font> and <font color=red>b</font>, we say that it is aliased. Changes made with one alias affect the other. In the codelens example below, you can see that <font color=red>a</font> and <font color=red>b</font> refer to the same list after executing the assignment statement <font color=red>b = a</font>."
   ]
  },
  {
   "cell_type": "code",
   "execution_count": null,
   "metadata": {},
   "outputs": [],
   "source": [
    "a = [81,82,83]\n",
    "b = [81,82,83]\n",
    "print(a is b)\n",
    "\n",
    "b = a\n",
    "print(a == b)\n",
    "print(a is b)\n",
    "\n",
    "b[0] = 5\n",
    "print(a)"
   ]
  },
  {
   "cell_type": "markdown",
   "metadata": {},
   "source": [
    "Although this behavior can be useful, it is sometimes unexpected or undesirable. In general, it is safer to avoid aliasing when you are working with mutable objects. Of course, for immutable objects, there’s no problem. That’s why Python is free to alias strings and integers when it sees an opportunity to economize.\n",
    "\n",
    "#### Check your understanding\n",
    "<div class=\"alert alert-block alert-warning\" style=\"margin-top: 20px\">\n",
    "<font color=black>\n",
    "1. What is the value of y after the following code has been evaluated:"
   ]
  },
  {
   "cell_type": "code",
   "execution_count": null,
   "metadata": {},
   "outputs": [],
   "source": [
    "w = ['Jamboree', 'get-together', 'party']\n",
    "y = ['celebration']\n",
    "y = w"
   ]
  },
  {
   "cell_type": "markdown",
   "metadata": {},
   "source": [
    "<div class=\"alert alert-block alert-warning\" style=\"margin-top: 20px\">\n",
    "<font color=black>\n",
    "\n",
    "A. ['Jamboree', 'get-together', 'party']  \n",
    "B. ['celebration']  \n",
    "C. ['celebration', 'Jamboree', 'get-together', 'party']  \n",
    "D. ['Jamboree', 'get-together', 'party', 'celebration']"
   ]
  },
  {
   "cell_type": "markdown",
   "metadata": {},
   "source": [
    "<details><summary>Click here for the solution</summary>\n",
    "\n",
    "<font color=red>► </font>A. ['Jamboree', 'get-together', 'party']  \n",
    "\n",
    "<div class=\"alert alert-block alert-success\" style=\"margin-top: 20px\">\n",
    "<font color=black>✔️ Yes, the value of y has been reassigned to the value of w.\n",
    "\n",
    "</details>"
   ]
  },
  {
   "cell_type": "markdown",
   "metadata": {},
   "source": [
    "<div class=\"alert alert-block alert-warning\" style=\"margin-top: 20px\">\n",
    "<font color=black>\n",
    "2. What is printed by the following statements?"
   ]
  },
  {
   "cell_type": "code",
   "execution_count": null,
   "metadata": {},
   "outputs": [],
   "source": [
    "alist = [4,2,8,6,5]\n",
    "blist = alist\n",
    "blist[3] = 999\n",
    "print(alist)"
   ]
  },
  {
   "cell_type": "markdown",
   "metadata": {},
   "source": [
    "<div class=\"alert alert-block alert-warning\" style=\"margin-top: 20px\">\n",
    "<font color=black>\n",
    "\n",
    "A. [4,2,8,6,5]  \n",
    "B. [4,2,8,999,5]"
   ]
  },
  {
   "cell_type": "markdown",
   "metadata": {},
   "source": [
    "<details><summary>Click here for the solution</summary>\n",
    "\n",
    "<font color=red>► </font>B. [4,2,8,999,5]  \n",
    "\n",
    "<div class=\"alert alert-block alert-success\" style=\"margin-top: 20px\">\n",
    "<font color=black>✔️ Yes, since alist and blist both reference the same list, changes to one also change the other.\n",
    "\n",
    "</details>"
   ]
  },
  {
   "cell_type": "markdown",
   "metadata": {},
   "source": [
    "<a id='9.6'></a>\n",
    "## 9.6. Cloning Lists\n",
    "[Back to top](#Top)\n",
    "\n",
    "If we want to modify a list and also keep a copy of the original, we need to be able to make a copy of the list itself, not just the reference. This process is sometimes called __cloning__, to avoid the ambiguity of the word copy.\n",
    "\n",
    "The easiest way to clone a list is to use the slice operator.\n",
    "\n",
    "Taking any slice of <font color=red>a</font> creates a new list. In this case the slice happens to consist of the whole list."
   ]
  },
  {
   "cell_type": "code",
   "execution_count": null,
   "metadata": {},
   "outputs": [],
   "source": [
    "a = [81,82,83]\n",
    "b = a[:]       # make a clone using slice\n",
    "print(a == b)\n",
    "print(a is b)\n",
    "\n",
    "b[0] = 5\n",
    "\n",
    "print(a)\n",
    "print(b)"
   ]
  },
  {
   "cell_type": "markdown",
   "metadata": {},
   "source": [
    "Now we are free to make changes to <font color=red>b</font> without worrying about <font color=red>a</font>. Again, we can clearly see in codelens that <font color=red>a</font> and <font color=red>b</font> are entirely different list objects.\n",
    "\n",
    "#### Check your understanding\n",
    "<div class=\"alert alert-block alert-warning\" style=\"margin-top: 20px\">\n",
    "<font color=black>\n",
    "1. What is printed by the following statements?"
   ]
  },
  {
   "cell_type": "code",
   "execution_count": null,
   "metadata": {},
   "outputs": [],
   "source": [
    "alist = [4,2,8,6,5]\n",
    "blist = alist * 2\n",
    "blist[3] = 999\n",
    "print(alist)"
   ]
  },
  {
   "cell_type": "markdown",
   "metadata": {},
   "source": [
    "<div class=\"alert alert-block alert-warning\" style=\"margin-top: 20px\">\n",
    "<font color=black>\n",
    "\n",
    "A. [4,2,8,999,5,4,2,8,6,5]  \n",
    "B. [4,2,8,999,5]  \n",
    "C. [4,2,8,6,5]"
   ]
  },
  {
   "cell_type": "markdown",
   "metadata": {},
   "source": [
    "<details><summary>Click here for the solution</summary>\n",
    "\n",
    "<font color=red>► </font>C. [4,2,8,6,5]  \n",
    "\n",
    "<div class=\"alert alert-block alert-success\" style=\"margin-top: 20px\">\n",
    "<font color=black>✔️ Yes, alist was unchanged by the assignment statement. blist was a copy of the references in alist.\n",
    "\n",
    "</details>"
   ]
  },
  {
   "cell_type": "markdown",
   "metadata": {},
   "source": [
    "<a id='9.7'></a>\n",
    "## 9.7. Mutating Methods\n",
    "[Back to top](#Top)\n",
    "\n",
    "You’ve seen some methods already, like the <font color=red>count</font> and <font color=red>index</font> methods. Methods are either mutating or non-mutating. Mutating methods are ones that change the object after the method has been used. Non-mutating methods do not change the object after the method has been used.\n",
    "\n",
    "The <font color=red>count</font> and <font color=red>index</font> methods are both non-mutating. Count returns the number of occurances of the argument given but does not change the original string or list. Similarly, index returns the leftmost occurance of the argument but does not change the original string or list. Below we’ll talk about list methods in general. Keep an eye out for methods that are mutating!\n",
    "\n",
    "<a id='9.7.1'></a>\n",
    "### 9.7.1. List Methods\n",
    "[Back to top](#Top)\n",
    "\n",
    "The dot operator can also be used to access built-in methods of list objects. <font color=red>append</font> is a list method which adds the argument passed to it to the end of the list. Continuing with this example, we show several other list methods. Many of them are easy to understand."
   ]
  },
  {
   "cell_type": "code",
   "execution_count": null,
   "metadata": {},
   "outputs": [],
   "source": [
    "mylist = []\n",
    "mylist.append(5)\n",
    "mylist.append(27)\n",
    "mylist.append(3)\n",
    "mylist.append(12)\n",
    "print(mylist)\n",
    "\n",
    "mylist.insert(1, 12)\n",
    "print(mylist)\n",
    "print(mylist.count(12))\n",
    "print(mylist.index(3))\n",
    "print(mylist.count(5))\n",
    "\n",
    "mylist.reverse()\n",
    "print(mylist)\n",
    "\n",
    "mylist.sort()\n",
    "print(mylist)\n",
    "\n",
    "mylist.remove(5)\n",
    "print(mylist)\n",
    "\n",
    "lastitem = mylist.pop()\n",
    "print(lastitem)\n",
    "print(mylist)"
   ]
  },
  {
   "cell_type": "markdown",
   "metadata": {},
   "source": [
    "There are two ways to use the <font color=red>pop</font> method. The first, with no parameter, will remove and return the last item of the list. If you provide a parameter for the position, <font color=red>pop</font> will remove and return the item at that position. Either way the list is changed.\n",
    "\n",
    "The following table provides a summary of the list methods shown above. The column labeled <font color=red>result</font> gives an explanation as to what the return value is as it relates to the new value of the list. The word __mutator__ means that the list is changed by the method but nothing is returned (actually <font color=red>None</font> is returned). A __hybrid__ method is one that not only changes the list but also returns a value as its result. Finally, if the result is simply a return, then the list is unchanged by the method.\n",
    "\n",
    "Be sure to experiment with these methods to gain a better understanding of what they do.\n",
    "\n",
    "|Method|Parameters|Result|Description|\n",
    "|:----:|:--------:|:----:|:---------:|\n",
    "|append|item|mutator|Adds a new item to the end of a list|\n",
    "|insert|position, item|mutator|Inserts a new item at the position given|\n",
    "|pop|none|hybrid|Removes and returns the last item|\n",
    "|pop|position|hybrid|Removes and returns the item at position|\n",
    "|sort|none|mutator|Modifies a list to be sorted|\n",
    "|reverse|none|mutator|Modifies a list to be in reverse order|\n",
    "|index|item|return idx|Returns the position of first occurrence of item|\n",
    "|count|item|return ct|Returns the number of occurrences of item|\n",
    "|remove|item|mutator|Removes the first occurrence of item|\n",
    "\n",
    "Details for these and others can be found in the [<font color=blue>Python Documentation</font>](http://docs.python.org/py3k/library/stdtypes.html#sequence-types-str-bytes-bytearray-list-tuple-range).\n",
    "\n",
    "It is important to remember that methods like <font color=red>append</font>, <font color=red>sort</font>, and <font color=red>reverse</font> all return <font color=red>None</font>. They change the list; they don’t produce a new list. So, while we did reassignment to increment a number, as in <font color=red>x = x + 1</font>, doing the analogous thing with these operations will lose the entire list contents (see line 8 below)."
   ]
  },
  {
   "cell_type": "code",
   "execution_count": null,
   "metadata": {},
   "outputs": [],
   "source": [
    "mylist = []\n",
    "mylist.append(5)\n",
    "mylist.append(27)\n",
    "mylist.append(3)\n",
    "mylist.append(12)\n",
    "print(mylist)\n",
    "\n",
    "mylist = mylist.sort()   #probably an error\n",
    "print(mylist)"
   ]
  },
  {
   "cell_type": "markdown",
   "metadata": {},
   "source": [
    "#### Check your understanding\n",
    "<div class=\"alert alert-block alert-warning\" style=\"margin-top: 20px\">\n",
    "<font color=black>\n",
    "1. What is printed by the following statements?"
   ]
  },
  {
   "cell_type": "code",
   "execution_count": null,
   "metadata": {},
   "outputs": [],
   "source": [
    "alist = [4,2,8,6,5]\n",
    "alist.append(True)\n",
    "alist.append(False)\n",
    "print(alist)"
   ]
  },
  {
   "cell_type": "markdown",
   "metadata": {},
   "source": [
    "<div class=\"alert alert-block alert-warning\" style=\"margin-top: 20px\">\n",
    "<font color=black>\n",
    "\n",
    "A. [4,2,8,6,5,False,True]  \n",
    "B. [4,2,8,6,5,True,False]  \n",
    "C. [True,False,4,2,8,6,5]"
   ]
  },
  {
   "cell_type": "markdown",
   "metadata": {},
   "source": [
    "<details><summary>Click here for the solution</summary>\n",
    "\n",
    "<font color=red>► </font>B. [4,2,8,6,5,True,False]  \n",
    "\n",
    "<div class=\"alert alert-block alert-success\" style=\"margin-top: 20px\">\n",
    "<font color=black>✔️  Yes, each item is added to the end of the list.\n",
    "\n",
    "</details>"
   ]
  },
  {
   "cell_type": "markdown",
   "metadata": {},
   "source": [
    "<a id='9.8'></a>\n",
    "## 9.8. Append versus Concatenate\n",
    "[Back to top](#Top)\n",
    "\n",
    "The <font color=red>append</font> method adds a new item to the end of a list. It is also possible to add a new item to the end of a list by using the concatenation operator. However, you need to be careful.\n",
    "\n",
    "Consider the following example. The original list has 3 integers. We want to add the word “cat” to the end of the list."
   ]
  },
  {
   "cell_type": "code",
   "execution_count": null,
   "metadata": {},
   "outputs": [],
   "source": [
    "origlist = [45,32,88]\n",
    "origlist.append(\"cat\")"
   ]
  },
  {
   "cell_type": "markdown",
   "metadata": {},
   "source": [
    "Here we have used <font color=red>append</font> which simply modifies the list. In order to use concatenation, we need to write an assignment statement that uses the accumulator pattern:"
   ]
  },
  {
   "cell_type": "code",
   "execution_count": null,
   "metadata": {},
   "outputs": [],
   "source": [
    "origlist = origlist + [\"cat\"]"
   ]
  },
  {
   "cell_type": "markdown",
   "metadata": {},
   "source": [
    "Note that the word “cat” needs to be placed in a list since the concatenation operator needs two lists to do its work."
   ]
  },
  {
   "cell_type": "markdown",
   "metadata": {},
   "source": [
    "It is also important to realize that with append, the original list is simply modified. On the other hand, with concatenation, an entirely new list is created. This can be seen in the following codelens example where\"newlist\" refers to a list which is a copy of the original list, <font color=red>origlist</font>, with the new item “cat” added to the end. <font color=red>origlist</font> still contains the three values it did before the concatenation. This is why the assignment operation is necessary as part of the accumulator pattern.\n",
    "\n",
    "This might be difficult to understand since these two lists appear to be the same. In Python, every object has a unique identification tag. Likewise, there is a built-in function that can be called on any object to return its unique <font color=red>id</font>. The function is appropriately called id and takes a single parameter, the object that you are interested in knowing about. You can see in the example below that a real id is usually a very large integer value (corresponding to an address in memory). In the textbook though the number will likely be smaller."
   ]
  },
  {
   "cell_type": "code",
   "execution_count": null,
   "metadata": {},
   "outputs": [],
   "source": [
    ">>> alist = [4, 5, 6]\n",
    ">>> id(alist)\n",
    "4300840544\n",
    ">>>"
   ]
  },
  {
   "cell_type": "code",
   "execution_count": null,
   "metadata": {},
   "outputs": [],
   "source": [
    "origlist = [45,32,88]\n",
    "print(\"origlist:\", origlist)\n",
    "print(\"the identifier:\", id(origlist))             #id of the list before changes\n",
    "newlist = origlist + ['cat']\n",
    "print(\"newlist:\", newlist)\n",
    "print(\"the identifier:\", id(newlist))              #id of the list after concatentation\n",
    "origlist.append('cat')\n",
    "print(\"origlist:\", origlist)\n",
    "print(\"the identifier:\", id(origlist))             #id of the list after append is used"
   ]
  },
  {
   "cell_type": "markdown",
   "metadata": {},
   "source": [
    "Note how even though <font color=red>newlist</font> and <font color=red>origlist</font> appear the same, they have different identifiers.\n",
    "\n",
    "We have previously described x += 1 as a shorthand for x = x + 1. With lists, += is actually a little different. In particular, origlist += [“cat”] appends “cat” to the end of the original list object. If there is another alias for `origlist, this can make a difference, as in the code below. See if you can follow (or, better yet, predict, changes in the reference diagram).\n",
    "\n",
    "We can use append or concatenate repeatedly to create new objects. If we had a string and wanted to make a new list, where each element in the list is a character in the string, where do you think you should start? In both cases, you’ll need to first create a variable to store the new object."
   ]
  },
  {
   "cell_type": "code",
   "execution_count": null,
   "metadata": {},
   "outputs": [],
   "source": [
    "st = \"Warmth\"\n",
    "a = []"
   ]
  },
  {
   "cell_type": "markdown",
   "metadata": {},
   "source": [
    "Then, character by character, you can add to the empty list. The process looks different if you concatentate as compared to using append."
   ]
  },
  {
   "cell_type": "code",
   "execution_count": null,
   "metadata": {},
   "outputs": [],
   "source": [
    "st = \"Warmth\"\n",
    "a = []\n",
    "b = a + [st[0]]\n",
    "c = b + [st[1]]\n",
    "d = c + [st[2]]\n",
    "e = d + [st[3]]\n",
    "f = e + [st[4]]\n",
    "g = f + [st[5]]\n",
    "print(g)"
   ]
  },
  {
   "cell_type": "code",
   "execution_count": null,
   "metadata": {},
   "outputs": [],
   "source": [
    "st = \"Warmth\"\n",
    "a = []\n",
    "a.append(st[0])\n",
    "a.append(st[1])\n",
    "a.append(st[2])\n",
    "a.append(st[3])\n",
    "a.append(st[4])\n",
    "a.append(st[5])\n",
    "print(a)"
   ]
  },
  {
   "cell_type": "markdown",
   "metadata": {},
   "source": [
    "This might become tedious though, and difficult if the length of the string is long. Can you think of a better way to do this?\n",
    "\n",
    "#### Check your understanding\n",
    "<div class=\"alert alert-block alert-warning\" style=\"margin-top: 20px\">\n",
    "<font color=black>\n",
    "1. What is printed by the following statements?"
   ]
  },
  {
   "cell_type": "code",
   "execution_count": null,
   "metadata": {},
   "outputs": [],
   "source": [
    "alist = [4,2,8,6,5]\n",
    "alist = alist + 999\n",
    "print(alist)"
   ]
  },
  {
   "cell_type": "markdown",
   "metadata": {},
   "source": [
    "<div class=\"alert alert-block alert-warning\" style=\"margin-top: 20px\">\n",
    "<font color=black>\n",
    "\n",
    "A. [4,2,8,6,5,999]  \n",
    "B. Error, you cannot concatenate a list with an integer."
   ]
  },
  {
   "cell_type": "markdown",
   "metadata": {},
   "source": [
    "<details><summary>Click here for the solution</summary>\n",
    "\n",
    "<font color=red>► </font>B. Error, you cannot concatenate a list with an integer.  \n",
    "\n",
    "<div class=\"alert alert-block alert-success\" style=\"margin-top: 20px\">\n",
    "<font color=black>✔️  Yes, in order to perform concatenation you would need to write alist+[999]. You must have two lists.\n",
    "\n",
    "</details>"
   ]
  },
  {
   "cell_type": "markdown",
   "metadata": {},
   "source": [
    "<a id='9.9'></a>\n",
    "## 9.9. Non-mutating Methods on Strings\n",
    "[Back to top](#Top)\n",
    "\n",
    "There are a wide variety of methods for string objects. Try the following program."
   ]
  },
  {
   "cell_type": "code",
   "execution_count": null,
   "metadata": {},
   "outputs": [],
   "source": [
    "ss = \"Hello, World\"\n",
    "print(ss.upper())\n",
    "\n",
    "tt = ss.lower()\n",
    "print(tt)\n",
    "print(ss)"
   ]
  },
  {
   "cell_type": "markdown",
   "metadata": {},
   "source": [
    "In this example, <font color=red>upper</font> is a method that can be invoked on any string object to create a new string in which all the characters are in uppercase. <font color=red>lower</font> works in a similar fashion changing all characters in the string to lowercase. (The original string <font color=red>ss</font> remains unchanged. A new string <font color=red>tt</font> is created.)\n",
    "\n",
    "You’ve already seen a few methods, such as <font color=red>count</font> and <font color=red>index</font>, that work with strings and are non-mutating. In addition to those and <font color=red>upper</font> and <font color=red>lower</font>, the following table provides a summary of some other useful string methods. There are a few activecode examples that follow so that you can try them out.\n",
    "\n",
    "|Method|Parameters|Description|\n",
    "|:----:|:--------:|:---------:|\n",
    "|upper|none|Returns a string in all uppercase|\n",
    "|lower|none|Returns a string in all lowercase|\n",
    "|count|item|Returns the number of occurrences of item|\n",
    "|index|item|Returns the leftmost index where the substring item is found and causes a runtime error if item is not found|\n",
    "|strip|none|Returns a string with the leading and trailing whitespace removed|\n",
    "|replace|old, new|Replaces all occurrences of old substring with new|\n",
    "|format|substitutions|Involved! See <font color=blue>String Format Method</font>, below|\n",
    "\n",
    "You should experiment with these methods so that you understand what they do. Note once again that the methods that return strings do not change the original. You can also consult the [<font color=blue>Python documentation for strings</font>](http://docs.python.org/3/library/stdtypes.html#string-methods)."
   ]
  },
  {
   "cell_type": "code",
   "execution_count": null,
   "metadata": {},
   "outputs": [],
   "source": [
    "ss = \"    Hello, World    \"\n",
    "els = ss.count(\"l\")\n",
    "print(els)\n",
    "\n",
    "print(\"***\"+ss.strip()+\"***\")\n",
    "\n",
    "news = ss.replace(\"o\", \"***\")\n",
    "print(news)"
   ]
  },
  {
   "cell_type": "code",
   "execution_count": null,
   "metadata": {},
   "outputs": [],
   "source": [
    "food = \"banana bread\"\n",
    "print(food.upper())"
   ]
  },
  {
   "cell_type": "markdown",
   "metadata": {},
   "source": [
    "#### Check your understanding\n",
    "<div class=\"alert alert-block alert-warning\" style=\"margin-top: 20px\">\n",
    "<font color=black>\n",
    "1. What is printed by the following statements?"
   ]
  },
  {
   "cell_type": "code",
   "execution_count": null,
   "metadata": {},
   "outputs": [],
   "source": [
    "s = \"python rocks\"\n",
    "print(s.count(\"o\") + s.count(\"p\"))"
   ]
  },
  {
   "cell_type": "markdown",
   "metadata": {},
   "source": [
    "<div class=\"alert alert-block alert-warning\" style=\"margin-top: 20px\">\n",
    "<font color=black>\n",
    "\n",
    "A. 0  \n",
    "B. 2  \n",
    "C. 3"
   ]
  },
  {
   "cell_type": "markdown",
   "metadata": {},
   "source": [
    "<details><summary>Click here for the solution</summary>\n",
    "\n",
    "<font color=red>► </font>C. 3  \n",
    "\n",
    "<div class=\"alert alert-block alert-success\" style=\"margin-top: 20px\">\n",
    "<font color=black>✔️ Yes, add the number of o characters and the number of p characters.\n",
    "\n",
    "</details>"
   ]
  },
  {
   "cell_type": "markdown",
   "metadata": {},
   "source": [
    "<div class=\"alert alert-block alert-warning\" style=\"margin-top: 20px\">\n",
    "<font color=black>\n",
    "2. What is printed by the following statements?"
   ]
  },
  {
   "cell_type": "code",
   "execution_count": null,
   "metadata": {},
   "outputs": [],
   "source": [
    "s = \"python rocks\"\n",
    "print(s[1]*s.index(\"n\"))"
   ]
  },
  {
   "cell_type": "markdown",
   "metadata": {},
   "source": [
    "<div class=\"alert alert-block alert-warning\" style=\"margin-top: 20px\">\n",
    "<font color=black>\n",
    "\n",
    "A. yyyyy  \n",
    "B. 55555  \n",
    "C. n  \n",
    "D. Error, you cannot combine all those things together."
   ]
  },
  {
   "cell_type": "markdown",
   "metadata": {},
   "source": [
    "<details><summary>Click here for the solution</summary>\n",
    "\n",
    "<font color=red>► </font>A. yyyyy  \n",
    "\n",
    "<div class=\"alert alert-block alert-success\" style=\"margin-top: 20px\">\n",
    "<font color=black>✔️ Yes, s[1] is y and the index of n is 5, so 5 y characters. It is important to realize that the index method has precedence over the repetition operator. Repetition is done last.\n",
    "\n",
    "</details>"
   ]
  },
  {
   "cell_type": "markdown",
   "metadata": {},
   "source": [
    "<a id='9.9.1'></a>\n",
    "### 9.9.1. String Format Method\n",
    "[Back to top](#Top)\n",
    "\n",
    "Until now, we have created strings with variable content using the + operator to concatenate partial strings together. That works, but it’s very hard for people to read or debug a code line that includes variable names and strings and complex expressions. Consider the following:"
   ]
  },
  {
   "cell_type": "code",
   "execution_count": null,
   "metadata": {},
   "outputs": [],
   "source": [
    "name = \"Rodney Dangerfield\"\n",
    "score = -1  # No respect!\n",
    "print(\"Hello \" + name + \". Your score is \" + str(score))"
   ]
  },
  {
   "cell_type": "markdown",
   "metadata": {},
   "source": [
    "Or perhaps more realistically:"
   ]
  },
  {
   "cell_type": "code",
   "execution_count": null,
   "metadata": {},
   "outputs": [],
   "source": [
    "scores = [(\"Rodney Dangerfield\", -1), (\"Marlon Brando\", 1), (\"You\", 100)]\n",
    "for person in scores:\n",
    "    name = person[0]\n",
    "    score = person[1]\n",
    "    print(\"Hello \" + name + \". Your score is \" + str(score))"
   ]
  },
  {
   "cell_type": "markdown",
   "metadata": {},
   "source": [
    "In this section, you will learn to write that in a more readable way:"
   ]
  },
  {
   "cell_type": "code",
   "execution_count": null,
   "metadata": {},
   "outputs": [],
   "source": [
    "scores = [(\"Rodney Dangerfield\", -1), (\"Marlon Brando\", 1), (\"You\", 100)]\n",
    "for person in scores:\n",
    "    name = person[0]\n",
    "    score = person[1]\n",
    "    print(\"Hello {}. Your score is {}.\".format(name, score))"
   ]
  },
  {
   "cell_type": "markdown",
   "metadata": {},
   "source": [
    "In grade school quizzes a common convention is to use fill-in-the blanks. For instance,\n",
    "\n",
    "> #### Hello \\_\\_\\_\\_\\_\\_\\_\\_!\n",
    "\n",
    "and you can fill in the name of the person greeted, and combine given text with a chosen insertion. *We use this as an analogy:* Python has a similar construction, better called fill-in-the-braces. The string method <font color=red>format</font>, makes substitutions into places in a string enclosed in braces. Run this code:"
   ]
  },
  {
   "cell_type": "code",
   "execution_count": null,
   "metadata": {},
   "outputs": [],
   "source": [
    "person = input('Your name: ')\n",
    "greeting = 'Hello {}!'.format(person)\n",
    "print(greeting)"
   ]
  },
  {
   "cell_type": "markdown",
   "metadata": {},
   "source": [
    "There are several new ideas here!\n",
    "\n",
    "The string for the <font color=red>format</font> method has a special form, with braces embedded. Such a string is called a *format string*. Places where braces are embedded are replaced by the value of an expression taken from the parameter list for the <font color=red>format</font> method. There are many variations on the syntax between the braces. In this case we use the syntax where the first (and only) location in the string with braces has a substitution made from the first (and only) parameter.\n",
    "\n",
    "In the code above, this new string is assigned to the identifier <font color=red>greeting</font>, and then the string is printed.\n",
    "\n",
    "The identifier <font color=red>greeting</font> was introduced to break the operations into a clearer sequence of steps. However, since the value of <font color=red>greeting</font> is only referenced once, it can be eliminated with the more concise version:"
   ]
  },
  {
   "cell_type": "code",
   "execution_count": null,
   "metadata": {},
   "outputs": [],
   "source": [
    "person = input('Enter your name: ')\n",
    "print('Hello {}!'.format(person))"
   ]
  },
  {
   "cell_type": "markdown",
   "metadata": {},
   "source": [
    "There can be multiple substitutions, with data of any type. Next we use floats. Try original price $2.50 with a 7% discount:"
   ]
  },
  {
   "cell_type": "code",
   "execution_count": null,
   "metadata": {},
   "outputs": [],
   "source": [
    "origPrice = float(input('Enter the original price: $'))\n",
    "discount = float(input('Enter discount percentage: '))\n",
    "newPrice = (1 - discount/100)*origPrice\n",
    "calculation = '${} discounted by {}% is ${}.'.format(origPrice, discount, newPrice)\n",
    "print(calculation)"
   ]
  },
  {
   "cell_type": "markdown",
   "metadata": {},
   "source": [
    "It is important to pass arguments to the <font color=red>format</font> method in the correct order, because they are matched *positionally* into the <font color=red>{}</font> places for interpolation where there is more than one.\n",
    "\n",
    "If you used the data suggested, this result is not satisfying. Prices should appear with exactly two places beyond the decimal point, but that is not the default way to display floats.\n",
    "\n",
    "Format strings can give further information inside the braces showing how to specially format data. In particular floats can be shown with a specific number of decimal places. For two decimal places, put <font color=red>:.2f</font> inside the braces for the monetary values:"
   ]
  },
  {
   "cell_type": "code",
   "execution_count": null,
   "metadata": {},
   "outputs": [],
   "source": [
    "origPrice = float(input('Enter the original price: $'))\n",
    "discount = float(input('Enter discount percentage: '))\n",
    "newPrice = (1 - discount/100)*origPrice\n",
    "calculation = '${:.2f} discounted by {}% is ${:.2f}.'.format(origPrice, discount, newPrice)\n",
    "print(calculation)"
   ]
  },
  {
   "cell_type": "markdown",
   "metadata": {},
   "source": [
    "The 2 in the format modifier can be replaced by another integer to round to that specified number of digits.\n",
    "\n",
    "This kind of format string depends directly on the order of the parameters to the format method. There are other approaches that we will skip here, such as explicitly numbering substitutions.\n",
    "\n",
    "It is also important that you give <font color=red>format</font> the same amount of arguments as there are <font color=red>{}</font> waiting for interpolation in the string. If you have a <font color=red>{}</font> in a string that you do not pass arguments for, you may not get an error, but you will see a weird <font color=red>undefined</font> value you probably did not intend suddenly inserted into your string. You can see an example below.\n",
    "\n",
    "For example,"
   ]
  },
  {
   "cell_type": "code",
   "execution_count": null,
   "metadata": {},
   "outputs": [],
   "source": [
    "name = \"Sally\"\n",
    "greeting = \"Nice to meet you\"\n",
    "s = \"Hello, {}. {}.\"\n",
    "\n",
    "print(s.format(name,greeting)) # will print Hello, Sally. Nice to meet you.\n",
    "\n",
    "print(s.format(greeting,name)) # will print Hello, Nice to meet you. Sally.\n",
    "\n",
    "print(s.format(name)) # 2 {}s, only one interpolation item! Not ideal."
   ]
  },
  {
   "cell_type": "markdown",
   "metadata": {},
   "source": [
    "A technical point: Since braces have special meaning in a format string, there must be a special rule if you want braces to actually be included in the final *formatted* string. The rule is to double the braces: <font color=red>\\\\{\\\\{</font> and <font color=red>\\\\}\\\\}</font>. For example mathematical set notation uses braces. The initial and final doubled braces in the format string below generate literal braces in the formatted string:"
   ]
  },
  {
   "cell_type": "code",
   "execution_count": null,
   "metadata": {},
   "outputs": [],
   "source": [
    "a = 5\n",
    "b = 9\n",
    "setStr = 'The set is \\{\\{\\{}, {}}}.'.format(a, b)\n",
    "print(setStr)"
   ]
  },
  {
   "cell_type": "markdown",
   "metadata": {},
   "source": [
    "Unfortunately, at the time of this writing, the ActiveCode format implementation has a bug, printing doubled braces, but standard Python prints <font color=red>{5, 9}</font>.\n",
    "\n",
    "#### Check your understanding\n",
    "<div class=\"alert alert-block alert-warning\" style=\"margin-top: 20px\">\n",
    "<font color=black>\n",
    "1. What is printed by the following statements?"
   ]
  },
  {
   "cell_type": "code",
   "execution_count": null,
   "metadata": {},
   "outputs": [],
   "source": [
    "x = 2\n",
    "y = 6\n",
    "print('sum of {} and {} is {}; product: {}.'.format( x, y, x+y, x*y))"
   ]
  },
  {
   "cell_type": "markdown",
   "metadata": {},
   "source": [
    "<div class=\"alert alert-block alert-warning\" style=\"margin-top: 20px\">\n",
    "<font color=black>\n",
    "\n",
    "A. Nothing - it causes an error  \n",
    "B. sum of {} and {} is {}; product: {}. 2 6 8 12  \n",
    "C. sum of 2 and 6 is 8; product: 12.  \n",
    "D. sum of {2} and {6} is {8}; product: {12}.  "
   ]
  },
  {
   "cell_type": "markdown",
   "metadata": {},
   "source": [
    "<details><summary>Click here for the solution</summary>\n",
    "\n",
    "<font color=red>► </font>C. sum of 2 and 6 is 8; product: 12.  \n",
    "\n",
    "<div class=\"alert alert-block alert-success\" style=\"margin-top: 20px\">\n",
    "<font color=black>✔️ Yes, correct substitutions!\n",
    "\n",
    "</details>"
   ]
  },
  {
   "cell_type": "markdown",
   "metadata": {},
   "source": [
    "<div class=\"alert alert-block alert-warning\" style=\"margin-top: 20px\">\n",
    "<font color=black>\n",
    "2. What is printed by the following statements?"
   ]
  },
  {
   "cell_type": "code",
   "execution_count": null,
   "metadata": {},
   "outputs": [],
   "source": [
    "v = 2.34567\n",
    "print('{:.1f} {:.2f} {:.7f}'.format(v, v, v))"
   ]
  },
  {
   "cell_type": "markdown",
   "metadata": {},
   "source": [
    "<div class=\"alert alert-block alert-warning\" style=\"margin-top: 20px\">\n",
    "<font color=black>\n",
    "\n",
    "A. 2.34567 2.34567 2.34567  \n",
    "B. 2.3 2.34 2.34567  \n",
    "C. 2.3 2.35 2.3456700"
   ]
  },
  {
   "cell_type": "markdown",
   "metadata": {},
   "source": [
    "<details><summary>Click here for the solution</summary>\n",
    "\n",
    "<font color=red>► </font>C. 2.3 2.35 2.3456700  \n",
    "\n",
    "<div class=\"alert alert-block alert-success\" style=\"margin-top: 20px\">\n",
    "<font color=black>✔️ Yes, correct number of digits with rounding!\n",
    "\n",
    "</details>"
   ]
  },
  {
   "cell_type": "markdown",
   "metadata": {},
   "source": [
    "<a id='9.10'></a>\n",
    "## 9.10. The Accumulator Pattern with Lists\n",
    "[Back to top](#Top)\n",
    "\n",
    "We can accumulate values into a list rather than accumulating a single numeric value. Consider, for example, the following program which transforms a list into a new list by squaring each of the values."
   ]
  },
  {
   "cell_type": "code",
   "execution_count": null,
   "metadata": {},
   "outputs": [],
   "source": [
    "nums = [3, 5, 8]\n",
    "accum = []\n",
    "for w in nums:\n",
    "    x = w**2\n",
    "    accum.append(x)\n",
    "print(accum)"
   ]
  },
  {
   "cell_type": "markdown",
   "metadata": {},
   "source": [
    "Here, we __initialize__ the accumulator variable to be an empty list, on line 2.\n",
    "\n",
    "We __iterate__ through the sequence (line 3). On each iteration we transform the item by squaring it (line 4).\n",
    "\n",
    "The __update__ step appends the new item to the list which is stored in the accumulator variable (line 5). The update happens using the .append(), which mutates the list rather than using a reassignment. Instead, we could have written <font color=red>accum = accum + [x]</font>, or <font color=red>accum += [x]</font>. In either case, we’d need to concatenate a list containing x, not just x itself.\n",
    "\n",
    "At the end, we have accumulated a new list of the same length as the original, but with each item transformed into a new item. This is called a mapping operation, and we will revisit it in a later chapter.\n",
    "\n",
    "Note how this differs from mutating the original list, as you saw in a previous section.\n",
    "\n",
    "#### Check your understanding\n",
    "<div class=\"alert alert-block alert-warning\" style=\"margin-top: 20px\">\n",
    "<font color=black>\n",
    "1. What is printed by the following statements?"
   ]
  },
  {
   "cell_type": "code",
   "execution_count": 8,
   "metadata": {},
   "outputs": [
    {
     "name": "stdout",
     "output_type": "stream",
     "text": [
      "[9, 7, 13, 11, 10]\n"
     ]
    }
   ],
   "source": [
    "alist = [4,2,8,6,5]\n",
    "blist = [ ]\n",
    "for item in alist:\n",
    "   blist.append(item+5)\n",
    "print(blist)"
   ]
  },
  {
   "cell_type": "markdown",
   "metadata": {},
   "source": [
    "<div class=\"alert alert-block alert-warning\" style=\"margin-top: 20px\">\n",
    "<font color=black>\n",
    "\n",
    "A. [4,2,8,6,5]  \n",
    "B. [4,2,8,6,5,5]  \n",
    "C. [9,7,13,11,10]  \n",
    "D. Error, you cannot concatenate inside an append."
   ]
  },
  {
   "cell_type": "markdown",
   "metadata": {},
   "source": [
    "<details><summary>Click here for the solution</summary>\n",
    "\n",
    "<font color=red>► </font>D. Error, you cannot concatenate inside an append.  \n",
    "\n",
    "<div class=\"alert alert-block alert-success\" style=\"margin-top: 20px\">\n",
    "<font color=black>✔️ Yes, the for loop processes each item of the list. 5 is added before it is appended to blist.\n",
    "\n",
    "</details>"
   ]
  },
  {
   "cell_type": "markdown",
   "metadata": {},
   "source": [
    "<div class=\"alert alert-block alert-warning\" style=\"margin-top: 20px\">\n",
    "<font color=black>\n",
    "2. What is printed by the following statements?"
   ]
  },
  {
   "cell_type": "code",
   "execution_count": null,
   "metadata": {},
   "outputs": [],
   "source": [
    "lst= [3,0,9,4,1,7]\n",
    "new_list=[]\n",
    "for i in range(len(lst)):\n",
    "   new_list.append(lst[i]+5)\n",
    "print(new_list)"
   ]
  },
  {
   "cell_type": "markdown",
   "metadata": {},
   "source": [
    "<div class=\"alert alert-block alert-warning\" style=\"margin-top: 20px\">\n",
    "<font color=black>\n",
    "\n",
    "A. [8,5,14,9,6]  \n",
    "B. [8,5,14,9,6,12]  \n",
    "C. [3,0,9,4,1,7,5]  \n",
    "D. Error, you cannot concatenate inside an append."
   ]
  },
  {
   "cell_type": "markdown",
   "metadata": {},
   "source": [
    "<details><summary>Click here for the solution</summary>\n",
    "\n",
    "<font color=red>► </font>B. [8,5,14,9,6,12]  \n",
    "\n",
    "<div class=\"alert alert-block alert-success\" style=\"margin-top: 20px\">\n",
    "<font color=black>✔️ Yes, the for loop processes each item in lst. 5 is added before lst[i] is appended to blist.\n",
    "\n",
    "</details>"
   ]
  },
  {
   "cell_type": "markdown",
   "metadata": {},
   "source": [
    "<div class=\"alert alert-block alert-warning\" style=\"margin-top: 20px\">\n",
    "<font color=black>\n",
    "3. For each word in the list <font color=red>verbs</font>, add an -ing ending. Save this new list in a new list, <font color=red>ing</font>."
   ]
  },
  {
   "cell_type": "code",
   "execution_count": null,
   "metadata": {},
   "outputs": [],
   "source": [
    "verbs = [\"kayak\", \"cry\", \"walk\", \"eat\", \"drink\", \"fly\"]"
   ]
  },
  {
   "cell_type": "markdown",
   "metadata": {},
   "source": [
    "<details><summary>Click here for a solution</summary>\n",
    "<div class=\"alert alert-block alert-success\" style=\"margin-top: 20px\">\n",
    "<font color=black>\n",
    "    \n",
    "```python\n",
    "ing = []\n",
    "for verb in verbs:\n",
    "    ing.append(verb + 'ing')\n",
    "```\n",
    "\n",
    "</details>"
   ]
  },
  {
   "cell_type": "markdown",
   "metadata": {},
   "source": [
    "<div class=\"alert alert-block alert-warning\" style=\"margin-top: 20px\">\n",
    "<font color=black>\n",
    "    \n",
    "4. Given the list of numbers, <font color=red>numbs</font>, create a new list of those same numbers increased by 5. Save this new list to the variable <font color=red>newlist</font>."
   ]
  },
  {
   "cell_type": "code",
   "execution_count": null,
   "metadata": {},
   "outputs": [],
   "source": [
    "numbs = [5, 10, 15, 20, 25]"
   ]
  },
  {
   "cell_type": "markdown",
   "metadata": {},
   "source": [
    "<details><summary>Click here for a solution</summary>\n",
    "<div class=\"alert alert-block alert-success\" style=\"margin-top: 20px\">\n",
    "<font color=black>\n",
    "    \n",
    "```python\n",
    "newlist = []\n",
    "for num in numbs:\n",
    "    newlist.append(num+5)\n",
    "```\n",
    "\n",
    "</details>"
   ]
  },
  {
   "cell_type": "markdown",
   "metadata": {},
   "source": [
    "<div class=\"alert alert-block alert-warning\" style=\"margin-top: 20px\">\n",
    "<font color=black>\n",
    "    \n",
    "5. __Challenge:__ Now do the same as in the previous problem, but do not create a new list. Overwrite the list <font color=red>numbs</font> so that each of the original numbers are increased by 5."
   ]
  },
  {
   "cell_type": "code",
   "execution_count": null,
   "metadata": {},
   "outputs": [],
   "source": [
    "numbs = [5, 10, 15, 20, 25]"
   ]
  },
  {
   "cell_type": "markdown",
   "metadata": {},
   "source": [
    "<details><summary>Click here for a solution</summary>\n",
    "<div class=\"alert alert-block alert-success\" style=\"margin-top: 20px\">\n",
    "<font color=black>\n",
    "    \n",
    "```python\n",
    "for index in range(len(numbs)):\n",
    "    numbs[index] += 5\n",
    "```\n",
    "\n",
    "</details>"
   ]
  },
  {
   "cell_type": "markdown",
   "metadata": {},
   "source": [
    "<div class=\"alert alert-block alert-warning\" style=\"margin-top: 20px\">\n",
    "<font color=black>\n",
    "6. For each number in <font color=red>lst_nums</font>, multiply that number by 2 and append it to a new list called <font color=red>larger_nums</font>."
   ]
  },
  {
   "cell_type": "code",
   "execution_count": null,
   "metadata": {},
   "outputs": [],
   "source": [
    "lst_nums = [4, 29, 5.3, 10, 2, 1817, 1967, 9, 31.32]"
   ]
  },
  {
   "cell_type": "markdown",
   "metadata": {},
   "source": [
    "<details><summary>Click here for a solution</summary>\n",
    "<div class=\"alert alert-block alert-success\" style=\"margin-top: 20px\">\n",
    "<font color=black>\n",
    "    \n",
    "```python\n",
    "larger_nums = []\n",
    "for num in lst_nums:\n",
    "    larger_nums.append(num * 2)\n",
    "```\n",
    "\n",
    "</details>"
   ]
  },
  {
   "cell_type": "markdown",
   "metadata": {},
   "source": [
    "<a id='9.11'></a>\n",
    "## 9.11. The Accumulator Pattern with Strings\n",
    "[Back to top](#Top)\n",
    "\n",
    "We can also accumulate strings rather than accumulating numbers, as you’ve seen before. The following program isn’t particularly useful for data processing, but we will see more useful things later that accumulate strings."
   ]
  },
  {
   "cell_type": "code",
   "execution_count": null,
   "metadata": {},
   "outputs": [],
   "source": [
    "s = input(\"Enter some text\")\n",
    "ac = \"\"\n",
    "for c in s:\n",
    "    ac = ac + c + \"-\" + c + \"-\"\n",
    "print(ac)"
   ]
  },
  {
   "cell_type": "markdown",
   "metadata": {},
   "source": [
    "Look carefully at line 4 in the above program (<font color=red>ac = ac + c + \"-\" + c + \"-\"</font>). In words, it says that the new value of <font color=red>ac</font> will be the old value of <font color=red>ac</font> concatenated with the current character, a dash, then the current character and a dash again. We are building the result string character by character.\n",
    "\n",
    "Take a close look also at the initialization of <font color=red>ac</font>. We start with an empty string and then begin adding new characters to the end. Also note that I have given it a different name this time, <font color=red>ac</font> instead of <font color=red>accum</font>. There’s nothing magical about these names. You could use any valid variable and it would work the same (try substituting x for ac everywhere in the above code).\n",
    "\n",
    "#### Check your understanding\n",
    "<div class=\"alert alert-block alert-warning\" style=\"margin-top: 20px\">\n",
    "<font color=black>\n",
    "1. What is printed by the following statements:"
   ]
  },
  {
   "cell_type": "code",
   "execution_count": null,
   "metadata": {},
   "outputs": [],
   "source": [
    "s = \"ball\"\n",
    "r = \"\"\n",
    "for item in s:\n",
    "   r = item.upper() + r\n",
    "print(r)"
   ]
  },
  {
   "cell_type": "markdown",
   "metadata": {},
   "source": [
    "<div class=\"alert alert-block alert-warning\" style=\"margin-top: 20px\">\n",
    "<font color=black>\n",
    "\n",
    "A. Ball  \n",
    "B. BALL  \n",
    "C. LLAB"
   ]
  },
  {
   "cell_type": "markdown",
   "metadata": {},
   "source": [
    "<details><summary>Click here for the solution</summary>\n",
    "\n",
    "<font color=red>► </font>C. LLAB  \n",
    "\n",
    "<div class=\"alert alert-block alert-success\" style=\"margin-top: 20px\">\n",
    "<font color=black>✔️ Yes, the order is reversed due to the order of the concatenation.\n",
    "\n",
    "</details>"
   ]
  },
  {
   "cell_type": "markdown",
   "metadata": {},
   "source": [
    "<div class=\"alert alert-block alert-warning\" style=\"margin-top: 20px\">\n",
    "<font color=black>\n",
    "2. For each character in the string already saved in the variable <font color=red>str1</font>, add each character to a list called <font color=red>chars</font>."
   ]
  },
  {
   "cell_type": "code",
   "execution_count": null,
   "metadata": {},
   "outputs": [],
   "source": [
    "str1 = \"I love python\"\n",
    "# HINT: what's the accumulator? That should go here."
   ]
  },
  {
   "cell_type": "markdown",
   "metadata": {},
   "source": [
    "<details><summary>Click here for a solution</summary>\n",
    "<div class=\"alert alert-block alert-success\" style=\"margin-top: 20px\">\n",
    "<font color=black>\n",
    "    \n",
    "```python\n",
    "chars = []\n",
    "for char in str1:\n",
    "    chars.append(char)\n",
    "```\n",
    "\n",
    "</details>"
   ]
  },
  {
   "cell_type": "markdown",
   "metadata": {},
   "source": [
    "<div class=\"alert alert-block alert-warning\" style=\"margin-top: 20px\">\n",
    "<font color=black>\n",
    "    \n",
    "3. Assign an empty string to the variable <font color=red>output</font>. Using the <font color=red>range</font> function, write code to make it so that the variable <font color=red>output</font> has 35 <font color=red>a</font> s inside it (like <font color=red>\"aaaaaaaaaaaaaaaaaaaaaaaaaaaaaaaaaaa\"</font>). Hint: use the accumulation pattern!"
   ]
  },
  {
   "cell_type": "markdown",
   "metadata": {},
   "source": [
    "<details><summary>Click here for a solution</summary>\n",
    "<div class=\"alert alert-block alert-success\" style=\"margin-top: 20px\">\n",
    "<font color=black>\n",
    "    \n",
    "```python\n",
    "output = \"\"\n",
    "for char in range(35):\n",
    "    output += 'a'\n",
    "```\n",
    "\n",
    "</details>"
   ]
  },
  {
   "cell_type": "markdown",
   "metadata": {},
   "source": [
    "<a id='9.12'></a>\n",
    "## 9.12. 👩‍💻 Accumulator Pattern Strategies\n",
    "\n",
    "<a id='9.12.1'></a>\n",
    "### 9.12.1. When to Use it\n",
    "[Back to top](#Top)\n",
    "\n",
    "When children first encounter word problems in their math classes, they find it difficult to translate those words into arithmetic expressions involving addition, subtraction, multiplication, and division. Teachers offer heuristics. If the problem says “how many…altogether”, that’s an addition problem. If it says “how many are left”, that’s going to be a subtraction problem.\n",
    "\n",
    "Learning to use the accumulator pattern can be similarly confusing. The first step is to recognizing something in the problem statement that suggests an accumulation pattern. Here are a few. You might want to try adding some more of your own.\n",
    "\n",
    "|Phrase|Accumulation Pattern|\n",
    "|:----:|:------------------:|\n",
    "|how many|count accumulation|\n",
    "|how frequently||\n",
    "|total|sum accumulation|\n",
    "|a list of|list accumulation|\n",
    "|concatenate|string accumulation|\n",
    "|join together||\n",
    "\n",
    "For example, if the problem is to compute the total distance traveled in a series of small trips, you would want to accumulate a sum. If the problem is to make a list of the cubes of all the numbers from 1-25, you want a list accumulation, starting with an empty list and appending one more cube each time. If the problem is to make a comma separated list of all the people invited to a party, you should think of concatenating them; you could start with an empty string and concatenate one more person on each iteration through a list of name.\n",
    "\n",
    "<a id='9.12.2'></a>\n",
    "### 9.12.2. Before Writing it\n",
    "[Back to top](#Top)\n",
    "\n",
    "Before writing any code, we recommend that you first answer the following questions:\n",
    "\n",
    "- What sequence will you iterate through as you accumulate a result? It could be a range of numbers, the letters in a string, or some existing list that you have just as a list of names.\n",
    "\n",
    "- What type of value will you accumulate? If your final result will be a number, your accumulator will start out with a number and always have a number even as it is updated each time. Similarly, if your final result will be a list, start with a list. If your final result will be a string, you’ll probably want to start with a string; one other option is to accumulate a list of strings and then use the .join() method at the end to concatenate them all together.\n",
    "\n",
    "We recommend writing your answers to these questions in a comment. As you encounter bugs and have to look things up, it will help remind you of what you were trying to implement. Sometimes, just writing the comment can help you to realize a potential problem and avoid it before you ever write any code.\n",
    "\n",
    "<a id='9.12.3'></a>\n",
    "### 9.12.3. Choosing Good Accumulator and Iterator Variable Names\n",
    "[Back to top](#Top)\n",
    "\n",
    "The final piece of advice regarding accumulation strategies is to be intentional when choosing variable names for the accumulator and iterator variables. A good name can help remind you of what the value is assigned to the variable as well as what you should have by the end of your code. While it might be tempting at first to use a short variable name, such as <font color=red>a</font> or <font color=red>x</font>, if you run into any bugs or look at your code later, you may have trouble understanding what you intended to do and what your code is actually doing.\n",
    "\n",
    "For the accumulator variable, one thing that can help is to make the variable name end with “so_far”. The prefix can be something that helps remind you of what you’re supposed to end up with. For example: count_so_far, total_so_far, or cubes_so_far.\n",
    "\n",
    "As mentioned previously in a previous Way of the Programmer segment, 👩‍💻 <font color=blue>Naming Variables in For Loops</font>, the iterator variable should be a singular noun. It should describe what one item in the original sequence, not what one item in the final result will be. For example, when accumulating the cubes of the numbers from 1-25, don’t write for cube in range(25):. Instead, write for num in range(25):. If you name the iterator variable cube you run the risk of getting confused that it has already been cubed, when that’s an operation that you still have to write in your code."
   ]
  },
  {
   "cell_type": "markdown",
   "metadata": {},
   "source": [
    "#### Check your understanding\n",
    "<div class=\"alert alert-block alert-warning\" style=\"margin-top: 20px\">\n",
    "<font color=black>\n",
    "    \n",
    "1. Does the following prompt require an accumulation pattern? If so, what words indicate that? For each string in wrds, add ‘ed’ to the end of the word (to make the word past tense). Save these past tense words to a list called past_wrds.\n",
    "\n",
    "  A. Yes; \"save... to a list\"  \n",
    "  B. Yes; \"add 'ed' to the end of the word\"  \n",
    "  C. No"
   ]
  },
  {
   "cell_type": "markdown",
   "metadata": {},
   "source": [
    "<details><summary>Click here for the solution</summary>\n",
    "\n",
    "<font color=red>► </font>A. Yes; \"save... to a list\"  \n",
    "\n",
    "<div class=\"alert alert-block alert-success\" style=\"margin-top: 20px\">\n",
    "<font color=black>✔️ Correct!\n",
    "\n",
    "\n",
    "</details>"
   ]
  },
  {
   "cell_type": "markdown",
   "metadata": {},
   "source": [
    "<div class=\"alert alert-block alert-warning\" style=\"margin-top: 20px\">\n",
    "<font color=black>\n",
    "    \n",
    "2. Does the following prompt require an accumulation pattern? If so, what words indicate that? Write code to sum up all of the numbers in the list <font color=red>seat_counts</font>. Store that number in the variable <font color=red>total_seat_counts</font>.\n",
    "\n",
    "  A. Yes; \"to sum up\"  \n",
    "  B. Yes; \"numbers in the list\"  \n",
    "  C. No"
   ]
  },
  {
   "cell_type": "markdown",
   "metadata": {},
   "source": [
    "<details><summary>Click here for the solution</summary>\n",
    "\n",
    "<font color=red>► </font>A. Yes; \"to sum up\"  \n",
    "\n",
    "<div class=\"alert alert-block alert-success\" style=\"margin-top: 20px\">\n",
    "<font color=black>✔️ Correct!\n",
    "\n",
    "\n",
    "</details>"
   ]
  },
  {
   "cell_type": "markdown",
   "metadata": {},
   "source": [
    "<div class=\"alert alert-block alert-warning\" style=\"margin-top: 20px\">\n",
    "<font color=black>\n",
    "    \n",
    "3. Does the following prompt require an accumulation pattern? If so, what words indicate that? Write code to print out each character of the string my_str on a separate line.\n",
    "\n",
    "  A. Yes; \"print out each\"  \n",
    "  B. Yes; \"on a separate line\"  \n",
    "  C. No"
   ]
  },
  {
   "cell_type": "markdown",
   "metadata": {},
   "source": [
    "<details><summary>Click here for the solution</summary>\n",
    "\n",
    "<font color=red>► </font>C. No  \n",
    "\n",
    "<div class=\"alert alert-block alert-success\" style=\"margin-top: 20px\">\n",
    "<font color=black>✔️ Correct!\n",
    "\n",
    "\n",
    "</details>"
   ]
  },
  {
   "cell_type": "markdown",
   "metadata": {},
   "source": [
    "<div class=\"alert alert-block alert-warning\" style=\"margin-top: 20px\">\n",
    "<font color=black>\n",
    "    \n",
    "4. Does the following prompt require an accumulation pattern? If so, what words indicate that? Write code that will count the number of vowels in the sentence <font color=red>s</font> and assign the result to the variable <font color=red>num_vowels</font>.\n",
    "\n",
    "  A. Yes; \"vowels in the sentence\"  \n",
    "  B. Yes; \"code that will count\"  \n",
    "  C. No"
   ]
  },
  {
   "cell_type": "markdown",
   "metadata": {},
   "source": [
    "<details><summary>Click here for the solution</summary>\n",
    "\n",
    "<font color=red>► </font>B. Yes; \"code that will count\"  \n",
    "\n",
    "<div class=\"alert alert-block alert-success\" style=\"margin-top: 20px\">\n",
    "<font color=black>✔️ Correct!\n",
    "\n",
    "\n",
    "</details>"
   ]
  },
  {
   "cell_type": "markdown",
   "metadata": {},
   "source": [
    "<div class=\"alert alert-block alert-warning\" style=\"margin-top: 20px\">\n",
    "<font color=black>\n",
    "    \n",
    "5. What type should be used for the accumulator variable in the following prompt? Write code that will count the number of vowels in the sentence <font color=red>s</font> and assign the result to the variable <font color=red>num_vowels</font>.\n",
    "\n",
    "  A. string  \n",
    "  B. list  \n",
    "  C. integer  \n",
    "  D. none, there is no accumulator variable"
   ]
  },
  {
   "cell_type": "markdown",
   "metadata": {},
   "source": [
    "<details><summary>Click here for the solution</summary>\n",
    "\n",
    "<font color=red>► </font>C. integer  \n",
    "\n",
    "<div class=\"alert alert-block alert-success\" style=\"margin-top: 20px\">\n",
    "<font color=black>✔️ Yes, because we want to keep track of a number.\n",
    "\n",
    "\n",
    "</details>"
   ]
  },
  {
   "cell_type": "markdown",
   "metadata": {},
   "source": [
    "<div class=\"alert alert-block alert-warning\" style=\"margin-top: 20px\">\n",
    "<font color=black>\n",
    "    \n",
    "6. What sequence will you iterate through as you accumulate a result in the following prompt? Write code that will count the number of vowels in the sentence <font color=red>s</font> and assign the result to the variable <font color=red>num_vowels</font>.\n",
    "\n",
    "  A. num_vowels  \n",
    "  B. s  \n",
    "  C. the prompt does not say"
   ]
  },
  {
   "cell_type": "markdown",
   "metadata": {},
   "source": [
    "<details><summary>Click here for the solution</summary>\n",
    "\n",
    "<font color=red>► </font>B. s  \n",
    "\n",
    "<div class=\"alert alert-block alert-success\" style=\"margin-top: 20px\">\n",
    "<font color=black>✔️ Yes, that is the sequence you will iterate through!\n",
    "\n",
    "\n",
    "</details>"
   ]
  },
  {
   "cell_type": "markdown",
   "metadata": {},
   "source": [
    "<div class=\"alert alert-block alert-warning\" style=\"margin-top: 20px\">\n",
    "<font color=black>\n",
    "    \n",
    "7. What type should be used for the accumulator variable in the following prompt? For each string in <font color=red>wrds</font>, add ‘ed’ to the end of the word (to make the word past tense). Save these past tense words to a list called <font color=red>past_wrds</font>.\n",
    "\n",
    "  A. string  \n",
    "  B. list  \n",
    "  C. integer  \n",
    "  D. none, there is no accumulator variable."
   ]
  },
  {
   "cell_type": "markdown",
   "metadata": {},
   "source": [
    "<details><summary>Click here for the solution</summary>\n",
    "\n",
    "<font color=red>► </font>B. list  \n",
    "\n",
    "<div class=\"alert alert-block alert-success\" style=\"margin-top: 20px\">\n",
    "<font color=black>✔️ Yes, because we want a new list at the end of the code.\n",
    "\n",
    "\n",
    "</details>"
   ]
  },
  {
   "cell_type": "markdown",
   "metadata": {},
   "source": [
    "<div class=\"alert alert-block alert-warning\" style=\"margin-top: 20px\">\n",
    "<font color=black>\n",
    "    \n",
    "8. What sequence will you iterate through as you accumulate a result in the following prompt? For each string in <font color=red>wrds</font>, add ‘ed’ to the end of the word (to make the word past tense). Save these past tense words to a list called <font color=red>past_wrds</font>.\n",
    "\n",
    "  A. wrds  \n",
    "  B. past_wrds  \n",
    "  C. the prompt does not say"
   ]
  },
  {
   "cell_type": "markdown",
   "metadata": {},
   "source": [
    "<details><summary>Click here for the solution</summary>\n",
    "\n",
    "<font color=red>► </font>A. wrds  \n",
    "\n",
    "<div class=\"alert alert-block alert-success\" style=\"margin-top: 20px\">\n",
    "<font color=black>✔️ Yes, that is the sequence you will iterate through!\n",
    "\n",
    "\n",
    "</details>"
   ]
  },
  {
   "cell_type": "markdown",
   "metadata": {},
   "source": [
    "<div class=\"alert alert-block alert-warning\" style=\"margin-top: 20px\">\n",
    "<font color=black>\n",
    "    \n",
    "9. What type should be used for the accumulator variable in the following prompt? Write code to sum up all of the numbers in the list <font color=red>seat_counts</font>. Store that number in the variable <font color=red>total_seat_counts</font>.\n",
    "\n",
    "  A. string  \n",
    "  B. list  \n",
    "  C. integer  \n",
    "  D. none, there is no accumulator variable."
   ]
  },
  {
   "cell_type": "markdown",
   "metadata": {},
   "source": [
    "<details><summary>Click here for the solution</summary>\n",
    "\n",
    "<font color=red>► </font>C. integer  \n",
    "\n",
    "<div class=\"alert alert-block alert-success\" style=\"margin-top: 20px\">\n",
    "<font color=black>✔️ Yes, because we want to keep track of a number.\n",
    "\n",
    "\n",
    "</details>"
   ]
  },
  {
   "cell_type": "markdown",
   "metadata": {},
   "source": [
    "<div class=\"alert alert-block alert-warning\" style=\"margin-top: 20px\">\n",
    "<font color=black>\n",
    "    \n",
    "10. What sequence will you iterate through as you accumulate a result in the following prompt? Write code to sum up all of the numbers in the list <font color=red>seat_counts</font>. Store that number in the variable <font color=red>total_seat_counts</font>.\n",
    "\n",
    "  A. seat_counts  \n",
    "  B. total_seat_counts  \n",
    "  C. the prompt does not say"
   ]
  },
  {
   "cell_type": "markdown",
   "metadata": {},
   "source": [
    "<details><summary>Click here for the solution</summary>\n",
    "\n",
    "<font color=red>► </font>A. seat_counts  \n",
    "\n",
    "<div class=\"alert alert-block alert-success\" style=\"margin-top: 20px\">\n",
    "<font color=black>✔️ Yes, that is the sequence you will iterate through!\n",
    "\n",
    "\n",
    "</details>"
   ]
  },
  {
   "cell_type": "markdown",
   "metadata": {},
   "source": [
    "<div class=\"alert alert-block alert-warning\" style=\"margin-top: 20px\">\n",
    "<font color=black>\n",
    "    \n",
    "11. What type should be used for the accumulator variable in the following prompt? Write code to print out each character of the string <font color=red>my_str</font> on a separate line.\n",
    "\n",
    "  A. string  \n",
    "  B. list  \n",
    "  C. integer  \n",
    "  D. none, there is no accumulator variable."
   ]
  },
  {
   "cell_type": "markdown",
   "metadata": {},
   "source": [
    "<details><summary>Click here for the solution</summary>\n",
    "\n",
    "<font color=red>► </font>D. none, there is no accumulator variable.  \n",
    "\n",
    "<div class=\"alert alert-block alert-success\" style=\"margin-top: 20px\">\n",
    "<font color=black>✔️ Correct, because this prompt does not require an accumulator pattern.\n",
    "\n",
    "\n",
    "</details>"
   ]
  },
  {
   "cell_type": "markdown",
   "metadata": {},
   "source": [
    "<div class=\"alert alert-block alert-warning\" style=\"margin-top: 20px\">\n",
    "<font color=black>\n",
    "    \n",
    "12. What sequence will you iterate through as you accumulate a result in the following prompt? Write code to print out each character of the string <font color=red>my_str</font> on a separate line.\n",
    "\n",
    "  A. my_str  \n",
    "  B. my_str.split()  \n",
    "  C. the prompt does not say  "
   ]
  },
  {
   "cell_type": "markdown",
   "metadata": {},
   "source": [
    "<details><summary>Click here for the solution</summary>\n",
    "\n",
    "<font color=red>► </font>A. my_str  \n",
    "\n",
    "<div class=\"alert alert-block alert-success\" style=\"margin-top: 20px\">\n",
    "<font color=black>✔️ Yes, that is the sequence you will iterate through!\n",
    "\n",
    "\n",
    "</details>"
   ]
  },
  {
   "cell_type": "markdown",
   "metadata": {},
   "source": [
    "<div class=\"alert alert-block alert-warning\" style=\"margin-top: 20px\">\n",
    "<font color=black>\n",
    "    \n",
    "13. Which of these are good alternatives to the accumulator variable and iterator variable names for the following prompt? For each string in <font color=red>wrds</font>, add ‘ed’ to the end of the word (to make the word past tense). Save these past tense words to a list called <font color=red>past_wrds</font>.\n",
    "\n",
    "  A. Accumulator Variable: wrds_so_far ; Iterator Variable: wrd  \n",
    "  B. Accumulator Variable: wrds_so_far ; Iterator Variable: x  \n",
    "  C. Accumulator Variable: changed_wrds ; Iterator Variable: ed"
   ]
  },
  {
   "cell_type": "markdown",
   "metadata": {},
   "source": [
    "<details><summary>Click here for the solution</summary>\n",
    "\n",
    "<font color=red>► </font>A. Accumulator Variable: wrds_so_far ; Iterator Variable: wrd  \n",
    "\n",
    "<div class=\"alert alert-block alert-success\" style=\"margin-top: 20px\">\n",
    "<font color=black>✔️ Yes, this is the most clear combination of accumulator and iterator variables.\n",
    "\n",
    "\n",
    "</details>"
   ]
  },
  {
   "cell_type": "markdown",
   "metadata": {},
   "source": [
    "<div class=\"alert alert-block alert-warning\" style=\"margin-top: 20px\">\n",
    "<font color=black>\n",
    "    \n",
    "14. WWhich of these are good alternatives to the accumulator variable and iterator variable names for the following prompt? Write code that will count the number of vowels in the sentence s and assign the result to the variable <font color=red>num_vowels</font>.\n",
    "\n",
    "  A. Accumulator Variable: count_so_far ; Iterator Variable: l  \n",
    "  B. Accumulator Variable: total_so_far ; Iterator Variable: letter  \n",
    "  C. Accumulator Variable: n_v ; Iterator Variable: letter"
   ]
  },
  {
   "cell_type": "markdown",
   "metadata": {},
   "source": [
    "<details><summary>Click here for the solution</summary>\n",
    "\n",
    "<font color=red>► </font>B. Accumulator Variable: total_so_far ; Iterator Variable: letter  \n",
    "\n",
    "<div class=\"alert alert-block alert-success\" style=\"margin-top: 20px\">\n",
    "<font color=black>✔️ Yes! Both the accumulator and iterator variable are clear.\n",
    "\n",
    "\n",
    "</details>"
   ]
  },
  {
   "cell_type": "markdown",
   "metadata": {},
   "source": [
    "<div class=\"alert alert-block alert-warning\" style=\"margin-top: 20px\">\n",
    "<font color=black>\n",
    "    \n",
    "15. Which of these are good alternatives to the accumulator variable and iterator variable names for the following prompt? Write code to sum up all of the numbers in the list <font color=red>seat_counts</font>. Store that number in the variable <font color=red>total_seat_counts</font>.\n",
    "\n",
    "  A. Accumulator Variable: total_so_far ; Iterator Variable: seat  \n",
    "  B. Accumulator Variable: total_seats_so_far ; Iterator Variable: seat_count  \n",
    "  C. Accumulator Variable: count ; Iterator Variable: n"
   ]
  },
  {
   "cell_type": "markdown",
   "metadata": {},
   "source": [
    "<details><summary>Click here for the solution</summary>\n",
    "\n",
    "<font color=red>► </font>B. Accumulator Variable: total_seats_so_far ; Iterator Variable: seat_count  \n",
    "\n",
    "<div class=\"alert alert-block alert-success\" style=\"margin-top: 20px\">\n",
    "<font color=black>✔️ Yes, this is the most clear combination.\n",
    "\n",
    "\n",
    "</details>"
   ]
  },
  {
   "cell_type": "markdown",
   "metadata": {},
   "source": [
    "<div class=\"alert alert-block alert-warning\" style=\"margin-top: 20px\">\n",
    "<font color=black>\n",
    "    \n",
    "16. Which of these are good alternatives to the accumulator variable and iterator variable names for the following prompt? Write code to print out each character of the string <font color=red>my_str</font> on a separate line.\n",
    "\n",
    "  A. Accumulator Variable: character_so_far ; Iterator Variable: char  \n",
    "  B. Accumulator Variable: no variable needed ; Iterator Variable: c  \n",
    "  C. Accumulator Variable: no variable needed ; Iterator Variable: char"
   ]
  },
  {
   "cell_type": "markdown",
   "metadata": {},
   "source": [
    "<details><summary>Click here for the solution</summary>\n",
    "\n",
    "<font color=red>► </font>C. Accumulator Variable: no variable needed ; Iterator Variable: char  \n",
    "\n",
    "<div class=\"alert alert-block alert-success\" style=\"margin-top: 20px\">\n",
    "<font color=black>✔️ Yes, there is no accumulator variable needed and the iterator variable is clear (char is a common short form of character).\n",
    "\n",
    "\n",
    "</details>"
   ]
  },
  {
   "cell_type": "markdown",
   "metadata": {},
   "source": [
    "<a id='9.13'></a>\n",
    "## 9.13. 👩‍💻 Don’t Mutate A List That You Are Iterating Through\n",
    "[Back to top](#Top)\n",
    "\n",
    "So far we’ve shown you how to iterate through a list:"
   ]
  },
  {
   "cell_type": "code",
   "execution_count": null,
   "metadata": {},
   "outputs": [],
   "source": [
    "colors = [\"Red\", \"Orange\", \"Yellow\", \"Green\", \"Blue\", \"Indigo\", \"Violet\"]\n",
    "\n",
    "for color in colors:\n",
    "    print(color)"
   ]
  },
  {
   "cell_type": "markdown",
   "metadata": {},
   "source": [
    "As well as accumulate a list by appending or deleting items!"
   ]
  },
  {
   "cell_type": "code",
   "execution_count": null,
   "metadata": {},
   "outputs": [],
   "source": [
    "colors = [\"Red\", \"Orange\", \"Yellow\", \"Green\", \"Blue\", \"Indigo\", \"Violet\"]\n",
    "initials = []\n",
    "\n",
    "for color in colors:\n",
    "    initials.append(color[0])\n",
    "\n",
    "print(initials)"
   ]
  },
  {
   "cell_type": "markdown",
   "metadata": {},
   "source": [
    "You may be tempted now to iterate through a list and accumulate some data into it or delete data from it, however that often becomes very confusing. In the following code we will filter out all words that begin with P, B, or T."
   ]
  },
  {
   "cell_type": "code",
   "execution_count": null,
   "metadata": {},
   "outputs": [],
   "source": [
    "colors = [\"Red\", \"Orange\", \"Yellow\", \"Green\", \"Blue\", \"Indigo\", \"Violet\", \"Purple\", \"Pink\", \"Brown\", \"Teal\", \"Turquois\", \"Peach\", \"Beige\"]\n",
    "\n",
    "for position in range(len(colors)):\n",
    "    color = colors[position]\n",
    "    print(color)\n",
    "    if color[0] in [\"P\", \"B\", \"T\"]:\n",
    "        del colors[position]\n",
    "\n",
    "print(colors)"
   ]
  },
  {
   "cell_type": "markdown",
   "metadata": {},
   "source": [
    "In the code above, we iterated through <font color=red>range(len(colors))</font> because it made it easier to locate the position of the item in the list and delete it. However, we run into a problem because as we delete content from the list, the list becomes shorter. Not only do we have an issue indexing on line 4 after a certain point, but we also skip over some strings because they’ve been moved around. To see this more easily, try walking through this code in codelens. Note that each time we iterate through the list python does not reevaluate the iterator variable.\n",
    "\n",
    "We can also try to accumulate a list that we’re iterating through as well. What do you think will happen here?"
   ]
  },
  {
   "cell_type": "code",
   "execution_count": null,
   "metadata": {},
   "outputs": [],
   "source": [
    "colors = [\"Red\", \"Orange\", \"Yellow\", \"Green\", \"Blue\", \"Indigo\", \"Violet\"]\n",
    "\n",
    "for color in colors:\n",
    "    if color[0] in [\"A\", \"E\", \"I\", \"O\", \"U\"]:\n",
    "        colors.append(color)\n",
    "\n",
    "print(colors)"
   ]
  },
  {
   "cell_type": "markdown",
   "metadata": {},
   "source": [
    "Though there is not an error, the behavior may not be expected. When we come across a color that begins with a vowel, that color is added to the end of the list. Again, because Python does not reevaluate the iterator variable we are not stuck adding colors that start with vowels for an infinite number of times. That’s good in this case! Ultimately though, it can be confusing to write code like this. We recommend not iterating over a list that you will be mutating within the for loop.\n",
    "\n",
    "<a id='9.14'></a>\n",
    "## 9.14. Summary\n",
    "[Back to top](#Top)\n",
    "\n",
    "for loop traversal (for)\n",
    "Traversing a string or a list means accessing each character in the string or item in the list, one at a time. For example, the following for loop:"
   ]
  },
  {
   "cell_type": "markdown",
   "metadata": {},
   "source": [
    "for ix in 'Example':\n",
    "    ..."
   ]
  },
  {
   "cell_type": "markdown",
   "metadata": {},
   "source": [
    "executes the body of the loop 7 times with different values of <font color=red>ix</font> each time.\n",
    "\n",
    "__range__  \n",
    "A function that produces a list of numbers. For example, <font color=red>range(5)</font>, produces a list of five numbers, starting with 0, <font color=red>[0, 1, 2, 3, 4]</font>.\n",
    "\n",
    "__pattern__  \n",
    "A sequence of statements, or a style of coding something that has general applicability in a number of different situations. Part of becoming a mature programmer is to learn and establish the patterns and algorithms that form your toolkit.\n",
    "\n",
    "__index__  \n",
    "A variable or value used to select a member of an ordered collection, such as a character from a string, or an element from a list.\n",
    "\n",
    "__traverse__  \n",
    "To iterate through the elements of a collection, performing a similar operation on each.\n",
    "\n",
    "__accumulator pattern__  \n",
    "A pattern where the program initializes an accumulator variable and then changes it during each iteration, accumulating a final result.\n",
    "\n",
    "<a id='9.15'></a>\n",
    "## 9.15. Exercises\n",
    "[Back to top](#Top)\n",
    "\n",
    "<div class=\"alert alert-block alert-warning\" style=\"margin-top: 20px\">\n",
    "<font color=black>\n",
    "    \n",
    "1. For each word in the list <font color=red>verbs</font>, add an -ing ending. Overwrite the old list so that verbs has the same words with <font color=red>ing</font> at the end of each one."
   ]
  },
  {
   "cell_type": "code",
   "execution_count": null,
   "metadata": {},
   "outputs": [],
   "source": [
    "verbs = [\"kayak\", \"cry\", \"walk\", \"eat\", \"drink\", \"fly\"]"
   ]
  },
  {
   "cell_type": "markdown",
   "metadata": {},
   "source": [
    "<details><summary>Click here for a solution</summary>\n",
    "<div class=\"alert alert-block alert-success\" style=\"margin-top: 20px\">\n",
    "<font color=black>\n",
    "    \n",
    "```python\n",
    "for index in range(len(verbs)):\n",
    "    verbs[index] = verbs[index] + \"ing\"\n",
    "```\n",
    "\n",
    "</details>"
   ]
  },
  {
   "cell_type": "markdown",
   "metadata": {},
   "source": [
    "<div class=\"alert alert-block alert-warning\" style=\"margin-top: 20px\">\n",
    "<font color=black>\n",
    "    \n",
    "2. In XYZ University, upper level math classes are numbered 300 and up. Upper level English classes are numbered 200 and up. Upper level Psychology classes are 400 and up. Create two lists, <font color=red>upper</font> and <font color=red>lower</font>. Assign each course in <font color=red>classes</font> to the correct list, <font color=red>upper</font> or <font color=red>lower</font>. HINT: remember, you can convert some strings to different types!"
   ]
  },
  {
   "cell_type": "code",
   "execution_count": null,
   "metadata": {},
   "outputs": [],
   "source": [
    "classes = [\"MATH 150\", \"PSYCH 111\", \"PSYCH 313\", \"PSYCH 412\", \"MATH 300\", \"MATH 404\", \"MATH 206\", \"ENG 100\", \"ENG 103\", \"ENG 201\", \"PSYCH 508\", \"ENG 220\", \"ENG 125\", \"ENG 124\"]"
   ]
  },
  {
   "cell_type": "markdown",
   "metadata": {},
   "source": [
    "<details><summary>Click here for a solution</summary>\n",
    "<div class=\"alert alert-block alert-success\" style=\"margin-top: 20px\">\n",
    "<font color=black>\n",
    "    \n",
    "```python\n",
    "upper = []\n",
    "lower = []\n",
    "for course in classes:\n",
    "    course_detail = course.split()\n",
    "    if course_detail[0] == \"MATH\":\n",
    "        if int(course_detail[1]) >= 300:\n",
    "            upper.append(course)\n",
    "        else:\n",
    "            lower.append(course)\n",
    "    elif course_detail[0] == \"ENG\":\n",
    "        if int(course_detail[1]) >= 200:\n",
    "            upper.append(course)\n",
    "        else:\n",
    "            lower.append(course)\n",
    "    elif course_detail[0] == \"PSYCH\":\n",
    "        if int(course_detail[1]) >= 400:\n",
    "            upper.append(course)\n",
    "        else:\n",
    "            lower.append(course)\n",
    "```\n",
    "\n",
    "</details>"
   ]
  },
  {
   "cell_type": "markdown",
   "metadata": {},
   "source": [
    "<div class=\"alert alert-block alert-warning\" style=\"margin-top: 20px\">\n",
    "<font color=black>\n",
    "    \n",
    "3. Starting with the list myList = [76, 92.3, ‘hello’, True, 4, 76], write Python statements to do the following:\n",
    "\n",
    "  a. Append “apple” and 76 to the list.  \n",
    "  b. Insert the value “cat” at position 3.  \n",
    "  c. Insert the value 99 at the start of the list.  \n",
    "  d. Find the index of “hello”.  \n",
    "  e. Count the number of 76s in the list.  \n",
    "  f. Remove the first occurrence of 76 from the list.  \n",
    "  g. Remove True from the list using <font color=red>pop</font> and <font color=red>index</font>."
   ]
  },
  {
   "cell_type": "code",
   "execution_count": null,
   "metadata": {},
   "outputs": [],
   "source": [
    "myList = [76, 92.3, 'hello', True, 4, 76]\n",
    "# Your code here"
   ]
  },
  {
   "cell_type": "markdown",
   "metadata": {},
   "source": [
    "<details><summary>Click here for a solution</summary>\n",
    "<div class=\"alert alert-block alert-success\" style=\"margin-top: 20px\">\n",
    "<font color=black>\n",
    "    \n",
    "```python\n",
    "a. myList.append(\"apple\")\n",
    "b. myList.insert(2, \"cat\")\n",
    "c. myList.insert(0, 99)\n",
    "d. myList.index(\"hello\")\n",
    "e. myList.count(76)\n",
    "f. myList.remove(76)\n",
    "g. myList.pop(myList.index(True))\n",
    "```\n",
    "\n",
    "</details>"
   ]
  },
  {
   "cell_type": "markdown",
   "metadata": {},
   "source": [
    "<div class=\"alert alert-block alert-warning\" style=\"margin-top: 20px\">\n",
    "<font color=black>\n",
    "    \n",
    "4. The module <font color=red>keyword</font> determines if a string is a keyword. e.g. <font color=red>keyword.iskeyword(s)</font> where <font color=red>s</font> is a string will return either <font color=red>True</font> or <font color=red>False</font>, depending on whether or not the string is a Python keyword. Import the <font color=red>keyword</font> module and test to see whether each of the words in list <font color=red>test</font> are keywords. Save the respective answers in a list, <font color=red>keyword_test</font>."
   ]
  },
  {
   "cell_type": "code",
   "execution_count": null,
   "metadata": {},
   "outputs": [],
   "source": [
    "test = [\"else\", \"integer\", \"except\", \"elif\"]\n",
    "keyword_test = []"
   ]
  },
  {
   "cell_type": "markdown",
   "metadata": {},
   "source": [
    "<details><summary>Click here for a solution</summary>\n",
    "<div class=\"alert alert-block alert-success\" style=\"margin-top: 20px\">\n",
    "<font color=black>\n",
    "    \n",
    "```python\n",
    "import keyword\n",
    "for item in test:\n",
    "    if keyword.iskeyword(item) == True:\n",
    "        keyword_test.append(True)\n",
    "    else:\n",
    "        keyword_test.append(False)\n",
    "```\n",
    "\n",
    "</details>"
   ]
  },
  {
   "cell_type": "markdown",
   "metadata": {},
   "source": [
    "<div class=\"alert alert-block alert-warning\" style=\"margin-top: 20px\">\n",
    "<font color=black>\n",
    "    \n",
    "5. The <font color=red>string</font> module provides sequences of various types of Python characters. It has an attribute called <font color=red>digits</font> that produces the string ‘0123456789’. Import the module and assign this string to the variable <font color=red>nums</font>. Below, we have provided a list of characters called <font color=red>chars</font>. Using <font color=red>nums</font> and <font color=red>chars</font>, produce a list called <font color=red>is_num</font> that consists of tuples. The first element of each tuple should be the character from <font color=red>chars</font>, and the second element should be a Boolean that reflects whether or not it is a Python digit."
   ]
  },
  {
   "cell_type": "code",
   "execution_count": null,
   "metadata": {},
   "outputs": [],
   "source": [
    "chars = ['h', '1', 'C', 'i', '9', 'True', '3.1', '8', 'F', '4', 'j']"
   ]
  },
  {
   "cell_type": "markdown",
   "metadata": {},
   "source": [
    "<details><summary>Click here for a solution</summary>\n",
    "<div class=\"alert alert-block alert-success\" style=\"margin-top: 20px\">\n",
    "<font color=black>\n",
    "    \n",
    "```python\n",
    "import string\n",
    "nums = string.digits\n",
    "is_num = []\n",
    "for item in chars:\n",
    "    if item in nums:\n",
    "        is_num.append((item, True))\n",
    "    else:\n",
    "        is_num.append((item, False))\n",
    "```\n",
    "\n",
    "</details>"
   ]
  },
  {
   "cell_type": "markdown",
   "metadata": {},
   "source": [
    "<a id='9.16'></a>\n",
    "## 9.16. Chapter Assessment - List Methods\n",
    "[Back to top](#Top)\n",
    "\n",
    "#### Check your understanding\n",
    "<div class=\"alert alert-block alert-warning\" style=\"margin-top: 20px\">\n",
    "<font color=black>\n",
    "1. Which of these is a correct reference diagram following the execution of the following code?"
   ]
  },
  {
   "cell_type": "code",
   "execution_count": null,
   "metadata": {},
   "outputs": [],
   "source": [
    "lst = ['mercury', 'venus', 'earth', 'mars', 'jupiter', 'saturn', 'uranus', 'neptune', 'pluto']\n",
    "lst.remove('pluto')\n",
    "first_three = lst[:3]"
   ]
  },
  {
   "attachments": {
    "week3a1_1.png": {
     "image/png": "[encoded data removed]"
    }
   },
   "cell_type": "markdown",
   "metadata": {},
   "source": [
    "I.\n",
    "![week3a1_1.png](attachment:week3a1_1.png)"
   ]
  },
  {
   "attachments": {
    "week3a1_2.png": {
     "image/png": "[encoded data removed]"
    }
   },
   "cell_type": "markdown",
   "metadata": {},
   "source": [
    "II.\n",
    "![week3a1_2.png](attachment:week3a1_2.png)"
   ]
  },
  {
   "cell_type": "markdown",
   "metadata": {},
   "source": [
    "<div class=\"alert alert-block alert-warning\" style=\"margin-top: 20px\">\n",
    "<font color=black>\n",
    "\n",
    "A. I.  \n",
    "B. II.  \n",
    "C. Neither is the correct reference diagram."
   ]
  },
  {
   "cell_type": "markdown",
   "metadata": {},
   "source": [
    "<details><summary>Click here for the solution</summary>\n",
    "\n",
    "<font color=red>► </font>A. I.  \n",
    "\n",
    "<div class=\"alert alert-block alert-success\" style=\"margin-top: 20px\">\n",
    "<font color=black>✔️ Yes, when we are using the remove method, we are just editing the existing list, not making a new copy.\n",
    "\n",
    "\n",
    "</details>"
   ]
  },
  {
   "cell_type": "markdown",
   "metadata": {},
   "source": [
    "<div class=\"alert alert-block alert-warning\" style=\"margin-top: 20px\">\n",
    "<font color=black>\n",
    "    \n",
    "2. Which method would you use to figure out the position of an item in a list?\n",
    "    \n",
    "  A. .pop()  \n",
    "  B. .insert()  \n",
    "  C. .count()  \n",
    "  D. .index()"
   ]
  },
  {
   "cell_type": "markdown",
   "metadata": {},
   "source": [
    "<details><summary>Click here for the solution</summary>\n",
    "\n",
    "<font color=red>► </font>D. .index()  \n",
    "\n",
    "<div class=\"alert alert-block alert-success\" style=\"margin-top: 20px\">\n",
    "<font color=black>✔️ Yes, index will return the position of the first occurance of an item.\n",
    "\n",
    "\n",
    "</details>"
   ]
  },
  {
   "cell_type": "markdown",
   "metadata": {},
   "source": [
    "<div class=\"alert alert-block alert-warning\" style=\"margin-top: 20px\">\n",
    "<font color=black>\n",
    "    \n",
    "3. Which method is best to use when adding an item to the end of a list?\n",
    "\n",
    "  A. .insert()  \n",
    "  B. .pop()  \n",
    "  C. .append()  \n",
    "  D. .remove()"
   ]
  },
  {
   "cell_type": "markdown",
   "metadata": {},
   "source": [
    "<details><summary>Click here for the solution</summary>\n",
    "\n",
    "<font color=red>► </font>C. .append()  \n",
    "\n",
    "<div class=\"alert alert-block alert-success\" style=\"margin-top: 20px\">\n",
    "<font color=black>✔️ Yes, though you can use insert to do the same thing, you don't need to provide the position.\n",
    "\n",
    "\n",
    "</details>"
   ]
  },
  {
   "cell_type": "markdown",
   "metadata": {},
   "source": [
    "<div class=\"alert alert-block alert-warning\" style=\"margin-top: 20px\">\n",
    "<font color=black>\n",
    "4. Write code to add ‘horseback riding’ to the third position (i.e., right before volleyball) in the list <font color=red>sports</font>."
   ]
  },
  {
   "cell_type": "code",
   "execution_count": null,
   "metadata": {},
   "outputs": [],
   "source": [
    "sports = ['cricket', 'football', 'volleyball', 'baseball', 'softball', 'track and field', 'curling', 'ping pong', 'hockey']"
   ]
  },
  {
   "cell_type": "markdown",
   "metadata": {},
   "source": [
    "<details><summary>Click here for a solution</summary>\n",
    "<div class=\"alert alert-block alert-success\" style=\"margin-top: 20px\">\n",
    "<font color=black>\n",
    "    \n",
    "```python\n",
    "sports.insert(2, \"horseback riding\")\n",
    "```\n",
    "\n",
    "</details>"
   ]
  },
  {
   "cell_type": "markdown",
   "metadata": {},
   "source": [
    "<div class=\"alert alert-block alert-warning\" style=\"margin-top: 20px\">\n",
    "<font color=black>\n",
    "5. Write code to take ‘London’ out of the list <font color=red>trav_dest</font>."
   ]
  },
  {
   "cell_type": "code",
   "execution_count": null,
   "metadata": {},
   "outputs": [],
   "source": [
    "trav_dest = ['Beirut', 'Milan', 'Pittsburgh', 'Buenos Aires', 'Nairobi', 'Kathmandu', 'Osaka', 'London', 'Melbourne']"
   ]
  },
  {
   "cell_type": "markdown",
   "metadata": {},
   "source": [
    "<details><summary>Click here for a solution</summary>\n",
    "<div class=\"alert alert-block alert-success\" style=\"margin-top: 20px\">\n",
    "<font color=black>\n",
    "    \n",
    "```python\n",
    "trav_dest.remove(\"London\")\n",
    "```\n",
    "\n",
    "</details>"
   ]
  },
  {
   "cell_type": "markdown",
   "metadata": {},
   "source": [
    "<div class=\"alert alert-block alert-warning\" style=\"margin-top: 20px\">\n",
    "<font color=black>\n",
    "6. Write code to add ‘Guadalajara’ to the end of the list <font color=red>trav_dest</font> using a list method."
   ]
  },
  {
   "cell_type": "code",
   "execution_count": null,
   "metadata": {},
   "outputs": [],
   "source": [
    "trav_dest = ['Beirut', 'Milan', 'Pittsburgh', 'Buenos Aires', 'Nairobi', 'Kathmandu', 'Osaka', 'Melbourne']"
   ]
  },
  {
   "cell_type": "markdown",
   "metadata": {},
   "source": [
    "<details><summary>Click here for a solution</summary>\n",
    "<div class=\"alert alert-block alert-success\" style=\"margin-top: 20px\">\n",
    "<font color=black>\n",
    "    \n",
    "```python\n",
    "trav_dest.append(\"Guadalajara\")\n",
    "```\n",
    "\n",
    "</details>"
   ]
  },
  {
   "cell_type": "markdown",
   "metadata": {},
   "source": [
    "<a id='9.16.1'></a>\n",
    "### 9.16.1. Chapter Assessment - Aliases and References\n",
    "[Back to top](#Top)\n",
    "\n",
    "#### Check your understanding\n",
    "<div class=\"alert alert-block alert-warning\" style=\"margin-top: 20px\">\n",
    "<font color=black>\n",
    "1. What will be the value of <font color=red>a</font> after the following code has executed?"
   ]
  },
  {
   "cell_type": "code",
   "execution_count": null,
   "metadata": {},
   "outputs": [],
   "source": [
    "a = [\"holiday\", \"celebrate!\"]\n",
    "quiet = a\n",
    "quiet.append(\"company\")"
   ]
  },
  {
   "cell_type": "markdown",
   "metadata": {},
   "source": [
    "<details><summary>Click here for the solution</summary>\n",
    "\n",
    "<font color=red>► </font>[\"holiday\", \"celebrate!\", \"company\"]  \n",
    "\n",
    "<div class=\"alert alert-block alert-success\" style=\"margin-top: 20px\">\n",
    "<font color=black>✔️ Correct!\n",
    "\n",
    "\n",
    "</details>"
   ]
  },
  {
   "cell_type": "markdown",
   "metadata": {},
   "source": [
    "<div class=\"alert alert-block alert-warning\" style=\"margin-top: 20px\">\n",
    "<font color=black>\n",
    "2. Could aliasing cause potential confusion in this problem?"
   ]
  },
  {
   "cell_type": "code",
   "execution_count": null,
   "metadata": {},
   "outputs": [],
   "source": [
    "b = ['q', 'u', 'i']\n",
    "z = b\n",
    "b[1] = 'i'\n",
    "z.remove('i')\n",
    "print(z)"
   ]
  },
  {
   "cell_type": "markdown",
   "metadata": {},
   "source": [
    "<div class=\"alert alert-block alert-warning\" style=\"margin-top: 20px\">\n",
    "<font color=black>\n",
    "\n",
    "A. yes  \n",
    "B. no"
   ]
  },
  {
   "cell_type": "markdown",
   "metadata": {},
   "source": [
    "<details><summary>Click here for the solution</summary>\n",
    "\n",
    "<font color=red>► </font>A. yes  \n",
    "\n",
    "<div class=\"alert alert-block alert-success\" style=\"margin-top: 20px\">\n",
    "<font color=black>✔️ Yes, b and z reference the same list and changes are made using both aliases.\n",
    "\n",
    "\n",
    "</details>"
   ]
  },
  {
   "cell_type": "markdown",
   "metadata": {},
   "source": [
    "<div class=\"alert alert-block alert-warning\" style=\"margin-top: 20px\">\n",
    "<font color=black>\n",
    "3. Could aliasing cause potential confusion in this problem?"
   ]
  },
  {
   "cell_type": "code",
   "execution_count": null,
   "metadata": {},
   "outputs": [],
   "source": [
    "sent = \"Holidays can be a fun time when you have good company!\"\n",
    "phrase = sent\n",
    "phrase = phrase + \" Holidays can also be fun on your own!\""
   ]
  },
  {
   "cell_type": "markdown",
   "metadata": {},
   "source": [
    "<div class=\"alert alert-block alert-warning\" style=\"margin-top: 20px\">\n",
    "<font color=black>\n",
    "\n",
    "A. yes  \n",
    "B. no"
   ]
  },
  {
   "cell_type": "markdown",
   "metadata": {},
   "source": [
    "<details><summary>Click here for the solution</summary>\n",
    "\n",
    "<font color=red>► </font>B. no  \n",
    "\n",
    "<div class=\"alert alert-block alert-success\" style=\"margin-top: 20px\">\n",
    "<font color=black>✔️ Since a string is immutable, aliasing won't be as confusing. Beware of using something like item = item + new_item with mutable objects though because it creates a new object. However, when we use += then that doesn't happen.\n",
    "\n",
    "\n",
    "</details>"
   ]
  },
  {
   "cell_type": "markdown",
   "metadata": {},
   "source": [
    "<div class=\"alert alert-block alert-warning\" style=\"margin-top: 20px\">\n",
    "<font color=black>\n",
    "4. Which of these is a correct reference diagram following the execution of the following code?"
   ]
  },
  {
   "cell_type": "code",
   "execution_count": null,
   "metadata": {},
   "outputs": [],
   "source": [
    "x = [\"dogs\", \"cats\", \"birds\", \"reptiles\"]\n",
    "y = x\n",
    "x += ['fish', 'horses']\n",
    "y = y + ['sheep']"
   ]
  },
  {
   "attachments": {
    "week3a3_1.png": {
     "image/png": "[encoded data removed]"
    }
   },
   "cell_type": "markdown",
   "metadata": {},
   "source": [
    "I.\n",
    "![week3a3_1.png](attachment:week3a3_1.png)"
   ]
  },
  {
   "attachments": {
    "week3a3_2.png": {
     "image/png": "[encoded data removed]"
    }
   },
   "cell_type": "markdown",
   "metadata": {},
   "source": [
    "II.\n",
    "![week3a3_2.png](attachment:week3a3_2.png)"
   ]
  },
  {
   "attachments": {
    "week3a3_3.png": {
     "image/png": "[encoded data removed]"
    }
   },
   "cell_type": "markdown",
   "metadata": {},
   "source": [
    "III.\n",
    "![week3a3_3.png](attachment:week3a3_3.png)"
   ]
  },
  {
   "attachments": {
    "week3a3_4.png": {
     "image/png": "[encoded data removed]"
    }
   },
   "cell_type": "markdown",
   "metadata": {},
   "source": [
    "IV.\n",
    "![week3a3_4.png](attachment:week3a3_4.png)"
   ]
  },
  {
   "cell_type": "markdown",
   "metadata": {},
   "source": [
    "<div class=\"alert alert-block alert-warning\" style=\"margin-top: 20px\">\n",
    "<font color=black>\n",
    "\n",
    "A. I.  \n",
    "B. II.  \n",
    "C. III.  \n",
    "D. IV."
   ]
  },
  {
   "cell_type": "markdown",
   "metadata": {},
   "source": [
    "<details><summary>Click here for the solution</summary>\n",
    "\n",
    "<font color=red>► </font>D. IV.  \n",
    "\n",
    "<div class=\"alert alert-block alert-success\" style=\"margin-top: 20px\">\n",
    "<font color=black>✔️ Yes, the behavior of obj = obj + object_two is different than obj += object_two when obj is a list. The first version makes a new object entirely and reassigns to obj. The second version changes the original object so that the contents of object_two are added to the end of the first.\n",
    "\n",
    "\n",
    "</details>"
   ]
  },
  {
   "cell_type": "markdown",
   "metadata": {},
   "source": [
    "<a id='9.16.2'></a>\n",
    "### 9.16.2. Chapter Assessment - Split and Join\n",
    "[Back to top](#Top)\n",
    "\n",
    "#### Check your understanding\n",
    "<div class=\"alert alert-block alert-warning\" style=\"margin-top: 20px\">\n",
    "<font color=black>\n",
    "1. Which of these is a correct reference diagram following the execution of the following code?"
   ]
  },
  {
   "cell_type": "code",
   "execution_count": null,
   "metadata": {},
   "outputs": [],
   "source": [
    "sent = \"The mall has excellent sales right now.\"\n",
    "wrds = sent.split()\n",
    "wrds[1] = 'store'\n",
    "new_sent = \" \".join(wrds)"
   ]
  },
  {
   "attachments": {
    "week3a2_1.png": {
     "image/png": "[encoded data removed]"
    }
   },
   "cell_type": "markdown",
   "metadata": {},
   "source": [
    "I.\n",
    "![week3a2_1.png](attachment:week3a2_1.png)"
   ]
  },
  {
   "attachments": {
    "week3a2_2.png": {
     "image/png": "[encoded data removed]"
    }
   },
   "cell_type": "markdown",
   "metadata": {},
   "source": [
    "II.\n",
    "![week3a2_2.png](attachment:week3a2_2.png)"
   ]
  },
  {
   "attachments": {
    "week3a2_3.png": {
     "image/png": "[encoded data removed]"
    }
   },
   "cell_type": "markdown",
   "metadata": {},
   "source": [
    "III.\n",
    "![week3a2_3.png](attachment:week3a2_3.png)"
   ]
  },
  {
   "attachments": {
    "week3a2_4.png": {
     "image/png": "[encoded data removed]"
    }
   },
   "cell_type": "markdown",
   "metadata": {},
   "source": [
    "IV.\n",
    "![week3a2_4.png](attachment:week3a2_4.png)"
   ]
  },
  {
   "cell_type": "markdown",
   "metadata": {},
   "source": [
    "<div class=\"alert alert-block alert-warning\" style=\"margin-top: 20px\">\n",
    "<font color=black>\n",
    "\n",
    "A. I.  \n",
    "B. II.  \n",
    "C. III.  \n",
    "D. IV."
   ]
  },
  {
   "cell_type": "markdown",
   "metadata": {},
   "source": [
    "<details><summary>Click here for the solution</summary>\n",
    "\n",
    "<font color=red>► </font>A. I.  \n",
    "\n",
    "<div class=\"alert alert-block alert-success\" style=\"margin-top: 20px\">\n",
    "<font color=black>✔️ Yes, when we make our own diagrams we want to keep the old information because sometimes other variables depend on them. It can get cluttered though if there is a lot of information.\n",
    "\n",
    "\n",
    "</details>"
   ]
  },
  {
   "cell_type": "markdown",
   "metadata": {},
   "source": [
    "<div class=\"alert alert-block alert-warning\" style=\"margin-top: 20px\">\n",
    "<font color=black>\n",
    "2. Write code to find the position of the string “Tony” in the list <font color=red>awards</font> and save that information in the variable <font color=red>pos</font>."
   ]
  },
  {
   "cell_type": "code",
   "execution_count": null,
   "metadata": {},
   "outputs": [],
   "source": [
    "awards = ['Emmy', 'Tony', 'Academy', 'Grammy']"
   ]
  },
  {
   "cell_type": "markdown",
   "metadata": {},
   "source": [
    "<details><summary>Click here for a solution</summary>\n",
    "<div class=\"alert alert-block alert-success\" style=\"margin-top: 20px\">\n",
    "<font color=black>\n",
    "    \n",
    "```python\n",
    "pos = awards.index('Tony')\n",
    "```\n",
    "\n",
    "</details>"
   ]
  },
  {
   "cell_type": "markdown",
   "metadata": {},
   "source": [
    "<a id='9.16.3'></a>\n",
    "### 9.16.3. Chapter Assessment - For Loop Mechanics\n",
    "[Back to top](#Top)\n",
    "\n",
    "#### Check your understanding\n",
    "<div class=\"alert alert-block alert-warning\" style=\"margin-top: 20px\">\n",
    "<font color=black>\n",
    "1. Which of these is the accumulator variable?"
   ]
  },
  {
   "cell_type": "code",
   "execution_count": null,
   "metadata": {},
   "outputs": [],
   "source": [
    "byzo = 'hello world!'\n",
    "c = 0\n",
    "for x in byzo:\n",
    "    z = x + \"!\"\n",
    "    print(z)\n",
    "    c = c + 1"
   ]
  },
  {
   "cell_type": "markdown",
   "metadata": {},
   "source": [
    "<div class=\"alert alert-block alert-warning\" style=\"margin-top: 20px\">\n",
    "<font color=black>\n",
    "\n",
    "A. byzo  \n",
    "B. x  \n",
    "C. z  \n",
    "D. c"
   ]
  },
  {
   "cell_type": "markdown",
   "metadata": {},
   "source": [
    "<details><summary>Click here for the solution</summary>\n",
    "\n",
    "<font color=red>► </font>D. c  \n",
    "\n",
    "<div class=\"alert alert-block alert-success\" style=\"margin-top: 20px\">\n",
    "<font color=black>✔️ Yes, this is the accumulator variable. By the end of the program, it will have a full count of how many items are in byzo.\n",
    "\n",
    "\n",
    "</details>"
   ]
  },
  {
   "cell_type": "markdown",
   "metadata": {},
   "source": [
    "<div class=\"alert alert-block alert-warning\" style=\"margin-top: 20px\">\n",
    "<font color=black>\n",
    "2. Which of these is the sequence?"
   ]
  },
  {
   "cell_type": "code",
   "execution_count": null,
   "metadata": {},
   "outputs": [],
   "source": [
    "cawdra = ['candy', 'daisy', 'pear', 'peach', 'gem', 'crown']\n",
    "t = 0\n",
    "for elem in cawdra:\n",
    "    t = t + len(elem)"
   ]
  },
  {
   "cell_type": "markdown",
   "metadata": {},
   "source": [
    "<div class=\"alert alert-block alert-warning\" style=\"margin-top: 20px\">\n",
    "<font color=black>\n",
    "\n",
    "A. cawdra  \n",
    "B. elem  \n",
    "C. t"
   ]
  },
  {
   "cell_type": "markdown",
   "metadata": {},
   "source": [
    "<details><summary>Click here for the solution</summary>\n",
    "\n",
    "<font color=red>► </font>A. cawdra  \n",
    "\n",
    "<div class=\"alert alert-block alert-success\" style=\"margin-top: 20px\">\n",
    "<font color=black>✔️ Yes, this is the sequence that we iterate over.\n",
    "\n",
    "\n",
    "</details>"
   ]
  },
  {
   "cell_type": "markdown",
   "metadata": {},
   "source": [
    "<div class=\"alert alert-block alert-warning\" style=\"margin-top: 20px\">\n",
    "<font color=black>\n",
    "3. Which of these is the iterator (loop) variable?"
   ]
  },
  {
   "cell_type": "code",
   "execution_count": null,
   "metadata": {},
   "outputs": [],
   "source": [
    "lst = [5, 10, 3, 8, 94, 2, 4, 9]\n",
    "num = 0\n",
    "for item in lst:\n",
    "    num += item"
   ]
  },
  {
   "cell_type": "markdown",
   "metadata": {},
   "source": [
    "<div class=\"alert alert-block alert-warning\" style=\"margin-top: 20px\">\n",
    "<font color=black>\n",
    "\n",
    "A. item  \n",
    "B. lst  \n",
    "C. num"
   ]
  },
  {
   "cell_type": "markdown",
   "metadata": {},
   "source": [
    "<details><summary>Click here for the solution</summary>\n",
    "\n",
    "<font color=red>► </font>A. item  \n",
    "\n",
    "<div class=\"alert alert-block alert-success\" style=\"margin-top: 20px\">\n",
    "<font color=black>✔️ Yes, this is the iterator variable. It changes each time but is not the whole sequence itself.\n",
    "\n",
    "\n",
    "</details>"
   ]
  },
  {
   "cell_type": "markdown",
   "metadata": {},
   "source": [
    "<div class=\"alert alert-block alert-warning\" style=\"margin-top: 20px\">\n",
    "<font color=black>\n",
    "4. What is the iterator (loop) variable in the following?"
   ]
  },
  {
   "cell_type": "code",
   "execution_count": null,
   "metadata": {},
   "outputs": [],
   "source": [
    "rest = [\"sleep\", 'dormir', 'dormire', \"slaap\", 'sen', 'yuxu', 'yanam']\n",
    "let = ''\n",
    "for phrase in rest:\n",
    "    let += phrase[0]"
   ]
  },
  {
   "cell_type": "markdown",
   "metadata": {},
   "source": [
    "<details><summary>Click here for the solution</summary>\n",
    "\n",
    "<font color=red>► </font>phrase  \n",
    "\n",
    "<div class=\"alert alert-block alert-success\" style=\"margin-top: 20px\">\n",
    "<font color=black>✔️ Correct!\n",
    "\n",
    "\n",
    "</details>"
   ]
  },
  {
   "cell_type": "markdown",
   "metadata": {},
   "source": [
    "<div class=\"alert alert-block alert-warning\" style=\"margin-top: 20px\">\n",
    "<font color=black>\n",
    "    \n",
    "5. Currently there is a string called <font color=red>str1</font>. Write code to create a list called <font color=red>chars</font> which should contain the characters from <font color=red>str1</font>. Each character in <font color=red>str1</font> should be its own element in the list <font color=red>chars</font>."
   ]
  },
  {
   "cell_type": "code",
   "execution_count": null,
   "metadata": {},
   "outputs": [],
   "source": [
    "str1 = \"I love python\"\n",
    "# HINT: what's the accumulator? That should go here."
   ]
  },
  {
   "cell_type": "markdown",
   "metadata": {},
   "source": [
    "<details><summary>Click here for a solution</summary>\n",
    "<div class=\"alert alert-block alert-success\" style=\"margin-top: 20px\">\n",
    "<font color=black>\n",
    "    \n",
    "```python\n",
    "chars = []\n",
    "for char in str1:\n",
    "    chars.append(char)\n",
    "```\n",
    "\n",
    "</details>"
   ]
  },
  {
   "cell_type": "markdown",
   "metadata": {},
   "source": [
    "<a id='9.16.4'></a>\n",
    "### 9.16.4. Chapter Assessment - Accumulator Pattern\n",
    "[Back to top](#Top)\n",
    "\n",
    "#### Check your understanding\n",
    "<div class=\"alert alert-block alert-warning\" style=\"margin-top: 20px\">\n",
    "<font color=black>\n",
    "    \n",
    "1. Given that we want to accumulate the total sum of a list of numbers, which of the following accumulator patterns would be appropriate?"
   ]
  },
  {
   "cell_type": "markdown",
   "metadata": {},
   "source": [
    "I."
   ]
  },
  {
   "cell_type": "code",
   "execution_count": null,
   "metadata": {},
   "outputs": [],
   "source": [
    "nums = [4, 5, 2, 93, 3, 5]\n",
    "s = 0\n",
    "for n in nums:\n",
    "    s = s + 1"
   ]
  },
  {
   "cell_type": "markdown",
   "metadata": {},
   "source": [
    "II."
   ]
  },
  {
   "cell_type": "code",
   "execution_count": null,
   "metadata": {},
   "outputs": [],
   "source": [
    "nums = [4, 5, 2, 93, 3, 5]\n",
    "s = 0\n",
    "for n in nums:\n",
    "    s = n + n"
   ]
  },
  {
   "cell_type": "markdown",
   "metadata": {},
   "source": [
    "III."
   ]
  },
  {
   "cell_type": "code",
   "execution_count": null,
   "metadata": {},
   "outputs": [],
   "source": [
    "nums = [4, 5, 2, 93, 3, 5]\n",
    "s = 0\n",
    "for n in nums:\n",
    "    s = s + n"
   ]
  },
  {
   "cell_type": "markdown",
   "metadata": {},
   "source": [
    "<div class=\"alert alert-block alert-warning\" style=\"margin-top: 20px\">\n",
    "<font color=black>\n",
    "\n",
    "A. I.  \n",
    "B. II.  \n",
    "C. III.  \n",
    "D. none of the above would be appropriate for the problem."
   ]
  },
  {
   "cell_type": "markdown",
   "metadata": {},
   "source": [
    "<details><summary>Click here for the solution</summary>\n",
    "\n",
    "<font color=red>► </font>C. III.  \n",
    "\n",
    "<div class=\"alert alert-block alert-success\" style=\"margin-top: 20px\">\n",
    "<font color=black>✔️ Yes, this will solve the problem.\n",
    "\n",
    "\n",
    "</details>"
   ]
  },
  {
   "cell_type": "markdown",
   "metadata": {},
   "source": [
    "<div class=\"alert alert-block alert-warning\" style=\"margin-top: 20px\">\n",
    "<font color=black>\n",
    "    \n",
    "2. Given that we want to accumulate the total number of strings in the list, which of the following accumulator patterns would be appropriate?"
   ]
  },
  {
   "cell_type": "markdown",
   "metadata": {},
   "source": [
    "1."
   ]
  },
  {
   "cell_type": "code",
   "execution_count": null,
   "metadata": {},
   "outputs": [],
   "source": [
    "lst = ['plan', 'answer', 5, 9.29, 'order, items', [4]]\n",
    "s = 0\n",
    "for n in lst:\n",
    "    s = s + n"
   ]
  },
  {
   "cell_type": "markdown",
   "metadata": {},
   "source": [
    "2."
   ]
  },
  {
   "cell_type": "code",
   "execution_count": null,
   "metadata": {},
   "outputs": [],
   "source": [
    "lst = ['plan', 'answer', 5, 9.29, 'order, items', [4]]\n",
    "for item in lst:\n",
    "    s = 0\n",
    "    if type(item) == type(\"string\"):\n",
    "        s = s + 1"
   ]
  },
  {
   "cell_type": "markdown",
   "metadata": {},
   "source": [
    "3."
   ]
  },
  {
   "cell_type": "code",
   "execution_count": null,
   "metadata": {},
   "outputs": [],
   "source": [
    "\n",
    "lst = ['plan', 'answer', 5, 9.29, 'order, items', [4]]\n",
    "s = \"\"\n",
    "for n in lst:\n",
    "    s = s + n"
   ]
  },
  {
   "cell_type": "markdown",
   "metadata": {},
   "source": [
    "4."
   ]
  },
  {
   "cell_type": "code",
   "execution_count": null,
   "metadata": {},
   "outputs": [],
   "source": [
    "lst = ['plan', 'answer', 5, 9.29, 'order, items', [4]]\n",
    "s = 0\n",
    "for item in lst:\n",
    "    if type(item) == type(\"string\"):\n",
    "        s = s + 1"
   ]
  },
  {
   "cell_type": "markdown",
   "metadata": {},
   "source": [
    "<div class=\"alert alert-block alert-warning\" style=\"margin-top: 20px\">\n",
    "<font color=black>\n",
    "\n",
    "A. 1.  \n",
    "B. 2.  \n",
    "C. 3.  \n",
    "D. 4.  \n",
    "E. none of the above would be appropriate for the problem"
   ]
  },
  {
   "cell_type": "markdown",
   "metadata": {},
   "source": [
    "<details><summary>Click here for the solution</summary>\n",
    "\n",
    "<font color=red>► </font>D. 4.  \n",
    "\n",
    "<div class=\"alert alert-block alert-success\" style=\"margin-top: 20px\">\n",
    "<font color=black>✔️ Yes, this will solve the problem.\n",
    "\n",
    "\n",
    "</details>"
   ]
  },
  {
   "cell_type": "markdown",
   "metadata": {},
   "source": [
    "<div class=\"alert alert-block alert-warning\" style=\"margin-top: 20px\">\n",
    "<font color=black>\n",
    "    \n",
    "3. Which of these are good names for an accumulator variable? Select as many as apply.\n",
    "\n",
    "  A. sum  \n",
    "  B. x  \n",
    "  C. total  \n",
    "  D. accum  \n",
    "  E. none of the above"
   ]
  },
  {
   "cell_type": "markdown",
   "metadata": {},
   "source": [
    "<details><summary>Click here for the solution</summary>\n",
    "\n",
    "<font color=red>► </font>C. total  \n",
    "<font color=red>► </font>D. accum\n",
    "\n",
    "<div class=\"alert alert-block alert-success\" style=\"margin-top: 20px\">\n",
    "<font color=black>✔️ Correct.<br>\n",
    "C. Yes, total is a good name for accumulating numbers.<br>\n",
    "D. Yes, accum is a good name. It's both short and easy to remember.\n",
    "\n",
    "\n",
    "</details>"
   ]
  },
  {
   "cell_type": "markdown",
   "metadata": {},
   "source": [
    "<div class=\"alert alert-block alert-warning\" style=\"margin-top: 20px\">\n",
    "<font color=black>\n",
    "    \n",
    "4. Which of these are good names for an iterator (loop) variable? Select as many as apply.\n",
    "\n",
    "  A. item  \n",
    "  B. y  \n",
    "  C. elem  \n",
    "  D. char  \n",
    "  E. none of the above"
   ]
  },
  {
   "cell_type": "markdown",
   "metadata": {},
   "source": [
    "<details><summary>Click here for the solution</summary>\n",
    "\n",
    "<font color=red>► </font>A. item  \n",
    "<font color=red>► </font>C. elem  \n",
    "<font color=red>► </font>D. char\n",
    "\n",
    "<div class=\"alert alert-block alert-success\" style=\"margin-top: 20px\">\n",
    "<font color=black>✔️ Correct.<br>\n",
    "A. Yes, item can be a good name to use as an iterator variable.<br>\n",
    "C. Yes, elem can be a good name to use as an iterator variable, especially when iterating over lists.<br>\n",
    "D. Yes, char can be a good name to use when iterating over a string, because the iterator variable would be assigned a character each time.\n",
    "\n",
    "\n",
    "</details>"
   ]
  },
  {
   "cell_type": "markdown",
   "metadata": {},
   "source": [
    "<div class=\"alert alert-block alert-warning\" style=\"margin-top: 20px\">\n",
    "<font color=black>\n",
    "    \n",
    "5. Which of these are good names for a sequence variable? Select as many as apply.\n",
    "\n",
    "  A. num_lst  \n",
    "  B. p  \n",
    "  C. sentence  \n",
    "  D. names  \n",
    "  E. none of the above"
   ]
  },
  {
   "cell_type": "markdown",
   "metadata": {},
   "source": [
    "<details><summary>Click here for the solution</summary>\n",
    "\n",
    "<font color=red>► </font>A. num_lst  \n",
    "<font color=red>► </font>C. sentence  \n",
    "<font color=red>► </font>D. names\n",
    "\n",
    "<div class=\"alert alert-block alert-success\" style=\"margin-top: 20px\">\n",
    "<font color=black>✔️ Correct.<br>\n",
    "A. Yes, num_lst is good for a sequence variable if the value is actually a list of numbers.<br>\n",
    "C. Yes, this is good to use if the for loop is iterating through a string.<br>\n",
    "D. Yes, names is good, assuming that the for loop is iterating through actual names and not something unrelated to names.\n",
    "\n",
    "\n",
    "</details>"
   ]
  },
  {
   "cell_type": "markdown",
   "metadata": {},
   "source": [
    "<div class=\"alert alert-block alert-warning\" style=\"margin-top: 20px\">\n",
    "<font color=black>\n",
    "    \n",
    "6. Given the following scenario, what are good names for the accumulator variable, iterator variable, and sequence variable? You are writing code that uses a list of sentences and accumulates the total number of sentences that have the word ‘happy’ in them.\n",
    "\n",
    "  A. accumulator variable: x | iterator variable: s | sequence variable: lst  \n",
    "  B. accumulator variable: total | iterator variable: s | sequence variable: lst  \n",
    "  C. accumulator variable: x | iterator variable: sentences | sequence variable: sentence_lst  \n",
    "  D. accumulator variable: total | iterator variable: sentence |sequence variable: sentence_lst  \n",
    "  E. none of the above"
   ]
  },
  {
   "cell_type": "markdown",
   "metadata": {},
   "source": [
    "<details><summary>Click here for the solution</summary>\n",
    "\n",
    "<font color=red>► </font>D. accumulator variable: total | iterator variable: sentence |sequence variable: sentence_lst  \n",
    "\n",
    "<div class=\"alert alert-block alert-success\" style=\"margin-top: 20px\">\n",
    "<font color=black>✔️ Yes, this combination of variable names is the clearest.\n",
    "\n",
    "\n",
    "</details>"
   ]
  },
  {
   "cell_type": "markdown",
   "metadata": {},
   "source": [
    "<div class=\"alert alert-block alert-warning\" style=\"margin-top: 20px\">\n",
    "<font color=black>\n",
    "    \n",
    "7. For each character in the string saved in <font color=red>ael</font>, append that character to a list that should be saved in a variable <font color=red>app</font>."
   ]
  },
  {
   "cell_type": "code",
   "execution_count": null,
   "metadata": {},
   "outputs": [],
   "source": [
    "ael = \"python!\""
   ]
  },
  {
   "cell_type": "markdown",
   "metadata": {},
   "source": [
    "<details><summary>Click here for a solution</summary>\n",
    "<div class=\"alert alert-block alert-success\" style=\"margin-top: 20px\">\n",
    "<font color=black>\n",
    "    \n",
    "```python\n",
    "app = []\n",
    "for char in ael:\n",
    "    app.append(char)\n",
    "```\n",
    "\n",
    "</details>"
   ]
  },
  {
   "cell_type": "markdown",
   "metadata": {},
   "source": [
    "<div class=\"alert alert-block alert-warning\" style=\"margin-top: 20px\">\n",
    "<font color=black>\n",
    "    \n",
    "8. For each string in <font color=red>wrds</font>, add ‘ed’ to the end of the word (to make the word past tense). Save these past tense words to a list called <font color=red>past_wrds</font>."
   ]
  },
  {
   "cell_type": "code",
   "execution_count": null,
   "metadata": {},
   "outputs": [],
   "source": [
    "wrds = [\"end\", 'work', \"play\", \"start\", \"walk\", \"look\", \"open\", \"rain\", \"learn\", \"clean\"]"
   ]
  },
  {
   "cell_type": "markdown",
   "metadata": {},
   "source": [
    "<details><summary>Click here for a solution</summary>\n",
    "<div class=\"alert alert-block alert-success\" style=\"margin-top: 20px\">\n",
    "<font color=black>\n",
    "    \n",
    "```python\n",
    "past_wrds = []\n",
    "for wrd in wrds:\n",
    "    past_wrds.append(wrd + \"ed\")\n",
    "```\n",
    "\n",
    "</details>"
   ]
  },
  {
   "cell_type": "markdown",
   "metadata": {},
   "source": [
    "<div class=\"alert alert-block alert-warning\" style=\"margin-top: 20px\">\n",
    "<font color=black>\n",
    "    \n",
    "9. Write code to create a __list of word lengths__ for the words in <font color=red>original_str</font> using the accumulation pattern and assign the answer to a variable <font color=red>num_words_list</font>. (You should use the <font color=red>len</font> function)."
   ]
  },
  {
   "cell_type": "code",
   "execution_count": null,
   "metadata": {},
   "outputs": [],
   "source": [
    "original_str = \"The quick brown rhino jumped over the extremely lazy fox\""
   ]
  },
  {
   "cell_type": "markdown",
   "metadata": {},
   "source": [
    "<details><summary>Click here for a solution</summary>\n",
    "<div class=\"alert alert-block alert-success\" style=\"margin-top: 20px\">\n",
    "<font color=black>\n",
    "    \n",
    "```python\n",
    "word_list = original_str.split()\n",
    "num_words_list = []\n",
    "for word in word_list:\n",
    "    num_words_list.append(len(word))\n",
    "```\n",
    "\n",
    "</details>"
   ]
  },
  {
   "cell_type": "markdown",
   "metadata": {},
   "source": [
    "<div class=\"alert alert-block alert-warning\" style=\"margin-top: 20px\">\n",
    "<font color=black>\n",
    "    \n",
    "10. Create an empty string and assign it to the variable <font color=red>lett</font>. Then using range, write code such that when your code is run, <font color=red>lett</font> has 7 b’s (<font color=red>\"bbbbbbb\"</font>)."
   ]
  },
  {
   "cell_type": "markdown",
   "metadata": {},
   "source": [
    "<details><summary>Click here for a solution</summary>\n",
    "<div class=\"alert alert-block alert-success\" style=\"margin-top: 20px\">\n",
    "<font color=black>\n",
    "    \n",
    "```python\n",
    "lett = \"\"\n",
    "for _ in range(7):\n",
    "    lett += \"b\"\n",
    "```\n",
    "\n",
    "</details>"
   ]
  },
  {
   "cell_type": "markdown",
   "metadata": {},
   "source": [
    "<a id='9.16.5'></a>\n",
    "### 9.16.5. Chapter Assessment - Problem Solving\n",
    "[Back to top](#Top)\n",
    "\n",
    "#### Check your understanding\n",
    "<div class=\"alert alert-block alert-warning\" style=\"margin-top: 20px\">\n",
    "<font color=black>\n",
    "    \n",
    "1. Below are a set of scores that students have received in the past semester. Write code to determine how many are 90 or above and assign that result to the value <font color=red>a_scores</font>."
   ]
  },
  {
   "cell_type": "code",
   "execution_count": null,
   "metadata": {},
   "outputs": [],
   "source": [
    "scores = \"67 80 90 78 93 20 79 89 96 97 92 88 79 68 58 90 98 100 79 74 83 88 80 86 85 70 90 100\""
   ]
  },
  {
   "cell_type": "markdown",
   "metadata": {},
   "source": [
    "<details><summary>Click here for a solution</summary>\n",
    "<div class=\"alert alert-block alert-success\" style=\"margin-top: 20px\">\n",
    "<font color=black>\n",
    "    \n",
    "```python\n",
    "a_scores = 0\n",
    "scores_lst = scores.split()\n",
    "for score in scores_lst:\n",
    "    if int(score) >= 90:\n",
    "        a_scores += 1\n",
    "```\n",
    "\n",
    "</details>"
   ]
  },
  {
   "cell_type": "markdown",
   "metadata": {},
   "source": [
    "<div class=\"alert alert-block alert-warning\" style=\"margin-top: 20px\">\n",
    "<font color=black>\n",
    "    \n",
    "2. Write code that uses the string stored in <font color=red>org</font> and creates an acronym which is assigned to the variable <font color=red>acro</font>. Only the first letter of each word should be used, each letter in the acronym should be a capital letter, and there should be nothing to separate the letters of the acronym. Words that should not be included in the acronym are stored in the list <font color=red>stopwords</font>. For example, if <font color=red>org</font> was assigned the string “hello to world” then the resulting acronym should be “HW”."
   ]
  },
  {
   "cell_type": "code",
   "execution_count": null,
   "metadata": {},
   "outputs": [],
   "source": [
    "stopwords = ['to', 'a', 'for', 'by', 'an', 'am', 'the', 'so', 'it', 'and', \"The\"]\n",
    "org = \"The organization for health, safety, and education\""
   ]
  },
  {
   "cell_type": "markdown",
   "metadata": {},
   "source": [
    "<details><summary>Click here for a solution</summary>\n",
    "<div class=\"alert alert-block alert-success\" style=\"margin-top: 20px\">\n",
    "<font color=black>\n",
    "    \n",
    "```python\n",
    "acro = \"\"\n",
    "org_lst = org.split()\n",
    "for word in org_lst:\n",
    "    if word not in stopwords:\n",
    "        acro = acro + word[0].upper()\n",
    "```\n",
    "\n",
    "</details>"
   ]
  },
  {
   "cell_type": "markdown",
   "metadata": {},
   "source": [
    "<div class=\"alert alert-block alert-warning\" style=\"margin-top: 20px\">\n",
    "<font color=black>\n",
    "    \n",
    "3. Write code that uses the string stored in <font color=red>sent</font> and creates an acronym which is assigned to the variable <font color=red>acro</font>. The first two letters of each word should be used, each letter in the acronym should be a capital letter, and each element of the acronym should be separated by a “. ” (dot and space). Words that should not be included in the acronym are stored in the list <font color=red>stopwords</font>. For example, if <font color=red>sent</font> was assigned the string “height and ewok wonder” then the resulting acronym should be “HE. EW. WO”."
   ]
  },
  {
   "cell_type": "code",
   "execution_count": null,
   "metadata": {},
   "outputs": [],
   "source": [
    "stopwords = ['to', 'a', 'for', 'by', 'an', 'am', 'the', 'so', 'it', 'and', 'The']\n",
    "sent = \"The water earth and air are vital\""
   ]
  },
  {
   "cell_type": "markdown",
   "metadata": {},
   "source": [
    "<details><summary>Click here for a solution</summary>\n",
    "<div class=\"alert alert-block alert-success\" style=\"margin-top: 20px\">\n",
    "<font color=black>\n",
    "    \n",
    "```python\n",
    "acro = \"\"\n",
    "sent_lst = sent.split()\n",
    "for word in sent_lst:\n",
    "    if word not in stopwords:\n",
    "        acro = acro + word[0:2].upper()\n",
    "        if word != sent_lst[-1]:\n",
    "            acro = acro + \". \"\n",
    "```\n",
    "\n",
    "</details>"
   ]
  },
  {
   "cell_type": "markdown",
   "metadata": {},
   "source": [
    "<div class=\"alert alert-block alert-warning\" style=\"margin-top: 20px\">\n",
    "<font color=black>\n",
    "    \n",
    "4. A palindrome is a phrase that, if reversed, would read the exact same. Write code that checks if <font color=red>r_phrase</font> is a palindrome by reversing it and then checking if the reversed version is equal to the original. Assign the reversed version of <font color=red>r_phrase</font> to the variable <font color=red>r_phrase</font> so that we can check your work."
   ]
  },
  {
   "cell_type": "code",
   "execution_count": null,
   "metadata": {},
   "outputs": [],
   "source": [
    "p_phrase = \"was it a car or a cat I saw\""
   ]
  },
  {
   "cell_type": "markdown",
   "metadata": {},
   "source": [
    "<details><summary>Click here for a solution</summary>\n",
    "<div class=\"alert alert-block alert-success\" style=\"margin-top: 20px\">\n",
    "<font color=black>\n",
    "    \n",
    "```python\n",
    "r_phrase = \"\"\n",
    "for index in range(len(p_phrase)):\n",
    "    r_phrase = p_phrase[index] + r_phrase  \n",
    "if p_phrase.lower() == r_phrase.lower():\n",
    "    print(\"The phrase '{}' is a palindrome\".format(p_phrase))\n",
    "else:\n",
    "    print(\"The phrase '{}' is no a palindrome\".format(p_phrase))\n",
    "```\n",
    "\n",
    "</details>"
   ]
  },
  {
   "cell_type": "markdown",
   "metadata": {},
   "source": [
    "<div class=\"alert alert-block alert-warning\" style=\"margin-top: 20px\">\n",
    "<font color=black>\n",
    "    \n",
    "5. Provided is a list of data about a store’s inventory where each item in the list represents the name of an item, how much is in stock, and how much it costs. Print out each item in the list with the same formatting, using the .format method (not string concatenation). For example, the first print statment should read <font color=red>The store has 12 shoes, each for 29.99 USD.</font>"
   ]
  },
  {
   "cell_type": "code",
   "execution_count": null,
   "metadata": {},
   "outputs": [],
   "source": [
    "inventory = [\"shoes, 12, 29.99\", \"shirts, 20, 9.99\", \"sweatpants, 25, 15.00\", \"scarves, 13, 7.75\"]"
   ]
  },
  {
   "cell_type": "markdown",
   "metadata": {},
   "source": [
    "<details><summary>Click here for a solution</summary>\n",
    "<div class=\"alert alert-block alert-success\" style=\"margin-top: 20px\">\n",
    "<font color=black>\n",
    "    \n",
    "```python\n",
    "for item in inventory:\n",
    "    item_lst = item.split(\", \")\n",
    "    print(\"The store has {} {}, each for {} USD.\".format(item_lst[1], \n",
    "                                                         item_lst[0], \n",
    "                                                         item_lst[2]))\n",
    "```\n",
    "\n",
    "</details>"
   ]
  }
 ],
 "metadata": {
  "kernelspec": {
   "display_name": "Python 3",
   "language": "python",
   "name": "python3"
  },
  "language_info": {
   "codemirror_mode": {
    "name": "ipython",
    "version": 3
   },
   "file_extension": ".py",
   "mimetype": "text/x-python",
   "name": "python",
   "nbconvert_exporter": "python",
   "pygments_lexer": "ipython3",
   "version": "3.8.5"
  }
 },
 "nbformat": 4,
 "nbformat_minor": 4
}
